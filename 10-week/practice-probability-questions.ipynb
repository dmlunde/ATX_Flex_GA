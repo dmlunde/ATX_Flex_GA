{
 "cells": [
  {
   "cell_type": "markdown",
   "metadata": {},
   "source": [
    "# Practice Probability Interview Questions"
   ]
  },
  {
   "cell_type": "markdown",
   "metadata": {},
   "source": [
    "## There are 12 red balls and 12 black balls in a box. If you draw 1 ball, then a second ball, what is the probability they are the same color?\n",
    "\n",
    "Source: Probability lecture.\n",
    "\n"
   ]
  },
  {
   "cell_type": "code",
   "execution_count": 4,
   "metadata": {},
   "outputs": [
    {
     "data": {
      "text/plain": [
       "0.5"
      ]
     },
     "execution_count": 4,
     "metadata": {},
     "output_type": "execute_result"
    }
   ],
   "source": [
    "12 / 24 # 50% chance red or black first time"
   ]
  },
  {
   "cell_type": "code",
   "execution_count": 2,
   "metadata": {
    "scrolled": true
   },
   "outputs": [
    {
     "data": {
      "text/plain": [
       "0.4782608695652174"
      ]
     },
     "execution_count": 2,
     "metadata": {},
     "output_type": "execute_result"
    }
   ],
   "source": [
    "11/23 # 47.8% for next ball to be the same"
   ]
  },
  {
   "cell_type": "code",
   "execution_count": 14,
   "metadata": {},
   "outputs": [
    {
     "data": {
      "text/plain": [
       "0.239"
      ]
     },
     "execution_count": 14,
     "metadata": {},
     "output_type": "execute_result"
    }
   ],
   "source": [
    "(.478 * .5) # 23.9% chance to draw 2 of the same colored balls in a row"
   ]
  },
  {
   "cell_type": "markdown",
   "metadata": {},
   "source": [
    "Answer: 47.826%"
   ]
  },
  {
   "cell_type": "markdown",
   "metadata": {},
   "source": [
    "## Your friend is interested in sky-diving and plans to do 500 jumps. Because of equipment failures and similar problems, the probability of death on one jump is 0.001. What is the overall probability of death under your friend's plan?\n",
    "\n",
    "- 39%\n",
    "- 50%\n",
    "- 51%\n",
    "- 62% \n",
    "\n",
    "\n",
    "Source: Walmart Interview Question"
   ]
  },
  {
   "cell_type": "markdown",
   "metadata": {},
   "source": [
    "Answer: 39%"
   ]
  },
  {
   "cell_type": "markdown",
   "metadata": {},
   "source": [
    "##  Teams A and B  are playing a game with 5 matches. A has probability p to win a match. What's the probability A wins the game at the 5th match.\n",
    "\n",
    "Source: Google Interview Question\n",
    "\n"
   ]
  },
  {
   "cell_type": "markdown",
   "metadata": {},
   "source": [
    "My Wrong Answer: p if all matches are independent of each other and unique"
   ]
  },
  {
   "cell_type": "markdown",
   "metadata": {},
   "source": [
    "*Right Answer:*"
   ]
  },
  {
   "cell_type": "code",
   "execution_count": null,
   "metadata": {},
   "outputs": [],
   "source": [
    "6 * p**3 * (1-p)**2"
   ]
  },
  {
   "cell_type": "markdown",
   "metadata": {},
   "source": [
    "## Bonus: You are given 8 identical looking balls. One of them is heavier than the rest of the 7 (all the others weigh exactly the same). You a provided with a simple mechanical balance and you are restricted to only 2 uses. Find the heavier ball."
   ]
  },
  {
   "cell_type": "markdown",
   "metadata": {},
   "source": [
    "Source: State Farm Interview Question\n",
    "\n"
   ]
  },
  {
   "cell_type": "markdown",
   "metadata": {},
   "source": [
    "Answer 1: I'd put all 8 balls on the balance as my first use. I'd take away the balls 1 by 1 and measure the difference in weight loss. Whichever ball had a unique difference would be the heavier ball, so on my second use I would weight that and compare it to the last ball that was left standing on the balance in my original use. In this example there is a chance that the last ball was the heavier ball though, so in that case I wouldn't even need a second use."
   ]
  },
  {
   "cell_type": "markdown",
   "metadata": {},
   "source": [
    "Answer 2: Put all 8 balls on the balance. From here I should be able to mathematically find out how much each ball should weigh by using the total weight and dividing by 7 and 8 and differencing where appropriate."
   ]
  },
  {
   "cell_type": "markdown",
   "metadata": {},
   "source": [
    "Answer 3: Put 3 balls on one side and 4 on the other. Using math we should be able to figure it out.\n",
    "\n",
    "Let's say 7 balls weigh 1 and the 8th is 2.\n",
    "\n",
    "If we had 4 balls weighing 1 each on one side it'd weigh 4 and the other side with 4 balls would weigh 5."
   ]
  },
  {
   "cell_type": "markdown",
   "metadata": {},
   "source": [
    "# RIGHT ANSWER"
   ]
  },
  {
   "cell_type": "markdown",
   "metadata": {},
   "source": [
    "1st use: 3 and 3 on each side\n",
    "\n",
    "2nd use: you either weigh the last 2 if the first use was exactly even, or you take 2 from the 3 that tipped the scales from the first and use process of elimination"
   ]
  },
  {
   "cell_type": "code",
   "execution_count": null,
   "metadata": {},
   "outputs": [],
   "source": []
  }
 ],
 "metadata": {
  "kernelspec": {
   "display_name": "Python 3",
   "language": "python",
   "name": "python3"
  },
  "language_info": {
   "codemirror_mode": {
    "name": "ipython",
    "version": 3
   },
   "file_extension": ".py",
   "mimetype": "text/x-python",
   "name": "python",
   "nbconvert_exporter": "python",
   "pygments_lexer": "ipython3",
   "version": "3.6.9"
  }
 },
 "nbformat": 4,
 "nbformat_minor": 2
}
