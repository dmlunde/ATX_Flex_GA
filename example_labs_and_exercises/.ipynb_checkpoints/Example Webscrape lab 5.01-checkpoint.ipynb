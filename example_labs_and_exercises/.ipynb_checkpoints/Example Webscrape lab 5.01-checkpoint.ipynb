{
 "cells": [
  {
   "cell_type": "code",
   "execution_count": 44,
   "metadata": {},
   "outputs": [],
   "source": [
    "import requests \n",
    "import pandas as pd \n",
    "from bs4 import BeautifulSoup\n",
    "from time import sleep \n",
    "\n",
    "url = 'https://pages.git.generalassemb.ly/rldaggie/for-scraping/restaurants/3.html'\n",
    "\n",
    "res = requests.get(urls[3])\n",
    "\n",
    "soup = BeautifulSoup(res.content)"
   ]
  },
  {
   "cell_type": "code",
   "execution_count": null,
   "metadata": {},
   "outputs": [],
   "source": [
    "# practicing on one row\n",
    "tbody = soup.find('tbody')\n",
    "\n",
    "one_row = tbody.find_all('tr')[4]\n",
    "\n",
    "[i.text for i in one_row.find_all('td')]"
   ]
  },
  {
   "cell_type": "code",
   "execution_count": null,
   "metadata": {},
   "outputs": [],
   "source": [
    "### build list of urls \n",
    "\n",
    "urls = []\n",
    "for i in range(1,45):\n",
    "    s = f\"https://pages.git.generalassemb.ly/rldaggie/for-scraping/restaurants/{i}.html\"\n",
    "    urls.append(s)"
   ]
  },
  {
   "cell_type": "code",
   "execution_count": 45,
   "metadata": {},
   "outputs": [
    {
     "name": "stdout",
     "output_type": "stream",
     "text": [
      "grabbed restaurant: A&W Restaurants\n",
      "grabbed restaurant: Applebee's\n",
      "grabbed restaurant: Arby's\n",
      "grabbed restaurant: Atlanta Bread Company\n",
      "grabbed restaurant: Bojangle's Famous Chicken 'n Biscuits\n",
      "grabbed restaurant: Buffalo Wild Wings\n",
      "grabbed restaurant: Burger King\n",
      "grabbed restaurant: Captain D's\n",
      "grabbed restaurant: Carl's Jr.\n",
      "grabbed restaurant: Charley's Grilled Subs\n",
      "grabbed restaurant: Chick-fil-A\n",
      "grabbed restaurant: Chili's\n",
      "grabbed restaurant: Chipotle Mexican Grill\n",
      "grabbed restaurant: Church's\n",
      "grabbed restaurant: Corner Bakery Cafe\n",
      "grabbed restaurant: Dairy Queen\n",
      "grabbed restaurant: Denny's\n",
      "grabbed restaurant: El Pollo Loco\n",
      "grabbed restaurant: FATZ\n",
      "grabbed restaurant: Fazoli's\n",
      "grabbed restaurant: Five Guys Burgers and Fries\n",
      "grabbed restaurant: Golden Chick\n",
      "grabbed restaurant: Hardee's\n",
      "grabbed restaurant: IHOP\n",
      "grabbed restaurant: In-N-Out Burger\n",
      "grabbed restaurant: Jack in the Box\n",
      "grabbed restaurant: Jimmy Johns\n",
      "grabbed restaurant: Joe's Crab Shack\n",
      "grabbed restaurant: KFC\n",
      "grabbed restaurant: McDonald's\n",
      "grabbed restaurant: O'Charley's\n",
      "grabbed restaurant: Olive Garden\n",
      "grabbed restaurant: Outback Steakhouse\n",
      "grabbed restaurant: Panda Express\n",
      "grabbed restaurant: Panera Bread\n",
      "grabbed restaurant: Popeye's\n",
      "grabbed restaurant: Quiznos\n",
      "grabbed restaurant: Red Robin Gourmet Burgers\n",
      "grabbed restaurant: Romano's Macaroni Grill\n",
      "grabbed restaurant: Ruby Tuesday\n",
      "grabbed restaurant: Subway\n",
      "grabbed restaurant: Taco Bell\n",
      "grabbed restaurant: Taco Bueno\n",
      "grabbed restaurant: Wendy's\n"
     ]
    }
   ],
   "source": [
    "dfs = []\n",
    "for url in urls:\n",
    "    res = requests.get(url)\n",
    "    sleep(1)\n",
    "    soup = BeautifulSoup(res.content)\n",
    "    thead = soup.find('thead')\n",
    "\n",
    "    tbody = soup.find('tbody')\n",
    "    restaurant = soup.find('h3', {'class':'display-3'}).text.strip()\n",
    "    cols = [i.text for i in thead.find_all('th')]\n",
    "    df = pd.DataFrame(columns=cols)\n",
    "    for row in tbody.find_all('tr'):\n",
    "        lst = [i.text for i in row.find_all('td')]\n",
    "        df.loc[df.shape[0]] = lst\n",
    "    df['restaurant'] = restaurant\n",
    "    dfs.append(df)\n",
    "    print(f\"grabbed restaurant: {restaurant}\")\n"
   ]
  },
  {
   "cell_type": "code",
   "execution_count": 42,
   "metadata": {},
   "outputs": [],
   "source": [
    "## concatenate \n",
    "final_df = pd.concat(dfs)"
   ]
  },
  {
   "cell_type": "code",
   "execution_count": 34,
   "metadata": {},
   "outputs": [],
   "source": []
  },
  {
   "cell_type": "code",
   "execution_count": null,
   "metadata": {},
   "outputs": [],
   "source": []
  }
 ],
 "metadata": {
  "kernelspec": {
   "display_name": "Python 3",
   "language": "python",
   "name": "python3"
  },
  "language_info": {
   "codemirror_mode": {
    "name": "ipython",
    "version": 3
   },
   "file_extension": ".py",
   "mimetype": "text/x-python",
   "name": "python",
   "nbconvert_exporter": "python",
   "pygments_lexer": "ipython3",
   "version": "3.6.9"
  }
 },
 "nbformat": 4,
 "nbformat_minor": 2
}
