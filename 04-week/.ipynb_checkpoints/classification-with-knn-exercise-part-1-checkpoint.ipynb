{
 "cells": [
  {
   "cell_type": "markdown",
   "metadata": {},
   "source": [
    "<img src=\"http://imgur.com/1ZcRyrc.png\" style=\"float: left; margin: 20px; height: 55px\">\n",
    "\n",
    "# Classification and KNN\n",
    "\n",
    "---\n",
    "\n",
    "Below you will practice KNN classification on a dataset of .\n",
    "\n",
    "You will be predicting the `Rank` of a team from predictor variables of your choice."
   ]
  },
  {
   "cell_type": "code",
   "execution_count": 24,
   "metadata": {},
   "outputs": [],
   "source": [
    "import matplotlib.pyplot as plt\n",
    "import numpy as np\n",
    "import pandas as pd\n",
    "import seaborn as sns\n",
    "from sklearn.metrics import accuracy_score, confusion_matrix, classification_report\n",
    "from sklearn.neighbors import KNeighborsClassifier\n",
    "from sklearn.model_selection import train_test_split\n",
    "from sklearn.preprocessing import StandardScaler\n",
    "\n",
    "\n",
    "\n",
    "pd.set_option('max_columns', 99)"
   ]
  },
  {
   "cell_type": "markdown",
   "metadata": {},
   "source": [
    "### 1. Load the data"
   ]
  },
  {
   "cell_type": "code",
   "execution_count": 25,
   "metadata": {},
   "outputs": [],
   "source": [
    "# web location:\n",
    "file_path = '../data/averages.csv'\n",
    "congress = pd.read_csv(file_path)\n",
    "\n"
   ]
  },
  {
   "cell_type": "code",
   "execution_count": 26,
   "metadata": {},
   "outputs": [
    {
     "data": {
      "text/html": [
       "<div>\n",
       "<style scoped>\n",
       "    .dataframe tbody tr th:only-of-type {\n",
       "        vertical-align: middle;\n",
       "    }\n",
       "\n",
       "    .dataframe tbody tr th {\n",
       "        vertical-align: top;\n",
       "    }\n",
       "\n",
       "    .dataframe thead th {\n",
       "        text-align: right;\n",
       "    }\n",
       "</style>\n",
       "<table border=\"1\" class=\"dataframe\">\n",
       "  <thead>\n",
       "    <tr style=\"text-align: right;\">\n",
       "      <th></th>\n",
       "      <th>congress</th>\n",
       "      <th>chamber</th>\n",
       "      <th>bioguide</th>\n",
       "      <th>last_name</th>\n",
       "      <th>state</th>\n",
       "      <th>district</th>\n",
       "      <th>party</th>\n",
       "      <th>votes</th>\n",
       "      <th>agree_pct</th>\n",
       "      <th>predicted_agree</th>\n",
       "      <th>net_trump_vote</th>\n",
       "    </tr>\n",
       "  </thead>\n",
       "  <tbody>\n",
       "    <tr>\n",
       "      <th>0</th>\n",
       "      <td>0</td>\n",
       "      <td>house</td>\n",
       "      <td>A000055</td>\n",
       "      <td>Aderholt</td>\n",
       "      <td>AL</td>\n",
       "      <td>4.0</td>\n",
       "      <td>Republican</td>\n",
       "      <td>156.0</td>\n",
       "      <td>0.974359</td>\n",
       "      <td>0.958389</td>\n",
       "      <td>63.0</td>\n",
       "    </tr>\n",
       "    <tr>\n",
       "      <th>1</th>\n",
       "      <td>115</td>\n",
       "      <td>house</td>\n",
       "      <td>A000055</td>\n",
       "      <td>Aderholt</td>\n",
       "      <td>AL</td>\n",
       "      <td>4.0</td>\n",
       "      <td>R</td>\n",
       "      <td>95.0</td>\n",
       "      <td>0.968421</td>\n",
       "      <td>0.946349</td>\n",
       "      <td>63.0</td>\n",
       "    </tr>\n",
       "    <tr>\n",
       "      <th>2</th>\n",
       "      <td>116</td>\n",
       "      <td>house</td>\n",
       "      <td>A000055</td>\n",
       "      <td>Aderholt</td>\n",
       "      <td>AL</td>\n",
       "      <td>4.0</td>\n",
       "      <td>R</td>\n",
       "      <td>61.0</td>\n",
       "      <td>0.983607</td>\n",
       "      <td>0.977141</td>\n",
       "      <td>63.0</td>\n",
       "    </tr>\n",
       "    <tr>\n",
       "      <th>3</th>\n",
       "      <td>0</td>\n",
       "      <td>house</td>\n",
       "      <td>A000367</td>\n",
       "      <td>Amash</td>\n",
       "      <td>MI</td>\n",
       "      <td>3.0</td>\n",
       "      <td>Independent</td>\n",
       "      <td>155.0</td>\n",
       "      <td>0.625806</td>\n",
       "      <td>0.762262</td>\n",
       "      <td>9.4</td>\n",
       "    </tr>\n",
       "    <tr>\n",
       "      <th>4</th>\n",
       "      <td>115</td>\n",
       "      <td>house</td>\n",
       "      <td>A000367</td>\n",
       "      <td>Amash</td>\n",
       "      <td>MI</td>\n",
       "      <td>3.0</td>\n",
       "      <td>R</td>\n",
       "      <td>96.0</td>\n",
       "      <td>0.541667</td>\n",
       "      <td>0.847386</td>\n",
       "      <td>9.4</td>\n",
       "    </tr>\n",
       "    <tr>\n",
       "      <th>5</th>\n",
       "      <td>116</td>\n",
       "      <td>house</td>\n",
       "      <td>A000367</td>\n",
       "      <td>Amash</td>\n",
       "      <td>MI</td>\n",
       "      <td>3.0</td>\n",
       "      <td>I</td>\n",
       "      <td>57.0</td>\n",
       "      <td>0.754386</td>\n",
       "      <td>0.656858</td>\n",
       "      <td>9.4</td>\n",
       "    </tr>\n",
       "    <tr>\n",
       "      <th>6</th>\n",
       "      <td>116</td>\n",
       "      <td>house</td>\n",
       "      <td>A000367</td>\n",
       "      <td>Amash</td>\n",
       "      <td>MI</td>\n",
       "      <td>3.0</td>\n",
       "      <td>R</td>\n",
       "      <td>2.0</td>\n",
       "      <td>1.000000</td>\n",
       "      <td>0.595826</td>\n",
       "      <td>9.4</td>\n",
       "    </tr>\n",
       "    <tr>\n",
       "      <th>7</th>\n",
       "      <td>0</td>\n",
       "      <td>house</td>\n",
       "      <td>A000369</td>\n",
       "      <td>Amodei</td>\n",
       "      <td>NV</td>\n",
       "      <td>2.0</td>\n",
       "      <td>Republican</td>\n",
       "      <td>155.0</td>\n",
       "      <td>0.974194</td>\n",
       "      <td>0.813618</td>\n",
       "      <td>12.3</td>\n",
       "    </tr>\n",
       "    <tr>\n",
       "      <th>8</th>\n",
       "      <td>115</td>\n",
       "      <td>house</td>\n",
       "      <td>A000369</td>\n",
       "      <td>Amodei</td>\n",
       "      <td>NV</td>\n",
       "      <td>2.0</td>\n",
       "      <td>R</td>\n",
       "      <td>94.0</td>\n",
       "      <td>0.989362</td>\n",
       "      <td>0.876527</td>\n",
       "      <td>12.3</td>\n",
       "    </tr>\n",
       "    <tr>\n",
       "      <th>9</th>\n",
       "      <td>116</td>\n",
       "      <td>house</td>\n",
       "      <td>A000369</td>\n",
       "      <td>Amodei</td>\n",
       "      <td>NV</td>\n",
       "      <td>2.0</td>\n",
       "      <td>R</td>\n",
       "      <td>61.0</td>\n",
       "      <td>0.950820</td>\n",
       "      <td>0.716675</td>\n",
       "      <td>12.3</td>\n",
       "    </tr>\n",
       "    <tr>\n",
       "      <th>10</th>\n",
       "      <td>0</td>\n",
       "      <td>house</td>\n",
       "      <td>A000370</td>\n",
       "      <td>Adams</td>\n",
       "      <td>NC</td>\n",
       "      <td>12.0</td>\n",
       "      <td>Democrat</td>\n",
       "      <td>154.0</td>\n",
       "      <td>0.116883</td>\n",
       "      <td>0.136631</td>\n",
       "      <td>-40.0</td>\n",
       "    </tr>\n",
       "    <tr>\n",
       "      <th>11</th>\n",
       "      <td>115</td>\n",
       "      <td>house</td>\n",
       "      <td>A000370</td>\n",
       "      <td>Adams</td>\n",
       "      <td>NC</td>\n",
       "      <td>12.0</td>\n",
       "      <td>D</td>\n",
       "      <td>92.0</td>\n",
       "      <td>0.173913</td>\n",
       "      <td>0.203787</td>\n",
       "      <td>-40.0</td>\n",
       "    </tr>\n",
       "    <tr>\n",
       "      <th>12</th>\n",
       "      <td>116</td>\n",
       "      <td>house</td>\n",
       "      <td>A000370</td>\n",
       "      <td>Adams</td>\n",
       "      <td>NC</td>\n",
       "      <td>12.0</td>\n",
       "      <td>D</td>\n",
       "      <td>62.0</td>\n",
       "      <td>0.032258</td>\n",
       "      <td>0.036979</td>\n",
       "      <td>-40.0</td>\n",
       "    </tr>\n",
       "    <tr>\n",
       "      <th>13</th>\n",
       "      <td>0</td>\n",
       "      <td>house</td>\n",
       "      <td>A000371</td>\n",
       "      <td>Aguilar</td>\n",
       "      <td>CA</td>\n",
       "      <td>31.0</td>\n",
       "      <td>Democrat</td>\n",
       "      <td>155.0</td>\n",
       "      <td>0.187097</td>\n",
       "      <td>0.211143</td>\n",
       "      <td>-21.1</td>\n",
       "    </tr>\n",
       "    <tr>\n",
       "      <th>14</th>\n",
       "      <td>115</td>\n",
       "      <td>house</td>\n",
       "      <td>A000371</td>\n",
       "      <td>Aguilar</td>\n",
       "      <td>CA</td>\n",
       "      <td>31.0</td>\n",
       "      <td>D</td>\n",
       "      <td>94.0</td>\n",
       "      <td>0.276596</td>\n",
       "      <td>0.313868</td>\n",
       "      <td>-21.1</td>\n",
       "    </tr>\n",
       "  </tbody>\n",
       "</table>\n",
       "</div>"
      ],
      "text/plain": [
       "    congress chamber bioguide last_name state  district        party  votes  \\\n",
       "0          0   house  A000055  Aderholt    AL       4.0   Republican  156.0   \n",
       "1        115   house  A000055  Aderholt    AL       4.0            R   95.0   \n",
       "2        116   house  A000055  Aderholt    AL       4.0            R   61.0   \n",
       "3          0   house  A000367     Amash    MI       3.0  Independent  155.0   \n",
       "4        115   house  A000367     Amash    MI       3.0            R   96.0   \n",
       "5        116   house  A000367     Amash    MI       3.0            I   57.0   \n",
       "6        116   house  A000367     Amash    MI       3.0            R    2.0   \n",
       "7          0   house  A000369    Amodei    NV       2.0   Republican  155.0   \n",
       "8        115   house  A000369    Amodei    NV       2.0            R   94.0   \n",
       "9        116   house  A000369    Amodei    NV       2.0            R   61.0   \n",
       "10         0   house  A000370     Adams    NC      12.0     Democrat  154.0   \n",
       "11       115   house  A000370     Adams    NC      12.0            D   92.0   \n",
       "12       116   house  A000370     Adams    NC      12.0            D   62.0   \n",
       "13         0   house  A000371   Aguilar    CA      31.0     Democrat  155.0   \n",
       "14       115   house  A000371   Aguilar    CA      31.0            D   94.0   \n",
       "\n",
       "    agree_pct  predicted_agree  net_trump_vote  \n",
       "0    0.974359         0.958389            63.0  \n",
       "1    0.968421         0.946349            63.0  \n",
       "2    0.983607         0.977141            63.0  \n",
       "3    0.625806         0.762262             9.4  \n",
       "4    0.541667         0.847386             9.4  \n",
       "5    0.754386         0.656858             9.4  \n",
       "6    1.000000         0.595826             9.4  \n",
       "7    0.974194         0.813618            12.3  \n",
       "8    0.989362         0.876527            12.3  \n",
       "9    0.950820         0.716675            12.3  \n",
       "10   0.116883         0.136631           -40.0  \n",
       "11   0.173913         0.203787           -40.0  \n",
       "12   0.032258         0.036979           -40.0  \n",
       "13   0.187097         0.211143           -21.1  \n",
       "14   0.276596         0.313868           -21.1  "
      ]
     },
     "execution_count": 26,
     "metadata": {},
     "output_type": "execute_result"
    }
   ],
   "source": [
    "# looking at the first rows \n",
    "congress.head(15)"
   ]
  },
  {
   "cell_type": "markdown",
   "metadata": {},
   "source": [
    "### 2. Looks like the party column needs some munging - let's: \n",
    "    A) Drop the row with a null value in `last_name`\n",
    "    B) Shorten the longer strings in the party columns i.e. change `Republican` to `R`"
   ]
  },
  {
   "cell_type": "code",
   "execution_count": 27,
   "metadata": {},
   "outputs": [
    {
     "data": {
      "text/html": [
       "<div>\n",
       "<style scoped>\n",
       "    .dataframe tbody tr th:only-of-type {\n",
       "        vertical-align: middle;\n",
       "    }\n",
       "\n",
       "    .dataframe tbody tr th {\n",
       "        vertical-align: top;\n",
       "    }\n",
       "\n",
       "    .dataframe thead th {\n",
       "        text-align: right;\n",
       "    }\n",
       "</style>\n",
       "<table border=\"1\" class=\"dataframe\">\n",
       "  <thead>\n",
       "    <tr style=\"text-align: right;\">\n",
       "      <th></th>\n",
       "      <th>congress</th>\n",
       "      <th>chamber</th>\n",
       "      <th>bioguide</th>\n",
       "      <th>last_name</th>\n",
       "      <th>state</th>\n",
       "      <th>district</th>\n",
       "      <th>party</th>\n",
       "      <th>votes</th>\n",
       "      <th>agree_pct</th>\n",
       "      <th>predicted_agree</th>\n",
       "      <th>net_trump_vote</th>\n",
       "    </tr>\n",
       "  </thead>\n",
       "  <tbody>\n",
       "    <tr>\n",
       "      <th>1738</th>\n",
       "      <td>116</td>\n",
       "      <td>NaN</td>\n",
       "      <td>V000133</td>\n",
       "      <td>NaN</td>\n",
       "      <td>NaN</td>\n",
       "      <td>NaN</td>\n",
       "      <td>D</td>\n",
       "      <td>NaN</td>\n",
       "      <td>NaN</td>\n",
       "      <td>0.395036</td>\n",
       "      <td>NaN</td>\n",
       "    </tr>\n",
       "  </tbody>\n",
       "</table>\n",
       "</div>"
      ],
      "text/plain": [
       "      congress chamber bioguide last_name state  district party  votes  \\\n",
       "1738       116     NaN  V000133       NaN   NaN       NaN     D    NaN   \n",
       "\n",
       "      agree_pct  predicted_agree  net_trump_vote  \n",
       "1738        NaN         0.395036             NaN  "
      ]
     },
     "execution_count": 27,
     "metadata": {},
     "output_type": "execute_result"
    }
   ],
   "source": [
    "### Drop row with null last name \n",
    "congress.loc[congress['last_name'].isnull()]"
   ]
  },
  {
   "cell_type": "code",
   "execution_count": 28,
   "metadata": {},
   "outputs": [],
   "source": [
    "congress = congress.dropna(subset=['last_name'])"
   ]
  },
  {
   "cell_type": "code",
   "execution_count": 29,
   "metadata": {},
   "outputs": [],
   "source": [
    "### Clean target column\n",
    "congress.loc[:, 'party'] = congress['party'].map(lambda cell: cell[0])"
   ]
  },
  {
   "cell_type": "markdown",
   "metadata": {},
   "source": [
    "### 3. We are going to be predicting `party` using `agree_pct` and `net_trump_vote` as our X variables. What is the baseline accuracy?"
   ]
  },
  {
   "cell_type": "code",
   "execution_count": 30,
   "metadata": {},
   "outputs": [
    {
     "data": {
      "text/plain": [
       "R    0.516110\n",
       "D    0.479287\n",
       "I    0.004603\n",
       "Name: party, dtype: float64"
      ]
     },
     "execution_count": 30,
     "metadata": {},
     "output_type": "execute_result"
    }
   ],
   "source": [
    "#baseline accuracy is the proportion of the data that is in the most frequent class \n",
    "\n",
    "congress['party'].value_counts(normalize=True)\n"
   ]
  },
  {
   "cell_type": "markdown",
   "metadata": {},
   "source": [
    "### 4. Set up our X and y and perform a train-test-split"
   ]
  },
  {
   "cell_type": "code",
   "execution_count": 31,
   "metadata": {},
   "outputs": [],
   "source": [
    "congress = congress.loc[congress['congress'] ==0]\n",
    "X = congress[['agree_pct', 'net_trump_vote']]\n",
    "y = congress['party']"
   ]
  },
  {
   "cell_type": "code",
   "execution_count": 32,
   "metadata": {},
   "outputs": [],
   "source": [
    "X_train, X_test, y_train, y_test = \\\n",
    "train_test_split(X, y, random_state=32)"
   ]
  },
  {
   "cell_type": "markdown",
   "metadata": {},
   "source": [
    "### 5. Scale your data"
   ]
  },
  {
   "cell_type": "code",
   "execution_count": 33,
   "metadata": {},
   "outputs": [],
   "source": [
    "ss = StandardScaler()\n",
    "\n",
    "X_train_sc = ss.fit_transform(X_train)\n",
    "X_test_sc = ss.transform(X_test)"
   ]
  },
  {
   "cell_type": "markdown",
   "metadata": {},
   "source": [
    "### 6. Let's visualize this - the black stars are the values in the test set \n",
    "\n",
    "Set a random state of 32"
   ]
  },
  {
   "cell_type": "code",
   "execution_count": null,
   "metadata": {},
   "outputs": [],
   "source": []
  },
  {
   "cell_type": "code",
   "execution_count": 34,
   "metadata": {},
   "outputs": [
    {
     "data": {
      "image/png": "[encoded data removed]",
      "text/plain": [
       "<Figure size 720x432 with 1 Axes>"
      ]
     },
     "metadata": {
      "needs_background": "light"
     },
     "output_type": "display_data"
    }
   ],
   "source": [
    "#plotting trick - map colors to values \n",
    "color_dict = {'D':'blue', 'I':'grey', 'R':'red'}\n",
    "\n",
    "fig, ax = plt.subplots(figsize=(10,6))\n",
    "\n",
    "ax.scatter(X_train_sc[:,0], X_train_sc[:,1], c=y_train.map(color_dict))\n",
    "ax.scatter(X_test_sc[:,0], X_test_sc[:, 1], color = 'black', marker='*')\n",
    "ax.set_xlabel(X.columns[0])\n",
    "ax.set_ylabel(X.columns[1])\n",
    "ax.set_ybound(-2.3, 2.3)\n",
    "ax.set_xbound(-2.3, 2.3);"
   ]
  },
  {
   "cell_type": "markdown",
   "metadata": {},
   "source": [
    "### 6. Fit a `KNeighborsClassifier` with k=5\n",
    "Evauluate your performance on train and test"
   ]
  },
  {
   "cell_type": "code",
   "execution_count": 35,
   "metadata": {
    "scrolled": true
   },
   "outputs": [
    {
     "data": {
      "text/plain": [
       "0.9938271604938271"
      ]
     },
     "execution_count": 35,
     "metadata": {},
     "output_type": "execute_result"
    }
   ],
   "source": [
    "## code \n",
    "\n",
    "knn5 = KNeighborsClassifier(n_neighbors=5)\n",
    "\n",
    "knn5.fit(X_train_sc, y_train)\n",
    "knn5.score(X_train_sc, y_train)"
   ]
  },
  {
   "cell_type": "code",
   "execution_count": 36,
   "metadata": {},
   "outputs": [
    {
     "data": {
      "text/plain": [
       "0.9876543209876543"
      ]
     },
     "execution_count": 36,
     "metadata": {},
     "output_type": "execute_result"
    }
   ],
   "source": [
    "### fit and score on both train and test \n",
    "knn5.score(X_test_sc, y_test)"
   ]
  },
  {
   "cell_type": "code",
   "execution_count": 37,
   "metadata": {},
   "outputs": [],
   "source": [
    "### save predictions \n",
    "y_test_pred = knn5.predict(X_test_sc)"
   ]
  },
  {
   "cell_type": "markdown",
   "metadata": {},
   "source": [
    "### Teaser - Confusion Matrix "
   ]
  },
  {
   "cell_type": "code",
   "execution_count": 38,
   "metadata": {},
   "outputs": [],
   "source": [
    "def make_pretty_conmat(predictions, true_values, classes):\n",
    "    print(f'Accuracy score: {round(accuracy_score(true_values, predictions), 4)}')\n",
    "    cols = 'Predicted ' + classes\n",
    "    indices = 'Actual ' + classes\n",
    "    conmat = confusion_matrix(y_test, y_test_pred, labels=classes)\n",
    "    display(pd.DataFrame(conmat, columns=cols, index=indices))\n",
    "    "
   ]
  },
  {
   "cell_type": "code",
   "execution_count": 39,
   "metadata": {},
   "outputs": [
    {
     "name": "stdout",
     "output_type": "stream",
     "text": [
      "Accuracy score: 0.9877\n"
     ]
    },
    {
     "data": {
      "text/html": [
       "<div>\n",
       "<style scoped>\n",
       "    .dataframe tbody tr th:only-of-type {\n",
       "        vertical-align: middle;\n",
       "    }\n",
       "\n",
       "    .dataframe tbody tr th {\n",
       "        vertical-align: top;\n",
       "    }\n",
       "\n",
       "    .dataframe thead th {\n",
       "        text-align: right;\n",
       "    }\n",
       "</style>\n",
       "<table border=\"1\" class=\"dataframe\">\n",
       "  <thead>\n",
       "    <tr style=\"text-align: right;\">\n",
       "      <th></th>\n",
       "      <th>Predicted D</th>\n",
       "      <th>Predicted I</th>\n",
       "      <th>Predicted R</th>\n",
       "    </tr>\n",
       "  </thead>\n",
       "  <tbody>\n",
       "    <tr>\n",
       "      <th>Actual D</th>\n",
       "      <td>70</td>\n",
       "      <td>0</td>\n",
       "      <td>0</td>\n",
       "    </tr>\n",
       "    <tr>\n",
       "      <th>Actual I</th>\n",
       "      <td>0</td>\n",
       "      <td>0</td>\n",
       "      <td>1</td>\n",
       "    </tr>\n",
       "    <tr>\n",
       "      <th>Actual R</th>\n",
       "      <td>1</td>\n",
       "      <td>0</td>\n",
       "      <td>90</td>\n",
       "    </tr>\n",
       "  </tbody>\n",
       "</table>\n",
       "</div>"
      ],
      "text/plain": [
       "          Predicted D  Predicted I  Predicted R\n",
       "Actual D           70            0            0\n",
       "Actual I            0            0            1\n",
       "Actual R            1            0           90"
      ]
     },
     "metadata": {},
     "output_type": "display_data"
    }
   ],
   "source": [
    "make_pretty_conmat(y_test_pred, y_test, knn5.classes_)"
   ]
  },
  {
   "cell_type": "code",
   "execution_count": 40,
   "metadata": {},
   "outputs": [
    {
     "data": {
      "image/png": "[encoded data removed]",
      "text/plain": [
       "<Figure size 864x720 with 1 Axes>"
      ]
     },
     "metadata": {
      "needs_background": "light"
     },
     "output_type": "display_data"
    }
   ],
   "source": [
    "# plotting trick - map colors to values \n",
    "color_dict = {'D':'blue', 'I':'grey', 'R':'red'}\n",
    "\n",
    "fig, ax = plt.subplots(figsize=(12,10))\n",
    "\n",
    "ax.scatter(X_train_sc[:,0], X_train_sc[:,1], c=y_train.map(color_dict))\n",
    "ax.scatter(X_test_sc[:,0], X_test_sc[:, 1], color = [color_dict[pred] for pred in y_test_pred], marker='*', \\\n",
    "          facecolors=[color_dict[party] for party in y_test], s=150)\n",
    "ax.set_xlabel(X.columns[0])\n",
    "ax.set_ylabel(X.columns[1]);"
   ]
  },
  {
   "cell_type": "markdown",
   "metadata": {},
   "source": [
    "### 7. Fit a `KNeighborsClassifier` with k=1\n",
    "Evauluate your performance on train and test"
   ]
  },
  {
   "cell_type": "code",
   "execution_count": 43,
   "metadata": {},
   "outputs": [
    {
     "data": {
      "text/plain": [
       "1.0"
      ]
     },
     "execution_count": 43,
     "metadata": {},
     "output_type": "execute_result"
    }
   ],
   "source": [
    "knn1 = KNeighborsClassifier(n_neighbors=1) # n_neighbors is 1st argument so technically\n",
    "                                           # we don't need to specify it as a kwarg\n",
    "                                           # Always use an odd number\n",
    "knn1.fit(X_train_sc, y_train)\n",
    "\n",
    "knn1.score(X_train_sc, y_train)"
   ]
  },
  {
   "cell_type": "code",
   "execution_count": 45,
   "metadata": {},
   "outputs": [
    {
     "data": {
      "text/plain": [
       "0.9629629629629629"
      ]
     },
     "execution_count": 45,
     "metadata": {},
     "output_type": "execute_result"
    }
   ],
   "source": [
    "### can we turn our code from before into a function?\n",
    "knn1.score(X_test_sc, y_test)"
   ]
  },
  {
   "cell_type": "code",
   "execution_count": 52,
   "metadata": {},
   "outputs": [],
   "source": [
    "def make_pretty_conmat(predictions, true_values, classes):\n",
    "    print(f'Accuracy score: {round(accuracy_score(true_values, predictions), 4)}')\n",
    "    cols = 'Predicted ' + classes\n",
    "    indices = 'Actual ' + classes\n",
    "    conmat = confusion_matrix(true_values, predictions, labels=classes)\n",
    "    display(pd.DataFrame(conmat, columns=cols, index=indices))\n",
    "    #  corrected from   conmat = confusion_matrix(y_test, y_test_pred, labels=classes)\n",
    "\n",
    "def map_knn_model(k):\n",
    "    model = KNeighborsClassifier(n_neighbors=k)\n",
    "    model.fit(X_train_sc, y_train)\n",
    "    y_test_pred = model.predict(X_test_sc)\n",
    "    make_pretty_conmat(y_test_pred, y_test, model.classes_)\n",
    "    # plotting trick - map colors to values \n",
    "    color_dict = {'D':'blue', 'I':'grey', 'R':'red'}\n",
    "    fig, ax = plt.subplots(figsize=(12,10))\n",
    "    ax.scatter(X_train_sc[:,0], X_train_sc[:,1], c=y_train.map(color_dict))\n",
    "    ax.scatter(X_test_sc[:,0], X_test_sc[:, 1], color = [color_dict[pred] for pred in y_test_pred], marker='*', \\\n",
    "              facecolors=[color_dict[party] for party in y_test], s=150)\n",
    "    ax.set_xlabel(X.columns[0])\n",
    "    ax.set_ylabel(X.columns[1]);\n",
    "\n",
    "# Eventually look into hyper parameter tuning\n",
    "\n",
    "# Look into modifying this code to work for Linear Regression"
   ]
  },
  {
   "cell_type": "markdown",
   "metadata": {},
   "source": [
    "### 8. Fit a `KNeighborsClassifier` with k= number of observations in your training set (why is this the max)?\n",
    "Evauluate your performance on train and test"
   ]
  },
  {
   "cell_type": "code",
   "execution_count": 50,
   "metadata": {
    "scrolled": true
   },
   "outputs": [],
   "source": [
    "#code. Every prediction will be the same, which will be whatever has the majority of observations\n",
    "# This example will have zero variance because every prediction is the same"
   ]
  },
  {
   "cell_type": "markdown",
   "metadata": {},
   "source": [
    "### 9. Manual parameter tuning - loop through all values of K and evaluate the model on your test set - plot your results \n",
    "\n",
    "might need to take steps of 5 for speed"
   ]
  },
  {
   "cell_type": "code",
   "execution_count": 49,
   "metadata": {},
   "outputs": [
    {
     "ename": "ValueError",
     "evalue": "The truth value of an array with more than one element is ambiguous. Use a.any() or a.all()",
     "output_type": "error",
     "traceback": [
      "\u001b[0;31m---------------------------------------------------------------------------\u001b[0m",
      "\u001b[0;31mValueError\u001b[0m                                Traceback (most recent call last)",
      "\u001b[0;32m<ipython-input-49-85ec83fc8a08>\u001b[0m in \u001b[0;36m<module>\u001b[0;34m\u001b[0m\n\u001b[0;32m----> 1\u001b[0;31m \u001b[0mmap_knn_model\u001b[0m\u001b[0;34m(\u001b[0m\u001b[0mnp\u001b[0m\u001b[0;34m.\u001b[0m\u001b[0mlinspace\u001b[0m\u001b[0;34m(\u001b[0m\u001b[0;36m1\u001b[0m\u001b[0;34m,\u001b[0m\u001b[0;36m9\u001b[0m\u001b[0;34m,\u001b[0m\u001b[0;36m4\u001b[0m\u001b[0;34m)\u001b[0m\u001b[0;34m)\u001b[0m\u001b[0;34m\u001b[0m\u001b[0;34m\u001b[0m\u001b[0m\n\u001b[0m",
      "\u001b[0;32m<ipython-input-48-d27e2928fae1>\u001b[0m in \u001b[0;36mmap_knn_model\u001b[0;34m(k)\u001b[0m\n\u001b[1;32m      1\u001b[0m \u001b[0;32mdef\u001b[0m \u001b[0mmap_knn_model\u001b[0m\u001b[0;34m(\u001b[0m\u001b[0mk\u001b[0m\u001b[0;34m)\u001b[0m\u001b[0;34m:\u001b[0m\u001b[0;34m\u001b[0m\u001b[0;34m\u001b[0m\u001b[0m\n\u001b[1;32m      2\u001b[0m     \u001b[0mmodel\u001b[0m \u001b[0;34m=\u001b[0m \u001b[0mKNeighborsClassifier\u001b[0m\u001b[0;34m(\u001b[0m\u001b[0mn_neighbors\u001b[0m\u001b[0;34m=\u001b[0m\u001b[0mk\u001b[0m\u001b[0;34m)\u001b[0m\u001b[0;34m\u001b[0m\u001b[0;34m\u001b[0m\u001b[0m\n\u001b[0;32m----> 3\u001b[0;31m     \u001b[0mmodel\u001b[0m\u001b[0;34m.\u001b[0m\u001b[0mfit\u001b[0m\u001b[0;34m(\u001b[0m\u001b[0mX_train_sc\u001b[0m\u001b[0;34m,\u001b[0m \u001b[0my_train\u001b[0m\u001b[0;34m)\u001b[0m\u001b[0;34m\u001b[0m\u001b[0;34m\u001b[0m\u001b[0m\n\u001b[0m\u001b[1;32m      4\u001b[0m     \u001b[0my_test_pred\u001b[0m \u001b[0;34m=\u001b[0m \u001b[0mmodel\u001b[0m\u001b[0;34m.\u001b[0m\u001b[0mpredict\u001b[0m\u001b[0;34m(\u001b[0m\u001b[0mX_test_sc\u001b[0m\u001b[0;34m)\u001b[0m\u001b[0;34m\u001b[0m\u001b[0;34m\u001b[0m\u001b[0m\n\u001b[1;32m      5\u001b[0m     \u001b[0mmake_pretty_conmat\u001b[0m\u001b[0;34m(\u001b[0m\u001b[0my_test_pred\u001b[0m\u001b[0;34m,\u001b[0m \u001b[0my_test\u001b[0m\u001b[0;34m,\u001b[0m \u001b[0mmodel\u001b[0m\u001b[0;34m.\u001b[0m\u001b[0mclasses_\u001b[0m\u001b[0;34m)\u001b[0m\u001b[0;34m\u001b[0m\u001b[0;34m\u001b[0m\u001b[0m\n",
      "\u001b[0;32m/opt/anaconda3/lib/python3.6/site-packages/sklearn/neighbors/base.py\u001b[0m in \u001b[0;36mfit\u001b[0;34m(self, X, y)\u001b[0m\n\u001b[1;32m    915\u001b[0m             \u001b[0mself\u001b[0m\u001b[0;34m.\u001b[0m\u001b[0m_y\u001b[0m \u001b[0;34m=\u001b[0m \u001b[0mself\u001b[0m\u001b[0;34m.\u001b[0m\u001b[0m_y\u001b[0m\u001b[0;34m.\u001b[0m\u001b[0mravel\u001b[0m\u001b[0;34m(\u001b[0m\u001b[0;34m)\u001b[0m\u001b[0;34m\u001b[0m\u001b[0;34m\u001b[0m\u001b[0m\n\u001b[1;32m    916\u001b[0m \u001b[0;34m\u001b[0m\u001b[0m\n\u001b[0;32m--> 917\u001b[0;31m         \u001b[0;32mreturn\u001b[0m \u001b[0mself\u001b[0m\u001b[0;34m.\u001b[0m\u001b[0m_fit\u001b[0m\u001b[0;34m(\u001b[0m\u001b[0mX\u001b[0m\u001b[0;34m)\u001b[0m\u001b[0;34m\u001b[0m\u001b[0;34m\u001b[0m\u001b[0m\n\u001b[0m\u001b[1;32m    918\u001b[0m \u001b[0;34m\u001b[0m\u001b[0m\n\u001b[1;32m    919\u001b[0m \u001b[0;34m\u001b[0m\u001b[0m\n",
      "\u001b[0;32m/opt/anaconda3/lib/python3.6/site-packages/sklearn/neighbors/base.py\u001b[0m in \u001b[0;36m_fit\u001b[0;34m(self, X)\u001b[0m\n\u001b[1;32m    236\u001b[0m             \u001b[0;31m# and KDTree is generally faster when available\u001b[0m\u001b[0;34m\u001b[0m\u001b[0;34m\u001b[0m\u001b[0;34m\u001b[0m\u001b[0m\n\u001b[1;32m    237\u001b[0m             if ((self.n_neighbors is None or\n\u001b[0;32m--> 238\u001b[0;31m                  self.n_neighbors < self._fit_X.shape[0] // 2) and\n\u001b[0m\u001b[1;32m    239\u001b[0m                     self.metric != 'precomputed'):\n\u001b[1;32m    240\u001b[0m                 \u001b[0;32mif\u001b[0m \u001b[0mself\u001b[0m\u001b[0;34m.\u001b[0m\u001b[0meffective_metric_\u001b[0m \u001b[0;32min\u001b[0m \u001b[0mVALID_METRICS\u001b[0m\u001b[0;34m[\u001b[0m\u001b[0;34m'kd_tree'\u001b[0m\u001b[0;34m]\u001b[0m\u001b[0;34m:\u001b[0m\u001b[0;34m\u001b[0m\u001b[0;34m\u001b[0m\u001b[0m\n",
      "\u001b[0;31mValueError\u001b[0m: The truth value of an array with more than one element is ambiguous. Use a.any() or a.all()"
     ]
    }
   ],
   "source": [
    "map_knn_model(np.linspace(1,9,4))"
   ]
  },
  {
   "cell_type": "code",
   "execution_count": 20,
   "metadata": {},
   "outputs": [],
   "source": [
    "# A:\n"
   ]
  }
 ],
 "metadata": {
  "anaconda-cloud": {},
  "kernelspec": {
   "display_name": "Python 3",
   "language": "python",
   "name": "python3"
  },
  "language_info": {
   "codemirror_mode": {
    "name": "ipython",
    "version": 3
   },
   "file_extension": ".py",
   "mimetype": "text/x-python",
   "name": "python",
   "nbconvert_exporter": "python",
   "pygments_lexer": "ipython3",
   "version": "3.6.9"
  }
 },
 "nbformat": 4,
 "nbformat_minor": 2
}
