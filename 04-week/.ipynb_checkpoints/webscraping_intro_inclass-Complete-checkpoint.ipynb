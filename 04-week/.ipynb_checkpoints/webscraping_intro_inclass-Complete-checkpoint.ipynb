{
 "cells": [
  {
   "cell_type": "markdown",
   "metadata": {},
   "source": [
    "\n",
    "### Webscraping! "
   ]
  },
  {
   "cell_type": "markdown",
   "metadata": {},
   "source": [
    "Webscraping is a powerful tool for getting your own data - it's important to follow the policies outlined at the `./robots.txt` extension"
   ]
  },
  {
   "cell_type": "markdown",
   "metadata": {},
   "source": [
    "I.e. the scraping policy for [Open Table](https://www.opentable.com) is listed at [https://www.opentable.com/robots.txt](https://www.opentable.com/robots.txt). Your path reading skills will help you here! \n"
   ]
  },
  {
   "cell_type": "code",
   "execution_count": 1,
   "metadata": {},
   "outputs": [],
   "source": [
    "## imports \n",
    "import pandas as pd \n",
    "from bs4 import BeautifulSoup\n",
    "import requests \n",
    "from time import sleep \n",
    "import matplotlib.pyplot as plt \n",
    "\n",
    "\n",
    "%matplotlib inline "
   ]
  },
  {
   "cell_type": "code",
   "execution_count": 2,
   "metadata": {},
   "outputs": [],
   "source": [
    "## let's scrape from austin chronicle \n",
    "url = 'https://www.austinchronicle.com/events/music/'\n"
   ]
  },
  {
   "cell_type": "markdown",
   "metadata": {},
   "source": [
    "### 1) First get the requests and content with: \n",
    "``` python \n",
    "res = requests.get(url)\n",
    "\n",
    "```"
   ]
  },
  {
   "cell_type": "code",
   "execution_count": 3,
   "metadata": {},
   "outputs": [],
   "source": [
    "## code \n",
    "res = requests.get(url)"
   ]
  },
  {
   "cell_type": "markdown",
   "metadata": {},
   "source": [
    "### 2) \"Soupify\" the object\n",
    "\n",
    "``` python \n",
    "soup = BeautifulSoup(res.content)\n",
    "```"
   ]
  },
  {
   "cell_type": "code",
   "execution_count": 4,
   "metadata": {},
   "outputs": [],
   "source": [
    "## code \n",
    "soup = BeautifulSoup(res.content)"
   ]
  },
  {
   "cell_type": "markdown",
   "metadata": {},
   "source": [
    "### 3) Try and find the element that contains the venue"
   ]
  },
  {
   "cell_type": "code",
   "execution_count": 5,
   "metadata": {},
   "outputs": [
    {
     "name": "stdout",
     "output_type": "stream",
     "text": [
      "Threadgill's Old No. 1\n",
      "Frank Erwin Center\n",
      "Antone's Nightclub\n",
      "Bijou Lounge\n",
      "Broken Spoke\n"
     ]
    }
   ],
   "source": [
    "## code the name of the tag is 'div' and we want the tag to have \n",
    "## a class=venue attribute \n",
    "\n",
    "for i in soup.find_all(name='div',attrs={'class':'venue'})[:5]:\n",
    "    print(i.text)"
   ]
  },
  {
   "cell_type": "markdown",
   "metadata": {},
   "source": [
    "### 4) What about the date and time? "
   ]
  },
  {
   "cell_type": "code",
   "execution_count": 20,
   "metadata": {},
   "outputs": [
    {
     "name": "stdout",
     "output_type": "stream",
     "text": [
      "Fri., Jan. 17\n",
      "Fri., Jan. 17\n",
      "Fri., Jan. 17\n",
      "Fri., Jan. 17\n",
      "Fri., Jan. 17\n"
     ]
    }
   ],
   "source": [
    "## code \n",
    "for i in soup.find_all(name='span',attrs={'class':'event-date'})[:5]:\n",
    "    print(i.text)"
   ]
  },
  {
   "cell_type": "markdown",
   "metadata": {},
   "source": [
    "### 5) A link and the artist?\n",
    "\n",
    "_Hint: Try setting a base url_"
   ]
  },
  {
   "cell_type": "code",
   "execution_count": 28,
   "metadata": {},
   "outputs": [
    {
     "name": "stdout",
     "output_type": "stream",
     "text": [
      "http://www.facebook.com/events/585614641982520/\n",
      "http://www.threadgills.com/events-old-no-1\n",
      "/events/music/andrew-cyrille-quartet-2626679/\n",
      "/events/music/hikes-album-release-2632606/\n",
      "/events/music/lucifer-savage-master-overdose-2626825/\n"
     ]
    }
   ],
   "source": [
    "for i in soup.find_all('h2')[:5]:\n",
    "    print(i.a.attrs['href'])"
   ]
  },
  {
   "cell_type": "code",
   "execution_count": 25,
   "metadata": {},
   "outputs": [
    {
     "name": "stdout",
     "output_type": "stream",
     "text": [
      "All Skate: Sundays at Stay Gold\n",
      "http://www.facebook.com/events/585614641982520/\n",
      "Songwriters Series: Nakia\n",
      "http://www.threadgills.com/events-old-no-1\n",
      "Andrew Cyrille Quartet\n",
      "/events/music/andrew-cyrille-quartet-2626679/\n",
      "Hikes (album release), the Kraken Quartet, Christelle Bofale\n",
      "/events/music/hikes-album-release-2632606/\n",
      "Lucifer, Savage Master, Overdose\n",
      "/events/music/lucifer-savage-master-overdose-2626825/\n"
     ]
    }
   ],
   "source": [
    "### code  \n",
    "for i in soup.find_all('h2')[:5]:\n",
    "    print(i.text)\n",
    "    print(i.find('a').attrs['href'])"
   ]
  },
  {
   "cell_type": "markdown",
   "metadata": {},
   "source": [
    "### 6) Refactoring - Find the element that contains all of the information we potentially need - then grab the individual items from that element"
   ]
  },
  {
   "cell_type": "code",
   "execution_count": 34,
   "metadata": {},
   "outputs": [
    {
     "name": "stdout",
     "output_type": "stream",
     "text": [
      "Stay Gold\n",
      "no time\n",
      "All Skate: Sundays at Stay Gold\n",
      "http://www.facebook.com/events/585614641982520/\n",
      "Threadgill's Old No. 1\n",
      "no time\n",
      "Songwriters Series: Nakia\n",
      "http://www.threadgills.com/events-old-no-1\n",
      "McCullough Theatre\n",
      "Fri., Jan. 17\n",
      "Andrew Cyrille Quartet\n",
      "/events/music/andrew-cyrille-quartet-2626679/\n",
      "Barracuda\n",
      "Fri., Jan. 17\n",
      "Hikes (album release), the Kraken Quartet, Christelle Bofale\n",
      "/events/music/hikes-album-release-2632606/\n",
      "Come & Take It Live\n",
      "Fri., Jan. 17\n",
      "Lucifer, Savage Master, Overdose\n",
      "/events/music/lucifer-savage-master-overdose-2626825/\n",
      "The Electric Church\n",
      "Fri., Jan. 17\n",
      "Evergreen, ThunderStars (album release), Dottie\n",
      "/events/music/thunderstars-album-release-2654787/\n",
      "One World Theatre\n",
      "Fri., Jan. 17\n",
      "Dar Williams\n",
      "/events/music/dar-williams-2627543/\n",
      "The Austin Beer Garden Brewing Co.\n",
      "Fri., Jan. 17\n",
      "Snizz Boogie\n",
      "/events/music/snizz-boogie-2632574/\n",
      "ACL Live at the Moody Theater\n",
      "Fri., Jan. 17\n",
      "The Pink Floyd Laser Spectacular\n",
      "/events/music/the-pink-floyd-laser-spectacular-2624539/\n",
      "Angel's Icehouse\n",
      "Fri., Jan. 17\n",
      "Neel Cole\n",
      "/events/music/neel-cole-2629406/\n",
      "Antone's Nightclub\n",
      "Fri., Jan. 17\n",
      "Spafford, The Iceman Special\n",
      "/events/music/spafford-the-iceman-special-2629416/\n",
      "Azul Tequila\n",
      "no time\n",
      "Mariachi Relámpago\n",
      "/events/music/mariachi-relmpago-2467346/\n",
      "Banger's Sausage House & Beer Garden\n",
      "Fri., Jan. 17\n",
      "Sophia Johnson\n",
      "/events/music/sophia-johnson-2642046/\n",
      "The Barn\n",
      "Fri., Jan. 17\n",
      "Sentimental Family Band\n",
      "/events/music/sentimental-family-band-2636713/\n",
      "B.D. Riley's Irish Pub\n",
      "no time\n",
      "The Chancers, Daithi Arwine (6:00)\n",
      "/events/music/the-chancers-700-daithi-arwine-600-2468018/\n",
      "Black Sparrow Music Parlor\n",
      "Fri., Jan. 17\n",
      "Dongle, Stupid Drama, Space Cushion, Wild Tinderbox\n",
      "/events/music/dongle-2663245/\n",
      "Blindside Tattoo & Piercing\n",
      "Fri., Jan. 17\n",
      "Wail Noises, Jane Connelly\n",
      "/events/music/wail-noises-jane-connelly-2655310/\n",
      "Brentwood Social House\n",
      "Fri., Jan. 17\n",
      "Woot Talley\n",
      "/events/music/woot-talley-2642071/\n",
      "no venue\n",
      "Fri., Jan. 17\n",
      "Ben Rodgers\n",
      "/events/music/ben-rodgers-2642079/\n",
      "Broken Spoke\n",
      "Fri., Jan. 17\n",
      "Almost Johnny Cash\n",
      "/events/music/almost-johnny-cash-2653813/\n",
      "Buck's Backyard\n",
      "Fri., Jan. 17\n",
      "The Powell Brothers\n",
      "/events/music/the-powell-brothers-2642090/\n",
      "Buzz Mill Riverside\n",
      "Fri., Jan. 17\n",
      "Viktor Scot fundraiser w/ Clayton England, Cole McDonnell, Heavy Stars, Hope Irish, Jack Charles, Marine Kimono, Suna\n",
      "/events/music/viktor-scot-fundraiser-2642206/\n",
      "Buzz Mill Shady\n",
      "no time\n",
      "Cass Brostad closed mic\n",
      "/events/music/cass-brostad-closed-mic-2642211/\n",
      "no venue\n",
      "Fri., Jan. 17\n",
      "Marshall Hood\n",
      "/events/music/marshall-hood-2663291/\n",
      "C-Boy's Heart & Soul\n",
      "Fri., Jan. 17\n",
      "Mike Flanigin Trio w/ Jimmie Vaughan\n",
      "/events/music/mike-flanigin-trio-w-jimmie-vaughan-2634297/\n",
      "The Capital Grille\n",
      "no time\n",
      "Tara Williamson\n",
      "/events/music/tara-williamson-2641733/\n",
      "no venue\n",
      "Fri., Jan. 17\n",
      "Variety Jones\n",
      "/events/music/variety-jones-2639432/\n",
      "no venue\n",
      "Fri., Jan. 17\n",
      "Birds on a Wire\n",
      "/events/music/birds-on-a-wire-2639431/\n",
      "Carousel Lounge\n",
      "Fri., Jan. 17\n",
      "The Morandies, Futon Blonde, Julian Berdegue\n",
      "/events/music/the-morandies-futon-blonde-2639430/\n",
      "Cedar Street Courtyard\n",
      "Fri., Jan. 17\n",
      "Reinier Zonneveld, Brennen Grey\n",
      "/events/music/reinier-zonneveld-brennen-grey-2629460/\n",
      "Cenote Windsor Park\n",
      "Fri., Jan. 17\n",
      "Sydney Wright, Kelsi\n",
      "/events/music/sydney-wright-kelsi-2642106/\n",
      "Central Market North\n",
      "Fri., Jan. 17\n",
      "Cienfuegos\n",
      "/events/music/cienfuegos-2655711/\n"
     ]
    }
   ],
   "source": [
    "### code \n",
    "for i in soup.find_all(name='div', attrs={'class':'event-text'}):\n",
    "    try:\n",
    "        print(i.find(name='div', attrs={'class':'venue'}).text)\n",
    "    except:\n",
    "        print('no venue')\n",
    "        \n",
    "    try:\n",
    "        print(i.find(name='span',attrs={'class':'event-date'}).text)\n",
    "    except:\n",
    "        print('no time')\n",
    "        \n",
    "    try:\n",
    "        print(i.find('h2').text)\n",
    "    except:\n",
    "        print('no artist')\n",
    "        \n",
    "    try:\n",
    "        print(i.find('h2').find('a').attrs['href'])\n",
    "    except:\n",
    "        print('no link')"
   ]
  },
  {
   "cell_type": "markdown",
   "metadata": {},
   "source": [
    "### 7)   Put it in a data frame! "
   ]
  },
  {
   "cell_type": "code",
   "execution_count": 37,
   "metadata": {},
   "outputs": [],
   "source": [
    "### code \n",
    "\n",
    "df = pd.DataFrame(columns=['artist', 'venue', 'time', 'link'])\n",
    "\n",
    "for i in soup.find_all(name='div', attrs={'class':'event-text'}):\n",
    "    try:\n",
    "        venue = i.find(name='div', attrs={'class':'venue'}).text\n",
    "    except:\n",
    "        venue = 'no venue'\n",
    "        \n",
    "    try:\n",
    "        time = i.find(name='span',attrs={'class':'event-date'}).text\n",
    "    except:\n",
    "        time = 'no time'\n",
    "        \n",
    "    try:\n",
    "        artist = i.find('h2').text\n",
    "    except:\n",
    "        artist = 'no artist'\n",
    "        \n",
    "    try:\n",
    "        link = i.find('h2').find('a').attrs['href']\n",
    "    except:\n",
    "        link = 'no link'\n",
    "        \n",
    "    df.loc[len(df)] = [artist, venue, time, link]"
   ]
  },
  {
   "cell_type": "code",
   "execution_count": 41,
   "metadata": {},
   "outputs": [],
   "source": [
    "### code \n",
    "\n",
    "df = pd.DataFrame(columns=['artist', 'venue', 'time', 'link'])\n",
    "\n",
    "for page in range(1,6):\n",
    "    url = f'https://www.austinchronicle.com/events/music/2020-01-17/page-{page}/'\n",
    "    res = requests.get(url)\n",
    "    soup = BeautifulSoup(res.content)\n",
    "\n",
    "    for i in soup.find_all(name='div', attrs={'class':'event-text'}):\n",
    "        try:\n",
    "            venue = i.find(name='div', attrs={'class':'venue'}).text\n",
    "        except:\n",
    "            venue = 'no venue'\n",
    "\n",
    "        try:\n",
    "            time = i.find(name='span',attrs={'class':'event-date'}).text\n",
    "        except:\n",
    "            time = 'no time'\n",
    "\n",
    "        try:\n",
    "            artist = i.find('h2').text\n",
    "        except:\n",
    "            artist = 'no artist'\n",
    "\n",
    "        try:\n",
    "            link = i.find('h2').find('a').attrs['href']\n",
    "        except:\n",
    "            link = 'no link'\n",
    "\n",
    "        df.loc[len(df)] = [artist, venue, time, link]\n",
    "        \n",
    "    sleep(1)"
   ]
  },
  {
   "cell_type": "code",
   "execution_count": 43,
   "metadata": {},
   "outputs": [
    {
     "data": {
      "text/plain": [
       "(133, 4)"
      ]
     },
     "execution_count": 43,
     "metadata": {},
     "output_type": "execute_result"
    }
   ],
   "source": [
    "df.shape"
   ]
  },
  {
   "cell_type": "code",
   "execution_count": 40,
   "metadata": {},
   "outputs": [
    {
     "name": "stdout",
     "output_type": "stream",
     "text": [
      "second 1\n",
      "second 2\n",
      "second 3\n",
      "second 4\n",
      "second 5\n"
     ]
    }
   ],
   "source": [
    "for i in range(1,6):\n",
    "    print(f'second {i}')\n",
    "    #sleep(1)"
   ]
  },
  {
   "cell_type": "code",
   "execution_count": null,
   "metadata": {},
   "outputs": [],
   "source": [
    "df = pd.DataFrame(columns=['performer', 'venue', 'time', 'link'])\n",
    "\n",
    "\n",
    "for page in range(1,6):\n",
    "    \n",
    "    url = f'https://www.austinchronicle.com/events/music/2019-10-05/page-{page}/'\n",
    "\n",
    "    res = requests.get(url)\n",
    "    soup = BeautifulSoup(res.content)\n",
    "    \n",
    "    for event in soup.find_all('div', {'class':'event-text'}):\n",
    "        try:\n",
    "            venue = event.find('div', {'class':'venue'}).text\n",
    "        except:\n",
    "            venue = 'no venue listed'\n",
    "\n",
    "        time = event.find('div', {'class':'date-time'}).text\n",
    "\n",
    "        performer = event.find('h2').find('a').text\n",
    "        link = event.find('h2').find('a').attrs['href']\n",
    "\n",
    "        df.loc[len(df)] = [performer, venue, time, link]\n",
    "    \n",
    "    sleep(1)"
   ]
  },
  {
   "cell_type": "code",
   "execution_count": 44,
   "metadata": {},
   "outputs": [
    {
     "data": {
      "text/html": [
       "<div>\n",
       "<style scoped>\n",
       "    .dataframe tbody tr th:only-of-type {\n",
       "        vertical-align: middle;\n",
       "    }\n",
       "\n",
       "    .dataframe tbody tr th {\n",
       "        vertical-align: top;\n",
       "    }\n",
       "\n",
       "    .dataframe thead th {\n",
       "        text-align: right;\n",
       "    }\n",
       "</style>\n",
       "<table border=\"1\" class=\"dataframe\">\n",
       "  <thead>\n",
       "    <tr style=\"text-align: right;\">\n",
       "      <th></th>\n",
       "      <th>artist</th>\n",
       "      <th>venue</th>\n",
       "      <th>time</th>\n",
       "      <th>link</th>\n",
       "    </tr>\n",
       "  </thead>\n",
       "  <tbody>\n",
       "    <tr>\n",
       "      <td>0</td>\n",
       "      <td>Songwriters Series: Nakia</td>\n",
       "      <td>Threadgill's Old No. 1</td>\n",
       "      <td>no time</td>\n",
       "      <td>http://www.threadgills.com/events-old-no-1</td>\n",
       "    </tr>\n",
       "    <tr>\n",
       "      <td>1</td>\n",
       "      <td>All Skate: Sundays at Stay Gold</td>\n",
       "      <td>Stay Gold</td>\n",
       "      <td>no time</td>\n",
       "      <td>http://www.facebook.com/events/585614641982520/</td>\n",
       "    </tr>\n",
       "    <tr>\n",
       "      <td>2</td>\n",
       "      <td>Andrew Cyrille Quartet</td>\n",
       "      <td>McCullough Theatre</td>\n",
       "      <td>Fri., Jan. 17</td>\n",
       "      <td>/events/music/andrew-cyrille-quartet-2626679/</td>\n",
       "    </tr>\n",
       "    <tr>\n",
       "      <td>3</td>\n",
       "      <td>Hikes (album release), the Kraken Quartet, Chr...</td>\n",
       "      <td>Barracuda</td>\n",
       "      <td>Fri., Jan. 17</td>\n",
       "      <td>/events/music/hikes-album-release-2632606/</td>\n",
       "    </tr>\n",
       "    <tr>\n",
       "      <td>4</td>\n",
       "      <td>Lucifer, Savage Master, Overdose</td>\n",
       "      <td>Come &amp; Take It Live</td>\n",
       "      <td>Fri., Jan. 17</td>\n",
       "      <td>/events/music/lucifer-savage-master-overdose-2...</td>\n",
       "    </tr>\n",
       "    <tr>\n",
       "      <td>...</td>\n",
       "      <td>...</td>\n",
       "      <td>...</td>\n",
       "      <td>...</td>\n",
       "      <td>...</td>\n",
       "    </tr>\n",
       "    <tr>\n",
       "      <td>128</td>\n",
       "      <td>Grimefest Austin w/ Svdden Death, Effin, Ruvlo...</td>\n",
       "      <td>The Venue ATX</td>\n",
       "      <td>Fri., Jan. 17</td>\n",
       "      <td>/events/music/grimefest-austin-2642339/</td>\n",
       "    </tr>\n",
       "    <tr>\n",
       "      <td>129</td>\n",
       "      <td>Driftwood Nights w/ Christy Hays</td>\n",
       "      <td>Vista Brewing</td>\n",
       "      <td>Fri., Jan. 17</td>\n",
       "      <td>/events/music/driftwood-nights-w-christy-hays-...</td>\n",
       "    </tr>\n",
       "    <tr>\n",
       "      <td>130</td>\n",
       "      <td>Crashing In w/ King Louie</td>\n",
       "      <td>Volstead Lounge</td>\n",
       "      <td>no time</td>\n",
       "      <td>/events/music/crashing-in-w-king-louie-2369317/</td>\n",
       "    </tr>\n",
       "    <tr>\n",
       "      <td>131</td>\n",
       "      <td>Bleached Roses, Slideshow</td>\n",
       "      <td>Whip In</td>\n",
       "      <td>Fri., Jan. 17</td>\n",
       "      <td>/events/music/bleached-roses-slideshow-2655254/</td>\n",
       "    </tr>\n",
       "    <tr>\n",
       "      <td>132</td>\n",
       "      <td>Weldon Henson, David Touchton, The Merles</td>\n",
       "      <td>The White Horse</td>\n",
       "      <td>Fri., Jan. 17</td>\n",
       "      <td>/events/music/weldon-henson-2655220/</td>\n",
       "    </tr>\n",
       "  </tbody>\n",
       "</table>\n",
       "<p>133 rows × 4 columns</p>\n",
       "</div>"
      ],
      "text/plain": [
       "                                                artist  \\\n",
       "0                            Songwriters Series: Nakia   \n",
       "1                      All Skate: Sundays at Stay Gold   \n",
       "2                               Andrew Cyrille Quartet   \n",
       "3    Hikes (album release), the Kraken Quartet, Chr...   \n",
       "4                     Lucifer, Savage Master, Overdose   \n",
       "..                                                 ...   \n",
       "128  Grimefest Austin w/ Svdden Death, Effin, Ruvlo...   \n",
       "129                   Driftwood Nights w/ Christy Hays   \n",
       "130                          Crashing In w/ King Louie   \n",
       "131                          Bleached Roses, Slideshow   \n",
       "132          Weldon Henson, David Touchton, The Merles   \n",
       "\n",
       "                      venue           time  \\\n",
       "0    Threadgill's Old No. 1        no time   \n",
       "1                 Stay Gold        no time   \n",
       "2        McCullough Theatre  Fri., Jan. 17   \n",
       "3                 Barracuda  Fri., Jan. 17   \n",
       "4       Come & Take It Live  Fri., Jan. 17   \n",
       "..                      ...            ...   \n",
       "128           The Venue ATX  Fri., Jan. 17   \n",
       "129           Vista Brewing  Fri., Jan. 17   \n",
       "130         Volstead Lounge        no time   \n",
       "131                 Whip In  Fri., Jan. 17   \n",
       "132         The White Horse  Fri., Jan. 17   \n",
       "\n",
       "                                                  link  \n",
       "0           http://www.threadgills.com/events-old-no-1  \n",
       "1      http://www.facebook.com/events/585614641982520/  \n",
       "2        /events/music/andrew-cyrille-quartet-2626679/  \n",
       "3           /events/music/hikes-album-release-2632606/  \n",
       "4    /events/music/lucifer-savage-master-overdose-2...  \n",
       "..                                                 ...  \n",
       "128            /events/music/grimefest-austin-2642339/  \n",
       "129  /events/music/driftwood-nights-w-christy-hays-...  \n",
       "130    /events/music/crashing-in-w-king-louie-2369317/  \n",
       "131    /events/music/bleached-roses-slideshow-2655254/  \n",
       "132               /events/music/weldon-henson-2655220/  \n",
       "\n",
       "[133 rows x 4 columns]"
      ]
     },
     "execution_count": 44,
     "metadata": {},
     "output_type": "execute_result"
    }
   ],
   "source": [
    "df"
   ]
  }
 ],
 "metadata": {
  "anaconda-cloud": {},
  "kernelspec": {
   "display_name": "Python 3",
   "language": "python",
   "name": "python3"
  },
  "language_info": {
   "codemirror_mode": {
    "name": "ipython",
    "version": 3
   },
   "file_extension": ".py",
   "mimetype": "text/x-python",
   "name": "python",
   "nbconvert_exporter": "python",
   "pygments_lexer": "ipython3",
   "version": "3.6.9"
  }
 },
 "nbformat": 4,
 "nbformat_minor": 2
}
