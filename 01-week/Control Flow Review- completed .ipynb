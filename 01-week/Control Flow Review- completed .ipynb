{
 "cells": [
  {
   "cell_type": "markdown",
   "metadata": {},
   "source": [
    "\n",
    "## What is the sum of all odd (positive) integers below 100? "
   ]
  },
  {
   "cell_type": "code",
   "execution_count": 27,
   "metadata": {},
   "outputs": [
    {
     "data": {
      "text/plain": [
       "2500"
      ]
     },
     "execution_count": 27,
     "metadata": {},
     "output_type": "execute_result"
    }
   ],
   "source": [
    "## our code \n",
    "\n",
    "lst = []\n",
    "for i in range(1,100):\n",
    "    if i % 2 == 1:\n",
    "        lst.append(i)\n",
    "        \n",
    "sum(lst)"
   ]
  },
  {
   "cell_type": "code",
   "execution_count": 28,
   "metadata": {},
   "outputs": [],
   "source": [
    "val = 0 \n",
    "\n",
    "for each_number in range(1,100):\n",
    "    if i % 2 == 1:\n",
    "        val += each_number\n",
    "        "
   ]
  },
  {
   "cell_type": "code",
   "execution_count": 29,
   "metadata": {},
   "outputs": [
    {
     "data": {
      "text/plain": [
       "99"
      ]
     },
     "execution_count": 29,
     "metadata": {},
     "output_type": "execute_result"
    }
   ],
   "source": [
    "each_number"
   ]
  },
  {
   "cell_type": "markdown",
   "metadata": {},
   "source": [
    "## Create a new list that contains all the animals whose name starts with the letter 'b'\n"
   ]
  },
  {
   "cell_type": "code",
   "execution_count": 30,
   "metadata": {},
   "outputs": [],
   "source": [
    "animals = ['bear', 'cat' , 'dog', 'babboon', 'bobcat', 'zebra', 'aardvark', 'narwhal']\n",
    "\n",
    "animals_b = []\n",
    "\n",
    "for animal in animals:\n",
    "    \n",
    "    if animal[0] == 'b':\n",
    "        animals_b.append(animal)\n",
    "## your code "
   ]
  },
  {
   "cell_type": "markdown",
   "metadata": {},
   "source": [
    "## Create a new list that contains all the animals whose names are at least 6 letters long"
   ]
  },
  {
   "cell_type": "code",
   "execution_count": 31,
   "metadata": {},
   "outputs": [
    {
     "data": {
      "text/plain": [
       "['babboon', 'bobcat', 'aardvark', 'narwhal']"
      ]
     },
     "execution_count": 31,
     "metadata": {},
     "output_type": "execute_result"
    }
   ],
   "source": [
    "## your code \n",
    "\n",
    "long_animals = []\n",
    "\n",
    "for i in animals:\n",
    "    if len(i) >= 6:\n",
    "        long_animals.append(i)\n",
    "long_animals"
   ]
  },
  {
   "cell_type": "code",
   "execution_count": 32,
   "metadata": {},
   "outputs": [],
   "source": [
    "# List of movies dictionaries:\n",
    "\n",
    "movies = [\n",
    "{\n",
    "\"name\": \"Usual Suspects\", \n",
    "\"imdb\": 7.0,\n",
    "\"category\": \"Thriller\"\n",
    "},\n",
    "{\n",
    "\"name\": \"Hitman\",\n",
    "\"imdb\": 6.3,\n",
    "\"category\": \"Action\"\n",
    "},\n",
    "{\n",
    "\"name\": \"Dark Knight\",\n",
    "\"imdb\": 9.0,\n",
    "\"category\": \"Adventure\"\n",
    "},\n",
    "{\n",
    "\"name\": \"The Help\",\n",
    "\"imdb\": 8.0,\n",
    "\"category\": \"Drama\"\n",
    "},\n",
    "{\n",
    "\"name\": \"The Choice\",\n",
    "\"imdb\": 6.2,\n",
    "\"category\": \"Romance\"\n",
    "},\n",
    "{\n",
    "\"name\": \"Colonia\",\n",
    "\"imdb\": 7.4,\n",
    "\"category\": \"Romance\"\n",
    "},\n",
    "{\n",
    "\"name\": \"Love\",\n",
    "\"imdb\": 6.0,\n",
    "\"category\": \"Romance\"\n",
    "},\n",
    "{\n",
    "\"name\": \"Bride Wars\",\n",
    "\"imdb\": 5.4,\n",
    "\"category\": \"Romance\"\n",
    "},\n",
    "{\n",
    "\"name\": \"AlphaJet\",\n",
    "\"imdb\": 3.2,\n",
    "\"category\": \"War\"\n",
    "},\n",
    "{\n",
    "\"name\": \"Ringing Crime\",\n",
    "\"imdb\": 4.0,\n",
    "\"category\": \"Crime\"\n",
    "},\n",
    "{\n",
    "\"name\": \"Joking muck\",\n",
    "\"imdb\": 7.2,\n",
    "\"category\": \"Comedy\"\n",
    "},\n",
    "{\n",
    "\"name\": \"What is the name\",\n",
    "\"imdb\": 9.2,\n",
    "\"category\": \"Suspense\"\n",
    "},\n",
    "{\n",
    "\"name\": \"Detective\",\n",
    "\"imdb\": 7.0,\n",
    "\"category\": \"Suspense\"\n",
    "},\n",
    "{\n",
    "\"name\": \"Exam\",\n",
    "\"imdb\": 4.2,\n",
    "\"category\": \"Thriller\"\n",
    "},\n",
    "{\n",
    "\"name\": \"We Two\",\n",
    "\"imdb\": 7.2,\n",
    "\"category\": \"Romance\"\n",
    "}\n",
    "]"
   ]
  },
  {
   "cell_type": "markdown",
   "metadata": {},
   "source": [
    "#### What does each `i` represent in the following code snippet:\n",
    "\n",
    "``` python \n",
    "\n",
    "for i in movies:\n",
    "    pass\n",
    "    ```"
   ]
  },
  {
   "cell_type": "markdown",
   "metadata": {},
   "source": [
    "## What is the name of every movie with an imdb rating above 6?\n"
   ]
  },
  {
   "cell_type": "code",
   "execution_count": 33,
   "metadata": {},
   "outputs": [],
   "source": [
    "# for movie in movies:\n",
    "#     print(movie[\"imdb\"])"
   ]
  },
  {
   "cell_type": "code",
   "execution_count": 34,
   "metadata": {
    "scrolled": true
   },
   "outputs": [
    {
     "name": "stdout",
     "output_type": "stream",
     "text": [
      "['Usual Suspects', 'Hitman', 'Dark Knight', 'The Help', 'The Choice', 'Colonia', 'Joking muck', 'What is the name', 'Detective', 'We Two']\n"
     ]
    }
   ],
   "source": [
    "high_rated_movies = []\n",
    "for i in movies:\n",
    "    if i[\"imdb\"] > 6:\n",
    "        high_rated_movies.append(i[\"name\"])\n",
    "print(high_rated_movies)"
   ]
  },
  {
   "cell_type": "markdown",
   "metadata": {},
   "source": [
    "## Turn the above code into a function that accepts any number as an argument and returns the names of all movies above that number"
   ]
  },
  {
   "cell_type": "code",
   "execution_count": 35,
   "metadata": {},
   "outputs": [],
   "source": [
    "def movies_over_rating(rating_number):\n",
    "    high_rated_movies = []\n",
    "    for i in movies:\n",
    "        if i[\"imdb\"] > rating_number:\n",
    "            high_rated_movies.append(i[\"name\"])\n",
    "    return high_rated_movies"
   ]
  },
  {
   "cell_type": "code",
   "execution_count": 36,
   "metadata": {},
   "outputs": [],
   "source": [
    "name = 'Nick'\n",
    "\n",
    "def say_hi():\n",
    "    name_2 = 'Colton'\n",
    "    print(name_2)"
   ]
  },
  {
   "cell_type": "code",
   "execution_count": null,
   "metadata": {},
   "outputs": [],
   "source": []
  },
  {
   "cell_type": "code",
   "execution_count": 37,
   "metadata": {},
   "outputs": [
    {
     "data": {
      "text/plain": [
       "['Dark Knight',\n",
       " 'The Help',\n",
       " 'Colonia',\n",
       " 'Joking muck',\n",
       " 'What is the name',\n",
       " 'We Two']"
      ]
     },
     "execution_count": 37,
     "metadata": {},
     "output_type": "execute_result"
    }
   ],
   "source": [
    "def moviefilter(num):\n",
    "    moviefilter = []\n",
    "    for i in movies:\n",
    "        if i[\"imdb\"] > num:\n",
    "            moviefilter.append(i[\"name\"])\n",
    "    return moviefilter\n",
    "moviefilter(7)"
   ]
  },
  {
   "cell_type": "code",
   "execution_count": 38,
   "metadata": {},
   "outputs": [],
   "source": [
    "good_movies = moviefilter(7)"
   ]
  },
  {
   "cell_type": "code",
   "execution_count": 39,
   "metadata": {},
   "outputs": [],
   "source": [
    "def moviefilter_print(num):\n",
    "    moviefilter_lst = []\n",
    "    for i in movies:\n",
    "        if i[\"imdb\"] > num:\n",
    "            moviefilter_lst.append(i[\"name\"])\n",
    "    print(moviefilter_lst)"
   ]
  },
  {
   "cell_type": "code",
   "execution_count": 40,
   "metadata": {
    "scrolled": true
   },
   "outputs": [
    {
     "name": "stdout",
     "output_type": "stream",
     "text": [
      "['Dark Knight', 'The Help', 'Colonia', 'Joking muck', 'What is the name', 'We Two']\n"
     ]
    }
   ],
   "source": [
    "good_movies = moviefilter_print(7)"
   ]
  },
  {
   "cell_type": "code",
   "execution_count": 41,
   "metadata": {},
   "outputs": [],
   "source": [
    "good_movies"
   ]
  },
  {
   "cell_type": "markdown",
   "metadata": {},
   "source": [
    "## What is the average IMDB score for Romance Movies? "
   ]
  },
  {
   "cell_type": "code",
   "execution_count": 42,
   "metadata": {},
   "outputs": [
    {
     "data": {
      "text/plain": [
       "6.2"
      ]
     },
     "execution_count": 42,
     "metadata": {},
     "output_type": "execute_result"
    }
   ],
   "source": [
    "movies[4]['imdb']"
   ]
  },
  {
   "cell_type": "code",
   "execution_count": 43,
   "metadata": {},
   "outputs": [
    {
     "data": {
      "text/plain": [
       "7.2"
      ]
     },
     "execution_count": 43,
     "metadata": {},
     "output_type": "execute_result"
    }
   ],
   "source": [
    "category = 'Comedy'\n",
    "\n",
    "scores = []\n",
    "for abc in movies:\n",
    "    if abc['category'] == category:\n",
    "        scores.append(abc['imdb'])\n",
    "        \n",
    "average = sum(scores) / len(scores)\n",
    "average\n",
    "        "
   ]
  },
  {
   "cell_type": "code",
   "execution_count": 44,
   "metadata": {},
   "outputs": [],
   "source": [
    "def get_avg_for_category(category):\n",
    "    scores = []\n",
    "    for movie in movies:\n",
    "        if movie['category'] == category:\n",
    "            scores.append(movie['imdb'])\n",
    "\n",
    "    average = sum(scores) / len(scores)\n",
    "    return average"
   ]
  },
  {
   "cell_type": "code",
   "execution_count": 45,
   "metadata": {},
   "outputs": [
    {
     "data": {
      "text/plain": [
       "8.1"
      ]
     },
     "execution_count": 45,
     "metadata": {},
     "output_type": "execute_result"
    }
   ],
   "source": [
    "get_avg_for_category('Suspense')"
   ]
  },
  {
   "cell_type": "code",
   "execution_count": 46,
   "metadata": {},
   "outputs": [
    {
     "data": {
      "text/plain": [
       "3.2"
      ]
     },
     "execution_count": 46,
     "metadata": {},
     "output_type": "execute_result"
    }
   ],
   "source": [
    "def category_avg(category):\n",
    "    lst = []\n",
    "    for i in movies:\n",
    "        if i['category'] == category:\n",
    "            lst.append(i['imdb'])\n",
    "    return sum(lst)/ len(lst)\n",
    "category_avg('Romance') \n",
    "category_avg('War') "
   ]
  },
  {
   "cell_type": "markdown",
   "metadata": {},
   "source": [
    "## Add a key to every dictionary in movies \"rotten\" with the boolean true if the imdb rating is below 6 "
   ]
  },
  {
   "cell_type": "code",
   "execution_count": 47,
   "metadata": {},
   "outputs": [
    {
     "data": {
      "text/plain": [
       "[{'name': 'Usual Suspects',\n",
       "  'imdb': 7.0,\n",
       "  'category': 'Thriller',\n",
       "  'rotten': False},\n",
       " {'name': 'Hitman', 'imdb': 6.3, 'category': 'Action', 'rotten': False},\n",
       " {'name': 'Dark Knight',\n",
       "  'imdb': 9.0,\n",
       "  'category': 'Adventure',\n",
       "  'rotten': False},\n",
       " {'name': 'The Help', 'imdb': 8.0, 'category': 'Drama', 'rotten': False},\n",
       " {'name': 'The Choice', 'imdb': 6.2, 'category': 'Romance', 'rotten': False},\n",
       " {'name': 'Colonia', 'imdb': 7.4, 'category': 'Romance', 'rotten': False},\n",
       " {'name': 'Love', 'imdb': 6.0, 'category': 'Romance', 'rotten': False},\n",
       " {'name': 'Bride Wars', 'imdb': 5.4, 'category': 'Romance', 'rotten': True},\n",
       " {'name': 'AlphaJet', 'imdb': 3.2, 'category': 'War', 'rotten': True},\n",
       " {'name': 'Ringing Crime', 'imdb': 4.0, 'category': 'Crime', 'rotten': True},\n",
       " {'name': 'Joking muck', 'imdb': 7.2, 'category': 'Comedy', 'rotten': False},\n",
       " {'name': 'What is the name',\n",
       "  'imdb': 9.2,\n",
       "  'category': 'Suspense',\n",
       "  'rotten': False},\n",
       " {'name': 'Detective', 'imdb': 7.0, 'category': 'Suspense', 'rotten': False},\n",
       " {'name': 'Exam', 'imdb': 4.2, 'category': 'Thriller', 'rotten': True},\n",
       " {'name': 'We Two', 'imdb': 7.2, 'category': 'Romance', 'rotten': False}]"
      ]
     },
     "execution_count": 47,
     "metadata": {},
     "output_type": "execute_result"
    }
   ],
   "source": [
    "movies_2 = []\n",
    "\n",
    "for movie in movies:\n",
    "    if movie['imdb'] < 6:\n",
    "        movie['rotten'] = True\n",
    "    else:\n",
    "        movie['rotten'] = False\n",
    "        \n",
    "    movies_2.append(movie)\n",
    "movies_2"
   ]
  },
  {
   "cell_type": "markdown",
   "metadata": {},
   "source": [
    "### What is the total length in seconds for the entire playlist? "
   ]
  },
  {
   "cell_type": "code",
   "execution_count": 50,
   "metadata": {},
   "outputs": [
    {
     "data": {
      "text/plain": [
       "1645"
      ]
     },
     "execution_count": 50,
     "metadata": {},
     "output_type": "execute_result"
    }
   ],
   "source": [
    "lengths =  ['3:22', '2:10', '4:00', '2:29', '3:45', '3:39', '2:15', '5:45']\n",
    "\n",
    "total = []\n",
    "for song in lengths:\n",
    "    minutes, seconds = song.split(':')\n",
    "    total.append(int(minutes)*60 + int(seconds))\n",
    "    \n",
    "sum(total)"
   ]
  }
 ],
 "metadata": {
  "kernelspec": {
   "display_name": "Python 3",
   "language": "python",
   "name": "python3"
  },
  "language_info": {
   "codemirror_mode": {
    "name": "ipython",
    "version": 3
   },
   "file_extension": ".py",
   "mimetype": "text/x-python",
   "name": "python",
   "nbconvert_exporter": "python",
   "pygments_lexer": "ipython3",
   "version": "3.7.4"
  }
 },
 "nbformat": 4,
 "nbformat_minor": 2
}
