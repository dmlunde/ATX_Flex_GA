{
 "cells": [
  {
   "cell_type": "code",
   "execution_count": 1,
   "metadata": {},
   "outputs": [],
   "source": [
    "import pandas as pd \n",
    "import requests\n",
    "from bs4 import BeautifulSoup\n",
    "\n",
    "from sklearn.neighbors import KNeighborsClassifier\n",
    "from sklearn.model_selection import train_test_split\n",
    "from sklearn.metrics import confusion_matrix, classification_report\n",
    "from sklearn.preprocessing import StandardScaler\n",
    "\n",
    "pd.set_option('max_columns', 100)"
   ]
  },
  {
   "cell_type": "markdown",
   "metadata": {},
   "source": [
    "### Let's grab data from [basketball reference](https://www.basketball-reference.com/leagues/NBA_2019_per_game.html)"
   ]
  },
  {
   "cell_type": "code",
   "execution_count": 4,
   "metadata": {},
   "outputs": [],
   "source": [
    "url = 'https://www.basketball-reference.com/leagues/NBA_2020_per_game.html'"
   ]
  },
  {
   "cell_type": "markdown",
   "metadata": {},
   "source": [
    "### How can we specify just the table using beautiful soup? "
   ]
  },
  {
   "cell_type": "code",
   "execution_count": 5,
   "metadata": {},
   "outputs": [],
   "source": [
    "res = requests.get(url)\n",
    "soup = BeautifulSoup(res.content)"
   ]
  },
  {
   "cell_type": "code",
   "execution_count": 6,
   "metadata": {},
   "outputs": [],
   "source": [
    "table = soup.find('tbody')\n",
    "\n",
    "thead = soup.find('thead')\n",
    "\n",
    "headers =  [col.text for col in thead.find_all('th')]\n",
    "\n",
    "## chopping of RK\n",
    "headers = headers[1:]"
   ]
  },
  {
   "cell_type": "code",
   "execution_count": 8,
   "metadata": {},
   "outputs": [],
   "source": [
    "## scraper\n",
    "\n",
    "dcts = []\n",
    "for row in table.find_all('tr', {'class':'full_table'}):\n",
    "    dct = {}\n",
    "    for header, datum in zip(headers, row.find_all('td')):\n",
    "        dct[header] = datum.text\n",
    "        \n",
    "    dcts.append(dct)"
   ]
  },
  {
   "cell_type": "markdown",
   "metadata": {},
   "source": [
    "### Set up the dataframe"
   ]
  },
  {
   "cell_type": "code",
   "execution_count": 10,
   "metadata": {},
   "outputs": [],
   "source": [
    "df = pd.DataFrame(dcts)\n",
    "df = df[headers]"
   ]
  },
  {
   "cell_type": "code",
   "execution_count": 33,
   "metadata": {},
   "outputs": [
    {
     "data": {
      "text/plain": [
       "SG    135\n",
       "PF     99\n",
       "C      90\n",
       "PG     89\n",
       "SF     87\n",
       "Name: Pos, dtype: int64"
      ]
     },
     "execution_count": 33,
     "metadata": {},
     "output_type": "execute_result"
    }
   ],
   "source": [
    "df['Pos'].value_counts() #[0:5].index"
   ]
  },
  {
   "cell_type": "code",
   "execution_count": 32,
   "metadata": {},
   "outputs": [],
   "source": [
    "## sort this to only the 5 major positions \n",
    "\n",
    "positions = df['Pos'].value_counts()[0:5].index\n",
    "\n",
    "df = df.loc[df['Pos'].isin(positions)]"
   ]
  },
  {
   "cell_type": "code",
   "execution_count": 30,
   "metadata": {},
   "outputs": [],
   "source": [
    "filter_ = df['Pos'].map(lambda x: len(x) < 3)\n",
    "df = df.loc[filter_, :]"
   ]
  },
  {
   "cell_type": "markdown",
   "metadata": {},
   "source": [
    "### Set up our Xs and ys"
   ]
  },
  {
   "cell_type": "code",
   "execution_count": 40,
   "metadata": {},
   "outputs": [],
   "source": [
    "### can we make our X dataframe be everything passed Minutes Played? \n",
    "X = df.loc[:, 'MP':]\n",
    "y = df['Pos']"
   ]
  },
  {
   "cell_type": "code",
   "execution_count": 49,
   "metadata": {},
   "outputs": [],
   "source": [
    "## Any data cleaning needed for our X? \n",
    "X = X.replace('', 0).astype(float)"
   ]
  },
  {
   "cell_type": "markdown",
   "metadata": {},
   "source": [
    "### Train test split "
   ]
  },
  {
   "cell_type": "code",
   "execution_count": 50,
   "metadata": {},
   "outputs": [],
   "source": [
    "X_train, X_test, y_train, y_test = train_test_split(X,y\\\n",
    "                                                    random_state=78701)"
   ]
  },
  {
   "cell_type": "markdown",
   "metadata": {},
   "source": [
    "### Scale data"
   ]
  },
  {
   "cell_type": "code",
   "execution_count": 52,
   "metadata": {},
   "outputs": [],
   "source": [
    "ss = StandardScaler()\n",
    "\n",
    "Z_train = ss.fit_transform(X_train)\n",
    "Z_test = ss.transform(X_test)"
   ]
  },
  {
   "cell_type": "markdown",
   "metadata": {},
   "source": [
    "### Train KNN"
   ]
  },
  {
   "cell_type": "code",
   "execution_count": null,
   "metadata": {},
   "outputs": [],
   "source": []
  },
  {
   "cell_type": "code",
   "execution_count": 55,
   "metadata": {},
   "outputs": [
    {
     "data": {
      "text/plain": [
       "0.424"
      ]
     },
     "execution_count": 55,
     "metadata": {},
     "output_type": "execute_result"
    }
   ],
   "source": [
    "from sklearn.metrics import accuracy_score\n",
    "\n",
    "## instantiate the knn\n",
    "knn = KNeighborsClassifier()\n",
    "\n",
    "# fit the Knn\n",
    "knn.fit(Z_train, y_train)\n",
    "\n",
    "## we are accurately predicting on 54% of the test set \n",
    "y_preds = knn.predict(Z_test)\n",
    "\n",
    "### manual accuracy \n",
    "print((y_preds == y_test).sum() / len(y_test))\n",
    "\n",
    "###sklearn accuracy \n",
    "accuracy_score(y_test, y_preds)"
   ]
  },
  {
   "cell_type": "code",
   "execution_count": 62,
   "metadata": {},
   "outputs": [
    {
     "data": {
      "text/plain": [
       "SG    0.320\n",
       "PF    0.224\n",
       "C     0.168\n",
       "SF    0.168\n",
       "PG    0.120\n",
       "Name: Pos, dtype: float64"
      ]
     },
     "execution_count": 62,
     "metadata": {},
     "output_type": "execute_result"
    }
   ],
   "source": [
    "y_test.value_counts(normalize=True)"
   ]
  },
  {
   "cell_type": "markdown",
   "metadata": {},
   "source": [
    "### Create confusion matrix "
   ]
  },
  {
   "cell_type": "code",
   "execution_count": 14,
   "metadata": {},
   "outputs": [],
   "source": [
    "## look at the potential classes - create y preds \n"
   ]
  },
  {
   "cell_type": "code",
   "execution_count": 63,
   "metadata": {},
   "outputs": [
    {
     "data": {
      "text/html": [
       "<div>\n",
       "<style scoped>\n",
       "    .dataframe tbody tr th:only-of-type {\n",
       "        vertical-align: middle;\n",
       "    }\n",
       "\n",
       "    .dataframe tbody tr th {\n",
       "        vertical-align: top;\n",
       "    }\n",
       "\n",
       "    .dataframe thead th {\n",
       "        text-align: right;\n",
       "    }\n",
       "</style>\n",
       "<table border=\"1\" class=\"dataframe\">\n",
       "  <thead>\n",
       "    <tr style=\"text-align: right;\">\n",
       "      <th></th>\n",
       "      <th>Pred: C</th>\n",
       "      <th>Pred: PF</th>\n",
       "      <th>Pred: PG</th>\n",
       "      <th>Pred: SF</th>\n",
       "      <th>Pred: SG</th>\n",
       "    </tr>\n",
       "  </thead>\n",
       "  <tbody>\n",
       "    <tr>\n",
       "      <td>True: C</td>\n",
       "      <td>15</td>\n",
       "      <td>6</td>\n",
       "      <td>0</td>\n",
       "      <td>0</td>\n",
       "      <td>0</td>\n",
       "    </tr>\n",
       "    <tr>\n",
       "      <td>True: PF</td>\n",
       "      <td>6</td>\n",
       "      <td>7</td>\n",
       "      <td>0</td>\n",
       "      <td>7</td>\n",
       "      <td>8</td>\n",
       "    </tr>\n",
       "    <tr>\n",
       "      <td>True: PG</td>\n",
       "      <td>0</td>\n",
       "      <td>1</td>\n",
       "      <td>11</td>\n",
       "      <td>1</td>\n",
       "      <td>2</td>\n",
       "    </tr>\n",
       "    <tr>\n",
       "      <td>True: SF</td>\n",
       "      <td>5</td>\n",
       "      <td>4</td>\n",
       "      <td>3</td>\n",
       "      <td>6</td>\n",
       "      <td>3</td>\n",
       "    </tr>\n",
       "    <tr>\n",
       "      <td>True: SG</td>\n",
       "      <td>2</td>\n",
       "      <td>4</td>\n",
       "      <td>12</td>\n",
       "      <td>8</td>\n",
       "      <td>14</td>\n",
       "    </tr>\n",
       "  </tbody>\n",
       "</table>\n",
       "</div>"
      ],
      "text/plain": [
       "          Pred: C  Pred: PF  Pred: PG  Pred: SF  Pred: SG\n",
       "True: C        15         6         0         0         0\n",
       "True: PF        6         7         0         7         8\n",
       "True: PG        0         1        11         1         2\n",
       "True: SF        5         4         3         6         3\n",
       "True: SG        2         4        12         8        14"
      ]
     },
     "execution_count": 63,
     "metadata": {},
     "output_type": "execute_result"
    }
   ],
   "source": [
    "## make a confusion matrix\n",
    "conmat = confusion_matrix(y_test, y_preds)\n",
    "# put confusion matrix in a dataframe\n",
    "pd.DataFrame(conmat, columns=['Pred: '+ cls for cls in knn.classes_],\\\n",
    "            index=['True: '+ cls for cls in knn.classes_ ])"
   ]
  },
  {
   "cell_type": "markdown",
   "metadata": {},
   "source": [
    "### Use` .kneighbors ` to grab the matrix of nearest points - can we make this into a function?"
   ]
  },
  {
   "cell_type": "code",
   "execution_count": null,
   "metadata": {},
   "outputs": [],
   "source": [
    "## create a scaled DF of all players "
   ]
  },
  {
   "cell_type": "code",
   "execution_count": 67,
   "metadata": {
    "scrolled": true
   },
   "outputs": [],
   "source": [
    "sc = StandardScaler()\n",
    "\n",
    "X_sc = sc.fit_transform(X)\n",
    "\n",
    "X_sc_df = pd.DataFrame(X_sc, columns=X.columns)"
   ]
  },
  {
   "cell_type": "code",
   "execution_count": null,
   "metadata": {},
   "outputs": [],
   "source": []
  },
  {
   "cell_type": "code",
   "execution_count": 74,
   "metadata": {
    "scrolled": true
   },
   "outputs": [],
   "source": [
    "X_sc_df.index = df['Player'].values"
   ]
  },
  {
   "cell_type": "code",
   "execution_count": 78,
   "metadata": {},
   "outputs": [
    {
     "data": {
      "text/plain": [
       "KNeighborsClassifier(algorithm='auto', leaf_size=30, metric='minkowski',\n",
       "                     metric_params=None, n_jobs=None, n_neighbors=5, p=2,\n",
       "                     weights='uniform')"
      ]
     },
     "execution_count": 78,
     "metadata": {},
     "output_type": "execute_result"
    }
   ],
   "source": [
    "knn_final = KNeighborsClassifier()\n",
    "\n",
    "knn_final.fit(X_sc_df, y)"
   ]
  },
  {
   "cell_type": "code",
   "execution_count": null,
   "metadata": {},
   "outputs": [],
   "source": []
  },
  {
   "cell_type": "code",
   "execution_count": 99,
   "metadata": {},
   "outputs": [
    {
     "data": {
      "text/html": [
       "<div>\n",
       "<style scoped>\n",
       "    .dataframe tbody tr th:only-of-type {\n",
       "        vertical-align: middle;\n",
       "    }\n",
       "\n",
       "    .dataframe tbody tr th {\n",
       "        vertical-align: top;\n",
       "    }\n",
       "\n",
       "    .dataframe thead th {\n",
       "        text-align: right;\n",
       "    }\n",
       "</style>\n",
       "<table border=\"1\" class=\"dataframe\">\n",
       "  <thead>\n",
       "    <tr style=\"text-align: right;\">\n",
       "      <th></th>\n",
       "      <th>MP</th>\n",
       "      <th>FG</th>\n",
       "      <th>FGA</th>\n",
       "      <th>FG%</th>\n",
       "      <th>3P</th>\n",
       "      <th>3PA</th>\n",
       "      <th>3P%</th>\n",
       "      <th>2P</th>\n",
       "      <th>2PA</th>\n",
       "      <th>2P%</th>\n",
       "      <th>eFG%</th>\n",
       "      <th>FT</th>\n",
       "      <th>FTA</th>\n",
       "      <th>FT%</th>\n",
       "      <th>ORB</th>\n",
       "      <th>DRB</th>\n",
       "      <th>TRB</th>\n",
       "      <th>AST</th>\n",
       "      <th>STL</th>\n",
       "      <th>BLK</th>\n",
       "      <th>TOV</th>\n",
       "      <th>PF</th>\n",
       "      <th>PTS</th>\n",
       "    </tr>\n",
       "  </thead>\n",
       "  <tbody>\n",
       "    <tr>\n",
       "      <td>LeBron James</td>\n",
       "      <td>1.607954</td>\n",
       "      <td>2.747015</td>\n",
       "      <td>2.565771</td>\n",
       "      <td>0.415486</td>\n",
       "      <td>1.343358</td>\n",
       "      <td>1.561916</td>\n",
       "      <td>0.387947</td>\n",
       "      <td>2.729640</td>\n",
       "      <td>2.600538</td>\n",
       "      <td>0.398312</td>\n",
       "      <td>0.359561</td>\n",
       "      <td>1.639193</td>\n",
       "      <td>2.061448</td>\n",
       "      <td>0.010369</td>\n",
       "      <td>0.215628</td>\n",
       "      <td>2.062647</td>\n",
       "      <td>1.615511</td>\n",
       "      <td>4.896149</td>\n",
       "      <td>1.660248</td>\n",
       "      <td>-0.001899</td>\n",
       "      <td>3.386259</td>\n",
       "      <td>-0.007651</td>\n",
       "      <td>2.506074</td>\n",
       "    </tr>\n",
       "    <tr>\n",
       "      <td>Kyrie Irving</td>\n",
       "      <td>1.401186</td>\n",
       "      <td>2.918190</td>\n",
       "      <td>2.810347</td>\n",
       "      <td>0.326882</td>\n",
       "      <td>2.145978</td>\n",
       "      <td>1.959868</td>\n",
       "      <td>0.711919</td>\n",
       "      <td>2.623594</td>\n",
       "      <td>2.686734</td>\n",
       "      <td>0.167438</td>\n",
       "      <td>0.375232</td>\n",
       "      <td>2.337970</td>\n",
       "      <td>1.890949</td>\n",
       "      <td>0.962233</td>\n",
       "      <td>0.343673</td>\n",
       "      <td>0.675216</td>\n",
       "      <td>0.611080</td>\n",
       "      <td>2.475092</td>\n",
       "      <td>1.899064</td>\n",
       "      <td>0.235418</td>\n",
       "      <td>1.744493</td>\n",
       "      <td>1.151652</td>\n",
       "      <td>2.873726</td>\n",
       "    </tr>\n",
       "    <tr>\n",
       "      <td>Kawhi Leonard</td>\n",
       "      <td>1.318479</td>\n",
       "      <td>2.704222</td>\n",
       "      <td>2.708440</td>\n",
       "      <td>0.230224</td>\n",
       "      <td>1.343358</td>\n",
       "      <td>1.340832</td>\n",
       "      <td>0.612744</td>\n",
       "      <td>2.676617</td>\n",
       "      <td>2.974055</td>\n",
       "      <td>0.011259</td>\n",
       "      <td>0.163670</td>\n",
       "      <td>3.316259</td>\n",
       "      <td>2.857111</td>\n",
       "      <td>0.840718</td>\n",
       "      <td>0.215628</td>\n",
       "      <td>1.857102</td>\n",
       "      <td>1.460984</td>\n",
       "      <td>1.869827</td>\n",
       "      <td>2.854328</td>\n",
       "      <td>0.710051</td>\n",
       "      <td>2.213569</td>\n",
       "      <td>0.224209</td>\n",
       "      <td>2.827770</td>\n",
       "    </tr>\n",
       "    <tr>\n",
       "      <td>Luka Dončić</td>\n",
       "      <td>1.390848</td>\n",
       "      <td>2.704222</td>\n",
       "      <td>2.728822</td>\n",
       "      <td>0.222169</td>\n",
       "      <td>2.260638</td>\n",
       "      <td>2.844205</td>\n",
       "      <td>0.242490</td>\n",
       "      <td>2.305454</td>\n",
       "      <td>1.997165</td>\n",
       "      <td>0.554492</td>\n",
       "      <td>0.304711</td>\n",
       "      <td>3.945159</td>\n",
       "      <td>4.164271</td>\n",
       "      <td>0.326307</td>\n",
       "      <td>0.727808</td>\n",
       "      <td>2.730669</td>\n",
       "      <td>2.272255</td>\n",
       "      <td>3.740645</td>\n",
       "      <td>0.943800</td>\n",
       "      <td>-0.476532</td>\n",
       "      <td>3.620797</td>\n",
       "      <td>0.919791</td>\n",
       "      <td>3.103509</td>\n",
       "    </tr>\n",
       "    <tr>\n",
       "      <td>Nikola Jokić</td>\n",
       "      <td>1.359832</td>\n",
       "      <td>2.062316</td>\n",
       "      <td>1.709753</td>\n",
       "      <td>0.649077</td>\n",
       "      <td>0.311417</td>\n",
       "      <td>0.500712</td>\n",
       "      <td>0.282160</td>\n",
       "      <td>2.411500</td>\n",
       "      <td>2.112093</td>\n",
       "      <td>0.554492</td>\n",
       "      <td>0.469259</td>\n",
       "      <td>1.429559</td>\n",
       "      <td>1.379452</td>\n",
       "      <td>0.508579</td>\n",
       "      <td>2.008260</td>\n",
       "      <td>2.576510</td>\n",
       "      <td>2.542678</td>\n",
       "      <td>2.750212</td>\n",
       "      <td>1.421432</td>\n",
       "      <td>0.710051</td>\n",
       "      <td>2.213569</td>\n",
       "      <td>1.615373</td>\n",
       "      <td>1.832044</td>\n",
       "    </tr>\n",
       "    <tr>\n",
       "      <td>Russell Westbrook</td>\n",
       "      <td>1.721677</td>\n",
       "      <td>3.132159</td>\n",
       "      <td>3.197593</td>\n",
       "      <td>0.206060</td>\n",
       "      <td>0.082097</td>\n",
       "      <td>0.589145</td>\n",
       "      <td>-0.319503</td>\n",
       "      <td>3.896153</td>\n",
       "      <td>4.123337</td>\n",
       "      <td>0.099534</td>\n",
       "      <td>-0.110576</td>\n",
       "      <td>2.687359</td>\n",
       "      <td>2.743445</td>\n",
       "      <td>0.407317</td>\n",
       "      <td>0.983899</td>\n",
       "      <td>1.857102</td>\n",
       "      <td>1.692775</td>\n",
       "      <td>2.915284</td>\n",
       "      <td>2.376696</td>\n",
       "      <td>-0.001899</td>\n",
       "      <td>3.855335</td>\n",
       "      <td>2.195025</td>\n",
       "      <td>2.843088</td>\n",
       "    </tr>\n",
       "    <tr>\n",
       "      <td>De'Aaron Fox</td>\n",
       "      <td>1.256448</td>\n",
       "      <td>1.677172</td>\n",
       "      <td>1.668990</td>\n",
       "      <td>0.246334</td>\n",
       "      <td>0.082097</td>\n",
       "      <td>0.235411</td>\n",
       "      <td>0.116868</td>\n",
       "      <td>2.040337</td>\n",
       "      <td>2.198289</td>\n",
       "      <td>0.099534</td>\n",
       "      <td>0.014794</td>\n",
       "      <td>2.198215</td>\n",
       "      <td>2.743445</td>\n",
       "      <td>-0.013934</td>\n",
       "      <td>-0.168507</td>\n",
       "      <td>0.366898</td>\n",
       "      <td>0.224761</td>\n",
       "      <td>2.805236</td>\n",
       "      <td>2.137880</td>\n",
       "      <td>0.472735</td>\n",
       "      <td>2.565376</td>\n",
       "      <td>1.383513</td>\n",
       "      <td>1.694174</td>\n",
       "    </tr>\n",
       "    <tr>\n",
       "      <td>Bradley Beal</td>\n",
       "      <td>1.669985</td>\n",
       "      <td>2.918190</td>\n",
       "      <td>3.054924</td>\n",
       "      <td>0.133566</td>\n",
       "      <td>1.801998</td>\n",
       "      <td>2.313602</td>\n",
       "      <td>0.235878</td>\n",
       "      <td>2.729640</td>\n",
       "      <td>2.801662</td>\n",
       "      <td>0.208181</td>\n",
       "      <td>0.108821</td>\n",
       "      <td>3.665648</td>\n",
       "      <td>3.482274</td>\n",
       "      <td>0.642245</td>\n",
       "      <td>0.215628</td>\n",
       "      <td>0.315512</td>\n",
       "      <td>0.302025</td>\n",
       "      <td>2.365043</td>\n",
       "      <td>0.943800</td>\n",
       "      <td>-0.001899</td>\n",
       "      <td>2.448107</td>\n",
       "      <td>0.572000</td>\n",
       "      <td>3.134147</td>\n",
       "    </tr>\n",
       "    <tr>\n",
       "      <td>Jrue Holiday</td>\n",
       "      <td>1.576939</td>\n",
       "      <td>1.891141</td>\n",
       "      <td>2.096999</td>\n",
       "      <td>0.028853</td>\n",
       "      <td>1.228698</td>\n",
       "      <td>1.385049</td>\n",
       "      <td>0.401170</td>\n",
       "      <td>1.775221</td>\n",
       "      <td>2.054629</td>\n",
       "      <td>-0.063436</td>\n",
       "      <td>0.006958</td>\n",
       "      <td>0.521148</td>\n",
       "      <td>0.640622</td>\n",
       "      <td>0.144035</td>\n",
       "      <td>0.471718</td>\n",
       "      <td>0.315512</td>\n",
       "      <td>0.417921</td>\n",
       "      <td>2.475092</td>\n",
       "      <td>2.615512</td>\n",
       "      <td>1.184685</td>\n",
       "      <td>2.096300</td>\n",
       "      <td>0.456070</td>\n",
       "      <td>1.648217</td>\n",
       "    </tr>\n",
       "    <tr>\n",
       "      <td>Brandon Ingram</td>\n",
       "      <td>1.525247</td>\n",
       "      <td>2.276284</td>\n",
       "      <td>2.239669</td>\n",
       "      <td>0.286608</td>\n",
       "      <td>1.801998</td>\n",
       "      <td>1.606133</td>\n",
       "      <td>0.751589</td>\n",
       "      <td>1.987314</td>\n",
       "      <td>2.112093</td>\n",
       "      <td>0.106324</td>\n",
       "      <td>0.351725</td>\n",
       "      <td>2.757237</td>\n",
       "      <td>2.459279</td>\n",
       "      <td>0.719204</td>\n",
       "      <td>0.087583</td>\n",
       "      <td>1.394625</td>\n",
       "      <td>1.074664</td>\n",
       "      <td>1.264563</td>\n",
       "      <td>0.943800</td>\n",
       "      <td>0.710051</td>\n",
       "      <td>2.213569</td>\n",
       "      <td>1.267582</td>\n",
       "      <td>2.490755</td>\n",
       "    </tr>\n",
       "  </tbody>\n",
       "</table>\n",
       "</div>"
      ],
      "text/plain": [
       "                         MP        FG       FGA       FG%        3P       3PA  \\\n",
       "LeBron James       1.607954  2.747015  2.565771  0.415486  1.343358  1.561916   \n",
       "Kyrie Irving       1.401186  2.918190  2.810347  0.326882  2.145978  1.959868   \n",
       "Kawhi Leonard      1.318479  2.704222  2.708440  0.230224  1.343358  1.340832   \n",
       "Luka Dončić        1.390848  2.704222  2.728822  0.222169  2.260638  2.844205   \n",
       "Nikola Jokić       1.359832  2.062316  1.709753  0.649077  0.311417  0.500712   \n",
       "Russell Westbrook  1.721677  3.132159  3.197593  0.206060  0.082097  0.589145   \n",
       "De'Aaron Fox       1.256448  1.677172  1.668990  0.246334  0.082097  0.235411   \n",
       "Bradley Beal       1.669985  2.918190  3.054924  0.133566  1.801998  2.313602   \n",
       "Jrue Holiday       1.576939  1.891141  2.096999  0.028853  1.228698  1.385049   \n",
       "Brandon Ingram     1.525247  2.276284  2.239669  0.286608  1.801998  1.606133   \n",
       "\n",
       "                        3P%        2P       2PA       2P%      eFG%        FT  \\\n",
       "LeBron James       0.387947  2.729640  2.600538  0.398312  0.359561  1.639193   \n",
       "Kyrie Irving       0.711919  2.623594  2.686734  0.167438  0.375232  2.337970   \n",
       "Kawhi Leonard      0.612744  2.676617  2.974055  0.011259  0.163670  3.316259   \n",
       "Luka Dončić        0.242490  2.305454  1.997165  0.554492  0.304711  3.945159   \n",
       "Nikola Jokić       0.282160  2.411500  2.112093  0.554492  0.469259  1.429559   \n",
       "Russell Westbrook -0.319503  3.896153  4.123337  0.099534 -0.110576  2.687359   \n",
       "De'Aaron Fox       0.116868  2.040337  2.198289  0.099534  0.014794  2.198215   \n",
       "Bradley Beal       0.235878  2.729640  2.801662  0.208181  0.108821  3.665648   \n",
       "Jrue Holiday       0.401170  1.775221  2.054629 -0.063436  0.006958  0.521148   \n",
       "Brandon Ingram     0.751589  1.987314  2.112093  0.106324  0.351725  2.757237   \n",
       "\n",
       "                        FTA       FT%       ORB       DRB       TRB       AST  \\\n",
       "LeBron James       2.061448  0.010369  0.215628  2.062647  1.615511  4.896149   \n",
       "Kyrie Irving       1.890949  0.962233  0.343673  0.675216  0.611080  2.475092   \n",
       "Kawhi Leonard      2.857111  0.840718  0.215628  1.857102  1.460984  1.869827   \n",
       "Luka Dončić        4.164271  0.326307  0.727808  2.730669  2.272255  3.740645   \n",
       "Nikola Jokić       1.379452  0.508579  2.008260  2.576510  2.542678  2.750212   \n",
       "Russell Westbrook  2.743445  0.407317  0.983899  1.857102  1.692775  2.915284   \n",
       "De'Aaron Fox       2.743445 -0.013934 -0.168507  0.366898  0.224761  2.805236   \n",
       "Bradley Beal       3.482274  0.642245  0.215628  0.315512  0.302025  2.365043   \n",
       "Jrue Holiday       0.640622  0.144035  0.471718  0.315512  0.417921  2.475092   \n",
       "Brandon Ingram     2.459279  0.719204  0.087583  1.394625  1.074664  1.264563   \n",
       "\n",
       "                        STL       BLK       TOV        PF       PTS  \n",
       "LeBron James       1.660248 -0.001899  3.386259 -0.007651  2.506074  \n",
       "Kyrie Irving       1.899064  0.235418  1.744493  1.151652  2.873726  \n",
       "Kawhi Leonard      2.854328  0.710051  2.213569  0.224209  2.827770  \n",
       "Luka Dončić        0.943800 -0.476532  3.620797  0.919791  3.103509  \n",
       "Nikola Jokić       1.421432  0.710051  2.213569  1.615373  1.832044  \n",
       "Russell Westbrook  2.376696 -0.001899  3.855335  2.195025  2.843088  \n",
       "De'Aaron Fox       2.137880  0.472735  2.565376  1.383513  1.694174  \n",
       "Bradley Beal       0.943800 -0.001899  2.448107  0.572000  3.134147  \n",
       "Jrue Holiday       2.615512  1.184685  2.096300  0.456070  1.648217  \n",
       "Brandon Ingram     0.943800  0.710051  2.213569  1.267582  2.490755  "
      ]
     },
     "execution_count": 99,
     "metadata": {},
     "output_type": "execute_result"
    }
   ],
   "source": [
    "def player_comparer(name):\n",
    "\n",
    "    one_player = X_sc_df[X_sc_df.index == name]\n",
    "    return X_sc_df.iloc[knn_final.kneighbors(one_player, n_neighbors=10)[1][0]]\n",
    "\n",
    "player_comparer('LeBron James')"
   ]
  },
  {
   "cell_type": "code",
   "execution_count": null,
   "metadata": {},
   "outputs": [],
   "source": []
  },
  {
   "cell_type": "code",
   "execution_count": 22,
   "metadata": {},
   "outputs": [],
   "source": [
    "## getting this to work for a player  \n"
   ]
  },
  {
   "cell_type": "code",
   "execution_count": null,
   "metadata": {},
   "outputs": [],
   "source": []
  }
 ],
 "metadata": {
  "anaconda-cloud": {},
  "kernelspec": {
   "display_name": "Python 3",
   "language": "python",
   "name": "python3"
  },
  "language_info": {
   "codemirror_mode": {
    "name": "ipython",
    "version": 3
   },
   "file_extension": ".py",
   "mimetype": "text/x-python",
   "name": "python",
   "nbconvert_exporter": "python",
   "pygments_lexer": "ipython3",
   "version": "3.7.4"
  }
 },
 "nbformat": 4,
 "nbformat_minor": 2
}
