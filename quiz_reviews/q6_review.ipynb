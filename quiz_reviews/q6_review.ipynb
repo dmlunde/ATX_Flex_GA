{
 "cells": [
  {
   "cell_type": "markdown",
   "metadata": {},
   "source": [
    "<img src=\"http://imgur.com/1ZcRyrc.png\" style=\"float: left; margin: 15px; height: 80px\">\n",
    "\n",
    "# Quiz 6 In-Class Review\n",
    "\n",
    "---"
   ]
  },
  {
   "cell_type": "markdown",
   "metadata": {},
   "source": [
    "**Q1.** The meme group at BuzzFeed specializes in providing assessments of the prospects of memes. The group rates a meme as either Dank, Meh, or Stank. Regardless of these ratings, memes can either go Viral or Non-Viral.\n",
    "\n",
    "The records of meme ratings made by this group were examined:\n",
    "- For all memes that went Viral, the assessment was Dank for 60% and Meh for 30%.\n",
    "- For all memes that were Non-Viral, the rating was Dank for 10% and Stank for 60%. \n",
    "\n",
    "It is a known fact that 70% of memes go viral.\n",
    "\n",
    "_**To best prepare yourself for any quick math you'll need to do in interviews, do these without a calculator! You are allowed pen and paper in interviews.**_\n",
    "\n",
    "**(a)** For a randomly chosen meme, what is the probability that it gets rated Dank?"
   ]
  },
  {
   "cell_type": "markdown",
   "metadata": {},
   "source": [
    "If Viral, 60%\n",
    "\n",
    "If Non-Viral, 10%\n",
    "\n",
    "So 70%?"
   ]
  },
  {
   "cell_type": "code",
   "execution_count": 9,
   "metadata": {},
   "outputs": [],
   "source": [
    "viral = .7\n",
    "dank_viral = .6\n",
    "not_viral_but_dank = .1 \n",
    "not_viral = .3"
   ]
  },
  {
   "cell_type": "code",
   "execution_count": 11,
   "metadata": {},
   "outputs": [
    {
     "data": {
      "text/plain": [
       "0.44999999999999996"
      ]
     },
     "execution_count": 11,
     "metadata": {},
     "output_type": "execute_result"
    }
   ],
   "source": [
    "(dank_viral * viral) + (not_viral_but_dank * not_viral)"
   ]
  },
  {
   "cell_type": "code",
   "execution_count": null,
   "metadata": {},
   "outputs": [],
   "source": [
    "P(B|A) = (P(A|B) * P(A)) / P(B)"
   ]
  },
  {
   "cell_type": "markdown",
   "metadata": {},
   "source": [
    "Viral 10% Stank\n",
    "\n",
    "Non-Viral 30% Meh"
   ]
  },
  {
   "cell_type": "markdown",
   "metadata": {},
   "source": [
    "**(b)** If prospects for a meme are rated Dank, what is the probability that it will actually go Viral?\""
   ]
  },
  {
   "cell_type": "code",
   "execution_count": 13,
   "metadata": {},
   "outputs": [
    {
     "data": {
      "text/plain": [
       "0.9333333333333333"
      ]
     },
     "execution_count": 13,
     "metadata": {},
     "output_type": "execute_result"
    }
   ],
   "source": [
    "(dank_viral * viral) / ((dank_viral * viral) + (not_viral_but_dank * not_viral))"
   ]
  },
  {
   "cell_type": "code",
   "execution_count": 12,
   "metadata": {
    "scrolled": true
   },
   "outputs": [
    {
     "data": {
      "text/plain": [
       "0.9333"
      ]
     },
     "execution_count": 12,
     "metadata": {},
     "output_type": "execute_result"
    }
   ],
   "source": [
    ".9333"
   ]
  },
  {
   "cell_type": "code",
   "execution_count": 3,
   "metadata": {
    "scrolled": true
   },
   "outputs": [
    {
     "data": {
      "text/plain": [
       "0.6"
      ]
     },
     "execution_count": 3,
     "metadata": {},
     "output_type": "execute_result"
    }
   ],
   "source": [
    ".60 * .70 / .70"
   ]
  },
  {
   "cell_type": "code",
   "execution_count": 4,
   "metadata": {},
   "outputs": [
    {
     "data": {
      "text/plain": [
       "0.7"
      ]
     },
     "execution_count": 4,
     "metadata": {},
     "output_type": "execute_result"
    }
   ],
   "source": [
    ".60 * .70 / .60"
   ]
  },
  {
   "cell_type": "markdown",
   "metadata": {},
   "source": [
    "**Q2**. What activation function would you use for the output layer of a neural network used for a regression problem?"
   ]
  },
  {
   "cell_type": "code",
   "execution_count": 1,
   "metadata": {},
   "outputs": [],
   "source": [
    "None"
   ]
  },
  {
   "cell_type": "markdown",
   "metadata": {},
   "source": [
    "**Q3.** What are the three broad types of layers in any sort of neural network?"
   ]
  },
  {
   "cell_type": "markdown",
   "metadata": {},
   "source": [
    "Input, Hidden and Output"
   ]
  },
  {
   "cell_type": "markdown",
   "metadata": {},
   "source": [
    "**Q4.** Briefly explain why a Convolutional Neural Network is typically more computationally efficient than a Feed Forward Neural Network."
   ]
  },
  {
   "cell_type": "markdown",
   "metadata": {},
   "source": [
    "Compresses the features so less needs to be learned. It's pooling layers together, so reducing columns"
   ]
  },
  {
   "cell_type": "markdown",
   "metadata": {},
   "source": [
    "**Q5.** What kind of Neural Network is most appropriate for image processing applications?\n",
    "\n",
    "A. Feed Forward Neural Networks <br>\n",
    "B. Convolutional Neural Networks <br>\n",
    "C. Recurrent Neural Networks <br>\n",
    "D. None of the above are appropriate <br>"
   ]
  },
  {
   "cell_type": "markdown",
   "metadata": {},
   "source": [
    "B. Convolutional Neural Networks"
   ]
  },
  {
   "cell_type": "markdown",
   "metadata": {},
   "source": [
    "**Q6**. What kind of Neural Network is most appropriate for correlated data _(e.g. predicting next word in a sentence, time series, etc.)?_\n",
    "\n",
    "A. Feed Forward Neural Networks <br>\n",
    "B. Convolutional Neural Networks <br>\n",
    "C. Recurrent Neural Networks <br>\n",
    "D. None of the above are appropriate"
   ]
  },
  {
   "cell_type": "markdown",
   "metadata": {},
   "source": [
    "C. Recurrent Neural Networks"
   ]
  },
  {
   "cell_type": "markdown",
   "metadata": {},
   "source": [
    "**Q7.** Which of the following are appropriate methods for regularizing neural networks? Select all that apply.\n",
    "\n",
    "A. Applying an $\\ell_1$ penalty <br>\n",
    "B. Applying an $\\ell_2$ penalty <br>\n",
    "C. Increasing the dropout rate for our _training_ set <br>\n",
    "D. Increasing the dropout rate for our _testing_ set <br>\n",
    "E. Early stopping"
   ]
  },
  {
   "cell_type": "markdown",
   "metadata": {},
   "source": [
    "A. Applying an  ℓ1  penalty\n",
    "\n",
    "B. Applying an  ℓ2  penalty\n",
    "\n",
    "C. Increasing the dropout rate for our training set\n",
    "\n",
    "E. Early stopping"
   ]
  },
  {
   "cell_type": "markdown",
   "metadata": {},
   "source": [
    "**Q8.** Using the Feed Forward Neural Network below with inputs $X_1 = 3$ and $X_2 = -1$, find the value of $Y$ while assuming that\n",
    "- the activation function used at each node (both hidden layer and output layer) is ReLU\n",
    "- bias of the top hidden layer node is 0\n",
    "- bias of the bottom hidden layer node is +4\n",
    "- bias of the output node is 0\n",
    "\n",
    "![](assets/img.jpg)"
   ]
  },
  {
   "cell_type": "markdown",
   "metadata": {},
   "source": [
    "0"
   ]
  },
  {
   "cell_type": "code",
   "execution_count": null,
   "metadata": {},
   "outputs": [],
   "source": []
  }
 ],
 "metadata": {
  "kernelspec": {
   "display_name": "Python 3",
   "language": "python",
   "name": "python3"
  },
  "language_info": {
   "codemirror_mode": {
    "name": "ipython",
    "version": 3
   },
   "file_extension": ".py",
   "mimetype": "text/x-python",
   "name": "python",
   "nbconvert_exporter": "python",
   "pygments_lexer": "ipython3",
   "version": "3.7.4"
  }
 },
 "nbformat": 4,
 "nbformat_minor": 2
}
