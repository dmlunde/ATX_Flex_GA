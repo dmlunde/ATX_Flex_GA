{
 "cells": [
  {
   "cell_type": "code",
   "execution_count": 17,
   "metadata": {},
   "outputs": [
    {
     "data": {
      "text/plain": [
       "[104042,\n",
       " 112116,\n",
       " 57758,\n",
       " 139018,\n",
       " 105580,\n",
       " 148312,\n",
       " 139340,\n",
       " 62939,\n",
       " 50925,\n",
       " 63881,\n",
       " 138725,\n",
       " 54735,\n",
       " 54957,\n",
       " 103075,\n",
       " 55457,\n",
       " 98808,\n",
       " 87206,\n",
       " 58868,\n",
       " 120829,\n",
       " 124551,\n",
       " 63631,\n",
       " 103358,\n",
       " 149501,\n",
       " 147414,\n",
       " 59731,\n",
       " 88284,\n",
       " 59034,\n",
       " 116206,\n",
       " 52299,\n",
       " 119619,\n",
       " 63648,\n",
       " 85456,\n",
       " 110391,\n",
       " 90254,\n",
       " 99360,\n",
       " 59529,\n",
       " 82628,\n",
       " 82693,\n",
       " 64331,\n",
       " 123779,\n",
       " 123064,\n",
       " 93600,\n",
       " 104226,\n",
       " 74068,\n",
       " 74354,\n",
       " 149707,\n",
       " 51503,\n",
       " 130433,\n",
       " 80778,\n",
       " 72279,\n",
       " 148782,\n",
       " 113454,\n",
       " 138409,\n",
       " 148891,\n",
       " 79257,\n",
       " 126927,\n",
       " 141696,\n",
       " 107136,\n",
       " 66200,\n",
       " 120929,\n",
       " 149350,\n",
       " 76952,\n",
       " 134002,\n",
       " 62354,\n",
       " 144559,\n",
       " 125186,\n",
       " 85169,\n",
       " 61662,\n",
       " 90252,\n",
       " 147774,\n",
       " 101960,\n",
       " 55254,\n",
       " 96885,\n",
       " 88249,\n",
       " 133866,\n",
       " 121809,\n",
       " 103675,\n",
       " 94407,\n",
       " 59078,\n",
       " 81498,\n",
       " 82547,\n",
       " 132599,\n",
       " 81181,\n",
       " 141685,\n",
       " 73476,\n",
       " 107700,\n",
       " 133314,\n",
       " 77982,\n",
       " 149270,\n",
       " 119176,\n",
       " 148255,\n",
       " 81023,\n",
       " 143938,\n",
       " 54348,\n",
       " 121790,\n",
       " 126521,\n",
       " 101123,\n",
       " 139921,\n",
       " 51152,\n",
       " 97943]"
      ]
     },
     "execution_count": 17,
     "metadata": {},
     "output_type": "execute_result"
    }
   ],
   "source": [
    "with open('./puzzle_input.txt') as f:\n",
    "    modules = [int(num) for num in f.read().split()]\n",
    "modules"
   ]
  },
  {
   "cell_type": "code",
   "execution_count": 4,
   "metadata": {},
   "outputs": [],
   "source": [
    "list_of_mass = data.split()"
   ]
  },
  {
   "cell_type": "code",
   "execution_count": 5,
   "metadata": {},
   "outputs": [
    {
     "data": {
      "text/plain": [
       "['104042',\n",
       " '112116',\n",
       " '57758',\n",
       " '139018',\n",
       " '105580',\n",
       " '148312',\n",
       " '139340',\n",
       " '62939',\n",
       " '50925',\n",
       " '63881',\n",
       " '138725',\n",
       " '54735',\n",
       " '54957',\n",
       " '103075',\n",
       " '55457',\n",
       " '98808',\n",
       " '87206',\n",
       " '58868',\n",
       " '120829',\n",
       " '124551',\n",
       " '63631',\n",
       " '103358',\n",
       " '149501',\n",
       " '147414',\n",
       " '59731',\n",
       " '88284',\n",
       " '59034',\n",
       " '116206',\n",
       " '52299',\n",
       " '119619',\n",
       " '63648',\n",
       " '85456',\n",
       " '110391',\n",
       " '90254',\n",
       " '99360',\n",
       " '59529',\n",
       " '82628',\n",
       " '82693',\n",
       " '64331',\n",
       " '123779',\n",
       " '123064',\n",
       " '93600',\n",
       " '104226',\n",
       " '74068',\n",
       " '74354',\n",
       " '149707',\n",
       " '51503',\n",
       " '130433',\n",
       " '80778',\n",
       " '72279',\n",
       " '148782',\n",
       " '113454',\n",
       " '138409',\n",
       " '148891',\n",
       " '79257',\n",
       " '126927',\n",
       " '141696',\n",
       " '107136',\n",
       " '66200',\n",
       " '120929',\n",
       " '149350',\n",
       " '76952',\n",
       " '134002',\n",
       " '62354',\n",
       " '144559',\n",
       " '125186',\n",
       " '85169',\n",
       " '61662',\n",
       " '90252',\n",
       " '147774',\n",
       " '101960',\n",
       " '55254',\n",
       " '96885',\n",
       " '88249',\n",
       " '133866',\n",
       " '121809',\n",
       " '103675',\n",
       " '94407',\n",
       " '59078',\n",
       " '81498',\n",
       " '82547',\n",
       " '132599',\n",
       " '81181',\n",
       " '141685',\n",
       " '73476',\n",
       " '107700',\n",
       " '133314',\n",
       " '77982',\n",
       " '149270',\n",
       " '119176',\n",
       " '148255',\n",
       " '81023',\n",
       " '143938',\n",
       " '54348',\n",
       " '121790',\n",
       " '126521',\n",
       " '101123',\n",
       " '139921',\n",
       " '51152',\n",
       " '97943']"
      ]
     },
     "execution_count": 5,
     "metadata": {},
     "output_type": "execute_result"
    }
   ],
   "source": [
    "list_of_mass"
   ]
  },
  {
   "cell_type": "markdown",
   "metadata": {},
   "source": [
    "Day 1: The Tyranny of the Rocket Equation ---\n",
    "\n",
    "### Part I\n",
    "Santa has become stranded at the edge of the Solar System while delivering presents to other planets! To accurately calculate his position in space, safely align his warp drive, and return to Earth in time to save Christmas, he needs you to bring him measurements from fifty stars.\n",
    "\n",
    "Collect stars by solving puzzles. Two puzzles will be made available on each day in the Advent calendar; the second puzzle is unlocked when you complete the first. Each puzzle grants one star. Good luck!\n",
    "\n",
    "The Elves quickly load you into a spacecraft and prepare to launch.\n",
    "\n",
    "At the first Go / No Go poll, every Elf is Go until the Fuel Counter-Upper. They haven't determined the amount of fuel required yet.\n",
    "\n",
    "Fuel required to launch a given module is based on its mass. **Specifically, to find the fuel required for a module, take its mass, divide by three, round down, and subtract 2.**\n",
    "\n",
    "For example:\n",
    "\n",
    "- For a mass of 12, divide by 3 and round down to get 4, then subtract 2 to get 2.\n",
    "- For a mass of 14, dividing by 3 and rounding down still yields 4, so the fuel required is also 2.\n",
    "- For a mass of 1969, the fuel required is 654.\n",
    "- For a mass of 100756, the fuel required is 33583.\n",
    "The Fuel Counter-Upper needs to know the total fuel requirement. To find it, individually calculate the fuel needed for the mass of each module (your puzzle input), then add together all the fuel values.\n",
    "\n",
    "What is the sum of the fuel requirements for all of the modules on your spacecraft?"
   ]
  },
  {
   "cell_type": "code",
   "execution_count": 6,
   "metadata": {},
   "outputs": [
    {
     "data": {
      "text/plain": [
       "654"
      ]
     },
     "execution_count": 6,
     "metadata": {},
     "output_type": "execute_result"
    }
   ],
   "source": [
    "(1969 // 3) - 2 # example from above"
   ]
  },
  {
   "cell_type": "code",
   "execution_count": 7,
   "metadata": {},
   "outputs": [
    {
     "data": {
      "text/plain": [
       "100"
      ]
     },
     "execution_count": 7,
     "metadata": {},
     "output_type": "execute_result"
    }
   ],
   "source": [
    "len(list_of_mass)"
   ]
  },
  {
   "cell_type": "code",
   "execution_count": 8,
   "metadata": {},
   "outputs": [
    {
     "data": {
      "text/plain": [
       "57758"
      ]
     },
     "execution_count": 8,
     "metadata": {},
     "output_type": "execute_result"
    }
   ],
   "source": [
    "int(list_of_mass[2])"
   ]
  },
  {
   "cell_type": "code",
   "execution_count": 9,
   "metadata": {},
   "outputs": [],
   "source": [
    "def get_fuel_requirement(mass):\n",
    "    fuel_requirements = []\n",
    "    for i in list_of_mass:\n",
    "        single_fuel_requirement = (int(i) // 3) - 2\n",
    "        fuel_requirements.append(single_fuel_requirement)\n",
    "    answer = sum(fuel_requirements)\n",
    "    print(f'Sum of Individual Fuel Requirements: {answer}')"
   ]
  },
  {
   "cell_type": "code",
   "execution_count": 10,
   "metadata": {
    "scrolled": false
   },
   "outputs": [
    {
     "name": "stdout",
     "output_type": "stream",
     "text": [
      "Sum of Individual Fuel Requirements: 3342050\n"
     ]
    }
   ],
   "source": [
    "get_fuel_requirement(list_of_mass)"
   ]
  },
  {
   "cell_type": "code",
   "execution_count": 18,
   "metadata": {},
   "outputs": [
    {
     "ename": "TypeError",
     "evalue": "unsupported operand type(s) for /: 'str' and 'int'",
     "output_type": "error",
     "traceback": [
      "\u001b[0;31m---------------------------------------------------------------------------\u001b[0m",
      "\u001b[0;31mTypeError\u001b[0m                                 Traceback (most recent call last)",
      "\u001b[0;32m<ipython-input-18-b2601d7220fb>\u001b[0m in \u001b[0;36m<module>\u001b[0;34m\u001b[0m\n\u001b[1;32m      3\u001b[0m \u001b[0;32mdef\u001b[0m \u001b[0mget_fuel\u001b[0m\u001b[0;34m(\u001b[0m\u001b[0mmod\u001b[0m\u001b[0;34m)\u001b[0m\u001b[0;34m:\u001b[0m\u001b[0;34m\u001b[0m\u001b[0;34m\u001b[0m\u001b[0m\n\u001b[1;32m      4\u001b[0m     \u001b[0;32mreturn\u001b[0m \u001b[0mint\u001b[0m\u001b[0;34m(\u001b[0m\u001b[0mmod\u001b[0m\u001b[0;34m/\u001b[0m\u001b[0;36m3\u001b[0m\u001b[0;34m)\u001b[0m \u001b[0;34m-\u001b[0m \u001b[0;36m2\u001b[0m\u001b[0;34m\u001b[0m\u001b[0;34m\u001b[0m\u001b[0m\n\u001b[0;32m----> 5\u001b[0;31m \u001b[0msum\u001b[0m\u001b[0;34m(\u001b[0m\u001b[0;34m[\u001b[0m\u001b[0mget_fuel\u001b[0m\u001b[0;34m(\u001b[0m\u001b[0mi\u001b[0m\u001b[0;34m)\u001b[0m \u001b[0;32mfor\u001b[0m \u001b[0mi\u001b[0m \u001b[0;32min\u001b[0m \u001b[0mdata\u001b[0m\u001b[0;34m]\u001b[0m\u001b[0;34m)\u001b[0m\u001b[0;34m\u001b[0m\u001b[0;34m\u001b[0m\u001b[0m\n\u001b[0m",
      "\u001b[0;32m<ipython-input-18-b2601d7220fb>\u001b[0m in \u001b[0;36m<listcomp>\u001b[0;34m(.0)\u001b[0m\n\u001b[1;32m      3\u001b[0m \u001b[0;32mdef\u001b[0m \u001b[0mget_fuel\u001b[0m\u001b[0;34m(\u001b[0m\u001b[0mmod\u001b[0m\u001b[0;34m)\u001b[0m\u001b[0;34m:\u001b[0m\u001b[0;34m\u001b[0m\u001b[0;34m\u001b[0m\u001b[0m\n\u001b[1;32m      4\u001b[0m     \u001b[0;32mreturn\u001b[0m \u001b[0mint\u001b[0m\u001b[0;34m(\u001b[0m\u001b[0mmod\u001b[0m\u001b[0;34m/\u001b[0m\u001b[0;36m3\u001b[0m\u001b[0;34m)\u001b[0m \u001b[0;34m-\u001b[0m \u001b[0;36m2\u001b[0m\u001b[0;34m\u001b[0m\u001b[0;34m\u001b[0m\u001b[0m\n\u001b[0;32m----> 5\u001b[0;31m \u001b[0msum\u001b[0m\u001b[0;34m(\u001b[0m\u001b[0;34m[\u001b[0m\u001b[0mget_fuel\u001b[0m\u001b[0;34m(\u001b[0m\u001b[0mi\u001b[0m\u001b[0;34m)\u001b[0m \u001b[0;32mfor\u001b[0m \u001b[0mi\u001b[0m \u001b[0;32min\u001b[0m \u001b[0mdata\u001b[0m\u001b[0;34m]\u001b[0m\u001b[0;34m)\u001b[0m\u001b[0;34m\u001b[0m\u001b[0;34m\u001b[0m\u001b[0m\n\u001b[0m",
      "\u001b[0;32m<ipython-input-18-b2601d7220fb>\u001b[0m in \u001b[0;36mget_fuel\u001b[0;34m(mod)\u001b[0m\n\u001b[1;32m      2\u001b[0m \u001b[0;34m\u001b[0m\u001b[0m\n\u001b[1;32m      3\u001b[0m \u001b[0;32mdef\u001b[0m \u001b[0mget_fuel\u001b[0m\u001b[0;34m(\u001b[0m\u001b[0mmod\u001b[0m\u001b[0;34m)\u001b[0m\u001b[0;34m:\u001b[0m\u001b[0;34m\u001b[0m\u001b[0;34m\u001b[0m\u001b[0m\n\u001b[0;32m----> 4\u001b[0;31m     \u001b[0;32mreturn\u001b[0m \u001b[0mint\u001b[0m\u001b[0;34m(\u001b[0m\u001b[0mmod\u001b[0m\u001b[0;34m/\u001b[0m\u001b[0;36m3\u001b[0m\u001b[0;34m)\u001b[0m \u001b[0;34m-\u001b[0m \u001b[0;36m2\u001b[0m\u001b[0;34m\u001b[0m\u001b[0;34m\u001b[0m\u001b[0m\n\u001b[0m\u001b[1;32m      5\u001b[0m \u001b[0msum\u001b[0m\u001b[0;34m(\u001b[0m\u001b[0;34m[\u001b[0m\u001b[0mget_fuel\u001b[0m\u001b[0;34m(\u001b[0m\u001b[0mi\u001b[0m\u001b[0;34m)\u001b[0m \u001b[0;32mfor\u001b[0m \u001b[0mi\u001b[0m \u001b[0;32min\u001b[0m \u001b[0mdata\u001b[0m\u001b[0;34m]\u001b[0m\u001b[0;34m)\u001b[0m\u001b[0;34m\u001b[0m\u001b[0;34m\u001b[0m\u001b[0m\n",
      "\u001b[0;31mTypeError\u001b[0m: unsupported operand type(s) for /: 'str' and 'int'"
     ]
    }
   ],
   "source": [
    "# J's Answer:\n",
    "\n",
    "def get_fuel(mod):\n",
    "    return int(mod/3) - 2 \n",
    "sum([get_fuel(i) for i in data])"
   ]
  },
  {
   "cell_type": "markdown",
   "metadata": {},
   "source": [
    "### Part II\n",
    "\n",
    "During the second Go / No Go poll, the Elf in charge of the Rocket Equation Double-Checker stops the launch sequence. Apparently, you forgot to include additional fuel for the fuel you just added.\n",
    "\n",
    "Fuel itself requires fuel just like a module - take its mass, divide by three, round down, and subtract 2. However, that fuel also requires fuel, and that fuel requires fuel, and so on. Any mass that would require negative fuel should instead be treated as if it requires zero fuel; the remaining mass, if any, is instead handled by wishing really hard, which has no mass and is outside the scope of this calculation.\n",
    "\n",
    "So, for each module mass, calculate its fuel and add it to the total. Then, treat the fuel amount you just calculated as the input mass and repeat the process, continuing until a fuel requirement is zero or negative. For example:\n",
    "\n",
    "- A module of mass 14 requires 2 fuel. This fuel requires no further fuel (2 divided by 3 and rounded down is 0, which would call for a negative fuel), so the total fuel required is still just 2.\n",
    "- At first, a module of mass 1969 requires 654 fuel. Then, this fuel requires 216 more fuel (654 / 3 - 2). 216 then requires 70 more fuel, which requires 21 fuel, which requires 5 fuel, which requires no further fuel. So, the total fuel required for a module of mass 1969 is 654 + 216 + 70 + 21 + 5 = 966.\n",
    "- The fuel required by a module of mass 100756 and its fuel is: 33583 + 11192 + 3728 + 1240 + 411 + 135 + 43 + 12 + 2 = 50346.\n",
    "\n",
    "What is the sum of the fuel requirements for all of the modules on your spacecraft when also taking into account the mass of the added fuel? (Calculate the fuel requirements for each module separately, then add them all up at the end.)"
   ]
  },
  {
   "cell_type": "code",
   "execution_count": null,
   "metadata": {},
   "outputs": [],
   "source": [
    "# Best correct answer\n",
    "def get_all_fuel(mod):\n",
    "    total = 0\n",
    "        "
   ]
  },
  {
   "cell_type": "code",
   "execution_count": 11,
   "metadata": {},
   "outputs": [],
   "source": [
    "def get_fuel_requirement(mass):\n",
    "    fuel_requirements = []\n",
    "    for i in list_of_mass:\n",
    "        single_fuel_requirement = (int(i) // 3) - 2\n",
    "        fuel_requirements.append(single_fuel_requirement)\n",
    "        if single_fuel_requirement > 0:\n",
    "            (single_fuel_requirement // 3) - 2\n",
    "            fuel_requirements.append(single_fuel_requirement)\n",
    "    answer = sum(fuel_requirements)\n",
    "    print(f'Sum of Individual Fuel Requirements: {answer}')"
   ]
  },
  {
   "cell_type": "code",
   "execution_count": 12,
   "metadata": {},
   "outputs": [
    {
     "name": "stdout",
     "output_type": "stream",
     "text": [
      "Sum of Individual Fuel Requirements: 6684100\n"
     ]
    }
   ],
   "source": [
    "get_fuel_requirement(list_of_mass)"
   ]
  },
  {
   "cell_type": "code",
   "execution_count": null,
   "metadata": {},
   "outputs": [],
   "source": []
  }
 ],
 "metadata": {
  "kernelspec": {
   "display_name": "Python 3",
   "language": "python",
   "name": "python3"
  },
  "language_info": {
   "codemirror_mode": {
    "name": "ipython",
    "version": 3
   },
   "file_extension": ".py",
   "mimetype": "text/x-python",
   "name": "python",
   "nbconvert_exporter": "python",
   "pygments_lexer": "ipython3",
   "version": "3.7.4"
  }
 },
 "nbformat": 4,
 "nbformat_minor": 2
}
