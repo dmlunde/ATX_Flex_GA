{
 "cells": [
  {
   "cell_type": "markdown",
   "metadata": {},
   "source": [
    "### Sales data \n",
    "\n",
    "Run the cell below to load the required packages and set up plotting in the notebook!"
   ]
  },
  {
   "cell_type": "code",
   "execution_count": 102,
   "metadata": {},
   "outputs": [],
   "source": [
    "import numpy as np\n",
    "import scipy.stats as stats\n",
    "import csv\n",
    "import seaborn as sns\n",
    "%matplotlib inline"
   ]
  },
  {
   "cell_type": "markdown",
   "metadata": {},
   "source": [
    "#### 1. Loading the data\n",
    "\n",
    "The csv has about 200 rows of data and 4 columns.\n",
    "\n",
    "Using the pattern for loading csvs we learned earlier, add all of the rows in the csv file to the rows list.\n",
    "\n",
    "For your reference, the pattern is:\n",
    "```python\n",
    "with open(my_csv_path, 'r') as f:\n",
    "    data = f.read()\n",
    "    ...\n",
    "```\n"
   ]
  },
  {
   "cell_type": "code",
   "execution_count": 103,
   "metadata": {},
   "outputs": [],
   "source": [
    "### add the correct path \n",
    "with open('../data/sales_data.csv', 'r') as f:\n",
    "    data = f.read()"
   ]
  },
  {
   "cell_type": "markdown",
   "metadata": {},
   "source": [
    "Let's split on the newline character `\\n`"
   ]
  },
  {
   "cell_type": "code",
   "execution_count": 104,
   "metadata": {},
   "outputs": [],
   "source": [
    "## your code\n",
    "data = data.split('\\n')"
   ]
  },
  {
   "cell_type": "markdown",
   "metadata": {},
   "source": [
    "##### 2. Separate header and data\n",
    "\n",
    "The header of the csv is contained in the first index of the ```rows``` variable, as it is the first row in the csv file. \n",
    "\n",
    "Use python indexing to create two new variables: ```header``` which contains the 4 column names, and ```data``` which contains the row level data as a string.\n",
    "\n",
    "Lastly, print ```header``` to see the names of the columns.\n",
    "\n"
   ]
  },
  {
   "cell_type": "code",
   "execution_count": 105,
   "metadata": {},
   "outputs": [],
   "source": [
    "## dividing into header and body \n",
    "header = data[0]\n",
    "body = data[1:]"
   ]
  },
  {
   "cell_type": "code",
   "execution_count": 106,
   "metadata": {
    "scrolled": true
   },
   "outputs": [
    {
     "data": {
      "text/plain": [
       "'50.2758932156,225.055138499,407738.79,32079.13'"
      ]
     },
     "execution_count": 106,
     "metadata": {},
     "output_type": "execute_result"
    }
   ],
   "source": [
    "# last row \n",
    "\n",
    "data[-1]"
   ]
  },
  {
   "cell_type": "code",
   "execution_count": 107,
   "metadata": {},
   "outputs": [],
   "source": [
    "### splitting on comma \n",
    "new_body = []\n",
    "\n",
    "for row in body:\n",
    "    new_body.append(row.split(','))"
   ]
  },
  {
   "cell_type": "code",
   "execution_count": 108,
   "metadata": {},
   "outputs": [
    {
     "data": {
      "text/plain": [
       "[['18.4207604861', '93.8022814583', '337166.53', '337804.05'],\n",
       " ['4.77650991918', '21.0824246877', '22351.86', '21736.63'],\n",
       " ['16.6024006077', '93.6124943024', '277764.46', '306942.27'],\n",
       " ['4.29611149826', '16.8247038328', '16805.11', '9307.75'],\n",
       " ['8.15602328201', '35.0114570034', '54411.42', '58939.9']]"
      ]
     },
     "execution_count": 108,
     "metadata": {},
     "output_type": "execute_result"
    }
   ],
   "source": [
    "## taking a look at the first 5 rows of new body\n",
    "new_body[:5]"
   ]
  },
  {
   "cell_type": "code",
   "execution_count": 109,
   "metadata": {},
   "outputs": [],
   "source": [
    "## new list of lists \n",
    "new_body_float = []\n",
    "\n",
    "for row in new_body:\n",
    "    ## creating \n",
    "    new_row = []\n",
    "    for cell in row:\n",
    "        new_row.append(float(cell))\n",
    "    new_body_float.append(new_row)"
   ]
  },
  {
   "cell_type": "code",
   "execution_count": 110,
   "metadata": {},
   "outputs": [],
   "source": [
    "## splitting header column \n",
    "\n",
    "header_list = header.split(',')"
   ]
  },
  {
   "cell_type": "code",
   "execution_count": 111,
   "metadata": {
    "scrolled": true
   },
   "outputs": [
    {
     "name": "stdout",
     "output_type": "stream",
     "text": [
      "0 volume_sold\n",
      "1 2015_margin\n",
      "2 2015_q1_sales\n",
      "3 2016_q1_sales\n"
     ]
    }
   ],
   "source": [
    "## just looking at how enumerate works \n",
    "for n,v in enumerate(header_list):\n",
    "    print(n,v)"
   ]
  },
  {
   "cell_type": "code",
   "execution_count": 112,
   "metadata": {
    "scrolled": true
   },
   "outputs": [
    {
     "data": {
      "text/plain": [
       "[[18.4207604861, 93.8022814583, 337166.53, 337804.05],\n",
       " [4.77650991918, 21.0824246877, 22351.86, 21736.63],\n",
       " [16.6024006077, 93.6124943024, 277764.46, 306942.27],\n",
       " [4.29611149826, 16.8247038328, 16805.11, 9307.75]]"
      ]
     },
     "execution_count": 112,
     "metadata": {},
     "output_type": "execute_result"
    }
   ],
   "source": [
    "## the first 4 rows of new body float \n",
    "\n",
    "new_body_float[:4]"
   ]
  },
  {
   "cell_type": "code",
   "execution_count": 113,
   "metadata": {},
   "outputs": [],
   "source": [
    "## creating a dictionary with the column names as the keys and the values are a list of the appropriate values\n",
    "\n",
    "new_dict = {'volume_sold':[], '2015_margin':[], '2015_q1_sales':[],\\\n",
    "           '2016_q1_sales':[]}\n",
    "\n",
    "## option instead of typing them out \n",
    "new_dict_2 = {}\n",
    "for i in header_list:\n",
    "    new_dict_2[i] = []\n",
    "\n",
    "## for every row in the data set\n",
    "for row in new_body_float:\n",
    "    ## for number, value in header_list\n",
    "    for n,v in enumerate(header_list):\n",
    "        ## grab the appropriate value from the row \n",
    "        cell = row[n]\n",
    "        ## append that value to the appropriate key in the dictionary \n",
    "        new_dict[v].append(cell)\n"
   ]
  },
  {
   "cell_type": "markdown",
   "metadata": {},
   "source": [
    "#### 3. Create a function that takes in a column (in string form) and converts it into a list of floats\n"
   ]
  },
  {
   "cell_type": "code",
   "execution_count": 114,
   "metadata": {},
   "outputs": [
    {
     "data": {
      "text/plain": [
       "'18.4207604861,93.8022814583,337166.53,337804.05'"
      ]
     },
     "execution_count": 114,
     "metadata": {},
     "output_type": "execute_result"
    }
   ],
   "source": [
    "## alternate method to create the dictionary in two steps folows - note we are working with the base data again\n",
    "\n",
    "##testing to see if my function works on one column of strings\n",
    "\n",
    "## looking at what I'm working with \n",
    "body[0]"
   ]
  },
  {
   "cell_type": "code",
   "execution_count": 115,
   "metadata": {},
   "outputs": [
    {
     "data": {
      "text/plain": [
       "[18.4207604861, 93.8022814583, 337166.53, 337804.05]"
      ]
     },
     "execution_count": 115,
     "metadata": {},
     "output_type": "execute_result"
    }
   ],
   "source": [
    "float_cells = []\n",
    "for cell in body[0].split(','):\n",
    "    float_cells.append(float(cell))\n",
    "float_cells"
   ]
  },
  {
   "cell_type": "code",
   "execution_count": 116,
   "metadata": {},
   "outputs": [
    {
     "data": {
      "text/plain": [
       "[18.4207604861, 93.8022814583, 337166.53, 337804.05]"
      ]
     },
     "execution_count": 116,
     "metadata": {},
     "output_type": "execute_result"
    }
   ],
   "source": [
    "## make it a function\n",
    "\n",
    "def row_converter(row):\n",
    "    f_cells = []\n",
    "    for cell in row.split(','):\n",
    "        f_cells.append(float(cell))\n",
    "    return f_cells\n",
    "\n",
    "### testing \n",
    "row_converter(body[0])"
   ]
  },
  {
   "cell_type": "code",
   "execution_count": 117,
   "metadata": {},
   "outputs": [
    {
     "data": {
      "text/plain": [
       "[18.4207604861, 93.8022814583, 337166.53, 337804.05]"
      ]
     },
     "execution_count": 117,
     "metadata": {},
     "output_type": "execute_result"
    }
   ],
   "source": [
    "## as a list comprehension\n",
    "def row_converter2(row):\n",
    "    return [float(cell) for cell in row.split(',')]\n",
    "\n",
    "### testing\n",
    "row_converter2(body[0])"
   ]
  },
  {
   "cell_type": "code",
   "execution_count": 118,
   "metadata": {},
   "outputs": [],
   "source": [
    "## use the function to convert everything to floats \n",
    "\n",
    "converted_body = []\n",
    "for row in body:\n",
    "    converted_row = row_converter(row)\n",
    "    converted_body.append(converted_row)"
   ]
  },
  {
   "cell_type": "code",
   "execution_count": 119,
   "metadata": {},
   "outputs": [
    {
     "data": {
      "text/plain": [
       "[[18.4207604861, 93.8022814583, 337166.53, 337804.05],\n",
       " [4.77650991918, 21.0824246877, 22351.86, 21736.63],\n",
       " [16.6024006077, 93.6124943024, 277764.46, 306942.27],\n",
       " [4.29611149826, 16.8247038328, 16805.11, 9307.75],\n",
       " [8.15602328201, 35.0114570034, 54411.42, 58939.9]]"
      ]
     },
     "execution_count": 119,
     "metadata": {},
     "output_type": "execute_result"
    }
   ],
   "source": [
    "## first five rows of converted body \n",
    "converted_body[:5]"
   ]
  },
  {
   "cell_type": "markdown",
   "metadata": {},
   "source": [
    "#### 4. Create a dictionary\n",
    "\n",
    "Use loops or list comprehensions to create a dictionary called ```sales_data```, where the keys of the dictionary are the column names, and the values of the dictionary are lists of the data points of the column corresponding to that column name."
   ]
  },
  {
   "cell_type": "code",
   "execution_count": 120,
   "metadata": {},
   "outputs": [],
   "source": [
    "sales_data_dict = {}\n",
    "\n",
    "## loop through our four columns \n",
    "for number, value in enumerate(header_list):\n",
    "    long_row = [] ## note we are creating this 4 times  \n",
    "    \n",
    "    ## loop down all the rows \n",
    "    for row in converted_body:\n",
    "        ## append the value with the corresponding column (using the number from enumerate)\n",
    "        long_row.append(row[number])\n",
    "    \n",
    "    ## assign the big row to the correct key \n",
    "    sales_data_dict[value] = long_row\n",
    "    "
   ]
  },
  {
   "cell_type": "code",
   "execution_count": null,
   "metadata": {},
   "outputs": [],
   "source": []
  },
  {
   "cell_type": "markdown",
   "metadata": {},
   "source": [
    "**4.A** Print out the first 10 items of the 'volume_sold' column."
   ]
  },
  {
   "cell_type": "code",
   "execution_count": 121,
   "metadata": {},
   "outputs": [
    {
     "data": {
      "text/plain": [
       "[18.4207604861,\n",
       " 4.77650991918,\n",
       " 16.6024006077,\n",
       " 4.29611149826,\n",
       " 8.15602328201,\n",
       " 5.00512242518,\n",
       " 14.60675,\n",
       " 4.45646649485,\n",
       " 5.04752965097,\n",
       " 5.38807023767]"
      ]
     },
     "execution_count": 121,
     "metadata": {},
     "output_type": "execute_result"
    }
   ],
   "source": [
    "sales_data_dict['volume_sold'][:10]"
   ]
  },
  {
   "cell_type": "markdown",
   "metadata": {},
   "source": [
    "#### 5. Write function to print summary statistics\n",
    "\n",
    "Now write a function to print out summary statistics for the data.\n",
    "\n",
    "Your function should:\n",
    "\n",
    "- Accept the column as an argument\n",
    "- Print out information, clearly labeling each item when you print it:\n",
    "    1. Print out the column name\n",
    "    2. Print the mean of the data using ```np.mean()```\n",
    "    3. Print out the median of the data using ```np.median()```\n",
    "    4. Print out the variance of the data using ```np.var()```\n",
    "    5. Print out the standard deviation of the data using ```np.std()```"
   ]
  },
  {
   "cell_type": "code",
   "execution_count": 122,
   "metadata": {
    "scrolled": true
   },
   "outputs": [],
   "source": [
    "def summary_statistics(column):\n",
    "    print(column)\n",
    "    print('*' * 50) ## this is for formatting\n",
    "    print(f\"Mean: {np.mean(sales_data_dict[column])}\")\n",
    "    print(f\"Mean: {np.median(sales_data_dict[column])}\")\n",
    "    print(f\"Mean: {np.var(sales_data_dict[column])}\")\n",
    "    print(f\"Mean: {np.std(sales_data_dict[column])}\")"
   ]
  },
  {
   "cell_type": "markdown",
   "metadata": {},
   "source": [
    "**5.A** Using your function, print the summary statistics for 'volume_sold'"
   ]
  },
  {
   "cell_type": "code",
   "execution_count": 123,
   "metadata": {},
   "outputs": [
    {
     "name": "stdout",
     "output_type": "stream",
     "text": [
      "volume_sold\n",
      "**************************************************\n",
      "Mean: 10.0186840789888\n",
      "Mean: 8.16634551564\n",
      "Mean: 84.12996520049938\n",
      "Mean: 9.172238832504275\n"
     ]
    }
   ],
   "source": [
    "summary_statistics('volume_sold')"
   ]
  },
  {
   "cell_type": "markdown",
   "metadata": {},
   "source": [
    "**5.B** Using your function, print the summary statistics for '2015_margin'"
   ]
  },
  {
   "cell_type": "code",
   "execution_count": 124,
   "metadata": {},
   "outputs": [
    {
     "name": "stdout",
     "output_type": "stream",
     "text": [
      "2015_margin\n",
      "**************************************************\n",
      "Mean: 46.8588951379235\n",
      "Mean: 36.5621438181\n",
      "Mean: 2016.0616629583997\n",
      "Mean: 44.90057530765502\n"
     ]
    }
   ],
   "source": [
    "summary_statistics('2015_margin')"
   ]
  },
  {
   "cell_type": "markdown",
   "metadata": {},
   "source": [
    "**5.C** Using your function, print the summary statistics for '2015_q1_sales'"
   ]
  },
  {
   "cell_type": "code",
   "execution_count": 125,
   "metadata": {},
   "outputs": [
    {
     "name": "stdout",
     "output_type": "stream",
     "text": [
      "2015_q1_sales\n",
      "**************************************************\n",
      "Mean: 154631.66820000001\n",
      "Mean: 104199.41\n",
      "Mean: 47430301462.331505\n",
      "Mean: 217784.98906566427\n"
     ]
    }
   ],
   "source": [
    "summary_statistics('2015_q1_sales')"
   ]
  },
  {
   "cell_type": "markdown",
   "metadata": {},
   "source": [
    "**5.D** Using your function, print the summary statistics for '2016_q1_sales'"
   ]
  },
  {
   "cell_type": "code",
   "execution_count": 126,
   "metadata": {},
   "outputs": [
    {
     "name": "stdout",
     "output_type": "stream",
     "text": [
      "2016_q1_sales\n",
      "**************************************************\n",
      "Mean: 154699.17875\n",
      "Mean: 103207.20000000001\n",
      "Mean: 47139411653.44524\n",
      "Mean: 217116.12481215032\n"
     ]
    }
   ],
   "source": [
    "summary_statistics('2016_q1_sales')"
   ]
  },
  {
   "cell_type": "markdown",
   "metadata": {},
   "source": [
    "#### 6. Plot the distributions\n",
    "\n",
    "We've provided a plotting function below called ```distribution_plotter()```. It again takes the column name as an argument. \n",
    "\n",
    "In individual cells, plot the distributions for each of the 4 columns. Do the data appear skewed? Symmetrical? If skewed, what would be your hypothesis for why?"
   ]
  },
  {
   "cell_type": "code",
   "execution_count": 127,
   "metadata": {},
   "outputs": [],
   "source": [
    "import matplotlib.pyplot as plt\n",
    "import warnings\n",
    "warnings.filterwarnings('ignore')\n",
    "\n",
    "def distplotter(column, bins = 20, kde=True, color='blue'):\n",
    "    fig , ax = plt.subplots()\n",
    "    sns.distplot(sales_data_dict[column], bins=bins, kde=kde, ax=ax,axlabel=column, color=color);\n"
   ]
  },
  {
   "cell_type": "code",
   "execution_count": 128,
   "metadata": {},
   "outputs": [
    {
     "data": {
      "image/png": "[encoded data removed]",
      "text/plain": [
       "<matplotlib.figure.Figure at 0x11a2c1a20>"
      ]
     },
     "metadata": {},
     "output_type": "display_data"
    },
    {
     "data": {
      "image/png": "[encoded data removed]",
      "text/plain": [
       "<matplotlib.figure.Figure at 0x11d252a58>"
      ]
     },
     "metadata": {},
     "output_type": "display_data"
    },
    {
     "data": {
      "image/png": "[encoded data removed]",
      "text/plain": [
       "<matplotlib.figure.Figure at 0x11d17eb00>"
      ]
     },
     "metadata": {},
     "output_type": "display_data"
    },
    {
     "data": {
      "image/png": "[encoded data removed]",
      "text/plain": [
       "<matplotlib.figure.Figure at 0x11cbb8080>"
      ]
     },
     "metadata": {},
     "output_type": "display_data"
    }
   ],
   "source": [
    "for col in sales_data_dict.keys():\n",
    "    distplotter(col)"
   ]
  },
  {
   "cell_type": "code",
   "execution_count": null,
   "metadata": {},
   "outputs": [],
   "source": []
  }
 ],
 "metadata": {
  "anaconda-cloud": {},
  "kernelspec": {
   "display_name": "Python 3",
   "language": "python",
   "name": "python3"
  },
  "language_info": {
   "codemirror_mode": {
    "name": "ipython",
    "version": 3
   },
   "file_extension": ".py",
   "mimetype": "text/x-python",
   "name": "python",
   "nbconvert_exporter": "python",
   "pygments_lexer": "ipython3",
   "version": "3.7.4"
  }
 },
 "nbformat": 4,
 "nbformat_minor": 1
}
