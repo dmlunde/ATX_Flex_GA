{
 "cells": [
  {
   "cell_type": "markdown",
   "metadata": {},
   "source": [
    "\n",
    "\n",
    "\n",
    "my unique open weather api key above\n",
    "\n",
    "When adjusting url and feature, make sure to follow syntax, add ambersand at beginning of change'&units=imperial'example for temperature"
   ]
  },
  {
   "cell_type": "markdown",
   "metadata": {},
   "source": [
    "---\n",
    "### Discussion: Why would companies want to share proprietary information?\n",
    "\n",
    "\n",
    "\n",
    "---"
   ]
  },
  {
   "cell_type": "markdown",
   "metadata": {},
   "source": [
    "\n",
    "\n"
   ]
  },
  {
   "cell_type": "markdown",
   "metadata": {},
   "source": [
    "---\n",
    "[Follow this link](https://home.openweathermap.org/users/sign_up) to sign up for the Open Weather API"
   ]
  },
  {
   "cell_type": "code",
   "execution_count": null,
   "metadata": {},
   "outputs": [],
   "source": []
  },
  {
   "cell_type": "code",
   "execution_count": 1,
   "metadata": {},
   "outputs": [],
   "source": [
    "import requests\n",
    "import pandas as pd\n",
    "from time import sleep"
   ]
  },
  {
   "cell_type": "markdown",
   "metadata": {},
   "source": [
    "\n",
    "### Link for the **current** weather and **5 day** forecast API Docs: [Open Weather API Docs](https://openweathermap.org/api)\n",
    "\n",
    "#### [Current Weather](https://openweathermap.org/current)\n",
    "\n",
    "#### [Forecast](https://openweathermap.org/forecast16)\n",
    "\n",
    "Head to the current weather documentation - try taking a look at the sample api call.\n",
    "\n",
    "\n",
    "#### Update the url in the browser to use your api key and get the weather for Austin"
   ]
  },
  {
   "cell_type": "code",
   "execution_count": 3,
   "metadata": {},
   "outputs": [],
   "source": [
    "open_weather_response = requests.get('http://api.openweathermap.org/data/2.5/weather?q=Austin,us&units=imperial&appidhttp://api.openweathermap.org/data/2.5/weather?q=London,uk&appid=726e7a3f8587cea0dd9117b39870b20c')"
   ]
  },
  {
   "cell_type": "code",
   "execution_count": 6,
   "metadata": {},
   "outputs": [],
   "source": [
    "response_dict = open_weather_response.json()"
   ]
  },
  {
   "cell_type": "code",
   "execution_count": 9,
   "metadata": {},
   "outputs": [
    {
     "data": {
      "text/plain": [
       "{'coord': {'lon': -97.74, 'lat': 30.27},\n",
       " 'weather': [{'id': 802,\n",
       "   'main': 'Clouds',\n",
       "   'description': 'scattered clouds',\n",
       "   'icon': '03d'}],\n",
       " 'base': 'stations',\n",
       " 'main': {'temp': 58.41,\n",
       "  'feels_like': 50.85,\n",
       "  'temp_min': 55.99,\n",
       "  'temp_max': 61,\n",
       "  'pressure': 1026,\n",
       "  'humidity': 55},\n",
       " 'visibility': 16093,\n",
       " 'wind': {'speed': 10.29, 'deg': 150, 'gust': 16.11},\n",
       " 'clouds': {'all': 40},\n",
       " 'dt': 1579646531,\n",
       " 'sys': {'type': 1,\n",
       "  'id': 5739,\n",
       "  'country': 'US',\n",
       "  'sunrise': 1579613205,\n",
       "  'sunset': 1579651032},\n",
       " 'timezone': -21600,\n",
       " 'id': 4671654,\n",
       " 'name': 'Austin',\n",
       " 'cod': 200}"
      ]
     },
     "execution_count": 9,
     "metadata": {},
     "output_type": "execute_result"
    }
   ],
   "source": [
    "response_dict"
   ]
  },
  {
   "cell_type": "code",
   "execution_count": 10,
   "metadata": {},
   "outputs": [
    {
     "data": {
      "text/plain": [
       "[{'id': 802,\n",
       "  'main': 'Clouds',\n",
       "  'description': 'scattered clouds',\n",
       "  'icon': '03d'}]"
      ]
     },
     "execution_count": 10,
     "metadata": {},
     "output_type": "execute_result"
    }
   ],
   "source": [
    "response_dict['weather']"
   ]
  },
  {
   "cell_type": "code",
   "execution_count": 12,
   "metadata": {},
   "outputs": [
    {
     "data": {
      "text/plain": [
       "58.41"
      ]
     },
     "execution_count": 12,
     "metadata": {},
     "output_type": "execute_result"
    }
   ],
   "source": [
    "response_dict['main']['temp']"
   ]
  },
  {
   "cell_type": "code",
   "execution_count": 8,
   "metadata": {
    "scrolled": true
   },
   "outputs": [
    {
     "data": {
      "text/plain": [
       "dict_keys(['coord', 'weather', 'base', 'main', 'visibility', 'wind', 'clouds', 'dt', 'sys', 'timezone', 'id', 'name', 'cod'])"
      ]
     },
     "execution_count": 8,
     "metadata": {},
     "output_type": "execute_result"
    }
   ],
   "source": [
    "response_dict.keys()"
   ]
  },
  {
   "cell_type": "markdown",
   "metadata": {},
   "source": [
    "---\n",
    "#### Can you change the units to Imperial? - What about using zipcode as a search parameter? "
   ]
  },
  {
   "cell_type": "code",
   "execution_count": null,
   "metadata": {
    "collapsed": true
   },
   "outputs": [],
   "source": []
  },
  {
   "cell_type": "markdown",
   "metadata": {},
   "source": [
    "Take a look at the template of an api call...it's basically a url endpoint with a bunch of requests strung together \n",
    "\n",
    "- **Base url for current weather** - `https://api.openweathermap.org/data/2.5/weather`\n",
    "- **Specify zipcode** - `?zip=78701`\n",
    "- **Give API Key** - `&appid=4e6a785a********************` (Replace this with your own)"
   ]
  },
  {
   "cell_type": "markdown",
   "metadata": {},
   "source": [
    "#### Let's move this to python - copy and paste the url to the string below"
   ]
  },
  {
   "cell_type": "code",
   "execution_count": 3,
   "metadata": {
    "collapsed": true
   },
   "outputs": [],
   "source": [
    "url = ''\n",
    "\n",
    "res = requests.get(url)"
   ]
  },
  {
   "cell_type": "code",
   "execution_count": null,
   "metadata": {
    "collapsed": true
   },
   "outputs": [],
   "source": [
    "### Take a look at your status code \n"
   ]
  },
  {
   "cell_type": "markdown",
   "metadata": {},
   "source": [
    "---\n",
    "Check out the attributes in your requests object - specifically `.status_code` and `.content`"
   ]
  },
  {
   "cell_type": "markdown",
   "metadata": {},
   "source": [
    "#### Let's be more pythonic and store our search terms as python variables "
   ]
  },
  {
   "cell_type": "code",
   "execution_count": 18,
   "metadata": {},
   "outputs": [
    {
     "data": {
      "text/plain": [
       "287.52"
      ]
     },
     "execution_count": 18,
     "metadata": {},
     "output_type": "execute_result"
    }
   ],
   "source": [
    "## save your api key here - below is an example of reading in your api key from a text file \n",
    "ow_api_key = '726e7a3f8587cea0dd9117b39870b20c'\n",
    "city = 'austin,us'\n",
    "units = 'imperial'\n",
    "url = f'http://api.openweathermap.org/data/2.5/weather?q={city}&appid={ow_api_key}&units=i{units}'\n",
    "res = requests.get(url)\n",
    "response_dictionary = res.json()\n",
    "response_dictionary['main']['temp']"
   ]
  },
  {
   "cell_type": "markdown",
   "metadata": {},
   "source": [
    "### <em> For Reference </em>\n",
    "\n",
    "#### Code for reading in your key stored at a .txt file\n",
    "\n",
    "``` python \n",
    "with open('./owapikey.txt') as f:\n",
    "    ow_api_key = f.read().strip()\n",
    "```"
   ]
  },
  {
   "cell_type": "markdown",
   "metadata": {},
   "source": [
    "--- \n",
    "Can you get the forecast for boston?\n",
    "\n",
    "\n",
    "#### [Forecast API Docs ](https://openweathermap.org/forecast16) \n",
    "(Note these forecast API docs are outdated)\n",
    "\n",
    "---"
   ]
  },
  {
   "cell_type": "code",
   "execution_count": 33,
   "metadata": {
    "collapsed": true
   },
   "outputs": [],
   "source": [
    "base_url = 'http://api.openweathermap.org/data/2.5/forecast?'\n",
    "\n",
    "res = requests.get()"
   ]
  },
  {
   "cell_type": "markdown",
   "metadata": {},
   "source": [
    "We'll use .json() to turn the json into a python dictionary \n",
    "\n",
    "Explore the data structure in the dictionary "
   ]
  },
  {
   "cell_type": "code",
   "execution_count": null,
   "metadata": {
    "collapsed": true
   },
   "outputs": [],
   "source": []
  },
  {
   "cell_type": "markdown",
   "metadata": {},
   "source": [
    "---\n",
    "The requests library has added advantages if we pass in the api request as a dictionary - Lets use this format below\n",
    "\n",
    "---"
   ]
  },
  {
   "cell_type": "code",
   "execution_count": 2,
   "metadata": {
    "collapsed": true
   },
   "outputs": [],
   "source": [
    "# #formatting code for using a params dictionary with the requests library. \n",
    "\n",
    "# forecast_url = \"http://api.openweathermap.org/data/2.5/forecast?\"\n",
    "\n",
    "\n",
    "# params = {\n",
    "\n",
    "# }\n",
    "\n",
    "\n",
    "# res = requests.get(forecast_url, params)\n",
    "\n"
   ]
  },
  {
   "cell_type": "markdown",
   "metadata": {},
   "source": [
    "---\n",
    "Use `pd.DataFrame()` to put list of dictionaries into a dataframe\n",
    "\n",
    "---"
   ]
  },
  {
   "cell_type": "code",
   "execution_count": null,
   "metadata": {
    "collapsed": true
   },
   "outputs": [],
   "source": []
  },
  {
   "cell_type": "markdown",
   "metadata": {},
   "source": [
    "Looks like \n",
    "```python\n",
    "weather_dict['list'] \n",
    "```\n",
    "\n",
    "gives us a list of dictionaries for the varying days\n",
    "\n",
    "- What's the forecast for the fourth?"
   ]
  },
  {
   "cell_type": "code",
   "execution_count": 4,
   "metadata": {
    "collapsed": true
   },
   "outputs": [],
   "source": [
    "# Forecast for 5 days from now\n",
    "\n"
   ]
  },
  {
   "cell_type": "markdown",
   "metadata": {},
   "source": [
    "## Challenge \n",
    "\n",
    "Using a `for` loop in conjunction with your API - Grab the temperature for every zipcode within 50 kilometers of Austin for this Saturday? Plot the results using Tableau. \n",
    "\n",
    "I'd start with a google search - \"how to work with zipcodes in python\" there's probably a library (or 5) already built out for you to use!"
   ]
  },
  {
   "cell_type": "code",
   "execution_count": null,
   "metadata": {
    "collapsed": true
   },
   "outputs": [],
   "source": []
  }
 ],
 "metadata": {
  "anaconda-cloud": {},
  "kernelspec": {
   "display_name": "Python 3",
   "language": "python",
   "name": "python3"
  },
  "language_info": {
   "codemirror_mode": {
    "name": "ipython",
    "version": 3
   },
   "file_extension": ".py",
   "mimetype": "text/x-python",
   "name": "python",
   "nbconvert_exporter": "python",
   "pygments_lexer": "ipython3",
   "version": "3.6.9"
  }
 },
 "nbformat": 4,
 "nbformat_minor": 2
}
