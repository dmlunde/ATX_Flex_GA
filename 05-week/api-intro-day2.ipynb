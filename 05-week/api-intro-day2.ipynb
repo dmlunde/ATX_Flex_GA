{
 "cells": [
  {
   "cell_type": "markdown",
   "metadata": {},
   "source": [
    "---\n",
    "### Discussion: Why would companies want to share proprietary information?\n",
    "\n",
    "\n",
    "\n",
    "---"
   ]
  },
  {
   "cell_type": "markdown",
   "metadata": {},
   "source": [
    "\n",
    "\n"
   ]
  },
  {
   "cell_type": "markdown",
   "metadata": {},
   "source": [
    "---\n",
    "[Follow this link](https://home.openweathermap.org/users/sign_up) to sign up for the Open Weather API"
   ]
  },
  {
   "cell_type": "code",
   "execution_count": 1,
   "metadata": {},
   "outputs": [],
   "source": [
    "import requests\n",
    "import pandas as pd\n",
    "from time import sleep"
   ]
  },
  {
   "cell_type": "markdown",
   "metadata": {},
   "source": [
    "\n",
    "### Link for the **current** weather and **5 day** forecast API Docs: [Open Weather API Docs](https://openweathermap.org/api)\n",
    "\n",
    "#### [Current Weather](https://openweathermap.org/current)\n",
    "\n",
    "#### [Forecast](https://openweathermap.org/forecast16)\n",
    "\n",
    "Head to the current weather documentation - try taking a look at the sample api call.\n",
    "\n",
    "\n",
    "#### Update the url in the browser to use your api key and get the weather for Austin"
   ]
  },
  {
   "cell_type": "code",
   "execution_count": 2,
   "metadata": {},
   "outputs": [],
   "source": [
    "open_weather_response = requests.get('http://api.openweathermap.org/data/2.5/weather?q=austin&appid=4e6a785a8d5ea2c93c7b01caedb8166e&units=imperial')"
   ]
  },
  {
   "cell_type": "code",
   "execution_count": 3,
   "metadata": {},
   "outputs": [],
   "source": [
    "response_dict = open_weather_response.json()"
   ]
  },
  {
   "cell_type": "code",
   "execution_count": 4,
   "metadata": {},
   "outputs": [
    {
     "data": {
      "text/plain": [
       "dict_keys(['coord', 'weather', 'base', 'main', 'visibility', 'wind', 'clouds', 'dt', 'sys', 'timezone', 'id', 'name', 'cod'])"
      ]
     },
     "execution_count": 4,
     "metadata": {},
     "output_type": "execute_result"
    }
   ],
   "source": [
    "response_dict.keys()"
   ]
  },
  {
   "cell_type": "code",
   "execution_count": 5,
   "metadata": {},
   "outputs": [
    {
     "data": {
      "text/plain": [
       "61.88"
      ]
     },
     "execution_count": 5,
     "metadata": {},
     "output_type": "execute_result"
    }
   ],
   "source": [
    "response_dict['main']['temp']"
   ]
  },
  {
   "cell_type": "code",
   "execution_count": null,
   "metadata": {},
   "outputs": [],
   "source": []
  },
  {
   "cell_type": "markdown",
   "metadata": {},
   "source": [
    "---\n",
    "#### Can you change the units to Imperial? - What about using zipcode as a search parameter? "
   ]
  },
  {
   "cell_type": "code",
   "execution_count": null,
   "metadata": {},
   "outputs": [],
   "source": []
  },
  {
   "cell_type": "markdown",
   "metadata": {},
   "source": [
    "Take a look at the template of an api call...it's basically a url endpoint with a bunch of requests strung together \n",
    "\n",
    "- **Base url for current weather** - `https://api.openweathermap.org/data/2.5/weather`\n",
    "- **Specify zipcode** - `?zip=78701`\n",
    "- **Give API Key** - `&appid=4e6a785a********************` (Replace this with your own)"
   ]
  },
  {
   "cell_type": "markdown",
   "metadata": {},
   "source": [
    "#### Let's move this to python - copy and paste the url to the string below"
   ]
  },
  {
   "cell_type": "code",
   "execution_count": 8,
   "metadata": {},
   "outputs": [],
   "source": [
    "# url = ''\n",
    "\n",
    "# res = requests.get(url)"
   ]
  },
  {
   "cell_type": "code",
   "execution_count": 7,
   "metadata": {},
   "outputs": [],
   "source": [
    "### Take a look at your status code \n"
   ]
  },
  {
   "cell_type": "markdown",
   "metadata": {},
   "source": [
    "---\n",
    "Check out the attributes in your requests object - specifically `.status_code` and `.content`"
   ]
  },
  {
   "cell_type": "markdown",
   "metadata": {},
   "source": [
    "#### Let's be more pythonic and store our search terms as python variables "
   ]
  },
  {
   "cell_type": "code",
   "execution_count": 11,
   "metadata": {},
   "outputs": [
    {
     "data": {
      "text/plain": [
       "'4e6a785a8d5ea2c93c7b01caedb8166e'"
      ]
     },
     "execution_count": 11,
     "metadata": {},
     "output_type": "execute_result"
    }
   ],
   "source": [
    "## save your api key here - below is an example of reading in your api key from a text file \n",
    "\n",
    "with open('./owapikey.txt') as f:\n",
    "    ow_api_key = f.read().strip()"
   ]
  },
  {
   "cell_type": "code",
   "execution_count": 17,
   "metadata": {},
   "outputs": [
    {
     "data": {
      "text/plain": [
       "287.52"
      ]
     },
     "execution_count": 17,
     "metadata": {},
     "output_type": "execute_result"
    }
   ],
   "source": [
    "ow_api_key = '4e6a785a8d5ea2c93c7b01caedb8166e'\n",
    "city = 'austin,us'\n",
    "units = 'imperial'\n",
    "\n",
    "url = f'http://api.openweathermap.org/data/2.5/weather?q={city}&appid={ow_api_key}&units=i{units}'\n",
    "res = requests.get(url)\n",
    "\n",
    "response_dictionary = res.json()\n",
    "\n",
    "response_dictionary['main']['temp']"
   ]
  },
  {
   "cell_type": "markdown",
   "metadata": {},
   "source": [
    "### <em> For Reference </em>\n",
    "\n",
    "#### Code for reading in your key stored at a .txt file\n",
    "\n",
    "``` python \n",
    "with open('./owapikey.txt') as f:\n",
    "    ow_api_key = f.read().strip()\n",
    "```"
   ]
  },
  {
   "cell_type": "markdown",
   "metadata": {},
   "source": [
    "--- \n",
    "Can you get the forecast for boston?\n",
    "\n",
    "\n",
    "#### [Forecast API Docs ](https://openweathermap.org/forecast16) \n",
    "(Note these forecast API docs are outdated)\n",
    "\n",
    "---"
   ]
  },
  {
   "cell_type": "code",
   "execution_count": 12,
   "metadata": {},
   "outputs": [],
   "source": [
    "base_url = 'http://api.openweathermap.org/data/2.5/forecast?'\n",
    "city = 'q=boston'\n",
    "key = f'&appid={ow_api_key}'\n",
    "\n",
    "res = requests.get(base_url + city + key)"
   ]
  },
  {
   "cell_type": "code",
   "execution_count": 31,
   "metadata": {},
   "outputs": [],
   "source": [
    "response_dictionary = res.json()"
   ]
  },
  {
   "cell_type": "code",
   "execution_count": 32,
   "metadata": {},
   "outputs": [
    {
     "data": {
      "text/plain": [
       "dict_keys(['cod', 'message', 'cnt', 'list', 'city'])"
      ]
     },
     "execution_count": 32,
     "metadata": {},
     "output_type": "execute_result"
    }
   ],
   "source": [
    "## 'list' is a key in the dictionary  \n",
    "response_dictionary.keys()"
   ]
  },
  {
   "cell_type": "code",
   "execution_count": 29,
   "metadata": {},
   "outputs": [
    {
     "data": {
      "text/html": [
       "<div>\n",
       "<style scoped>\n",
       "    .dataframe tbody tr th:only-of-type {\n",
       "        vertical-align: middle;\n",
       "    }\n",
       "\n",
       "    .dataframe tbody tr th {\n",
       "        vertical-align: top;\n",
       "    }\n",
       "\n",
       "    .dataframe thead th {\n",
       "        text-align: right;\n",
       "    }\n",
       "</style>\n",
       "<table border=\"1\" class=\"dataframe\">\n",
       "  <thead>\n",
       "    <tr style=\"text-align: right;\">\n",
       "      <th></th>\n",
       "      <th>dt</th>\n",
       "      <th>main</th>\n",
       "      <th>weather</th>\n",
       "      <th>clouds</th>\n",
       "      <th>wind</th>\n",
       "      <th>sys</th>\n",
       "      <th>dt_txt</th>\n",
       "      <th>rain</th>\n",
       "    </tr>\n",
       "  </thead>\n",
       "  <tbody>\n",
       "    <tr>\n",
       "      <td>0</td>\n",
       "      <td>1579813200</td>\n",
       "      <td>{'temp': 278.25, 'feels_like': 274.83, 'temp_m...</td>\n",
       "      <td>[{'id': 804, 'main': 'Clouds', 'description': ...</td>\n",
       "      <td>{'all': 100}</td>\n",
       "      <td>{'speed': 2.11, 'deg': 228}</td>\n",
       "      <td>{'pod': 'd'}</td>\n",
       "      <td>2020-01-23 21:00:00</td>\n",
       "      <td>NaN</td>\n",
       "    </tr>\n",
       "    <tr>\n",
       "      <td>1</td>\n",
       "      <td>1579824000</td>\n",
       "      <td>{'temp': 275.92, 'feels_like': 272.41, 'temp_m...</td>\n",
       "      <td>[{'id': 804, 'main': 'Clouds', 'description': ...</td>\n",
       "      <td>{'all': 100}</td>\n",
       "      <td>{'speed': 2.01, 'deg': 251}</td>\n",
       "      <td>{'pod': 'n'}</td>\n",
       "      <td>2020-01-24 00:00:00</td>\n",
       "      <td>NaN</td>\n",
       "    </tr>\n",
       "    <tr>\n",
       "      <td>2</td>\n",
       "      <td>1579834800</td>\n",
       "      <td>{'temp': 274.56, 'feels_like': 271.17, 'temp_m...</td>\n",
       "      <td>[{'id': 804, 'main': 'Clouds', 'description': ...</td>\n",
       "      <td>{'all': 100}</td>\n",
       "      <td>{'speed': 1.58, 'deg': 276}</td>\n",
       "      <td>{'pod': 'n'}</td>\n",
       "      <td>2020-01-24 03:00:00</td>\n",
       "      <td>NaN</td>\n",
       "    </tr>\n",
       "    <tr>\n",
       "      <td>3</td>\n",
       "      <td>1579845600</td>\n",
       "      <td>{'temp': 273.69, 'feels_like': 270.42, 'temp_m...</td>\n",
       "      <td>[{'id': 804, 'main': 'Clouds', 'description': ...</td>\n",
       "      <td>{'all': 100}</td>\n",
       "      <td>{'speed': 1.14, 'deg': 321}</td>\n",
       "      <td>{'pod': 'n'}</td>\n",
       "      <td>2020-01-24 06:00:00</td>\n",
       "      <td>NaN</td>\n",
       "    </tr>\n",
       "    <tr>\n",
       "      <td>4</td>\n",
       "      <td>1579856400</td>\n",
       "      <td>{'temp': 272.17, 'feels_like': 268.17, 'temp_m...</td>\n",
       "      <td>[{'id': 804, 'main': 'Clouds', 'description': ...</td>\n",
       "      <td>{'all': 100}</td>\n",
       "      <td>{'speed': 1.98, 'deg': 356}</td>\n",
       "      <td>{'pod': 'n'}</td>\n",
       "      <td>2020-01-24 09:00:00</td>\n",
       "      <td>NaN</td>\n",
       "    </tr>\n",
       "  </tbody>\n",
       "</table>\n",
       "</div>"
      ],
      "text/plain": [
       "           dt                                               main  \\\n",
       "0  1579813200  {'temp': 278.25, 'feels_like': 274.83, 'temp_m...   \n",
       "1  1579824000  {'temp': 275.92, 'feels_like': 272.41, 'temp_m...   \n",
       "2  1579834800  {'temp': 274.56, 'feels_like': 271.17, 'temp_m...   \n",
       "3  1579845600  {'temp': 273.69, 'feels_like': 270.42, 'temp_m...   \n",
       "4  1579856400  {'temp': 272.17, 'feels_like': 268.17, 'temp_m...   \n",
       "\n",
       "                                             weather        clouds  \\\n",
       "0  [{'id': 804, 'main': 'Clouds', 'description': ...  {'all': 100}   \n",
       "1  [{'id': 804, 'main': 'Clouds', 'description': ...  {'all': 100}   \n",
       "2  [{'id': 804, 'main': 'Clouds', 'description': ...  {'all': 100}   \n",
       "3  [{'id': 804, 'main': 'Clouds', 'description': ...  {'all': 100}   \n",
       "4  [{'id': 804, 'main': 'Clouds', 'description': ...  {'all': 100}   \n",
       "\n",
       "                          wind           sys               dt_txt rain  \n",
       "0  {'speed': 2.11, 'deg': 228}  {'pod': 'd'}  2020-01-23 21:00:00  NaN  \n",
       "1  {'speed': 2.01, 'deg': 251}  {'pod': 'n'}  2020-01-24 00:00:00  NaN  \n",
       "2  {'speed': 1.58, 'deg': 276}  {'pod': 'n'}  2020-01-24 03:00:00  NaN  \n",
       "3  {'speed': 1.14, 'deg': 321}  {'pod': 'n'}  2020-01-24 06:00:00  NaN  \n",
       "4  {'speed': 1.98, 'deg': 356}  {'pod': 'n'}  2020-01-24 09:00:00  NaN  "
      ]
     },
     "execution_count": 29,
     "metadata": {},
     "output_type": "execute_result"
    }
   ],
   "source": [
    "df = pd.DataFrame(response_dictionary['list'])\n",
    "df.head()"
   ]
  },
  {
   "cell_type": "markdown",
   "metadata": {},
   "source": [
    "We'll use .json() to turn the json into a python dictionary \n",
    "\n",
    "Explore the data structure in the dictionary "
   ]
  },
  {
   "cell_type": "code",
   "execution_count": null,
   "metadata": {
    "collapsed": true
   },
   "outputs": [],
   "source": []
  },
  {
   "cell_type": "markdown",
   "metadata": {},
   "source": [
    "---\n",
    "The requests library has added advantages if we pass in the api request as a dictionary - Lets use this format below\n",
    "\n",
    "---"
   ]
  },
  {
   "cell_type": "code",
   "execution_count": 55,
   "metadata": {},
   "outputs": [],
   "source": [
    "import zipcodes\n",
    "zips = []\n",
    "for i in zipcodes.filter_by(city=\"Austin\", state=\"TX\"):\n",
    "    zips.append(i['zip_code'])"
   ]
  },
  {
   "cell_type": "code",
   "execution_count": 69,
   "metadata": {},
   "outputs": [],
   "source": [
    "from uszipcode import Zipcode , SearchEngine\n",
    "lat = 30.2672\n",
    "long = -97.7431\n",
    "search = SearchEngine()\n",
    "\n",
    "res_zip = search.by_coordinates(lat=lat, lng=long, radius=100, returns = 2000)\n",
    "\n",
    "zips = []\n",
    "for z in res_zip:\n",
    "    zips.append(z.zipcode)"
   ]
  },
  {
   "cell_type": "code",
   "execution_count": null,
   "metadata": {},
   "outputs": [],
   "source": [
    "search.by_coordinates()"
   ]
  },
  {
   "cell_type": "code",
   "execution_count": 67,
   "metadata": {},
   "outputs": [
    {
     "data": {
      "text/plain": [
       "343"
      ]
     },
     "execution_count": 67,
     "metadata": {},
     "output_type": "execute_result"
    }
   ],
   "source": [
    "len(zips)"
   ]
  },
  {
   "cell_type": "code",
   "execution_count": 64,
   "metadata": {},
   "outputs": [
    {
     "data": {
      "text/plain": [
       "[]"
      ]
     },
     "execution_count": 64,
     "metadata": {},
     "output_type": "execute_result"
    }
   ],
   "source": [
    "zips"
   ]
  },
  {
   "cell_type": "code",
   "execution_count": 1,
   "metadata": {},
   "outputs": [
    {
     "ename": "NameError",
     "evalue": "name 'ow_api_key' is not defined",
     "output_type": "error",
     "traceback": [
      "\u001b[0;31m---------------------------------------------------------------------------\u001b[0m",
      "\u001b[0;31mNameError\u001b[0m                                 Traceback (most recent call last)",
      "\u001b[0;32m<ipython-input-1-8d34d603fcce>\u001b[0m in \u001b[0;36m<module>\u001b[0;34m\u001b[0m\n\u001b[1;32m     22\u001b[0m         \u001b[0;31m## make zip code a variable\u001b[0m\u001b[0;34m\u001b[0m\u001b[0;34m\u001b[0m\u001b[0;34m\u001b[0m\u001b[0m\n\u001b[1;32m     23\u001b[0m         \u001b[0;34m'zip'\u001b[0m\u001b[0;34m:\u001b[0m\u001b[0mz\u001b[0m\u001b[0;34m,\u001b[0m\u001b[0;34m\u001b[0m\u001b[0;34m\u001b[0m\u001b[0m\n\u001b[0;32m---> 24\u001b[0;31m         \u001b[0;34m'appid'\u001b[0m\u001b[0;34m:\u001b[0m\u001b[0mow_api_key\u001b[0m\u001b[0;34m,\u001b[0m\u001b[0;34m\u001b[0m\u001b[0;34m\u001b[0m\u001b[0m\n\u001b[0m\u001b[1;32m     25\u001b[0m         \u001b[0;34m'units'\u001b[0m\u001b[0;34m:\u001b[0m\u001b[0;34m'imperial'\u001b[0m\u001b[0;34m\u001b[0m\u001b[0;34m\u001b[0m\u001b[0m\n\u001b[1;32m     26\u001b[0m     }\n",
      "\u001b[0;31mNameError\u001b[0m: name 'ow_api_key' is not defined"
     ]
    }
   ],
   "source": [
    "from uszipcode import Zipcode , SearchEngine\n",
    "lat = 30.2672\n",
    "long = -97.7431\n",
    "search = SearchEngine()\n",
    "\n",
    "res_zip = search.by_coordinates(lat=lat, lng=long, radius=100, returns = 2000)\n",
    "\n",
    "zips = []\n",
    "for z in res_zip:\n",
    "    zips.append(z.zipcode)\n",
    "\n",
    "#formatting code for using a params dictionary with the requests library. \n",
    "### list for zips \n",
    "## list for temps\n",
    "temps = []\n",
    "\n",
    "forecast_url = \"http://api.openweathermap.org/data/2.5/forecast?\"\n",
    "counter = 0 \n",
    "for z in zips:\n",
    "    counter += 1\n",
    "    params = {\n",
    "        ## make zip code a variable\n",
    "        'zip':z,\n",
    "        'appid':ow_api_key,\n",
    "        'units':'imperial'\n",
    "    }\n",
    "\n",
    "    res = requests.get(forecast_url, params)\n",
    "    try:\n",
    "        temperature_in_3_days =  res.json()['list'][3]['main']['temp']\n",
    "        temps.append(temperature_in_3_days)\n",
    "    except:\n",
    "        pass\n",
    "    ## append to temps\n",
    "    #sleep(1)\n",
    "    if counter % 25 == 0:\n",
    "        print(f'At iteration {counter}')"
   ]
  },
  {
   "cell_type": "code",
   "execution_count": 75,
   "metadata": {},
   "outputs": [],
   "source": [
    "## write to csv \n",
    "zip_df  = pd.DataFrame({'temperature':temps, 'zipcodes':zips})\n",
    "zip_df.to_csv('./austin_temps.csv', index=False)"
   ]
  },
  {
   "cell_type": "code",
   "execution_count": 45,
   "metadata": {},
   "outputs": [
    {
     "data": {
      "text/plain": [
       "48.45"
      ]
     },
     "execution_count": 45,
     "metadata": {},
     "output_type": "execute_result"
    }
   ],
   "source": [
    "temperature_in_3_days =  res.json()['list'][3]['main']['temp']\n",
    "temperature_in_3_days"
   ]
  },
  {
   "cell_type": "markdown",
   "metadata": {},
   "source": [
    "---\n",
    "Use `pd.DataFrame()` to put list of dictionaries into a dataframe\n",
    "\n",
    "---"
   ]
  },
  {
   "cell_type": "markdown",
   "metadata": {},
   "source": [
    "Looks like \n",
    "```python\n",
    "weather_dict['list'] \n",
    "```\n",
    "\n",
    "gives us a list of dictionaries for the varying days\n",
    "\n",
    "- What's the forecast for the fourth?"
   ]
  },
  {
   "cell_type": "code",
   "execution_count": 4,
   "metadata": {
    "collapsed": true
   },
   "outputs": [],
   "source": [
    "# Forecast for 5 days from now\n",
    "\n"
   ]
  },
  {
   "cell_type": "markdown",
   "metadata": {},
   "source": [
    "## Challenge \n",
    "\n",
    "Using a `for` loop in conjunction with your API - Grab the temperature for every zipcode within 50 kilometers of Austin for this Saturday? Plot the results using Tableau. \n",
    "\n",
    "I'd start with a google search - \"how to work with zipcodes in python\" there's probably a library (or 5) already built out for you to use!"
   ]
  },
  {
   "cell_type": "code",
   "execution_count": null,
   "metadata": {
    "collapsed": true
   },
   "outputs": [],
   "source": []
  }
 ],
 "metadata": {
  "anaconda-cloud": {},
  "kernelspec": {
   "display_name": "Python 3",
   "language": "python",
   "name": "python3"
  },
  "language_info": {
   "codemirror_mode": {
    "name": "ipython",
    "version": 3
   },
   "file_extension": ".py",
   "mimetype": "text/x-python",
   "name": "python",
   "nbconvert_exporter": "python",
   "pygments_lexer": "ipython3",
   "version": "3.6.9"
  }
 },
 "nbformat": 4,
 "nbformat_minor": 2
}
