{
 "cells": [
  {
   "cell_type": "code",
   "execution_count": 64,
   "metadata": {},
   "outputs": [],
   "source": [
    "import pandas as pd\n",
    "import numpy as np\n",
    "from sklearn.preprocessing import StandardScaler\n",
    "from sklearn.linear_model import Ridge, Lasso, RidgeCV, LassoCV , LinearRegression\n",
    "from sklearn.model_selection import train_test_split\n",
    "from sklearn.metrics import r2_score"
   ]
  },
  {
   "cell_type": "code",
   "execution_count": 65,
   "metadata": {},
   "outputs": [],
   "source": [
    "df = pd.read_csv('../data/starcraftapm.csv')"
   ]
  },
  {
   "cell_type": "code",
   "execution_count": 66,
   "metadata": {},
   "outputs": [
    {
     "data": {
      "text/html": [
       "<div>\n",
       "<style scoped>\n",
       "    .dataframe tbody tr th:only-of-type {\n",
       "        vertical-align: middle;\n",
       "    }\n",
       "\n",
       "    .dataframe tbody tr th {\n",
       "        vertical-align: top;\n",
       "    }\n",
       "\n",
       "    .dataframe thead th {\n",
       "        text-align: right;\n",
       "    }\n",
       "</style>\n",
       "<table border=\"1\" class=\"dataframe\">\n",
       "  <thead>\n",
       "    <tr style=\"text-align: right;\">\n",
       "      <th></th>\n",
       "      <th>GameID</th>\n",
       "      <th>LeagueIndex</th>\n",
       "      <th>Age</th>\n",
       "      <th>HoursPerWeek</th>\n",
       "      <th>TotalHours</th>\n",
       "      <th>APM</th>\n",
       "      <th>SelectByHotkeys</th>\n",
       "      <th>AssignToHotkeys</th>\n",
       "      <th>UniqueHotkeys</th>\n",
       "      <th>MinimapAttacks</th>\n",
       "      <th>MinimapRightClicks</th>\n",
       "      <th>NumberOfPACs</th>\n",
       "      <th>GapBetweenPACs</th>\n",
       "      <th>ActionLatency</th>\n",
       "      <th>ActionsInPAC</th>\n",
       "      <th>TotalMapExplored</th>\n",
       "      <th>WorkersMade</th>\n",
       "      <th>UniqueUnitsMade</th>\n",
       "      <th>ComplexUnitsMade</th>\n",
       "      <th>ComplexAbilitiesUsed</th>\n",
       "    </tr>\n",
       "  </thead>\n",
       "  <tbody>\n",
       "    <tr>\n",
       "      <th>0</th>\n",
       "      <td>52</td>\n",
       "      <td>5</td>\n",
       "      <td>27</td>\n",
       "      <td>10</td>\n",
       "      <td>3000</td>\n",
       "      <td>143.7180</td>\n",
       "      <td>0.003515</td>\n",
       "      <td>0.000220</td>\n",
       "      <td>7</td>\n",
       "      <td>0.000110</td>\n",
       "      <td>0.000392</td>\n",
       "      <td>0.004849</td>\n",
       "      <td>32.6677</td>\n",
       "      <td>40.8673</td>\n",
       "      <td>4.7508</td>\n",
       "      <td>28</td>\n",
       "      <td>0.001397</td>\n",
       "      <td>6</td>\n",
       "      <td>0.0</td>\n",
       "      <td>0.000000</td>\n",
       "    </tr>\n",
       "    <tr>\n",
       "      <th>1</th>\n",
       "      <td>55</td>\n",
       "      <td>5</td>\n",
       "      <td>23</td>\n",
       "      <td>10</td>\n",
       "      <td>5000</td>\n",
       "      <td>129.2322</td>\n",
       "      <td>0.003304</td>\n",
       "      <td>0.000259</td>\n",
       "      <td>4</td>\n",
       "      <td>0.000294</td>\n",
       "      <td>0.000432</td>\n",
       "      <td>0.004307</td>\n",
       "      <td>32.9194</td>\n",
       "      <td>42.3454</td>\n",
       "      <td>4.8434</td>\n",
       "      <td>22</td>\n",
       "      <td>0.001193</td>\n",
       "      <td>5</td>\n",
       "      <td>0.0</td>\n",
       "      <td>0.000208</td>\n",
       "    </tr>\n",
       "    <tr>\n",
       "      <th>2</th>\n",
       "      <td>56</td>\n",
       "      <td>4</td>\n",
       "      <td>30</td>\n",
       "      <td>10</td>\n",
       "      <td>200</td>\n",
       "      <td>69.9612</td>\n",
       "      <td>0.001101</td>\n",
       "      <td>0.000336</td>\n",
       "      <td>4</td>\n",
       "      <td>0.000294</td>\n",
       "      <td>0.000461</td>\n",
       "      <td>0.002926</td>\n",
       "      <td>44.6475</td>\n",
       "      <td>75.3548</td>\n",
       "      <td>4.0430</td>\n",
       "      <td>22</td>\n",
       "      <td>0.000745</td>\n",
       "      <td>6</td>\n",
       "      <td>0.0</td>\n",
       "      <td>0.000189</td>\n",
       "    </tr>\n",
       "    <tr>\n",
       "      <th>3</th>\n",
       "      <td>57</td>\n",
       "      <td>3</td>\n",
       "      <td>19</td>\n",
       "      <td>20</td>\n",
       "      <td>400</td>\n",
       "      <td>107.6016</td>\n",
       "      <td>0.001034</td>\n",
       "      <td>0.000213</td>\n",
       "      <td>1</td>\n",
       "      <td>0.000053</td>\n",
       "      <td>0.000543</td>\n",
       "      <td>0.003783</td>\n",
       "      <td>29.2203</td>\n",
       "      <td>53.7352</td>\n",
       "      <td>4.9155</td>\n",
       "      <td>19</td>\n",
       "      <td>0.000426</td>\n",
       "      <td>7</td>\n",
       "      <td>0.0</td>\n",
       "      <td>0.000384</td>\n",
       "    </tr>\n",
       "    <tr>\n",
       "      <th>4</th>\n",
       "      <td>58</td>\n",
       "      <td>3</td>\n",
       "      <td>32</td>\n",
       "      <td>10</td>\n",
       "      <td>500</td>\n",
       "      <td>122.8908</td>\n",
       "      <td>0.001136</td>\n",
       "      <td>0.000327</td>\n",
       "      <td>2</td>\n",
       "      <td>0.000000</td>\n",
       "      <td>0.001329</td>\n",
       "      <td>0.002368</td>\n",
       "      <td>22.6885</td>\n",
       "      <td>62.0813</td>\n",
       "      <td>9.3740</td>\n",
       "      <td>15</td>\n",
       "      <td>0.001174</td>\n",
       "      <td>4</td>\n",
       "      <td>0.0</td>\n",
       "      <td>0.000019</td>\n",
       "    </tr>\n",
       "  </tbody>\n",
       "</table>\n",
       "</div>"
      ],
      "text/plain": [
       "   GameID  LeagueIndex  Age  HoursPerWeek  TotalHours       APM  \\\n",
       "0      52            5   27            10        3000  143.7180   \n",
       "1      55            5   23            10        5000  129.2322   \n",
       "2      56            4   30            10         200   69.9612   \n",
       "3      57            3   19            20         400  107.6016   \n",
       "4      58            3   32            10         500  122.8908   \n",
       "\n",
       "   SelectByHotkeys  AssignToHotkeys  UniqueHotkeys  MinimapAttacks  \\\n",
       "0         0.003515         0.000220              7        0.000110   \n",
       "1         0.003304         0.000259              4        0.000294   \n",
       "2         0.001101         0.000336              4        0.000294   \n",
       "3         0.001034         0.000213              1        0.000053   \n",
       "4         0.001136         0.000327              2        0.000000   \n",
       "\n",
       "   MinimapRightClicks  NumberOfPACs  GapBetweenPACs  ActionLatency  \\\n",
       "0            0.000392      0.004849         32.6677        40.8673   \n",
       "1            0.000432      0.004307         32.9194        42.3454   \n",
       "2            0.000461      0.002926         44.6475        75.3548   \n",
       "3            0.000543      0.003783         29.2203        53.7352   \n",
       "4            0.001329      0.002368         22.6885        62.0813   \n",
       "\n",
       "   ActionsInPAC  TotalMapExplored  WorkersMade  UniqueUnitsMade  \\\n",
       "0        4.7508                28     0.001397                6   \n",
       "1        4.8434                22     0.001193                5   \n",
       "2        4.0430                22     0.000745                6   \n",
       "3        4.9155                19     0.000426                7   \n",
       "4        9.3740                15     0.001174                4   \n",
       "\n",
       "   ComplexUnitsMade  ComplexAbilitiesUsed  \n",
       "0               0.0              0.000000  \n",
       "1               0.0              0.000208  \n",
       "2               0.0              0.000189  \n",
       "3               0.0              0.000384  \n",
       "4               0.0              0.000019  "
      ]
     },
     "execution_count": 66,
     "metadata": {},
     "output_type": "execute_result"
    }
   ],
   "source": [
    "df.head()"
   ]
  },
  {
   "cell_type": "markdown",
   "metadata": {},
   "source": [
    "### Grab Features + Train Test Split"
   ]
  },
  {
   "cell_type": "code",
   "execution_count": 67,
   "metadata": {},
   "outputs": [],
   "source": [
    "X = df.drop(['GameID', 'TotalHours'], axis=1)\n",
    "y = df['TotalHours']"
   ]
  },
  {
   "cell_type": "code",
   "execution_count": 68,
   "metadata": {},
   "outputs": [],
   "source": [
    "sc = StandardScaler()\n",
    "X_train, X_holdout, y_train, y_holdout = \\\n",
    "train_test_split(X, y, random_state=78701)\n",
    "X_train_sc = pd.DataFrame(sc.fit_transform(X_train), \\\n",
    "                          columns=X.columns)\n",
    "X_holdout_sc = pd.DataFrame(sc.fit_transform(X_holdout), \\\n",
    "                        columns=X.columns)"
   ]
  },
  {
   "cell_type": "markdown",
   "metadata": {},
   "source": [
    "### Regular Ridge + RidgeCV"
   ]
  },
  {
   "cell_type": "code",
   "execution_count": 69,
   "metadata": {},
   "outputs": [
    {
     "data": {
      "text/plain": [
       "1992    6.398595\n",
       "676     6.478510\n",
       "3176    7.048386\n",
       "1807    6.908755\n",
       "1490    7.601402\n",
       "          ...   \n",
       "1683    6.908755\n",
       "1952    5.860786\n",
       "2770    6.398595\n",
       "1547    6.685861\n",
       "2713    6.685861\n",
       "Name: TotalHours, Length: 2503, dtype: float64"
      ]
     },
     "execution_count": 69,
     "metadata": {},
     "output_type": "execute_result"
    }
   ],
   "source": [
    "np.log1p(y_train) # Here's an example for our project"
   ]
  },
  {
   "cell_type": "code",
   "execution_count": 70,
   "metadata": {
    "scrolled": true
   },
   "outputs": [],
   "source": [
    "ridge = Ridge()\n",
    "\n",
    "y_train_transformed = np.log1p(y_train) # transformed to log. When fit it only got log of y.\n",
    "# to get it back you np.expm1(predictions) and submit that cleaned brought-back-to version\n",
    "\n",
    "ridge.fit(X_train_sc, y_train_transformed) # fit to the trainsformed log\n",
    "\n",
    "predictions = ridge.predict(X_holdout_sc)"
   ]
  },
  {
   "cell_type": "code",
   "execution_count": 71,
   "metadata": {},
   "outputs": [
    {
     "data": {
      "text/plain": [
       "202      800\n",
       "708      300\n",
       "1352     100\n",
       "1010     500\n",
       "537     1000\n",
       "Name: TotalHours, dtype: int64"
      ]
     },
     "execution_count": 71,
     "metadata": {},
     "output_type": "execute_result"
    }
   ],
   "source": [
    "y_holdout.head()"
   ]
  },
  {
   "cell_type": "code",
   "execution_count": 72,
   "metadata": {},
   "outputs": [],
   "source": [
    "# For prject get log of prices"
   ]
  },
  {
   "cell_type": "code",
   "execution_count": 73,
   "metadata": {},
   "outputs": [],
   "source": [
    "predictions_clean = np.expm1(predictions)"
   ]
  },
  {
   "cell_type": "code",
   "execution_count": 74,
   "metadata": {},
   "outputs": [
    {
     "data": {
      "text/plain": [
       "-0.2227724007450349"
      ]
     },
     "execution_count": 74,
     "metadata": {},
     "output_type": "execute_result"
    }
   ],
   "source": [
    "r2_score(y_holdout, predictions_clean)"
   ]
  },
  {
   "cell_type": "code",
   "execution_count": 75,
   "metadata": {},
   "outputs": [
    {
     "data": {
      "text/plain": [
       "array([7.21988054, 6.21328652, 5.43368153, 6.37716302, 6.66329204,\n",
       "       5.74454638, 6.31943679, 6.09735578, 7.11530621, 5.48067418,\n",
       "       5.08012505, 5.57757389, 6.76221863, 6.24310798, 5.50256335,\n",
       "       6.3924837 , 5.70711554, 6.74060543, 6.01383272, 6.06670455,\n",
       "       6.50267468, 6.10628642, 5.31760136, 7.01538638, 5.3856072 ,\n",
       "       6.3686002 , 6.29898627, 6.15586686, 6.46244295, 5.51623095,\n",
       "       6.63108288, 6.44736814, 6.55299705, 6.47772187, 5.89995428,\n",
       "       5.81676053, 5.61862164, 5.80706155, 6.49386129, 6.98582218,\n",
       "       6.04638227, 6.81276212, 5.53600288, 6.81774896, 5.48701369,\n",
       "       6.34545803, 6.21216453, 6.23900761, 5.77530102, 6.59629539,\n",
       "       6.01823232, 5.70769844, 6.13687372, 5.80249138, 6.04290191,\n",
       "       6.68274516, 6.13319669, 6.64767092, 5.85514004, 6.71925088,\n",
       "       6.16816731, 6.45701547, 5.93492509, 7.17328033, 6.26259546,\n",
       "       6.21154119, 5.15905647, 6.44120607, 6.31107494, 5.29473161,\n",
       "       6.65201234, 6.10148575, 5.8875495 , 5.09115613, 5.98331341,\n",
       "       5.92854713, 6.42442326, 5.67355409, 6.2101176 , 6.76223053,\n",
       "       5.33421147, 6.68804666, 7.04087303, 5.72428496, 5.77912887,\n",
       "       6.07636881, 6.17137234, 6.69530122, 6.78839827, 6.41660948,\n",
       "       5.60733239, 5.70167339, 6.24545526, 5.55535787, 5.86417035,\n",
       "       6.24564738, 6.54846051, 6.75801101, 5.67937942, 6.37608012,\n",
       "       5.77914549, 5.45784066, 5.91374155, 6.05554953, 6.37291931,\n",
       "       6.44210913, 5.66692553, 6.50560275, 5.88691913, 6.15605002,\n",
       "       6.34483083, 6.2319719 , 6.02054936, 7.15550996, 5.90730435,\n",
       "       5.52492308, 7.25848883, 6.39786717, 6.91000286, 6.13086481,\n",
       "       6.25327247, 6.84662723, 5.64561667, 5.68747964, 5.93850431,\n",
       "       7.38751461, 6.98176359, 5.34508365, 5.78315918, 5.88516646,\n",
       "       7.22076283, 4.98880356, 5.85612702, 6.16929222, 6.23845622,\n",
       "       6.44452645, 5.64525384, 5.80453844, 6.69552249, 5.01980756,\n",
       "       6.07852623, 6.29957434, 5.90641772, 6.82367444, 6.18010587,\n",
       "       5.95025935, 6.40061592, 6.49862401, 6.75683418, 6.32032292,\n",
       "       5.52247771, 6.0191399 , 5.45761505, 5.73850505, 6.10283972,\n",
       "       6.02128777, 6.58978925, 5.47673264, 6.4556754 , 6.48264712,\n",
       "       5.26469382, 6.29715805, 5.50871708, 6.51348165, 6.20938715,\n",
       "       6.73855164, 6.24759805, 5.70420083, 6.19834837, 5.43377816,\n",
       "       6.7509148 , 6.652257  , 6.38956677, 5.6379224 , 5.2580532 ,\n",
       "       6.71856184, 5.58189872, 5.49351516, 6.95940686, 5.90139036,\n",
       "       6.31350395, 6.00030396, 7.30107267, 4.94267029, 6.24190431,\n",
       "       6.9449786 , 6.01097692, 5.53254167, 5.44070483, 6.31724065,\n",
       "       6.52582002, 6.5873112 , 5.25186805, 6.13345896, 5.34482261,\n",
       "       6.57127448, 7.32356205, 6.47644108, 6.84081815, 5.88779781,\n",
       "       6.58308188, 6.50083718, 6.21193539, 5.59254004, 6.28090761,\n",
       "       5.07736235, 6.10851471, 6.43385552, 5.59113523, 6.59733474,\n",
       "       6.96023728, 5.41680941, 4.87799461, 6.38567307, 6.68468674,\n",
       "       6.41556293, 5.45090552, 6.13053097, 5.74129262, 6.03456214,\n",
       "       5.93684694, 6.75686965, 6.07606841, 6.8595572 , 6.0880842 ,\n",
       "       6.9257986 , 6.44258624, 5.79606373, 6.64571171, 6.48687701,\n",
       "       6.25878534, 5.70842235, 6.32531114, 6.5307699 , 6.57410147,\n",
       "       5.81371719, 6.55358567, 5.78857553, 5.66769758, 6.11361772,\n",
       "       5.77301111, 6.63219632, 5.88994212, 6.02441657, 6.32248982,\n",
       "       5.50885557, 6.36402117, 6.68961404, 6.5531964 , 5.75289685,\n",
       "       6.61192938, 5.70764795, 5.88177914, 6.19935431, 5.442898  ,\n",
       "       5.30962674, 6.77974259, 5.66398218, 6.43145368, 6.1336683 ,\n",
       "       6.3826557 , 6.4039146 , 5.23898301, 6.16522685, 5.95780485,\n",
       "       6.22424139, 5.84321748, 6.62142373, 6.40159017, 6.11321626,\n",
       "       5.72468294, 6.98869957, 6.09479723, 6.80197217, 6.36962455,\n",
       "       5.6985234 , 6.30049506, 5.68736994, 6.91934283, 6.49321471,\n",
       "       6.23890107, 5.53899835, 6.11316814, 6.09011149, 5.59544879,\n",
       "       5.48462157, 5.2507846 , 6.0639598 , 5.21093037, 5.82889995,\n",
       "       6.38300416, 5.48615226, 6.40581031, 5.56398566, 6.3778954 ,\n",
       "       5.56055438, 5.63044125, 5.44092459, 5.89294256, 6.29649678,\n",
       "       5.2749053 , 6.27126726, 5.88692445, 5.67890548, 5.68167584,\n",
       "       5.85968282, 5.033633  , 5.49612505, 5.90568125, 5.16873745,\n",
       "       4.95966287, 6.36999855, 6.34700377, 6.23587433, 6.56768939,\n",
       "       6.750344  , 5.29760054, 6.21343493, 6.73212276, 5.66178075,\n",
       "       5.73473262, 5.5614825 , 6.29272377, 6.06288906, 5.5141434 ,\n",
       "       6.16703896, 6.65625323, 6.69997872, 5.94211751, 6.18460915,\n",
       "       5.81513992, 5.37769549, 6.29706848, 6.07204702, 6.37979159,\n",
       "       6.03753038, 7.17319723, 5.53287152, 6.21825638, 6.63367202,\n",
       "       6.25712465, 5.8826892 , 6.42745141, 5.53687449, 5.62346128,\n",
       "       5.13111817, 5.49760367, 7.6121133 , 5.95049239, 6.53403316,\n",
       "       5.51934555, 6.5911338 , 6.30092924, 6.44700598, 5.84243095,\n",
       "       6.09054573, 5.98095214, 6.52754914, 6.08832115, 6.04981453,\n",
       "       5.36628971, 6.43994331, 6.1709674 , 5.82162707, 7.10604381,\n",
       "       6.54601523, 6.10569027, 6.06160296, 6.08384292, 6.26435216,\n",
       "       5.78695879, 6.18525801, 6.96103185, 6.03516421, 6.99948287,\n",
       "       6.42270273, 6.14403879, 6.07097333, 5.86576264, 5.34631172,\n",
       "       6.40070314, 6.4705089 , 6.79062947, 6.15650414, 5.95450935,\n",
       "       7.17724663, 6.04176413, 5.97502949, 5.66404924, 4.913558  ,\n",
       "       6.61101972, 6.96452441, 5.39105718, 5.83182672, 5.37679315,\n",
       "       7.04404387, 5.74146638, 6.99627062, 5.45080105, 6.32812925,\n",
       "       6.65538063, 5.59065026, 6.90252114, 6.11960822, 6.12902711,\n",
       "       6.72557682, 6.1715448 , 6.25188666, 5.88540381, 6.57982559,\n",
       "       5.68623326, 6.18138082, 6.03736314, 5.66129802, 6.47120194,\n",
       "       6.50588587, 5.77395687, 6.26148685, 6.54088472, 5.88308015,\n",
       "       6.96797487, 5.86351991, 6.57197524, 6.39301985, 6.32867071,\n",
       "       6.87581311, 6.2290089 , 6.74132081, 7.19244303, 5.97672873,\n",
       "       5.27689682, 6.77685123, 6.15926422, 6.99325113, 6.97106312,\n",
       "       6.54602589, 6.29880913, 6.90671638, 6.67922131, 6.19243208,\n",
       "       5.41653659, 5.58510079, 6.19173589, 7.58703344, 6.18339677,\n",
       "       5.45948986, 6.34724733, 6.87500266, 6.49861973, 5.41615892,\n",
       "       6.32384094, 6.08152816, 5.29771455, 5.67766107, 5.63567033,\n",
       "       6.48954075, 5.4186252 , 5.84892898, 6.3861969 , 6.30082569,\n",
       "       7.65046868, 6.78044614, 6.17943825, 6.63633587, 6.42800514,\n",
       "       5.99384565, 5.83983848, 6.23070091, 6.29889058, 6.46507756,\n",
       "       6.43477995, 6.00559746, 6.42489294, 6.83338165, 6.26748822,\n",
       "       5.93986396, 6.14278512, 5.86929927, 6.58313274, 5.64474751,\n",
       "       6.09342709, 6.70179983, 6.50889398, 5.9325106 , 6.36708542,\n",
       "       6.21671165, 6.34972182, 6.85769303, 6.39060532, 7.21628817,\n",
       "       6.62420713, 6.50224939, 9.5378762 , 6.51392358, 6.0671303 ,\n",
       "       6.22203464, 6.15651497, 5.84616596, 5.34003603, 5.84466479,\n",
       "       6.91433807, 5.51145741, 5.37383956, 5.65475565, 6.12585664,\n",
       "       6.09706348, 5.94284085, 5.44519334, 6.68352415, 6.33490543,\n",
       "       5.18244491, 5.50696265, 7.21533775, 6.15571702, 6.38278721,\n",
       "       5.91093242, 6.21875299, 6.79736568, 5.98582431, 6.10052761,\n",
       "       7.11988896, 6.32015443, 5.09068956, 5.0155428 , 6.9244531 ,\n",
       "       6.90018367, 5.42213846, 5.81946802, 6.33128636, 5.05950869,\n",
       "       6.00797496, 6.69686148, 6.28370004, 6.34079459, 5.79702596,\n",
       "       6.02366143, 5.71058387, 6.89140346, 5.3581567 , 5.6723094 ,\n",
       "       6.75625891, 5.36706978, 6.11917306, 5.96544618, 6.51969805,\n",
       "       6.4924318 , 5.88911836, 6.20099027, 6.09202191, 5.74355117,\n",
       "       7.05593203, 6.32343732, 5.59479145, 5.61363679, 6.97383894,\n",
       "       6.00263136, 5.85848879, 5.84353366, 5.42383308, 5.8919686 ,\n",
       "       5.75720625, 6.73937461, 6.21783525, 6.17772379, 6.51954568,\n",
       "       5.91291531, 6.84003736, 7.35353626, 5.45713842, 6.59702568,\n",
       "       6.08911182, 5.50765181, 6.98451755, 5.3649529 , 5.73909947,\n",
       "       5.91708699, 5.27355681, 5.80043385, 5.80978842, 5.69647143,\n",
       "       5.85414595, 6.10401274, 6.26166234, 6.02870883, 5.93709789,\n",
       "       6.75578313, 7.42648727, 5.80995299, 6.45665278, 6.55024409,\n",
       "       6.5602738 , 5.03313208, 6.37174862, 5.92759164, 5.626546  ,\n",
       "       6.50096523, 6.11883153, 5.52064096, 6.80168948, 6.72046661,\n",
       "       6.96436196, 6.84226026, 6.61417474, 6.17165625, 6.04890819,\n",
       "       6.20717072, 6.24596147, 6.07660581, 7.39276901, 6.50544784,\n",
       "       6.23561602, 5.73308749, 6.9770555 , 6.64567054, 5.68703636,\n",
       "       5.18236759, 5.13718995, 7.27211645, 5.27585508, 5.74506733,\n",
       "       6.33620961, 5.1175649 , 6.88926174, 5.97283492, 6.09839538,\n",
       "       7.76043369, 5.94089406, 6.06090692, 6.7055742 , 6.26158822,\n",
       "       6.11546178, 6.47318114, 5.39515043, 6.47881363, 6.0231609 ,\n",
       "       5.96697638, 5.95140248, 6.2874008 , 6.23108556, 5.8377196 ,\n",
       "       5.71539617, 5.38358359, 6.18879542, 5.86537072, 6.3258791 ,\n",
       "       6.79073627, 6.70057722, 6.40516544, 5.61363629, 6.59306048,\n",
       "       7.04633278, 5.71646533, 6.64336283, 5.91534753, 6.12166043,\n",
       "       5.412468  , 5.58844698, 6.73195792, 6.69503637, 6.24587163,\n",
       "       6.18388562, 6.20822463, 4.87430966, 5.45591709, 5.91356362,\n",
       "       6.0717205 , 6.76043777, 6.3175507 , 6.16080079, 6.02108784,\n",
       "       5.94318775, 6.11919795, 6.75016457, 5.57256838, 5.70269508,\n",
       "       6.23039664, 6.23119854, 6.17737549, 6.8117613 , 6.67955014,\n",
       "       5.55395894, 5.88318787, 6.08628805, 5.19920726, 6.56987471,\n",
       "       6.37719319, 6.98948861, 6.15295337, 5.7430173 , 6.541174  ,\n",
       "       6.35907112, 6.00689059, 5.80080256, 5.16847393, 6.20910857,\n",
       "       5.38049738, 6.08724453, 6.5404917 , 6.80704041, 6.98435284,\n",
       "       6.55100291, 6.39399288, 5.10490545, 5.74250168, 5.69443711,\n",
       "       5.70853361, 5.73133102, 6.80569379, 6.45979946, 6.11157037,\n",
       "       5.40148503, 6.9163717 , 6.4762831 , 6.03729191, 6.52792108,\n",
       "       5.79800178, 7.1470654 , 6.36378301, 6.40356295, 5.70363938,\n",
       "       5.71504869, 5.18806867, 5.33060507, 6.55757814, 6.61522187,\n",
       "       6.12183692, 5.96471466, 6.86419417, 5.74531627, 5.49445123,\n",
       "       5.02116122, 7.02757065, 7.33605231, 6.67142821, 5.49314921,\n",
       "       5.70278519, 5.64485377, 5.52146678, 6.54964606, 5.76458378,\n",
       "       6.13992759, 5.1927312 , 6.51686426, 7.38070056, 6.6011743 ,\n",
       "       6.37334603, 7.21172038, 6.47394448, 6.64856048, 7.02138604,\n",
       "       6.44525363, 6.21680953, 6.96235199, 5.4679665 , 6.32697991,\n",
       "       7.05318562, 6.21408762, 5.52690966, 6.22184926, 5.83783878,\n",
       "       7.40075144, 5.44051268, 5.77072908, 5.27101309, 6.46015264,\n",
       "       6.7021932 , 6.19291672, 6.35280298, 6.23073055, 6.22648228,\n",
       "       6.40832885, 6.20227846, 6.22123198, 6.39674472, 5.26992304,\n",
       "       6.05029108, 6.81241263, 5.46443231, 5.54515061, 6.05114156,\n",
       "       5.53337075, 5.62395791, 5.22648595, 6.34715574, 6.35376002,\n",
       "       5.65546136, 6.24733175, 6.0119887 , 6.60428763, 5.8612446 ,\n",
       "       6.7247045 , 5.84003702, 6.44067362, 6.48228911, 6.58212301,\n",
       "       6.6677659 , 6.28520977, 5.7233365 , 6.03027426, 5.6674068 ,\n",
       "       5.91588125, 5.63508526, 6.49998213, 6.21063403, 6.27154909,\n",
       "       6.21630278, 6.96001777, 5.15792115, 7.22119513, 6.17715208,\n",
       "       6.34572752, 5.72126003, 6.3142476 , 6.04184491, 5.95342784,\n",
       "       7.25661284, 5.90656823, 5.69946711, 5.5376531 , 5.91609763,\n",
       "       6.65502663, 6.41857391, 6.83949122, 5.98420741, 5.69636338,\n",
       "       6.5893931 , 4.98816264, 6.14579572, 5.67518449, 6.19805878,\n",
       "       6.00093675, 5.5129107 , 5.67404694, 6.00410172, 7.28514891])"
      ]
     },
     "execution_count": 75,
     "metadata": {},
     "output_type": "execute_result"
    }
   ],
   "source": [
    "predictions"
   ]
  },
  {
   "cell_type": "code",
   "execution_count": 76,
   "metadata": {},
   "outputs": [
    {
     "data": {
      "text/plain": [
       "-0.9654370195598629"
      ]
     },
     "execution_count": 76,
     "metadata": {},
     "output_type": "execute_result"
    }
   ],
   "source": [
    "r2_score(y_holdout, predictions)"
   ]
  },
  {
   "cell_type": "markdown",
   "metadata": {},
   "source": [
    "# Analyze our coefficients for J and our presentation/project/blog"
   ]
  },
  {
   "cell_type": "code",
   "execution_count": 77,
   "metadata": {},
   "outputs": [
    {
     "data": {
      "text/plain": [
       "<matplotlib.collections.PathCollection at 0x1a3811a940>"
      ]
     },
     "execution_count": 77,
     "metadata": {},
     "output_type": "execute_result"
    },
    {
     "data": {
      "image/png": "[encoded data removed]",
      "text/plain": [
       "<Figure size 432x288 with 1 Axes>"
      ]
     },
     "metadata": {
      "needs_background": "light"
     },
     "output_type": "display_data"
    }
   ],
   "source": [
    "import matplotlib.pyplot as plt \n",
    "fig , ax = plt.subplots()\n",
    "ax.scatter(predictions, y_holdout - predictions)\n",
    "#ax.plot([0, 1000], [0, 1000]); "
   ]
  },
  {
   "cell_type": "code",
   "execution_count": 78,
   "metadata": {},
   "outputs": [
    {
     "data": {
      "text/plain": [
       "<matplotlib.collections.PathCollection at 0x1a37947e80>"
      ]
     },
     "execution_count": 78,
     "metadata": {},
     "output_type": "execute_result"
    },
    {
     "data": {
      "image/png": "[encoded data removed]",
      "text/plain": [
       "<Figure size 432x288 with 1 Axes>"
      ]
     },
     "metadata": {
      "needs_background": "light"
     },
     "output_type": "display_data"
    }
   ],
   "source": [
    "fig , ax = plt.subplots()\n",
    "ax.scatter(predictions, y_holdout - predictions_clean)\n",
    "#ax.plot([0, 1000], [0, 1000]); "
   ]
  },
  {
   "cell_type": "markdown",
   "metadata": {},
   "source": [
    "# Analyze our coefficients for J and our presentation/project/blog"
   ]
  },
  {
   "cell_type": "code",
   "execution_count": 79,
   "metadata": {},
   "outputs": [
    {
     "data": {
      "text/plain": [
       "<matplotlib.collections.PathCollection at 0x1a38085b38>"
      ]
     },
     "execution_count": 79,
     "metadata": {},
     "output_type": "execute_result"
    },
    {
     "data": {
      "image/png": "[encoded data removed]",
      "text/plain": [
       "<Figure size 432x288 with 1 Axes>"
      ]
     },
     "metadata": {
      "needs_background": "light"
     },
     "output_type": "display_data"
    }
   ],
   "source": [
    "fig , ax = plt.subplots()\n",
    "ax.scatter(predictions_clean, y_holdout - predictions_clean)\n",
    "#ax.plot([0, 1000], [0, 1000]); "
   ]
  },
  {
   "cell_type": "code",
   "execution_count": 85,
   "metadata": {},
   "outputs": [
    {
     "data": {
      "text/plain": [
       "<bound method DataFrame.sort_values of                              0\n",
       "LeagueIndex           0.356004\n",
       "Age                   0.077743\n",
       "HoursPerWeek          0.245893\n",
       "APM                   0.013267\n",
       "SelectByHotkeys       0.058243\n",
       "AssignToHotkeys      -0.033920\n",
       "UniqueHotkeys        -0.022703\n",
       "MinimapAttacks       -0.005799\n",
       "MinimapRightClicks   -0.003495\n",
       "NumberOfPACs         -0.049587\n",
       "GapBetweenPACs       -0.038239\n",
       "ActionLatency        -0.070340\n",
       "ActionsInPAC          0.049940\n",
       "TotalMapExplored      0.046991\n",
       "WorkersMade           0.009485\n",
       "UniqueUnitsMade       0.018766\n",
       "ComplexUnitsMade      0.006469\n",
       "ComplexAbilitiesUsed -0.029245>"
      ]
     },
     "execution_count": 85,
     "metadata": {},
     "output_type": "execute_result"
    }
   ],
   "source": [
    "# he wants to see this in our project\n",
    "pd.DataFrame(ridge.coef_, index=X.columns).sort_values"
   ]
  },
  {
   "cell_type": "code",
   "execution_count": 81,
   "metadata": {},
   "outputs": [
    {
     "data": {
      "text/plain": [
       "<matplotlib.axes._subplots.AxesSubplot at 0x1a376aeba8>"
      ]
     },
     "execution_count": 81,
     "metadata": {},
     "output_type": "execute_result"
    },
    {
     "data": {
      "image/png": "[encoded data removed]",
      "text/plain": [
       "<Figure size 432x288 with 1 Axes>"
      ]
     },
     "metadata": {
      "needs_background": "light"
     },
     "output_type": "display_data"
    }
   ],
   "source": [
    "df.groupby(\"LeagueIndex\")['TotalHours'].mean().plot.bar()"
   ]
  },
  {
   "cell_type": "code",
   "execution_count": 82,
   "metadata": {},
   "outputs": [
    {
     "data": {
      "image/png": "[encoded data removed]",
      "text/plain": [
       "<Figure size 432x288 with 1 Axes>"
      ]
     },
     "metadata": {
      "needs_background": "light"
     },
     "output_type": "display_data"
    }
   ],
   "source": [
    "fig , ax = plt.subplots() # This is a problem. 1,000,000 hours isn't possible\n",
    "\n",
    "ax.hist(y);"
   ]
  },
  {
   "cell_type": "code",
   "execution_count": 83,
   "metadata": {},
   "outputs": [
    {
     "data": {
      "text/plain": [
       "0      3000\n",
       "1      5000\n",
       "2       200\n",
       "3       400\n",
       "4       500\n",
       "5        70\n",
       "6       240\n",
       "7     10000\n",
       "8      2708\n",
       "9       800\n",
       "10     6000\n",
       "11      190\n",
       "12      350\n",
       "13     1000\n",
       "14     5000\n",
       "Name: TotalHours, dtype: int64"
      ]
     },
     "execution_count": 83,
     "metadata": {},
     "output_type": "execute_result"
    }
   ],
   "source": [
    "y.head(15)"
   ]
  },
  {
   "cell_type": "markdown",
   "metadata": {},
   "source": [
    "# Analyze our coefficients for J and our presentation/project/blog"
   ]
  },
  {
   "cell_type": "code",
   "execution_count": null,
   "metadata": {},
   "outputs": [],
   "source": []
  },
  {
   "cell_type": "markdown",
   "metadata": {},
   "source": [
    "### Examine Coefficients"
   ]
  },
  {
   "cell_type": "code",
   "execution_count": null,
   "metadata": {},
   "outputs": [],
   "source": []
  }
 ],
 "metadata": {
  "kernelspec": {
   "display_name": "Python 3",
   "language": "python",
   "name": "python3"
  },
  "language_info": {
   "codemirror_mode": {
    "name": "ipython",
    "version": 3
   },
   "file_extension": ".py",
   "mimetype": "text/x-python",
   "name": "python",
   "nbconvert_exporter": "python",
   "pygments_lexer": "ipython3",
   "version": "3.6.9"
  }
 },
 "nbformat": 4,
 "nbformat_minor": 2
}
