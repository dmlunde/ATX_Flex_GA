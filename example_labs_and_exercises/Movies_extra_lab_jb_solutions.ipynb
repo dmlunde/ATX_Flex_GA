{
 "cells": [
  {
   "cell_type": "markdown",
   "metadata": {},
   "source": [
    "<img src=\"http://imgur.com/1ZcRyrc.png\" style=\"float: left; margin: 20px; height: 55px\">\n",
    "\n",
    "## Python Review with Movie Data\n",
    "\n",
    "\n",
    "---\n",
    "\n",
    "In this lab you'll be using the provided imdb `movies` list below as your dataset. \n",
    "\n",
    "This lab is designed to practice iteration and funcitons in particular. The normal questions are more gentle, and the challenge questions are suitable for advanced/expert python or programming-experienced students. \n",
    "\n",
    "All the questions require writing functions and also use iteration to solve. You should print out a test of each function you write.\n",
    "\n",
    "\n",
    "### 1. Load the provided list of movies dictionaries."
   ]
  },
  {
   "cell_type": "code",
   "execution_count": 38,
   "metadata": {
    "collapsed": true
   },
   "outputs": [],
   "source": [
    "# List of movies dictionaries:\n",
    "\n",
    "\n",
    "\n",
    "movies = [\n",
    "{\n",
    "\"name\": \"Usual Suspects\", \n",
    "\"imdb\": 7.0,\n",
    "\"category\": \"Thriller\"\n",
    "},\n",
    "{\n",
    "\"name\": \"Hitman\",\n",
    "\"imdb\": 6.3,\n",
    "\"category\": \"Action\"\n",
    "},\n",
    "{\n",
    "\"name\": \"Dark Knight\",\n",
    "\"imdb\": 9.0,\n",
    "\"category\": \"Adventure\"\n",
    "},\n",
    "{\n",
    "\"name\": \"The Help\",\n",
    "\"imdb\": 8.0,\n",
    "\"category\": \"Drama\"\n",
    "},\n",
    "{\n",
    "\"name\": \"The Choice\",\n",
    "\"imdb\": 6.2,\n",
    "\"category\": \"Romance\"\n",
    "},\n",
    "{\n",
    "\"name\": \"Colonia\",\n",
    "\"imdb\": 7.4,\n",
    "\"category\": \"Romance\"\n",
    "},\n",
    "{\n",
    "\"name\": \"Love\",\n",
    "\"imdb\": 6.0,\n",
    "\"category\": \"Romance\"\n",
    "},\n",
    "{\n",
    "\"name\": \"Bride Wars\",\n",
    "\"imdb\": 5.4,\n",
    "\"category\": \"Romance\"\n",
    "},\n",
    "{\n",
    "\"name\": \"AlphaJet\",\n",
    "\"imdb\": 3.2,\n",
    "\"category\": \"War\"\n",
    "},\n",
    "{\n",
    "\"name\": \"Ringing Crime\",\n",
    "\"imdb\": 4.0,\n",
    "\"category\": \"Crime\"\n",
    "},\n",
    "{\n",
    "\"name\": \"Joking muck\",\n",
    "\"imdb\": 7.2,\n",
    "\"category\": \"Comedy\"\n",
    "},\n",
    "{\n",
    "\"name\": \"What is the name\",\n",
    "\"imdb\": 9.2,\n",
    "\"category\": \"Suspense\"\n",
    "},\n",
    "{\n",
    "\"name\": \"Detective\",\n",
    "\"imdb\": 7.0,\n",
    "\"category\": \"Suspense\"\n",
    "},\n",
    "{\n",
    "\"name\": \"Exam\",\n",
    "\"imdb\": 4.2,\n",
    "\"category\": \"Thriller\"\n",
    "},\n",
    "{\n",
    "\"name\": \"We Two\",\n",
    "\"imdb\": 7.2,\n",
    "\"category\": \"Romance\"\n",
    "}\n",
    "]"
   ]
  },
  {
   "cell_type": "markdown",
   "metadata": {},
   "source": [
    "---\n",
    "\n",
    "### 2. Filtering data by IMDB score\n",
    "\n",
    "#### 2.1 \n",
    "\n",
    "Write a function that:\n",
    "\n",
    "1. Accepts a single movie dictionary from the `movies` list as an argument.\n",
    "2. Returns True if the IMDB score is above 5.5.\n",
    "\n",
    "#### 2.2 [Challenge] \n",
    "\n",
    "Write a function that:\n",
    "\n",
    "1. Accepts the movies list and a specified category.\n",
    "2. Returns True if the average score of the category is higher than the average score of all movies."
   ]
  },
  {
   "cell_type": "code",
   "execution_count": 39,
   "metadata": {},
   "outputs": [
    {
     "data": {
      "text/plain": [
       "True"
      ]
     },
     "execution_count": 39,
     "metadata": {},
     "output_type": "execute_result"
    }
   ],
   "source": [
    "def filter21(dictionary):\n",
    "    return dictionary['imdb'] > 5.5 \n",
    "\n",
    "filter21(movies[2])"
   ]
  },
  {
   "cell_type": "code",
   "execution_count": 40,
   "metadata": {},
   "outputs": [
    {
     "data": {
      "text/plain": [
       "True"
      ]
     },
     "execution_count": 40,
     "metadata": {},
     "output_type": "execute_result"
    }
   ],
   "source": [
    "def filter22(cat, movies = movies):\n",
    "    avg = sum([movie['imdb'] for movie in movies])/len(movies)\n",
    "    cat_movies = [movie for movie in movies if movie['category'] == cat]\n",
    "    return sum([movie['imdb'] for movie in cat_movies])/len(cat_movies) > avg\n",
    "\n",
    "filter22('Suspense')"
   ]
  },
  {
   "cell_type": "markdown",
   "metadata": {},
   "source": [
    "---\n",
    "\n",
    "### 3. Creating subsets by numeric condition\n",
    "\n",
    "#### 3.1\n",
    "\n",
    "Write a function that:\n",
    "\n",
    "1. Accepts the list of movies and a specified imdb score.\n",
    "2. Returns the sublist of movies that have a score greater than the specified score.\n",
    "\n",
    "#### 3.2 [Expert] \n",
    "\n",
    "Write a function that:\n",
    "\n",
    "1. Accepts the movies list as an argument.\n",
    "2. Returns the movies list sorted first by category and then by movie according to average score and individual score, respectively."
   ]
  },
  {
   "cell_type": "code",
   "execution_count": 41,
   "metadata": {},
   "outputs": [
    {
     "data": {
      "text/plain": [
       "['Dark Knight',\n",
       " 'The Help',\n",
       " 'Colonia',\n",
       " 'Joking muck',\n",
       " 'What is the name',\n",
       " 'We Two']"
      ]
     },
     "execution_count": 41,
     "metadata": {},
     "output_type": "execute_result"
    }
   ],
   "source": [
    "def filter31(score, movies=movies):\n",
    "    return [movie['name'] for movie in movies if movie['imdb']>score]\n",
    "\n",
    "filter31(7)"
   ]
  },
  {
   "cell_type": "code",
   "execution_count": 42,
   "metadata": {},
   "outputs": [
    {
     "data": {
      "text/plain": [
       "[{'cat_avg': 9.0, 'category': 'Adventure', 'imdb': 9.0, 'name': 'Dark Knight'},\n",
       " {'cat_avg': 8.1,\n",
       "  'category': 'Suspense',\n",
       "  'imdb': 9.2,\n",
       "  'name': 'What is the name'},\n",
       " {'cat_avg': 8.1, 'category': 'Suspense', 'imdb': 7.0, 'name': 'Detective'},\n",
       " {'cat_avg': 8.0, 'category': 'Drama', 'imdb': 8.0, 'name': 'The Help'},\n",
       " {'cat_avg': 7.2, 'category': 'Comedy', 'imdb': 7.2, 'name': 'Joking muck'},\n",
       " {'cat_avg': 6.44, 'category': 'Romance', 'imdb': 7.4, 'name': 'Colonia'},\n",
       " {'cat_avg': 6.44, 'category': 'Romance', 'imdb': 7.2, 'name': 'We Two'},\n",
       " {'cat_avg': 6.44, 'category': 'Romance', 'imdb': 6.2, 'name': 'The Choice'},\n",
       " {'cat_avg': 6.44, 'category': 'Romance', 'imdb': 6.0, 'name': 'Love'},\n",
       " {'cat_avg': 6.44, 'category': 'Romance', 'imdb': 5.4, 'name': 'Bride Wars'},\n",
       " {'cat_avg': 6.3, 'category': 'Action', 'imdb': 6.3, 'name': 'Hitman'},\n",
       " {'cat_avg': 5.6,\n",
       "  'category': 'Thriller',\n",
       "  'imdb': 7.0,\n",
       "  'name': 'Usual Suspects'},\n",
       " {'cat_avg': 5.6, 'category': 'Thriller', 'imdb': 4.2, 'name': 'Exam'},\n",
       " {'cat_avg': 4.0, 'category': 'Crime', 'imdb': 4.0, 'name': 'Ringing Crime'},\n",
       " {'cat_avg': 3.2, 'category': 'War', 'imdb': 3.2, 'name': 'AlphaJet'}]"
      ]
     },
     "execution_count": 42,
     "metadata": {},
     "output_type": "execute_result"
    }
   ],
   "source": [
    "\n",
    "def movie_sorter(movies = movies):\n",
    "\n",
    "    movie_cats = set([i['category'] for i in movies])\n",
    "\n",
    "    cat_avg_dict = {}\n",
    "    for cat in movie_cats:\n",
    "        cat_scores = []\n",
    "        for movie in movies:\n",
    "            if movie['category'] == cat:\n",
    "                cat_scores.append(movie['imdb'])\n",
    "        cat_avg_dict[cat] = sum(cat_scores)/len(cat_scores)\n",
    "\n",
    "    for movie in movies:\n",
    "        for cat, avg in cat_avg_dict.items():\n",
    "            if movie['category'] == cat:\n",
    "                movie['cat_avg'] = avg\n",
    "            else:\n",
    "                continue\n",
    "    def sorter(d):\n",
    "        return d['cat_avg'] , d['imdb']\n",
    "\n",
    "    return sorted(movies, key=sorter, reverse=True)\n",
    "\n",
    "movie_sorter()"
   ]
  },
  {
   "cell_type": "markdown",
   "metadata": {},
   "source": [
    "---\n",
    "\n",
    "### 4. Creating subsets by string condition\n",
    "\n",
    "#### 4.1\n",
    "\n",
    "Write a function that:\n",
    "\n",
    "1. Accepts the movies list and a category name.\n",
    "2. Returns the movie names within that category (case-insensitive!)\n",
    "3. If the category is not in the data, print a message that it does not exist and return None.\n",
    "\n",
    "Recall that to convert a string to lowercase, you can use:\n",
    "\n",
    "```python\n",
    "mystring = 'Dumb and Dumber'\n",
    "lowercase_mystring = mystring.lower()\n",
    "print lowercase_mystring\n",
    "'dumb and dumber'\n",
    "```\n",
    "\n",
    "#### 4.2 [Challenge]\n",
    "\n",
    "Write a function that:\n",
    "\n",
    "1. Accepts the movies list and a \"search string\".\n",
    "2. Returns a dictionary with keys `'category'` and `'title'` whose values are lists of categories that contain the search string and titles that contain the search string, respectively (case-insensitive!)"
   ]
  },
  {
   "cell_type": "code",
   "execution_count": 43,
   "metadata": {},
   "outputs": [
    {
     "data": {
      "text/plain": [
       "['The Choice', 'Colonia', 'Love', 'Bride Wars', 'We Two']"
      ]
     },
     "execution_count": 43,
     "metadata": {},
     "output_type": "execute_result"
    }
   ],
   "source": [
    "# Your code here.\n",
    "\n",
    "def filter41(cat, movies = movies):\n",
    "    movie_list = [movie['name'] for movie in movies if movie['category'].lower() == cat.lower()]\n",
    "    if len(movie_list) >= 1:\n",
    "        return movie_list\n",
    "    else:\n",
    "        print(f\"{cat} is not a valid category\")\n",
    "        return None\n",
    "filter41('romance')"
   ]
  },
  {
   "cell_type": "code",
   "execution_count": 44,
   "metadata": {},
   "outputs": [
    {
     "data": {
      "text/plain": [
       "{'category': ['Drama', 'Adventure', 'Thriller', 'War', 'Crime', 'Romance'],\n",
       " 'title': ['Dark Knight', 'Bride Wars', 'Ringing Crime']}"
      ]
     },
     "execution_count": 44,
     "metadata": {},
     "output_type": "execute_result"
    }
   ],
   "source": [
    "def filter42(search, movies=movies):\n",
    "    dct = {} \n",
    "    dct['title'] = [movie['name'] for movie in movies if search.lower() in movie['name'].lower()]\n",
    "    dct['category'] = list(set([movie['category'] for movie in movies if search.lower()\\\n",
    "                                in movie['category'].lower()]))\n",
    "    return dct\n",
    "\n",
    "filter42('r')"
   ]
  },
  {
   "cell_type": "markdown",
   "metadata": {},
   "source": [
    "---\n",
    "\n",
    "### 5. Multiple conditions\n",
    "\n",
    "#### 5.1\n",
    "\n",
    "Write a function that:\n",
    "\n",
    "1. Accepts the movies list and a \"search criteria\" variable.\n",
    "2. If the criteria variable is numeric, return a list of movie titles with a score greater than or equal to the criteria.\n",
    "3. If the criteria variable is a string, return a list of movie titles that match that category (case-insensitive!). If there is no match, return an empty list and print an informative message.\n",
    "\n",
    "#### 5.2 [Expert]\n",
    "\n",
    "Write a function that:\n",
    "\n",
    "1. Accepts the movies list and a string search criteria variable.\n",
    "2. The search criteria variable can contain within it:\n",
    "  - Boolean operations: `'AND'`, `'OR'`, and `'NOT'` (can have/be lowercase as well, I just capitalized for clarity).\n",
    "  - Search criteria specified with syntax `score=...`, `category=...`, and/or `title=...`, where the `...` indicates what to look for.\n",
    "    - If `score` is present, it means scores greater than or equal to the value.\n",
    "    - For `category` and `title`, the string indicates that the category or title must _contain_ the search string (case-insensitive).\n",
    "3. Return the matches for the search criteria specified."
   ]
  },
  {
   "cell_type": "code",
   "execution_count": 45,
   "metadata": {
    "collapsed": true
   },
   "outputs": [],
   "source": [
    "# Your code here.\n"
   ]
  },
  {
   "cell_type": "code",
   "execution_count": 46,
   "metadata": {},
   "outputs": [
    {
     "data": {
      "text/plain": [
       "['The Choice', 'Colonia', 'Love', 'Bride Wars', 'We Two']"
      ]
     },
     "execution_count": 46,
     "metadata": {},
     "output_type": "execute_result"
    }
   ],
   "source": [
    "def filter51(search, movies=movies):\n",
    "    if type(search) in [int, float]:\n",
    "        return [movie['name'] for movie in movies if movie['imdb'] >= search]\n",
    "    titles = [movie['name'] for movie in movies if movie['category'].lower() == search.lower()]\n",
    "    if len(titles) == 0:\n",
    "        print(f\"{search} doesn't match any movie categories\")\n",
    "    return titles\n",
    "\n",
    "filter51('romance')"
   ]
  },
  {
   "cell_type": "code",
   "execution_count": 47,
   "metadata": {},
   "outputs": [
    {
     "data": {
      "text/plain": [
       "{'Bride Wars', 'Colonia', 'Love'}"
      ]
     },
     "execution_count": 47,
     "metadata": {},
     "output_type": "execute_result"
    }
   ],
   "source": [
    "# Not fully built out \n",
    "\n",
    "\n",
    "def filter52(search, movies=movies):\n",
    "\n",
    "    def names_that_meet_criteria(condition):\n",
    "        left, right = condition.split('=')\n",
    "        if left == 'score':\n",
    "            try:\n",
    "                return set([movie['name'] for movie in movies if movie['imdb'] >= float(right)])\n",
    "            except:\n",
    "                print('please enter a numeric value with the parameter score')\n",
    "                return set([])\n",
    "        elif left == 'category':\n",
    "            return set([movie['name'] for movie in movies if right in movie['category'].lower()])\n",
    "        else:\n",
    "            return set([movie['name'] for movie in movies if right in movie['name'].lower()])\n",
    "\n",
    "    all_names = set([movie['name'] for movie in movies])\n",
    "    search = search.lower().split()\n",
    "    criteria = [term for term in search if term not in ['and', 'or','not']]\n",
    "    bool_conditions = [term for term in search if term in ['and', 'or', 'not']]\n",
    "\n",
    "    current_titles = set.intersection(all_names, names_that_meet_criteria(criteria[0]))\n",
    "    for criterion, condition in zip(criteria[1:], bool_conditions):\n",
    "        if condition == 'and':\n",
    "            current_titles = set.intersection(current_titles, names_that_meet_criteria(criterion))\n",
    "        elif condition == 'or':\n",
    "            current_titles = set.union(current_titles, names_that_meet_criteria(criterion))\n",
    "        else:\n",
    "            current_titles = set.difference(current_titles, names_that_meet_criteria(criterion))\n",
    "    return current_titles\n",
    "\n",
    "filter52('score=5 and category=romance or category=action or category=suspense not title=t')"
   ]
  },
  {
   "cell_type": "code",
   "execution_count": null,
   "metadata": {
    "collapsed": true
   },
   "outputs": [],
   "source": []
  },
  {
   "cell_type": "code",
   "execution_count": 48,
   "metadata": {
    "collapsed": true
   },
   "outputs": [],
   "source": [
    "# 5.2\n",
    "\n",
    "# this function is used later in the function boolean_search and may not make sense initially.\n",
    "def movie_matches_subparser(movies, movie_key, value):\n",
    "    # if we are assessing a title criteria\n",
    "    if movie_key == 'title':\n",
    "        movie_key = 'name'\n",
    "    # if not a title, category or imdb, throw an error message\n",
    "    elif movie_key not in ['category','imdb']:\n",
    "        print('movie lookup key', movie_key, 'incorrect')\n",
    "        return []\n",
    "    # we are assessing a score criteria  \n",
    "    if movie_key == 'imdb':\n",
    "        try:\n",
    "            value = float(value)\n",
    "        # if score is invalid, throw an error message\n",
    "        except:\n",
    "            print('imdb', value, 'cannot become float')\n",
    "            return []\n",
    "        \n",
    "    subset = []\n",
    "    # assigns index values to movies and appends indexes of movies in the specified criteria\n",
    "    for movie_ind, movie in enumerate(movies):\n",
    "        # looks at scores\n",
    "        if type(value) == float:\n",
    "            if movie[movie_key] >= value:\n",
    "                subset.append(movie_ind)\n",
    "        # looks for strings\n",
    "        else:\n",
    "            if value in movie[movie_key].lower():\n",
    "                subset.append(movie_ind)\n",
    "    \n",
    "    return subset\n",
    "\n",
    "\n",
    "# this function is used later in the function boolean_search and may not make sense initially.\n",
    "def meets_boolean_criteria(movies, criteria_info):\n",
    "    # movie indexes = the length of movies to compare to criteria_info\n",
    "    movie_inds = list(range(len(movies)))\n",
    "    \n",
    "    full_set = set(movie_inds)\n",
    "    return_set = set(movie_inds)\n",
    "    \n",
    "    # take a look at our movie's indexes and their booleans.\n",
    "    for boolean, movie_subset in criteria_info:\n",
    "        \n",
    "        #removes duplicate movies as the for loop iterates through\n",
    "        movie_subset = set(movie_subset)\n",
    "        \n",
    "        # uses bools to add or drop movie index lists from the return set\n",
    "        if boolean == 'and':\n",
    "            return_set = return_set & movie_subset\n",
    "        elif boolean == 'or':\n",
    "            return_set = return_set | movie_subset\n",
    "        elif boolean == 'not':\n",
    "            return_set = return_set - movie_subset\n",
    "        elif boolean == 'ornot':\n",
    "            return_set = return_set | (full_set - movie_subset)\n",
    "            \n",
    "    return_list = []\n",
    "    # uses those index values to extract the rest of the movie information\n",
    "    for ind in list(return_set):\n",
    "        return_list.append(movies[ind])\n",
    "        \n",
    "    return return_list  \n",
    "            \n",
    "                \n",
    "\n",
    "def boolean_search(movies, search):\n",
    "    # convert string to lower\n",
    "    search = search.lower()\n",
    "    # split criteria into various parts using whitespace.  \n",
    "    search = search.split(' ')\n",
    "    # if extra or no whitespace is used in the search criteria issues will arise\n",
    "    criteria_info = []\n",
    "    current_boolean = 'and'\n",
    "    \n",
    "    # utilize a while statement to individual assess and extract separate criteria\n",
    "    while len(search) > 0:\n",
    "        # pop off that first criteria\n",
    "        item = search.pop(0)\n",
    "        '''This if statement may seem tricky, but its trying to figure out of the \n",
    "        current criteria is a relational operator or a specified criteria'''\n",
    "        \n",
    "        if item in ['and','or','not']:\n",
    "            if (current_boolean == 'or') and (item == 'not'):\n",
    "                current_boolean = 'ornot'\n",
    "            else:\n",
    "                current_boolean = item\n",
    "            continue\n",
    "        else:\n",
    "            if '=' in item:\n",
    "                item = item.split('=')\n",
    "            else:\n",
    "                print(item, 'syntax incorrect')\n",
    "                return []\n",
    "            # pass the specified criteria through the movie_matches_subparser             \n",
    "            movie_match_inds = movie_matches_subparser(movies, item[0], item[1])\n",
    "            # now we will append the index results from the movie_match_inds with their desired bool  \n",
    "            criteria_info.append([current_boolean, movie_match_inds])\n",
    "\n",
    "    # finally compare the list of movies to the identified index values and bools        \n",
    "    matches = meets_boolean_criteria(movies, criteria_info)\n",
    "    return matches\n",
    "        "
   ]
  },
  {
   "cell_type": "code",
   "execution_count": 49,
   "metadata": {},
   "outputs": [
    {
     "data": {
      "text/plain": [
       "[{'cat_avg': 5.6,\n",
       "  'category': 'Thriller',\n",
       "  'imdb': 7.0,\n",
       "  'name': 'Usual Suspects'},\n",
       " {'cat_avg': 6.3, 'category': 'Action', 'imdb': 6.3, 'name': 'Hitman'},\n",
       " {'cat_avg': 9.0, 'category': 'Adventure', 'imdb': 9.0, 'name': 'Dark Knight'},\n",
       " {'cat_avg': 8.0, 'category': 'Drama', 'imdb': 8.0, 'name': 'The Help'},\n",
       " {'cat_avg': 6.44, 'category': 'Romance', 'imdb': 6.2, 'name': 'The Choice'},\n",
       " {'cat_avg': 6.44, 'category': 'Romance', 'imdb': 7.4, 'name': 'Colonia'},\n",
       " {'cat_avg': 6.44, 'category': 'Romance', 'imdb': 5.4, 'name': 'Bride Wars'},\n",
       " {'cat_avg': 3.2, 'category': 'War', 'imdb': 3.2, 'name': 'AlphaJet'},\n",
       " {'cat_avg': 4.0, 'category': 'Crime', 'imdb': 4.0, 'name': 'Ringing Crime'},\n",
       " {'cat_avg': 7.2, 'category': 'Comedy', 'imdb': 7.2, 'name': 'Joking muck'},\n",
       " {'cat_avg': 8.1,\n",
       "  'category': 'Suspense',\n",
       "  'imdb': 9.2,\n",
       "  'name': 'What is the name'},\n",
       " {'cat_avg': 8.1, 'category': 'Suspense', 'imdb': 7.0, 'name': 'Detective'},\n",
       " {'cat_avg': 5.6, 'category': 'Thriller', 'imdb': 4.2, 'name': 'Exam'},\n",
       " {'cat_avg': 6.44, 'category': 'Romance', 'imdb': 7.2, 'name': 'We Two'}]"
      ]
     },
     "execution_count": 49,
     "metadata": {},
     "output_type": "execute_result"
    }
   ],
   "source": [
    "boolean_search(movies, 'imdb=7.0 NOT category=suspense OR NOT title=love')"
   ]
  },
  {
   "cell_type": "code",
   "execution_count": null,
   "metadata": {
    "collapsed": true
   },
   "outputs": [],
   "source": []
  }
 ],
 "metadata": {
  "anaconda-cloud": {},
  "kernelspec": {
   "display_name": "Python 3",
   "language": "python",
   "name": "python3"
  },
  "language_info": {
   "codemirror_mode": {
    "name": "ipython",
    "version": 3
   },
   "file_extension": ".py",
   "mimetype": "text/x-python",
   "name": "python",
   "nbconvert_exporter": "python",
   "pygments_lexer": "ipython3",
   "version": "3.7.3"
  }
 },
 "nbformat": 4,
 "nbformat_minor": 1
}
