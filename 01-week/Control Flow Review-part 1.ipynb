{
 "cells": [
  {
   "cell_type": "markdown",
   "metadata": {},
   "source": [
    "\n",
    "## What is the sum of all odd (positive) integers below 100? "
   ]
  },
  {
   "cell_type": "code",
   "execution_count": 2,
   "metadata": {},
   "outputs": [
    {
     "data": {
      "text/plain": [
       "2500"
      ]
     },
     "execution_count": 2,
     "metadata": {},
     "output_type": "execute_result"
    }
   ],
   "source": [
    "## our code \n",
    "\n",
    "lst = []\n",
    "for i in range(1,100):\n",
    "    if i % 2 == 1:\n",
    "        lst.append(i)\n",
    "        \n",
    "sum(lst)"
   ]
  },
  {
   "cell_type": "code",
   "execution_count": 3,
   "metadata": {},
   "outputs": [],
   "source": [
    "val = 0 \n",
    "\n",
    "for each_number in range(1,100):\n",
    "    if i % 2 == 1:\n",
    "        val += each_number\n",
    "        "
   ]
  },
  {
   "cell_type": "code",
   "execution_count": 4,
   "metadata": {},
   "outputs": [
    {
     "data": {
      "text/plain": [
       "99"
      ]
     },
     "execution_count": 4,
     "metadata": {},
     "output_type": "execute_result"
    }
   ],
   "source": [
    "each_number"
   ]
  },
  {
   "cell_type": "markdown",
   "metadata": {},
   "source": [
    "## Create a new list that contains all the animals whose name starts with the letter 'b'\n"
   ]
  },
  {
   "cell_type": "code",
   "execution_count": 5,
   "metadata": {},
   "outputs": [],
   "source": [
    "animals = ['bear', 'cat' , 'dog', 'babboon', 'bobcat', 'zebra', 'aardvark', 'narwhal']\n",
    "\n",
    "animals_b = []\n",
    "\n",
    "for animal in animals:\n",
    "    \n",
    "    if animal[0] == 'b':\n",
    "        animals_b.append(animal)\n",
    "## your code "
   ]
  },
  {
   "cell_type": "markdown",
   "metadata": {},
   "source": [
    "## Create a new list that contains all the animals whose names are at least 6 letters long"
   ]
  },
  {
   "cell_type": "code",
   "execution_count": 6,
   "metadata": {},
   "outputs": [
    {
     "data": {
      "text/plain": [
       "['babboon', 'bobcat', 'aardvark', 'narwhal']"
      ]
     },
     "execution_count": 6,
     "metadata": {},
     "output_type": "execute_result"
    }
   ],
   "source": [
    "## your code \n",
    "\n",
    "long_animals = []\n",
    "\n",
    "for i in animals:\n",
    "    if len(i) >= 6:\n",
    "        long_animals.append(i)\n",
    "long_animals"
   ]
  },
  {
   "cell_type": "code",
   "execution_count": 7,
   "metadata": {},
   "outputs": [],
   "source": [
    "# List of movies dictionaries:\n",
    "\n",
    "movies = [\n",
    "{\n",
    "\"name\": \"Usual Suspects\", \n",
    "\"imdb\": 7.0,\n",
    "\"category\": \"Thriller\"\n",
    "},\n",
    "{\n",
    "\"name\": \"Hitman\",\n",
    "\"imdb\": 6.3,\n",
    "\"category\": \"Action\"\n",
    "},\n",
    "{\n",
    "\"name\": \"Dark Knight\",\n",
    "\"imdb\": 9.0,\n",
    "\"category\": \"Adventure\"\n",
    "},\n",
    "{\n",
    "\"name\": \"The Help\",\n",
    "\"imdb\": 8.0,\n",
    "\"category\": \"Drama\"\n",
    "},\n",
    "{\n",
    "\"name\": \"The Choice\",\n",
    "\"imdb\": 6.2,\n",
    "\"category\": \"Romance\"\n",
    "},\n",
    "{\n",
    "\"name\": \"Colonia\",\n",
    "\"imdb\": 7.4,\n",
    "\"category\": \"Romance\"\n",
    "},\n",
    "{\n",
    "\"name\": \"Love\",\n",
    "\"imdb\": 6.0,\n",
    "\"category\": \"Romance\"\n",
    "},\n",
    "{\n",
    "\"name\": \"Bride Wars\",\n",
    "\"imdb\": 5.4,\n",
    "\"category\": \"Romance\"\n",
    "},\n",
    "{\n",
    "\"name\": \"AlphaJet\",\n",
    "\"imdb\": 3.2,\n",
    "\"category\": \"War\"\n",
    "},\n",
    "{\n",
    "\"name\": \"Ringing Crime\",\n",
    "\"imdb\": 4.0,\n",
    "\"category\": \"Crime\"\n",
    "},\n",
    "{\n",
    "\"name\": \"Joking muck\",\n",
    "\"imdb\": 7.2,\n",
    "\"category\": \"Comedy\"\n",
    "},\n",
    "{\n",
    "\"name\": \"What is the name\",\n",
    "\"imdb\": 9.2,\n",
    "\"category\": \"Suspense\"\n",
    "},\n",
    "{\n",
    "\"name\": \"Detective\",\n",
    "\"imdb\": 7.0,\n",
    "\"category\": \"Suspense\"\n",
    "},\n",
    "{\n",
    "\"name\": \"Exam\",\n",
    "\"imdb\": 4.2,\n",
    "\"category\": \"Thriller\"\n",
    "},\n",
    "{\n",
    "\"name\": \"We Two\",\n",
    "\"imdb\": 7.2,\n",
    "\"category\": \"Romance\"\n",
    "}\n",
    "]"
   ]
  },
  {
   "cell_type": "markdown",
   "metadata": {},
   "source": [
    "#### What does each `i` represent in the following code snippet:\n",
    "\n",
    "``` python \n",
    "\n",
    "for i in movies:\n",
    "    pass\n",
    "    ```"
   ]
  },
  {
   "cell_type": "markdown",
   "metadata": {},
   "source": [
    "## What is the name of every movie with an imdb rating above 6?\n"
   ]
  },
  {
   "cell_type": "code",
   "execution_count": 8,
   "metadata": {},
   "outputs": [],
   "source": [
    "# for movie in movies:\n",
    "#     print(movie[\"imdb\"])"
   ]
  },
  {
   "cell_type": "code",
   "execution_count": 9,
   "metadata": {
    "scrolled": true
   },
   "outputs": [
    {
     "name": "stdout",
     "output_type": "stream",
     "text": [
      "['Usual Suspects', 'Hitman', 'Dark Knight', 'The Help', 'The Choice', 'Colonia', 'Joking muck', 'What is the name', 'Detective', 'We Two']\n"
     ]
    }
   ],
   "source": [
    "high_rated_movies = []\n",
    "for i in movies:\n",
    "    if i[\"imdb\"] > 6.0:\n",
    "        high_rated_movies.append(i[\"name\"])\n",
    "print(high_rated_movies)"
   ]
  },
  {
   "cell_type": "markdown",
   "metadata": {},
   "source": [
    "## Turn the above code into a function that accepts any number as an argument and returns the names of all movies above that number"
   ]
  },
  {
   "cell_type": "code",
   "execution_count": 18,
   "metadata": {},
   "outputs": [],
   "source": [
    "def get_names(num):\n",
    "    movies_above_num = []\n",
    "    for i in movies:\n",
    "        if i[\"imdb\"] > num:\n",
    "            movies_above_num.append(i[\"name\"])\n",
    "    return movies_above_num"
   ]
  },
  {
   "cell_type": "code",
   "execution_count": 19,
   "metadata": {},
   "outputs": [
    {
     "data": {
      "text/plain": [
       "['Usual Suspects',\n",
       " 'Hitman',\n",
       " 'Dark Knight',\n",
       " 'The Help',\n",
       " 'The Choice',\n",
       " 'Colonia',\n",
       " 'Love',\n",
       " 'Bride Wars',\n",
       " 'Joking muck',\n",
       " 'What is the name',\n",
       " 'Detective',\n",
       " 'Exam',\n",
       " 'We Two']"
      ]
     },
     "execution_count": 19,
     "metadata": {},
     "output_type": "execute_result"
    }
   ],
   "source": [
    "get_names(4)"
   ]
  },
  {
   "cell_type": "code",
   "execution_count": 23,
   "metadata": {},
   "outputs": [
    {
     "data": {
      "text/plain": [
       "['Usual Suspects',\n",
       " 'Hitman',\n",
       " 'Dark Knight',\n",
       " 'The Help',\n",
       " 'The Choice',\n",
       " 'Colonia',\n",
       " 'Joking muck',\n",
       " 'What is the name',\n",
       " 'Detective',\n",
       " 'We Two']"
      ]
     },
     "execution_count": 23,
     "metadata": {},
     "output_type": "execute_result"
    }
   ],
   "source": [
    "def moviefilter(num):\n",
    "    high_rated_movies = []\n",
    "    for i in movies:\n",
    "        if i[\"imdb\"] > num:\n",
    "            high_rated_movies.append(i[\"name\"])\n",
    "    return high_rated_movies\n",
    "moviefilter(6)"
   ]
  },
  {
   "cell_type": "code",
   "execution_count": 24,
   "metadata": {},
   "outputs": [
    {
     "data": {
      "text/plain": [
       "['Usual Suspects',\n",
       " 'Hitman',\n",
       " 'Dark Knight',\n",
       " 'The Help',\n",
       " 'The Choice',\n",
       " 'Colonia',\n",
       " 'Joking muck',\n",
       " 'What is the name',\n",
       " 'Detective',\n",
       " 'We Two',\n",
       " 'Usual Suspects',\n",
       " 'Hitman',\n",
       " 'Dark Knight',\n",
       " 'The Help',\n",
       " 'The Choice',\n",
       " 'Colonia',\n",
       " 'Love',\n",
       " 'Bride Wars',\n",
       " 'Joking muck',\n",
       " 'What is the name',\n",
       " 'Detective',\n",
       " 'Exam',\n",
       " 'We Two']"
      ]
     },
     "execution_count": 24,
     "metadata": {},
     "output_type": "execute_result"
    }
   ],
   "source": [
    "high_rated_movies\n"
   ]
  },
  {
   "cell_type": "code",
   "execution_count": 25,
   "metadata": {},
   "outputs": [
    {
     "name": "stdout",
     "output_type": "stream",
     "text": [
      "5\n"
     ]
    }
   ],
   "source": [
    "print(5)"
   ]
  },
  {
   "cell_type": "markdown",
   "metadata": {},
   "source": [
    "## What is the average IMDB score for Romance Movies? "
   ]
  },
  {
   "cell_type": "code",
   "execution_count": 36,
   "metadata": {},
   "outputs": [
    {
     "data": {
      "text/plain": [
       "7.2"
      ]
     },
     "execution_count": 36,
     "metadata": {},
     "output_type": "execute_result"
    }
   ],
   "source": [
    "category = 'Comedy'\n",
    "scores = []\n",
    "\n",
    "for movie in movies:\n",
    "    if movie ['category'] == category:\n",
    "        scores.append(movie['imdb'])\n",
    "        \n",
    "average = sum(scores) / len(scores)\n",
    "\n",
    "average\n",
    "\n"
   ]
  },
  {
   "cell_type": "code",
   "execution_count": 46,
   "metadata": {},
   "outputs": [
    {
     "name": "stdout",
     "output_type": "stream",
     "text": [
      "8.1\n",
      "7.2\n"
     ]
    }
   ],
   "source": [
    "def get_avg_for_category(category):\n",
    "\n",
    "    scores = []\n",
    "\n",
    "    for movie in movies:\n",
    "        if movie ['category'] == category:\n",
    "            scores.append(movie['imdb'])\n",
    "\n",
    "    average = sum(scores) / len(scores)\n",
    "\n",
    "    return average\n",
    "\n",
    "\n",
    "get_avg_for_category(\"Suspense\")\n",
    "print(get_avg_for_category(\"Suspense\"))\n",
    "\n",
    "get_avg_for_category(\"Comedy\")\n",
    "print(get_avg_for_category(\"Comedy\"))"
   ]
  },
  {
   "cell_type": "markdown",
   "metadata": {},
   "source": [
    "## Add a key to every dictionary in movies \"rotten\" with the boolean true if the imdb rating is below 6 "
   ]
  },
  {
   "cell_type": "code",
   "execution_count": null,
   "metadata": {},
   "outputs": [],
   "source": []
  },
  {
   "cell_type": "markdown",
   "metadata": {},
   "source": [
    "### What is the total length in seconds for the entire playlist? "
   ]
  },
  {
   "cell_type": "code",
   "execution_count": null,
   "metadata": {},
   "outputs": [],
   "source": [
    "lengths =  ['3:22', '2:10', '4:00', '2:29', '3:45', '3:39', '2:15', '5:45']\n",
    "\n"
   ]
  },
  {
   "cell_type": "code",
   "execution_count": null,
   "metadata": {},
   "outputs": [],
   "source": []
  }
 ],
 "metadata": {
  "kernelspec": {
   "display_name": "Python 3",
   "language": "python",
   "name": "python3"
  },
  "language_info": {
   "codemirror_mode": {
    "name": "ipython",
    "version": 3
   },
   "file_extension": ".py",
   "mimetype": "text/x-python",
   "name": "python",
   "nbconvert_exporter": "python",
   "pygments_lexer": "ipython3",
   "version": "3.6.9"
  }
 },
 "nbformat": 4,
 "nbformat_minor": 2
}
