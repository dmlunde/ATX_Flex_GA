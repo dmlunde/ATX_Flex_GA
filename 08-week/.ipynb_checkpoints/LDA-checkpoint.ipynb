{
 "cells": [
  {
   "cell_type": "markdown",
   "metadata": {},
   "source": [
    "# Introduction to Latent Dirichlet Allocation\n",
    "---\n",
    "\n",
    "## What is LDA?\n",
    "\n",
    "Latent Dirichlet allocation is a type of **topic modeling**. A topic model is a statistical model of what themes appear in a collection of documents.\n",
    "\n",
    "Imagine you have a collection of webpages from a pet care website. Each webpage is considered a document. Each document is about different things. One webpage might be about picking a good veterinarian, and another webpage might be about vaccination schedules for your pets.\n",
    "\n",
    "This pet care website might discuss lots of different types of pets. One webpage might be mostly about dogs, but it mentions cats, too. Another webpage might be mostly about reptiles, but also about amphibians and insects.\n",
    "\n",
    "We can think of each type of pet as a potential topic. Some webpages might be 80% about dogs and 20% about cats, and others might be 75% about reptiles, 10% about cats, 10% about dogs, and 5% about insects.\n",
    "\n",
    "LDA infers the underlying (latent!) topics in a collection of documents. It is unsupervised because there is no set `y`. The number of topics to search for is a hyperparameter we can tune, and it's up to the modeler to interpret the results.\n",
    "\n",
    "---\n",
    "\n",
    "## How does it work?\n",
    "\n",
    "LDA pretends each document is generated in the following way:\n",
    "\n",
    "1. Choose N ∼ Poisson(ξ).\n",
    "2. Choose θ ∼ Dir(α).\n",
    "3. For each of the $N$ words $w_n$:\n",
    "    * Choose a topic $z_n$ ∼ Multinomial($\\theta$).\n",
    "    \n",
    "    * Choose a word wn from $p(w_n | z_n ,\\beta)$, a multinomial probability conditioned on the topic $z_n$.\n",
    "\n",
    "(Source: [Latent Dirichlet Allocation](http://www.jmlr.org/papers/volume3/blei03a/blei03a.pdf).)\n",
    "\n",
    "Or,\n",
    "\n",
    "1. Choose a number of words that the document will have.\n",
    "2. Choose a θ, which is the topic-document distribution. What percentage is the document \"built from\" various topics?\n",
    "3. For each word in the document:\n",
    "    * Choose a topic according to the topic-document distribution.\n",
    "    * Choose a word from the topic, according to the probabilities of words from that topic.\n",
    "    \n",
    "Each topic is a distribution across words. **Every word appears in every topic, but with a different probability.**\n",
    "\n",
    "Since LDA is pretending each document is generated this way, it can reverse-engineer the topics and the word-probabilities per topic.\n",
    "\n",
    "---\n",
    "\n",
    "## Codealong:\n",
    "\n",
    "We're going to topic model on Donald Trump's tweets from about the last year.\n",
    "\n",
    "## Imports:\n",
    "\n",
    "(pip install libraries if you are missing them - most likey `pyLDAvis` )\n",
    "\n",
    "[pypi for pyLDAvis](https://pypi.org/project/pyLDAvis/)"
   ]
  },
  {
   "cell_type": "code",
   "execution_count": 1,
   "metadata": {},
   "outputs": [],
   "source": [
    "# import twitter \n",
    "import re\n",
    "import datetime \n",
    "import pandas as pd\n",
    "import matplotlib.pyplot as plt\n",
    "import matplotlib.patches as mpatches\n",
    "import matplotlib\n",
    "import numpy as np\n",
    "import pandas as pd\n",
    "\n",
    "\n",
    "from sklearn.feature_extraction.text import CountVectorizer, ENGLISH_STOP_WORDS\n",
    "from sklearn.decomposition import LatentDirichletAllocation\n",
    "\n",
    "from gensim import corpora, models\n",
    "import pyLDAvis.gensim\n",
    "\n",
    "pyLDAvis.enable_notebook()\n",
    "\n",
    "import warnings\n",
    "warnings.filterwarnings(\"ignore\")\n",
    "\n",
    "np.random.seed(42)\n",
    "\n"
   ]
  },
  {
   "cell_type": "code",
   "execution_count": 69,
   "metadata": {},
   "outputs": [],
   "source": [
    "# Lets load in our keys as variables below \n",
    "# with open('./twitter_keys.txt') as f:\n",
    "#     ck, cs, atk, ats = f.read().split(',')"
   ]
  },
  {
   "cell_type": "code",
   "execution_count": 70,
   "metadata": {},
   "outputs": [],
   "source": [
    "# These are mainly here for reference.  These are \"my\" application keys.  \n",
    "# You should create your own using the Twitter developer portal\n",
    "\n",
    "# import twitter, re, datetime, pandas as pd\n",
    "\n",
    "# # your keys go here:\n",
    "# twitter_keys = {\n",
    "#     'consumer_key':        ck,\n",
    "#     'consumer_secret':     cs,\n",
    "#     'access_token_key':    atk,\n",
    "#     'access_token_secret': ats\n",
    "# }\n",
    "\n",
    "# api = twitter.Api(\n",
    "#     consumer_key         =   twitter_keys['consumer_key'],\n",
    "#     consumer_secret      =   twitter_keys['consumer_secret'],\n",
    "#     access_token_key     =   twitter_keys['access_token_key'],\n",
    "#     access_token_secret  =   twitter_keys['access_token_secret']\n",
    "# )\n"
   ]
  },
  {
   "cell_type": "markdown",
   "metadata": {},
   "source": []
  },
  {
   "cell_type": "code",
   "execution_count": 67,
   "metadata": {},
   "outputs": [],
   "source": [
    "## pip install python-twitter\n",
    "\n",
    "# class TweetMiner(object):\n",
    "\n",
    "#     result_limit    =   20    \n",
    "#     api             =   False\n",
    "#     data            =   []\n",
    "    \n",
    "#     def __init__(self, keys_dict, api, result_limit = 20):\n",
    "        \n",
    "#         self.api = api\n",
    "#         self.twitter_keys = keys_dict\n",
    "        \n",
    "#         self.result_limit = result_limit\n",
    "        \n",
    "\n",
    "#     def mine_user_tweets(self, user, mine_retweets=True, max_pages=5):\n",
    "#         \"\"\"\n",
    "#         param: mine_retweets (boolean), you can implement this feature if you want to differentiate between retweets or not\n",
    "#         \"\"\"\n",
    "#         data           =  []\n",
    "#         last_tweet_id  =  False\n",
    "#         page           =  1\n",
    "        \n",
    "#         while page <= max_pages:\n",
    "            \n",
    "#             if last_tweet_id:\n",
    "#                 statuses   =   self.api.GetUserTimeline(screen_name=user, count=self.result_limit,include_rts=mine_retweets,\\\n",
    "#                                                         max_id=last_tweet_id - 1)        \n",
    "#             else:\n",
    "#                 statuses   =   self.api.GetUserTimeline(screen_name=user, count=self.result_limit, include_rts=mine_retweets)\n",
    "                \n",
    "#             for item in statuses:\n",
    "\n",
    "#                 mined = {\n",
    "#                     'tweet_id':        item.id,\n",
    "#                     'handle':          item.user.name,\n",
    "#                     'retweet_count':   item.retweet_count,\n",
    "#                     'text':            item.text,\n",
    "#                     'mined_at':        datetime.datetime.now(),\n",
    "#                     'created_at':      item.created_at,\n",
    "#                 }\n",
    "                \n",
    "#                 last_tweet_id = item.id\n",
    "#                 data.append(mined)\n",
    "                \n",
    "#             page += 1\n",
    "            \n",
    "#         return data"
   ]
  },
  {
   "cell_type": "code",
   "execution_count": 71,
   "metadata": {},
   "outputs": [],
   "source": [
    "# miner = TweetMiner(twitter_keys, api, result_limit=200)"
   ]
  },
  {
   "cell_type": "code",
   "execution_count": 72,
   "metadata": {},
   "outputs": [],
   "source": [
    "# data = miner.mine_user_tweets(user='realDonaldTrump', max_pages=20)\n",
    "#pd.DataFrame(data).to_csv('../data/trump_tweets.csv', index=False)"
   ]
  },
  {
   "cell_type": "code",
   "execution_count": 2,
   "metadata": {},
   "outputs": [],
   "source": [
    "# df = pd.DataFrame(data)\n",
    "\n",
    "df = pd.read_csv('../data/trump_tweets.csv')"
   ]
  },
  {
   "cell_type": "markdown",
   "metadata": {},
   "source": [
    "Preprocess Text\n",
    "---"
   ]
  },
  {
   "cell_type": "code",
   "execution_count": 57,
   "metadata": {},
   "outputs": [
    {
     "data": {
      "image/png": "[encoded data removed]",
      "text/plain": [
       "<Figure size 432x288 with 1 Axes>"
      ]
     },
     "metadata": {
      "needs_background": "light"
     },
     "output_type": "display_data"
    }
   ],
   "source": [
    "## Try initializing a count vectorizer\n",
    "stops = list(ENGLISH_STOP_WORDS) + ['https', 'rt', 'realdonaldtrump', 'amp']\n",
    "cvec = CountVectorizer(min_df=3, stop_words=stops)\n",
    "vect_text = cvec.fit_transform(df['text'])\n",
    "\n",
    "df_vect_text = pd.DataFrame(vect_text.todense(), columns=cvec.get_feature_names())\n",
    "df_vect_text.sum().sort_values().tail(15).plot.barh();"
   ]
  },
  {
   "cell_type": "code",
   "execution_count": 58,
   "metadata": {},
   "outputs": [],
   "source": [
    "## Explore common words - any words we suggest adding to stopwords? "
   ]
  },
  {
   "cell_type": "markdown",
   "metadata": {},
   "source": [
    "## Fit an LDA Model"
   ]
  },
  {
   "cell_type": "code",
   "execution_count": 59,
   "metadata": {},
   "outputs": [
    {
     "data": {
      "text/plain": [
       "LatentDirichletAllocation(batch_size=128, doc_topic_prior=None,\n",
       "                          evaluate_every=-1, learning_decay=0.7,\n",
       "                          learning_method='batch', learning_offset=10.0,\n",
       "                          max_doc_update_iter=100, max_iter=10,\n",
       "                          mean_change_tol=0.001, n_components=5, n_jobs=None,\n",
       "                          perp_tol=0.1, random_state=42, topic_word_prior=None,\n",
       "                          total_samples=1000000.0, verbose=0)"
      ]
     },
     "execution_count": 59,
     "metadata": {},
     "output_type": "execute_result"
    }
   ],
   "source": [
    "lda = LatentDirichletAllocation(random_state=42, n_components=5)\n",
    "\n",
    "lda.fit(df_vect_text)"
   ]
  },
  {
   "cell_type": "markdown",
   "metadata": {},
   "source": [
    "### Examine Topics "
   ]
  },
  {
   "cell_type": "code",
   "execution_count": 60,
   "metadata": {
    "scrolled": true
   },
   "outputs": [],
   "source": [
    "df_features = pd.DataFrame(lda.components_, columns=cvec.get_feature_names()).T"
   ]
  },
  {
   "cell_type": "code",
   "execution_count": 61,
   "metadata": {},
   "outputs": [
    {
     "data": {
      "text/plain": [
       "president     24.048169\n",
       "thank         23.544966\n",
       "trump         22.187294\n",
       "people        15.375106\n",
       "party         12.670673\n",
       "witnesses     12.470062\n",
       "senate        10.585283\n",
       "whitehouse     9.586574\n",
       "republican     9.573593\n",
       "democrats      9.202991\n",
       "Name: 1, dtype: float64"
      ]
     },
     "execution_count": 61,
     "metadata": {},
     "output_type": "execute_result"
    }
   ],
   "source": [
    "df_features[1].sort_values(ascending=False).head(10)"
   ]
  },
  {
   "cell_type": "code",
   "execution_count": 62,
   "metadata": {},
   "outputs": [
    {
     "data": {
      "text/plain": [
       "impeachment    22.385124\n",
       "democrats      20.557946\n",
       "president      20.462147\n",
       "people         16.351632\n",
       "america        15.943571\n",
       "american       15.906038\n",
       "ve             15.081533\n",
       "make           13.057562\n",
       "iowa           12.893695\n",
       "got            12.133545\n",
       "Name: 0, dtype: float64"
      ]
     },
     "execution_count": 62,
     "metadata": {},
     "output_type": "execute_result"
    }
   ],
   "source": [
    "df_features[0].sort_values(ascending=False).head(10)"
   ]
  },
  {
   "cell_type": "code",
   "execution_count": 63,
   "metadata": {},
   "outputs": [
    {
     "data": {
      "text/plain": [
       "great        35.924874\n",
       "new          30.608634\n",
       "president    18.265111\n",
       "jobs         17.080840\n",
       "america      16.455821\n",
       "democrat     13.813851\n",
       "trump        13.427066\n",
       "big          12.298286\n",
       "hampshire    12.198757\n",
       "obama        11.851561\n",
       "Name: 3, dtype: float64"
      ]
     },
     "execution_count": 63,
     "metadata": {},
     "output_type": "execute_result"
    }
   ],
   "source": [
    "df_features[3].sort_values(ascending=False).head(10)"
   ]
  },
  {
   "cell_type": "markdown",
   "metadata": {},
   "source": [
    "### Examine Probabilities "
   ]
  },
  {
   "cell_type": "code",
   "execution_count": 64,
   "metadata": {
    "scrolled": false
   },
   "outputs": [],
   "source": [
    "# Let's get the unique tokens in each tweet\n",
    "texts = [df_vect_text.columns[df_vect_text.loc[index,:].to_numpy().nonzero()] for index in df_vect_text.index]"
   ]
  },
  {
   "cell_type": "code",
   "execution_count": 65,
   "metadata": {},
   "outputs": [],
   "source": [
    "dictionary = corpora.Dictionary(texts)\n"
   ]
  },
  {
   "cell_type": "code",
   "execution_count": 66,
   "metadata": {},
   "outputs": [
    {
     "name": "stdout",
     "output_type": "stream",
     "text": [
      "[(0, 1), (1, 1), (2, 1), (3, 1), (4, 1), (5, 1)]\n",
      "[(4, 1), (6, 1), (7, 1), (8, 1), (9, 1), (10, 1), (11, 1), (12, 1)]\n",
      "[]\n",
      "[(13, 1), (14, 1), (15, 1), (16, 1), (17, 1), (18, 1), (19, 1), (20, 1), (21, 1)]\n",
      "[(22, 1), (23, 1), (24, 1)]\n"
     ]
    }
   ],
   "source": [
    "for text in texts[:5]: # running count of unique words\n",
    "    print(dictionary.doc2bow(text))"
   ]
  },
  {
   "cell_type": "code",
   "execution_count": 67,
   "metadata": {},
   "outputs": [],
   "source": [
    "corpus = [dictionary.doc2bow(text) for text in texts]\n"
   ]
  },
  {
   "cell_type": "code",
   "execution_count": 68,
   "metadata": {},
   "outputs": [],
   "source": [
    "ldamodel = models.ldamodel.LdaModel(corpus,                     # pass in our corpus\n",
    "                                    id2word = dictionary,       # matches each word to its \"number\" or \"spot\" in the dictionary\n",
    "                                    num_topics = 5,             # number of topics T to find\n",
    "                                    passes = 10,                 # number of passes through corpus; similar to number of epochs\n",
    "                                    minimum_probability = 0.01) # only include topics above this probability threshold"
   ]
  },
  {
   "cell_type": "code",
   "execution_count": 69,
   "metadata": {},
   "outputs": [
    {
     "data": {
      "text/html": [
       "\n",
       "<link rel=\"stylesheet\" type=\"text/css\" href=\"https://cdn.rawgit.com/bmabey/pyLDAvis/files/ldavis.v1.0.0.css\">\n",
       "\n",
       "\n",
       "<div id=\"ldavis_el412311125928338969305275146\"></div>\n",
       "<script type=\"text/javascript\">\n",
       "\n",
       "var ldavis_el412311125928338969305275146_data = {\"mdsDat\": {\"x\": [0.04942962279327017, 0.0985585343113747, -0.010602659617624943, 0.04554041838845788, -0.18292591587547788], \"y\": [0.13865601795911742, -0.10614227754638414, -0.06362952242934898, 0.037750653377944275, -0.006634871361328594], \"topics\": [1, 2, 3, 4, 5], \"cluster\": [1, 1, 1, 1, 1], \"Freq\": [22.75197410583496, 21.430904388427734, 21.262226104736328, 20.405410766601562, 14.149483680725098]}, \"tinfo\": {\"Category\": [\"Default\", \"Default\", \"Default\", \"Default\", \"Default\", \"Default\", \"Default\", \"Default\", \"Default\", \"Default\", \"Default\", \"Default\", \"Default\", \"Default\", \"Default\", \"Default\", \"Default\", \"Default\", \"Default\", \"Default\", \"Default\", \"Default\", \"Default\", \"Default\", \"Default\", \"Default\", \"Default\", \"Default\", \"Default\", \"Default\", \"Topic1\", \"Topic1\", \"Topic1\", \"Topic1\", \"Topic1\", \"Topic1\", \"Topic1\", \"Topic1\", \"Topic1\", \"Topic1\", \"Topic1\", \"Topic1\", \"Topic1\", \"Topic1\", \"Topic1\", \"Topic1\", \"Topic1\", \"Topic1\", \"Topic1\", \"Topic1\", \"Topic1\", \"Topic1\", \"Topic1\", \"Topic1\", \"Topic1\", \"Topic1\", \"Topic1\", \"Topic1\", \"Topic1\", \"Topic1\", \"Topic1\", \"Topic1\", \"Topic1\", \"Topic1\", \"Topic1\", \"Topic1\", \"Topic1\", \"Topic1\", \"Topic1\", \"Topic1\", \"Topic1\", \"Topic1\", \"Topic1\", \"Topic1\", \"Topic1\", \"Topic1\", \"Topic1\", \"Topic1\", \"Topic1\", \"Topic1\", \"Topic1\", \"Topic1\", \"Topic1\", \"Topic1\", \"Topic1\", \"Topic1\", \"Topic1\", \"Topic1\", \"Topic2\", \"Topic2\", \"Topic2\", \"Topic2\", \"Topic2\", \"Topic2\", \"Topic2\", \"Topic2\", \"Topic2\", \"Topic2\", \"Topic2\", \"Topic2\", \"Topic2\", \"Topic2\", \"Topic2\", \"Topic2\", \"Topic2\", \"Topic2\", \"Topic2\", \"Topic2\", \"Topic2\", \"Topic2\", \"Topic2\", \"Topic2\", \"Topic2\", \"Topic2\", \"Topic2\", \"Topic2\", \"Topic2\", \"Topic2\", \"Topic2\", \"Topic2\", \"Topic2\", \"Topic2\", \"Topic2\", \"Topic2\", \"Topic2\", \"Topic2\", \"Topic2\", \"Topic2\", \"Topic2\", \"Topic2\", \"Topic2\", \"Topic2\", \"Topic2\", \"Topic2\", \"Topic2\", \"Topic2\", \"Topic2\", \"Topic2\", \"Topic2\", \"Topic2\", \"Topic2\", \"Topic2\", \"Topic2\", \"Topic2\", \"Topic2\", \"Topic2\", \"Topic2\", \"Topic2\", \"Topic2\", \"Topic2\", \"Topic3\", \"Topic3\", \"Topic3\", \"Topic3\", \"Topic3\", \"Topic3\", \"Topic3\", \"Topic3\", \"Topic3\", \"Topic3\", \"Topic3\", \"Topic3\", \"Topic3\", \"Topic3\", \"Topic3\", \"Topic3\", \"Topic3\", \"Topic3\", \"Topic3\", \"Topic3\", \"Topic3\", \"Topic3\", \"Topic3\", \"Topic3\", \"Topic3\", \"Topic3\", \"Topic3\", \"Topic3\", \"Topic3\", \"Topic3\", \"Topic3\", \"Topic3\", \"Topic3\", \"Topic3\", \"Topic3\", \"Topic3\", \"Topic3\", \"Topic3\", \"Topic3\", \"Topic3\", \"Topic3\", \"Topic3\", \"Topic3\", \"Topic3\", \"Topic3\", \"Topic3\", \"Topic3\", \"Topic3\", \"Topic3\", \"Topic3\", \"Topic3\", \"Topic3\", \"Topic3\", \"Topic3\", \"Topic3\", \"Topic3\", \"Topic3\", \"Topic3\", \"Topic3\", \"Topic3\", \"Topic3\", \"Topic4\", \"Topic4\", \"Topic4\", \"Topic4\", \"Topic4\", \"Topic4\", \"Topic4\", \"Topic4\", \"Topic4\", \"Topic4\", \"Topic4\", \"Topic4\", \"Topic4\", \"Topic4\", \"Topic4\", \"Topic4\", \"Topic4\", \"Topic4\", \"Topic4\", \"Topic4\", \"Topic4\", \"Topic4\", \"Topic4\", \"Topic4\", \"Topic4\", \"Topic4\", \"Topic4\", \"Topic4\", \"Topic4\", \"Topic4\", \"Topic4\", \"Topic4\", \"Topic4\", \"Topic4\", \"Topic4\", \"Topic4\", \"Topic4\", \"Topic4\", \"Topic4\", \"Topic4\", \"Topic4\", \"Topic4\", \"Topic4\", \"Topic4\", \"Topic4\", \"Topic4\", \"Topic4\", \"Topic4\", \"Topic4\", \"Topic4\", \"Topic4\", \"Topic5\", \"Topic5\", \"Topic5\", \"Topic5\", \"Topic5\", \"Topic5\", \"Topic5\", \"Topic5\", \"Topic5\", \"Topic5\", \"Topic5\", \"Topic5\", \"Topic5\", \"Topic5\", \"Topic5\", \"Topic5\", \"Topic5\", \"Topic5\", \"Topic5\", \"Topic5\", \"Topic5\", \"Topic5\", \"Topic5\", \"Topic5\", \"Topic5\", \"Topic5\", \"Topic5\", \"Topic5\", \"Topic5\", \"Topic5\", \"Topic5\", \"Topic5\", \"Topic5\", \"Topic5\", \"Topic5\", \"Topic5\", \"Topic5\", \"Topic5\", \"Topic5\", \"Topic5\", \"Topic5\", \"Topic5\", \"Topic5\", \"Topic5\", \"Topic5\", \"Topic5\", \"Topic5\", \"Topic5\", \"Topic5\", \"Topic5\", \"Topic5\", \"Topic5\"], \"Freq\": [25.0, 19.0, 42.0, 24.0, 68.0, 13.0, 13.0, 15.0, 19.0, 20.0, 47.0, 9.0, 20.0, 24.0, 40.0, 21.0, 28.0, 8.0, 36.0, 7.0, 10.0, 7.0, 7.0, 12.0, 14.0, 9.0, 13.0, 90.0, 12.0, 13.0, 13.126545906066895, 23.683208465576172, 8.821685791015625, 6.289196491241455, 5.399251461029053, 5.374098777770996, 5.3736982345581055, 4.5421600341796875, 4.5420823097229, 4.518422603607178, 8.870807647705078, 3.668644666671753, 3.668180465698242, 3.6533331871032715, 3.64762282371521, 2.7951204776763916, 2.7951011657714844, 2.7950966358184814, 2.7950522899627686, 2.7941653728485107, 2.7928032875061035, 2.7926371097564697, 2.7888119220733643, 2.7873640060424805, 2.7873589992523193, 2.7867374420166016, 2.782163619995117, 2.7821555137634277, 2.773876905441284, 2.7737104892730713, 6.246133327484131, 8.876550674438477, 12.882372856140137, 6.267444133758545, 4.544277667999268, 16.067426681518555, 5.417489528656006, 20.130964279174805, 8.97126293182373, 6.260711193084717, 4.812387943267822, 11.629817962646484, 14.27577018737793, 27.659055709838867, 20.369661331176758, 13.135093688964844, 24.571609497070312, 8.256060600280762, 7.590944766998291, 8.772618293762207, 18.920190811157227, 7.125033855438232, 7.480483055114746, 11.210219383239746, 6.634576797485352, 8.790122985839844, 7.178361892700195, 7.272764205932617, 5.346291542053223, 4.5781145095825195, 4.557139873504639, 5.29467248916626, 3.7031381130218506, 3.69510555267334, 3.6796038150787354, 3.668039560317993, 3.667956829071045, 3.6574108600616455, 7.962680816650391, 2.82273530960083, 2.822725296020508, 2.8227126598358154, 2.8206894397735596, 2.8201775550842285, 2.820052146911621, 2.814605951309204, 2.814176321029663, 2.814117431640625, 2.8140861988067627, 2.812770128250122, 2.8088791370391846, 3.483947992324829, 4.1744384765625, 5.444064617156982, 8.47414779663086, 4.555614471435547, 4.4926018714904785, 10.83522891998291, 5.7392354011535645, 6.3042707443237305, 6.811548233032227, 22.59520149230957, 4.437251091003418, 5.400244235992432, 10.64957332611084, 6.203261375427246, 9.849875450134277, 6.174304485321045, 4.3556132316589355, 8.084447860717773, 7.429586887359619, 17.85516929626465, 10.853904724121094, 8.083199501037598, 17.32417869567871, 5.453562259674072, 8.163067817687988, 8.4760160446167, 14.376066207885742, 5.90699577331543, 5.462418079376221, 5.861794948577881, 12.62344741821289, 11.305754661560059, 7.854889392852783, 8.37609577178955, 6.3480634689331055, 6.148288726806641, 5.783608436584473, 6.060113430023193, 6.226038932800293, 6.151822090148926, 4.500555992126465, 4.500506401062012, 4.49418306350708, 3.6286325454711914, 3.617248058319092, 3.607454299926758, 3.6007003784179688, 3.541637897491455, 2.770606279373169, 2.770583391189575, 2.7705376148223877, 2.768523931503296, 2.7661333084106445, 2.762826442718506, 2.762770652770996, 2.7627463340759277, 2.7623114585876465, 2.761282205581665, 2.7590994834899902, 2.754343032836914, 2.7491891384124756, 2.7477543354034424, 2.736217498779297, 2.735398054122925, 2.701847553253174, 5.175771713256836, 2.474672317504883, 3.615628719329834, 14.441679000854492, 16.60266876220703, 7.734865665435791, 7.036876678466797, 5.331859588623047, 38.29365539550781, 6.230600833892822, 5.867089748382568, 5.169429779052734, 10.2109375, 15.721017837524414, 4.396805763244629, 14.052299499511719, 3.6147639751434326, 3.595089912414551, 12.49170207977295, 16.130163192749023, 7.957699775695801, 5.994670391082764, 5.4565887451171875, 5.959662914276123, 6.921578884124756, 9.300080299377441, 13.78853988647461, 7.047861099243164, 9.083813667297363, 5.379477024078369, 6.809500694274902, 6.236374378204346, 5.544172286987305, 5.21760892868042, 18.3861083984375, 7.120672225952148, 5.397350788116455, 4.522762775421143, 4.407480716705322, 3.6605730056762695, 3.6605494022369385, 3.644671678543091, 3.6426241397857666, 3.633441209793091, 3.6283559799194336, 3.6162948608398438, 2.788935661315918, 2.788832426071167, 2.788616418838501, 2.7809197902679443, 2.779198408126831, 2.7766058444976807, 2.776437997817993, 2.7733805179595947, 5.374966144561768, 3.2601895332336426, 4.517963409423828, 7.040576457977295, 8.603944778442383, 4.270036697387695, 5.461099624633789, 9.050171852111816, 8.991623878479004, 5.393917560577393, 12.658591270446777, 19.343217849731445, 6.204690456390381, 10.730884552001953, 21.912633895874023, 10.650551795959473, 6.276297569274902, 12.298575401306152, 6.812517166137695, 8.480149269104004, 20.341623306274414, 6.689929962158203, 11.012951850891113, 5.814686298370361, 5.5726118087768555, 14.680485725402832, 7.508769989013672, 8.144501686096191, 7.24446439743042, 5.00462007522583, 5.239650249481201, 6.320923805236816, 6.245694637298584, 6.239906311035156, 4.546332836151123, 4.540870666503906, 4.5123291015625, 3.6989238262176514, 3.688400983810425, 3.6666269302368164, 3.6620614528656006, 2.8192434310913086, 2.8170948028564453, 2.816138505935669, 2.815446138381958, 2.8011317253112793, 2.7771637439727783, 2.775543689727783, 2.773983955383301, 6.913747310638428, 2.7224037647247314, 2.7221038341522217, 5.403141021728516, 7.4159040451049805, 5.327685356140137, 9.984284400939941, 3.9716053009033203, 5.230340957641602, 4.566683769226074, 3.705131769180298, 3.6840779781341553, 6.311899185180664, 8.471358299255371, 4.510301113128662, 3.551607370376587, 3.53877592086792, 5.395204067230225, 5.373562335968018, 11.355415344238281, 13.033510208129883, 3.687161922454834, 4.5633931159973145, 5.091821193695068, 6.191950798034668, 6.232619762420654, 4.638657093048096, 4.628198146820068, 5.32348108291626, 4.511683464050293, 4.767805576324463, 6.134660243988037, 5.238754749298096, 5.193324565887451], \"Term\": [\"thank\", \"witnesses\", \"schiff\", \"nancy\", \"impeachment\", \"jobs\", \"hoax\", \"good\", \"adam\", \"whitehouse\", \"great\", \"al\", \"pelosi\", \"like\", \"just\", \"american\", \"new\", \"work\", \"people\", \"leader\", \"thanks\", \"million\", \"danscavino\", \"media\", \"said\", \"vote\", \"trial\", \"democrats\", \"state\", \"usmca\", \"hoax\", \"thank\", \"vote\", \"long\", \"getting\", \"military\", \"doj\", \"fisa\", \"administration\", \"finally\", \"dbongino\", \"illegal\", \"swamp\", \"marklevinshow\", \"world\", \"decision\", \"landed\", \"official\", \"roger\", \"received\", \"polls\", \"ukrainian\", \"attack\", \"jail\", \"stone\", \"doomed\", \"wray\", \"director\", \"action\", \"kag2020\", \"black\", \"obama\", \"years\", \"paulsperry_\", \"judicialwatch\", \"iowa\", \"tomfitton\", \"just\", \"country\", \"legal\", \"ago\", \"gop\", \"new\", \"impeachment\", \"great\", \"america\", \"president\", \"make\", \"breaking\", \"want\", \"democrats\", \"did\", \"dems\", \"trump\", \"team\", \"house\", \"case\", \"today\", \"jim_jordan\", \"95\", \"yesterday\", \"hope\", \"scavino45\", \"wildwood\", \"release\", \"reports\", \"nytimes\", \"investigation\", \"foxandfriends\", \"father\", \"includes\", \"camping\", \"reporting\", \"gain\", \"especially\", \"congrats\", \"warren\", \"53\", \"overall\", \"result\", \"attacks\", \"presented\", \"giving\", \"report\", \"marshablackburn\", \"talking\", \"answer\", \"said\", \"repandybiggsaz\", \"hawleymo\", \"whistleblower\", \"schiff\", \"community\", \"truth\", \"adam\", \"white\", \"party\", \"history\", \"senators\", \"political\", \"hours\", \"house\", \"case\", \"republican\", \"trump\", \"power\", \"dems\", \"american\", \"impeachment\", \"says\", \"let\", \"rally\", \"democrats\", \"president\", \"america\", \"people\", \"ve\", \"potus\", \"election\", \"new\", \"speech\", \"sotu\", \"west\", \"virginia\", \"ripped\", \"tough\", \"ripping\", \"cryin\", \"hunt\", \"gets\", \"disappointed\", \"nervous\", \"manchin\", \"possible\", \"alleged\", \"sotu2020\", \"satisfied\", \"guys\", \"cut\", \"offense\", \"lie\", \"immense\", \"pathetic\", \"taxes\", \"stuff\", \"war\", \"delivers\", \"witch\", \"carminesabia\", \"usa\", \"pelosi\", \"nancy\", \"tonight\", \"repmarkmeadows\", \"lrihendry\", \"democrats\", \"congratulations\", \"pelositantrum\", \"chuck\", \"like\", \"great\", \"left\", \"schiff\", \"look\", \"destroy\", \"just\", \"trump\", \"adam\", \"media\", \"republicans\", \"joe\", \"big\", \"today\", \"president\", \"want\", \"house\", \"state\", \"senate\", \"democrat\", \"potus\", \"gop\", \"witnesses\", \"sentedcruz\", \"looks\", \"information\", \"17\", \"super\", \"bowl\", \"known\", \"wait\", \"come\", \"stage\", \"wanted\", \"woman\", \"heckler\", \"hunter\", \"fast\", \"kept\", \"sanders\", \"cost\", \"ou\", \"lindseygrahamsc\", \"senatemajldr\", \"hearing\", \"week\", \"partisan\", \"repadamschiff\", \"think\", \"usmca\", \"trial\", \"fact\", \"whitehouse\", \"people\", \"biden\", \"american\", \"impeachment\", \"like\", \"best\", \"senate\", \"th\", \"going\", \"president\", \"working\", \"today\", \"process\", \"senategop\", \"democrats\", \"democrat\", \"new\", \"house\", \"good\", \"trump\", \"leader\", \"million\", \"danscavino\", \"rimi\", \"repdlesko\", \"year\", \"jerrymoran\", \"azgop\", \"arizona\", \"rita_katz\", \"worker\", \"journal\", \"street\", \"editorial\", \"comey\", \"king\", \"kind\", \"arthurschwartz\", \"work\", \"correct\", \"mirandadevine\", \"wall\", \"al\", \"demdebate\", \"jobs\", \"winning\", \"question\", \"terrorist\", \"hard\", \"isn\", \"thanks\", \"good\", \"foreign\", \"economic\", \"katrinapierson\", \"media\", \"state\", \"trump\", \"president\", \"james\", \"arguments\", \"news\", \"americans\", \"nancy\", \"economy\", \"bolton\", \"senate\", \"watch\", \"ve\", \"democrats\", \"great\", \"house\"], \"Total\": [25.0, 19.0, 42.0, 24.0, 68.0, 13.0, 13.0, 15.0, 19.0, 20.0, 47.0, 9.0, 20.0, 24.0, 40.0, 21.0, 28.0, 8.0, 36.0, 7.0, 10.0, 7.0, 7.0, 12.0, 14.0, 9.0, 13.0, 90.0, 12.0, 13.0, 13.977782249450684, 25.3313045501709, 9.610589981079102, 6.989514350891113, 6.115807056427002, 6.116253852844238, 6.116189956665039, 5.242429733276367, 5.242416858673096, 5.242325305938721, 10.491205215454102, 4.368884563446045, 4.368821620941162, 4.368992328643799, 4.368579864501953, 3.49534010887146, 3.495337724685669, 3.495335340499878, 3.495330333709717, 3.4953370094299316, 3.4953341484069824, 3.495298385620117, 3.4951703548431396, 3.495262861251831, 3.4952611923217773, 3.495300054550171, 3.495448112487793, 3.495447874069214, 3.4950926303863525, 3.4950921535491943, 7.8712873458862305, 12.225228309631348, 18.341270446777344, 8.732671737670898, 6.123371124267578, 28.839401245117188, 7.847599029541016, 40.08672332763672, 14.820587158203125, 9.586901664733887, 6.986198425292969, 21.83714485168457, 28.867826461791992, 68.26181030273438, 47.12566375732422, 28.909923553466797, 83.0410385131836, 15.739054679870605, 13.963976860046387, 19.152578353881836, 90.6524429321289, 15.732280731201172, 18.41023063659668, 61.25962448120117, 15.743730545043945, 48.16689682006836, 23.673120498657227, 34.90298843383789, 6.166440010070801, 5.285486221313477, 5.285130023956299, 6.165911674499512, 4.403280735015869, 4.403210639953613, 4.403183937072754, 4.40295934677124, 4.402867317199707, 4.402831077575684, 9.685312271118164, 3.5212318897247314, 3.521230459213257, 3.521228551864624, 3.521179437637329, 3.5212039947509766, 3.5211853981018066, 3.5210342407226562, 3.521113395690918, 3.521146297454834, 3.521145820617676, 3.5211071968078613, 3.520916700363159, 4.399216175079346, 5.2779436111450195, 7.03302526473999, 11.421761512756348, 6.150856971740723, 6.1559576988220215, 14.950088500976562, 7.922541618347168, 8.792266845703125, 9.673720359802246, 42.027313232421875, 6.156866073608398, 7.913795471191406, 19.252233505249023, 9.668642044067383, 17.558496475219727, 9.68015193939209, 6.156652927398682, 14.054525375366211, 13.140314102172852, 48.16689682006836, 23.673120498657227, 16.655622482299805, 61.25962448120117, 8.788012504577637, 18.41023063659668, 21.032854080200195, 68.26181030273438, 11.42632007598877, 9.642417907714844, 11.410460472106934, 90.6524429321289, 83.0410385131836, 28.909923553466797, 36.711761474609375, 18.413972854614258, 15.727807998657227, 14.030447959899902, 28.867826461791992, 6.935949325561523, 6.93675422668457, 5.204121112823486, 5.204123020172119, 5.204173564910889, 4.338359832763672, 4.338328838348389, 4.33844518661499, 4.338427543640137, 4.338685989379883, 3.472360372543335, 3.4723598957061768, 3.4723594188690186, 3.4723546504974365, 3.4723012447357178, 3.4723832607269287, 3.4724483489990234, 3.472468614578247, 3.472405433654785, 3.472412586212158, 3.4725027084350586, 3.4724626541137695, 3.4727084636688232, 3.4724597930908203, 3.4729557037353516, 3.472571611404419, 3.4728262424468994, 6.942780494689941, 3.4777965545654297, 5.219467639923096, 20.87409019470215, 24.368040084838867, 11.306529998779297, 10.437776565551758, 7.813709735870361, 90.6524429321289, 9.58195686340332, 9.571657180786133, 8.704817771911621, 24.377216339111328, 47.12566375732422, 6.95197057723999, 42.027313232421875, 5.220358848571777, 5.212361812591553, 40.08672332763672, 61.25962448120117, 19.252233505249023, 12.22623062133789, 10.450989723205566, 13.05996322631836, 17.4327392578125, 34.90298843383789, 83.0410385131836, 19.152578353881836, 48.16689682006836, 12.227145195007324, 30.547842025756836, 23.560144424438477, 15.727807998657227, 21.83714485168457, 19.178752899169922, 7.847747325897217, 6.10437536239624, 5.232913017272949, 5.231926918029785, 4.361201763153076, 4.36120080947876, 4.361053943634033, 4.360995769500732, 4.361144065856934, 4.361395359039307, 4.361579418182373, 3.4895763397216797, 3.4895520210266113, 3.489574909210205, 3.489525556564331, 3.4895412921905518, 3.4895174503326416, 3.4895107746124268, 3.4895827770233154, 6.97816276550293, 4.365914821624756, 6.113933563232422, 9.603473663330078, 12.207845687866211, 6.117987632751465, 7.867676258087158, 13.114432334899902, 13.110715866088867, 7.867171764373779, 20.067142486572266, 36.711761474609375, 9.605892181396484, 21.032854080200195, 68.26181030273438, 24.377216339111328, 11.323747634887695, 30.547842025756836, 13.116689682006836, 18.29524803161621, 83.0410385131836, 13.097432136535645, 34.90298843383789, 10.492772102355957, 10.48762035369873, 90.6524429321289, 23.560144424438477, 28.867826461791992, 48.16689682006836, 15.784708976745605, 61.25962448120117, 7.042228698730469, 7.041354179382324, 7.040871620178223, 5.279761791229248, 5.279693126678467, 5.279489040374756, 4.3990302085876465, 4.39896297454834, 4.3986616134643555, 4.398639678955078, 3.517998456954956, 3.517988681793213, 3.517979860305786, 3.517972946166992, 3.5176589488983154, 3.517580986022949, 3.517921209335327, 3.5178699493408203, 8.795843124389648, 3.516782522201538, 3.5168423652648926, 7.034111976623535, 9.685068130493164, 7.0318498611450195, 13.18509292602539, 5.278624534606934, 7.031167984008789, 6.161901473999023, 5.264840602874756, 5.272287368774414, 10.528064727783203, 15.784708976745605, 7.019244194030762, 5.26291561126709, 5.279937744140625, 12.22623062133789, 12.227145195007324, 61.25962448120117, 83.0410385131836, 6.1457366943359375, 9.624747276306152, 12.316815376281738, 19.221107482910156, 24.368040084838867, 12.233369827270508, 12.258392333984375, 30.547842025756836, 13.110485076904297, 18.413972854614258, 90.6524429321289, 47.12566375732422, 48.16689682006836], \"loglift\": [30.0, 29.0, 28.0, 27.0, 26.0, 25.0, 24.0, 23.0, 22.0, 21.0, 20.0, 19.0, 18.0, 17.0, 16.0, 15.0, 14.0, 13.0, 12.0, 11.0, 10.0, 9.0, 8.0, 7.0, 6.0, 5.0, 4.0, 3.0, 2.0, 1.0, 1.4177000522613525, 1.4132000207901, 1.3948999643325806, 1.374899983406067, 1.3559000492095947, 1.351199984550476, 1.351099967956543, 1.3371000289916992, 1.3371000289916992, 1.3319000005722046, 1.3127000331878662, 1.305799961090088, 1.3056999444961548, 1.3015999794006348, 1.3001999855041504, 1.2569999694824219, 1.2569999694824219, 1.2569999694824219, 1.2568999528884888, 1.256600022315979, 1.256100058555603, 1.256100058555603, 1.2547999620437622, 1.2541999816894531, 1.2541999816894531, 1.253999948501587, 1.2523000240325928, 1.2523000240325928, 1.249400019645691, 1.2493000030517578, 1.2493000030517578, 1.1604000329971313, 1.1272000074386597, 1.148800015449524, 1.1822999715805054, 0.8956000208854675, 1.1098999977111816, 0.791700005531311, 0.9785000085830688, 1.0543999671936035, 1.107800006866455, 0.8504999876022339, 0.7764000296592712, 0.5770999789237976, 0.641700029373169, 0.6916000247001648, 0.262800008058548, 0.8353000283241272, 0.8709999918937683, 0.6996999979019165, -0.08630000054836273, 0.6883999705314636, 0.5799000263214111, -0.21780000627040863, 0.6164000034332275, -0.22050000727176666, 0.287200003862381, -0.08789999783039093, 1.3976000547409058, 1.3967000246047974, 1.3920999765396118, 1.3880000114440918, 1.3672000169754028, 1.3650000095367432, 1.36080002784729, 1.357699990272522, 1.357699990272522, 1.3547999858856201, 1.344499945640564, 1.319200038909912, 1.319200038909912, 1.319200038909912, 1.31850004196167, 1.3183000087738037, 1.3183000087738037, 1.3164000511169434, 1.3162000179290771, 1.3162000179290771, 1.3162000179290771, 1.3157000541687012, 1.3143999576568604, 1.3071000576019287, 1.305799961090088, 1.2841999530792236, 1.2417999505996704, 1.2401000261306763, 1.2252999544143677, 1.218400001525879, 1.218000054359436, 1.2077000141143799, 1.1894999742507935, 0.9197999835014343, 1.2128000259399414, 1.1582000255584717, 0.948199987411499, 1.096500039100647, 0.9623000025749207, 1.0907000303268433, 1.1943000555038452, 0.9872999787330627, 0.9700999855995178, 0.5479999780654907, 0.7605000138282776, 0.8173999786376953, 0.27730000019073486, 1.0631999969482422, 0.7269999980926514, 0.6315000057220459, -0.017400000244379044, 0.8805999755859375, 0.972100019454956, 0.8743000030517578, -0.4311000108718872, -0.4537000060081482, 0.23729999363422394, 0.06260000169277191, 0.47540000081062317, 0.6011000275611877, 0.6541000008583069, -0.02070000022649765, 1.4402999877929688, 1.4282000064849854, 1.402999997138977, 1.402999997138977, 1.4016000032424927, 1.3696000576019287, 1.3665000200271606, 1.363700032234192, 1.361899971961975, 1.3452999591827393, 1.3224999904632568, 1.3224999904632568, 1.3223999738693237, 1.3216999769210815, 1.3208999633789062, 1.319700002670288, 1.319599986076355, 1.319599986076355, 1.3194999694824219, 1.319100022315979, 1.3183000087738037, 1.31659996509552, 1.3145999908447266, 1.3142000436782837, 1.3098000288009644, 1.3095999956130981, 1.2971999645233154, 1.2545000314712524, 1.207900047302246, 1.1811000108718872, 1.179800033569336, 1.1644999980926514, 1.1685999631881714, 1.1540000438690186, 1.166100025177002, 0.6865000128746033, 1.117799997329712, 1.0587999820709229, 1.0270999670028687, 0.6779999732971191, 0.4503999948501587, 1.0901000499725342, 0.4526999890804291, 1.1806999444961548, 1.176800012588501, 0.3822999894618988, 0.21379999816417694, 0.6647999882698059, 0.8355000019073486, 0.8984000086784363, 0.763700008392334, 0.6244999766349792, 0.2257000058889389, -0.24729999899864197, 0.5485000014305115, -0.11990000307559967, 0.7271999716758728, 0.04729999974370003, 0.2190999984741211, 0.5055999755859375, 0.11670000106096268, 1.5471999645233154, 1.4921000003814697, 1.4663000106811523, 1.44350004196167, 1.4178999662399292, 1.414199948310852, 1.414199948310852, 1.4098999500274658, 1.4093999862670898, 1.4068000316619873, 1.405400037765503, 1.4019999504089355, 1.3652000427246094, 1.3652000427246094, 1.3651000261306763, 1.3624000549316406, 1.361799955368042, 1.36080002784729, 1.36080002784729, 1.3596999645233154, 1.3282999992370605, 1.2972999811172485, 1.2869000434875488, 1.2789000272750854, 1.2395000457763672, 1.2297999858856201, 1.2243000268936157, 1.218400001525879, 1.2122000455856323, 1.211899995803833, 1.128600001335144, 0.9485999941825867, 1.1523000001907349, 0.9164000153541565, 0.4530999958515167, 0.7613000273704529, 0.9991999864578247, 0.6796000003814697, 0.9341999888420105, 0.8205000162124634, 0.1826999932527542, 0.9175999760627747, 0.4359000027179718, 0.9991000294685364, 0.9570000171661377, -0.23109999299049377, 0.44589999318122864, 0.3240000009536743, -0.3050999939441681, 0.4406999945640564, -0.8694999814033508, 1.8473999500274658, 1.8356000185012817, 1.8346999883651733, 1.805899977684021, 1.8047000169754028, 1.7984999418258667, 1.782099962234497, 1.7792999744415283, 1.7734999656677246, 1.7721999883651733, 1.7340999841690063, 1.733299970626831, 1.7330000400543213, 1.732699990272522, 1.7276999950408936, 1.719099998474121, 1.718500018119812, 1.717900037765503, 1.7146999835968018, 1.6994999647140503, 1.6993000507354736, 1.6916999816894531, 1.6885000467300415, 1.6779999732971191, 1.67739999294281, 1.6710000038146973, 1.659600019454956, 1.655900001525879, 1.604200005531311, 1.597000002861023, 1.4438999891281128, 1.3330999612808228, 1.513200044631958, 1.5621999502182007, 1.555400013923645, 1.1374000310897827, 1.1332999467849731, 0.2700999975204468, 0.10369999706745148, 1.444599986076355, 1.2092000246047974, 1.0721999406814575, 0.822700023651123, 0.5920000076293945, 0.9857000112533569, 0.9814000129699707, 0.20829999446868896, 0.8888000249862671, 0.6043000221252441, -0.7376000285148621, -0.24120000004768372, -0.2718000113964081], \"logprob\": [30.0, 29.0, 28.0, 27.0, 26.0, 25.0, 24.0, 23.0, 22.0, 21.0, 20.0, 19.0, 18.0, 17.0, 16.0, 15.0, 14.0, 13.0, 12.0, 11.0, 10.0, 9.0, 8.0, 7.0, 6.0, 5.0, 4.0, 3.0, 2.0, 1.0, -4.358699798583984, -3.7685000896453857, -4.756100177764893, -5.0945000648498535, -5.247099876403809, -5.251699924468994, -5.251800060272217, -5.419899940490723, -5.419899940490723, -5.425099849700928, -4.750500202178955, -5.633500099182129, -5.633600234985352, -5.637700080871582, -5.639200210571289, -5.905399799346924, -5.905399799346924, -5.905399799346924, -5.9054999351501465, -5.905799865722656, -5.906300067901611, -5.906300067901611, -5.907700061798096, -5.908199787139893, -5.908199787139893, -5.908400058746338, -5.910099983215332, -5.910099983215332, -5.913099765777588, -5.913099765777588, -5.101399898529053, -4.749899864196777, -4.377500057220459, -5.097899913787842, -5.419400215148926, -4.156499862670898, -5.24370002746582, -3.9310998916625977, -4.739299774169922, -5.098999977111816, -5.362100124359131, -4.479700088500977, -4.274700164794922, -3.6133999824523926, -3.919300079345703, -4.357999801635742, -3.7316999435424805, -4.822400093078613, -4.906400203704834, -4.76170015335083, -3.9930999279022217, -4.969699859619141, -4.921000003814697, -4.516499996185303, -5.040999889373779, -4.759699821472168, -4.962200164794922, -4.94920015335083, -5.1971001625061035, -5.352200031280518, -5.356800079345703, -5.2067999839782715, -5.564300060272217, -5.566500186920166, -5.570700168609619, -5.573800086975098, -5.57390022277832, -5.576700210571289, -4.798699855804443, -5.8358001708984375, -5.8358001708984375, -5.8358001708984375, -5.83650016784668, -5.836699962615967, -5.836699962615967, -5.838699817657471, -5.838799953460693, -5.838799953460693, -5.838900089263916, -5.839300155639648, -5.840700149536133, -5.62529993057251, -5.444499969482422, -5.178999900817871, -4.736499786376953, -5.357100009918213, -5.371099948883057, -4.490699768066406, -5.126200199127197, -5.032299995422363, -4.954899787902832, -3.7558000087738037, -5.383500099182129, -5.187099933624268, -4.507999897003174, -5.048399925231934, -4.585999965667725, -5.053100109100342, -5.4019999504089355, -4.783599853515625, -4.868000030517578, -3.9911999702453613, -4.488999843597412, -4.783699989318848, -4.021399974822998, -5.177199840545654, -4.773900032043457, -4.736299991607666, -4.207900047302246, -5.097400188446045, -5.175600051879883, -5.105000019073486, -4.337900161743164, -4.448200225830078, -4.812399864196777, -4.7480998039245605, -5.025300025939941, -5.057300090789795, -5.118500232696533, -5.071800231933594, -5.036900043487549, -5.048799991607666, -5.361400127410889, -5.361400127410889, -5.362800121307373, -5.576700210571289, -5.579899787902832, -5.582600116729736, -5.584499835968018, -5.60099983215332, -5.846499919891357, -5.846499919891357, -5.84660005569458, -5.847300052642822, -5.848100185394287, -5.849299907684326, -5.849400043487549, -5.849400043487549, -5.8495001792907715, -5.849899768829346, -5.8506999015808105, -5.852399826049805, -5.854300022125244, -5.854800224304199, -5.859000205993652, -5.859300136566162, -5.871699810028076, -5.22160005569458, -5.959499835968018, -5.5802998542785645, -4.195499897003174, -4.056000232696533, -4.819900035858154, -4.914400100708008, -5.19189977645874, -3.2202999591827393, -5.036099910736084, -5.096199989318848, -5.222799777984619, -4.542099952697754, -4.110599994659424, -5.384699821472168, -4.222799777984619, -5.580599784851074, -5.585999965667725, -4.3404998779296875, -4.08489990234375, -4.791500091552734, -5.074699878692627, -5.168799877166748, -5.080599784851074, -4.9309000968933105, -4.6356000900268555, -4.241799831390381, -4.912899971008301, -4.65910005569458, -5.183000087738037, -4.947299957275391, -5.035200119018555, -5.1528000831604, -5.213600158691406, -3.912899971008301, -4.861499786376953, -5.138599872589111, -5.315299987792969, -5.34119987487793, -5.526800155639648, -5.526800155639648, -5.531199932098389, -5.531799793243408, -5.534299850463867, -5.535699844360352, -5.539000034332275, -5.798799991607666, -5.798799991607666, -5.798900127410889, -5.801700115203857, -5.802299976348877, -5.803199768066406, -5.803299903869629, -5.8043999671936035, -5.1427001953125, -5.6427001953125, -5.316400051116943, -4.872799873352051, -4.6722002029418945, -5.372799873352051, -5.126800060272217, -4.621699810028076, -4.628200054168701, -5.139200210571289, -4.286099910736084, -3.8620998859405518, -4.999199867248535, -4.451300144195557, -3.7374000549316406, -4.458799839019775, -4.98769998550415, -4.315000057220459, -4.905700206756592, -4.686699867248535, -3.811800003051758, -4.923900127410889, -4.4253997802734375, -5.0640997886657715, -5.106599807739258, -4.137899875640869, -4.8084001541137695, -4.727099895477295, -4.844200134277344, -5.214099884033203, -5.1682000160217285, -4.614500045776367, -4.626399993896484, -4.627399921417236, -4.943999767303467, -4.945199966430664, -4.951499938964844, -5.150300025939941, -5.15310001373291, -5.15910005569458, -5.160299777984619, -5.421899795532227, -5.422599792480469, -5.422999858856201, -5.4232001304626465, -5.428299903869629, -5.4369001388549805, -5.4375, -5.4380998611450195, -4.524799823760986, -5.4567999839782715, -5.456900119781494, -4.771399974822998, -4.454699993133545, -4.785399913787842, -4.157299995422363, -5.07919979095459, -4.803899765014648, -4.939599990844727, -5.148600101470947, -5.154300212860107, -4.615900039672852, -4.321599960327148, -4.952000141143799, -5.190899848937988, -5.1946001052856445, -4.772799968719482, -4.776800155639648, -4.028600215911865, -3.8907999992370605, -5.153500080108643, -4.940299987792969, -4.830699920654297, -4.6350998878479, -4.628499984741211, -4.923900127410889, -4.926199913024902, -4.786200046539307, -4.951700210571289, -4.896500110626221, -4.644400119781494, -4.802299976348877, -4.810999870300293]}, \"token.table\": {\"Topic\": [4, 2, 2, 1, 2, 3, 1, 1, 4, 2, 5, 3, 1, 2, 3, 4, 5, 2, 4, 5, 1, 3, 4, 5, 2, 4, 1, 3, 5, 5, 5, 1, 2, 5, 2, 3, 4, 1, 2, 4, 1, 2, 3, 4, 5, 1, 2, 1, 3, 4, 5, 4, 1, 3, 4, 5, 2, 3, 1, 2, 3, 4, 3, 4, 5, 4, 5, 1, 2, 2, 2, 3, 5, 4, 1, 3, 4, 3, 3, 5, 1, 5, 1, 3, 4, 5, 1, 2, 3, 4, 5, 1, 2, 3, 4, 5, 1, 2, 3, 4, 1, 3, 1, 3, 4, 5, 1, 3, 1, 1, 3, 5, 2, 3, 4, 5, 5, 1, 2, 4, 5, 2, 2, 4, 5, 4, 2, 1, 1, 1, 3, 5, 2, 4, 2, 3, 1, 2, 3, 1, 3, 4, 1, 4, 5, 1, 2, 3, 1, 2, 3, 4, 5, 3, 3, 5, 2, 4, 4, 5, 4, 2, 4, 5, 1, 2, 2, 3, 4, 1, 2, 3, 4, 5, 3, 4, 1, 3, 1, 2, 4, 5, 2, 4, 2, 1, 2, 3, 4, 5, 1, 5, 1, 1, 5, 5, 2, 1, 4, 5, 3, 4, 5, 5, 1, 5, 1, 2, 3, 4, 5, 1, 2, 5, 4, 5, 5, 4, 1, 5, 1, 3, 1, 3, 2, 3, 4, 3, 2, 3, 4, 1, 4, 1, 2, 3, 4, 3, 4, 1, 2, 3, 5, 3, 1, 2, 3, 4, 3, 5, 1, 5, 5, 1, 3, 5, 3, 1, 2, 4, 2, 3, 5, 2, 1, 4, 3, 1, 4, 2, 2, 3, 4, 1, 2, 4, 3, 1, 4, 1, 2, 3, 5, 3, 4, 5, 1, 2, 3, 4, 5, 2, 3, 5, 1, 3, 2, 3, 4, 1, 2, 2, 1, 2, 3, 4, 5, 1, 2, 4, 4, 5, 1, 2, 4, 1, 2, 2, 4, 2, 4, 5, 5, 2, 3, 4, 2, 3, 2, 2, 1, 2, 3, 4, 1, 3, 5, 2, 5, 3, 3, 5, 1, 1, 2, 4, 4, 3, 1, 2, 4, 5, 2, 1, 2, 3, 1, 2, 3, 4, 5, 1, 2, 3, 4, 2, 4, 1, 2, 4, 3, 3, 3, 4, 3, 4, 5, 1, 5, 3, 4, 1, 2, 3, 3, 1, 2, 3, 2, 5, 1, 2, 3, 4, 5, 1, 4, 4, 5, 2, 4, 1, 2, 3, 4, 5, 1, 3, 2, 3, 4, 3, 1, 2, 4, 5, 1, 2, 3, 4, 5, 1, 2, 1, 3, 5, 2, 4, 5, 1, 2, 3, 4, 5, 3, 1, 4, 1, 5, 1, 3, 4, 4, 3, 2, 1, 3, 5, 1, 2, 4, 3, 2, 3, 5, 1, 2, 3, 5, 3, 4, 5, 2, 2, 5, 3, 4, 4, 4, 1, 5, 5, 1, 3, 4, 5, 1, 1, 5, 1, 2, 3, 4, 5, 2], \"Freq\": [0.7645366787910461, 0.8519952893257141, 0.9459867477416992, 0.8583463430404663, 0.5713622570037842, 0.41553619503974915, 0.9537585973739624, 0.7156968116760254, 0.28627872467041016, 0.20650345087051392, 0.7227621078491211, 0.8639803528785706, 0.4496725797653198, 0.2767215967178345, 0.06918039917945862, 0.10377059876918793, 0.10377059876918793, 0.3803573250770569, 0.5229912996292114, 0.04754466563463211, 0.26013070344924927, 0.26013070344924927, 0.15607841312885284, 0.3121568262577057, 0.6497770547866821, 0.16244426369667053, 0.20779766142368317, 0.31169649958610535, 0.5194941759109497, 0.9093675017356873, 0.8527887463569641, 0.8583272695541382, 0.8520508408546448, 0.909305214881897, 0.08830998837947845, 0.3532399535179138, 0.5298599004745483, 0.20820553600788116, 0.10410276800394058, 0.6246166229248047, 0.22945332527160645, 0.11472666263580322, 0.4015433192253113, 0.17208999395370483, 0.05736333131790161, 0.7622641324996948, 0.12704402208328247, 0.40788382291793823, 0.08157676458358765, 0.08157676458358765, 0.40788382291793823, 0.9171785712242126, 0.5729026794433594, 0.21483850479125977, 0.07161283493041992, 0.14322566986083984, 0.8519753813743591, 0.5750767588615417, 0.2956940233707428, 0.46466201543807983, 0.04224200174212456, 0.16896800696849823, 0.5743945837020874, 0.11487891525030136, 0.22975783050060272, 0.9171904921531677, 0.8528399467468262, 0.16242028772830963, 0.6496811509132385, 0.8520224094390869, 0.31308844685554504, 0.6261768937110901, 0.8530524373054504, 0.8597193956375122, 0.6072633862495422, 0.2024211287498474, 0.13494741916656494, 0.9219892621040344, 0.8639544248580933, 0.8521672487258911, 0.8578613996505737, 0.09531792998313904, 0.8582856059074402, 0.8638496994972229, 0.14221009612083435, 0.7110504508018494, 0.21222281455993652, 0.1697782427072525, 0.25466737151145935, 0.339556485414505, 0.042444560676813126, 0.20959170162677765, 0.14340485632419586, 0.4191834032535553, 0.16546712815761566, 0.06618685275316238, 0.3802233636379242, 0.4345409870147705, 0.054317623376846313, 0.054317623376846313, 0.19185161590576172, 0.7674064636230469, 0.44494500756263733, 0.06356357783079147, 0.2542543113231659, 0.19069072604179382, 0.8582591414451599, 0.863965630531311, 0.8175023794174194, 0.8582954406738281, 0.190008744597435, 0.76003497838974, 0.08174362778663635, 0.3269745111465454, 0.24523088335990906, 0.40871813893318176, 0.852763831615448, 0.2850942611694336, 0.427641361951828, 0.213820680975914, 0.0712735652923584, 0.8519858121871948, 0.12711048126220703, 0.6355524063110352, 0.12711048126220703, 0.8597157001495361, 0.8519745469093323, 0.9537752270698547, 0.9537562131881714, 0.1424654871225357, 0.1424654871225357, 0.7123274207115173, 0.825993001461029, 0.10324912518262863, 0.8519813418388367, 0.9219381213188171, 0.8175535798072815, 0.7578709125518799, 0.18946772813796997, 0.3279540240764618, 0.21863600611686707, 0.43727201223373413, 0.12670490145683289, 0.3167622685432434, 0.5068196058273315, 0.5495223999023438, 0.22896766662597656, 0.22896766662597656, 0.42439720034599304, 0.10609930008649826, 0.3395177721977234, 0.021219860762357712, 0.10609930008649826, 0.8639386892318726, 0.18993927538394928, 0.7597571015357971, 0.6824178695678711, 0.22747261822223663, 0.8178040981292725, 0.16356082260608673, 0.8597092032432556, 0.619825005531311, 0.10330416262149811, 0.20660832524299622, 0.9300473928451538, 0.8109101057052612, 0.5327117443084717, 0.3044067323207855, 0.07610168308019638, 0.18685032427310944, 0.37370064854621887, 0.18685032427310944, 0.14532802999019623, 0.10380573570728302, 0.9219930171966553, 0.859703540802002, 0.9155654907226562, 0.8639401793479919, 0.41018542647361755, 0.20509271323680878, 0.32228854298591614, 0.05859791859984398, 0.8519749045372009, 0.95549076795578, 0.9085063338279724, 0.5547965168952942, 0.17337392270565033, 0.13869912922382355, 0.10402435064315796, 0.03467478230595589, 0.18967099487781525, 0.758683979511261, 0.8583045601844788, 0.32542884349823, 0.65085768699646, 0.9092913269996643, 0.8108406066894531, 0.15168645977973938, 0.07584322988986969, 0.7584322690963745, 0.4594193696975708, 0.38284948468208313, 0.15313978493213654, 0.8527600169181824, 0.816543698310852, 0.1633087396621704, 0.4989182949066162, 0.04989182949066162, 0.2993509769439697, 0.12472957372665405, 0.02494591474533081, 0.8583464622497559, 0.18939617276191711, 0.7575846910476685, 0.8597118258476257, 0.8527763485908508, 0.85285884141922, 0.9172094464302063, 0.8582861423492432, 0.8520029783248901, 0.2876882255077362, 0.5753764510154724, 0.6258538961410522, 0.3129269480705261, 0.5185421109199524, 0.2074168622493744, 0.2074168622493744, 0.8639302253723145, 0.12306573241949081, 0.41021910309791565, 0.45124101638793945, 0.14330419898033142, 0.7165209650993347, 0.8584287166595459, 0.19155770540237427, 0.7662308216094971, 0.819084644317627, 0.6399009227752686, 0.2559603750705719, 0.5082897543907166, 0.12707243859767914, 0.1906086504459381, 0.1906086504459381, 0.8639658689498901, 0.9155429005622864, 0.7004173398017883, 0.17510433495044708, 0.08755216747522354, 0.4907481372356415, 0.4089567959308624, 0.8174938559532166, 0.8521088361740112, 0.85303795337677, 0.04103735834360123, 0.6976351141929626, 0.24622415006160736, 0.8639657497406006, 0.48496896028518677, 0.2078438401222229, 0.27712512016296387, 0.48713889718055725, 0.08118981868028641, 0.40594908595085144, 0.9084988832473755, 0.7361825704574585, 0.24539418518543243, 0.86395263671875, 0.8582867383956909, 0.8597016334533691, 0.8519954085350037, 0.08191453665494919, 0.16382907330989838, 0.7372308373451233, 0.22780993580818176, 0.5695248246192932, 0.22780993580818176, 0.8638790249824524, 0.6870749592781067, 0.2290249764919281, 0.09581255912780762, 0.09581255912780762, 0.6706879138946533, 0.14371883869171143, 0.6268507242202759, 0.10447511821985245, 0.2089502364397049, 0.13619613647460938, 0.21791382133960724, 0.08171767741441727, 0.5175452828407288, 0.027239227667450905, 0.5692116618156433, 0.21345438063144684, 0.21345438063144684, 0.8582870364189148, 0.8639670610427856, 0.38148990273475647, 0.38148990273475647, 0.25432661175727844, 0.34137412905693054, 0.5689568519592285, 0.6819396615028381, 0.3010559678077698, 0.13246461749076843, 0.16859133541584015, 0.24084477126598358, 0.1565490961074829, 0.19060739874839783, 0.19060739874839783, 0.5718222260475159, 0.14222387969493866, 0.7111194133758545, 0.35055553913116455, 0.5258333086967468, 0.08763888478279114, 0.8582863211631775, 0.9084335565567017, 0.16345243155956268, 0.6538097262382507, 0.7573327422142029, 0.12622211873531342, 0.12622211873531342, 0.9470247626304626, 0.19161169230937958, 0.6706408858299255, 0.09580584615468979, 0.7109315991401672, 0.14218632876873016, 0.8519872426986694, 0.9084798693656921, 0.30019891262054443, 0.4803182780742645, 0.12007956951856613, 0.12007956951856613, 0.2870541512966156, 0.4784235954284668, 0.19136942923069, 0.8520047068595886, 0.9470124244689941, 0.768613874912262, 0.9220139980316162, 0.9093720316886902, 0.8582879900932312, 0.06688923388719559, 0.7357816100120544, 0.20066770911216736, 0.8597177267074585, 0.8639437556266785, 0.08751723915338516, 0.5251034498214722, 0.17503447830677032, 0.17503447830677032, 0.9084135890007019, 0.11897025257349014, 0.5472631454467773, 0.33311671018600464, 0.13094215095043182, 0.06547107547521591, 0.2291487604379654, 0.3928264379501343, 0.16367767751216888, 0.09535051137208939, 0.19070102274417877, 0.09535051137208939, 0.5721030831336975, 0.22904707491397858, 0.6871412396430969, 0.1624259203672409, 0.6497036814689636, 0.8919757008552551, 0.864957869052887, 0.8639599084854126, 0.8650582432746887, 0.9171376824378967, 0.40892618894577026, 0.08178523927927017, 0.40892618894577026, 0.8583049774169922, 0.8527621030807495, 0.8638175129890442, 0.9171783924102783, 0.9155787229537964, 0.812894880771637, 0.16257897019386292, 0.8639408946037292, 0.4446214437484741, 0.317586749792099, 0.25406938791275024, 0.16228756308555603, 0.8114378452301025, 0.07623875141143799, 0.15247750282287598, 0.07623875141143799, 0.5336712598800659, 0.15247750282287598, 0.9474443197250366, 0.039476845413446426, 0.3799368739128113, 0.5699052810668945, 0.254204660654068, 0.6355116367340088, 0.20055589079856873, 0.14325420558452606, 0.2578575909137726, 0.31515926122665405, 0.057301685214042664, 0.6371375322341919, 0.2548550069332123, 0.17688892781734467, 0.7075557112693787, 0.08844446390867233, 0.9220074415206909, 0.07627348601818085, 0.07627348601818085, 0.6864613890647888, 0.22882045805454254, 0.17956362664699554, 0.2775074243545532, 0.2611834406852722, 0.08161982893943787, 0.17956362664699554, 0.25272324681282043, 0.6318081021308899, 0.8582957983016968, 0.766361653804779, 0.19159041345119476, 0.15250374376773834, 0.6862668395042419, 0.15250374376773834, 0.05430658534169197, 0.3258395195007324, 0.1629197597503662, 0.1629197597503662, 0.27153292298316956, 0.960776686668396, 0.9364669322967529, 0.91722172498703, 0.14216434955596924, 0.710821807384491, 0.4699106216430664, 0.3654860258102417, 0.15663687884807587, 0.9170989990234375, 0.8639130592346191, 0.8520032167434692, 0.38137415051460266, 0.3050993084907532, 0.38137415051460266, 0.10412898659706116, 0.10412898659706116, 0.7289029359817505, 0.9607770442962646, 0.7236099243164062, 0.10337284207344055, 0.10337284207344055, 0.10342714190483093, 0.6205628514289856, 0.10342714190483093, 0.10342714190483093, 0.1494981199502945, 0.6478251814842224, 0.19933082163333893, 0.9084280133247375, 0.18944329023361206, 0.7577731609344482, 0.7201725840568542, 0.1440345048904419, 0.9385386109352112, 0.8597032427787781, 0.11369007080793381, 0.795830488204956, 0.8527576327323914, 0.22905252873897552, 0.07635084539651871, 0.5344558954238892, 0.15270169079303741, 0.9156293869018555, 0.8582590818405151, 0.9470613598823547, 0.7087840437889099, 0.05452185124158859, 0.10904370248317719, 0.05452185124158859, 0.05452185124158859, 0.9460505247116089], \"Term\": [\"17\", \"53\", \"95\", \"action\", \"adam\", \"adam\", \"administration\", \"ago\", \"ago\", \"al\", \"al\", \"alleged\", \"america\", \"america\", \"america\", \"america\", \"america\", \"american\", \"american\", \"american\", \"americans\", \"americans\", \"americans\", \"americans\", \"answer\", \"answer\", \"arguments\", \"arguments\", \"arguments\", \"arizona\", \"arthurschwartz\", \"attack\", \"attacks\", \"azgop\", \"best\", \"best\", \"best\", \"biden\", \"biden\", \"biden\", \"big\", \"big\", \"big\", \"big\", \"big\", \"black\", \"black\", \"bolton\", \"bolton\", \"bolton\", \"bolton\", \"bowl\", \"breaking\", \"breaking\", \"breaking\", \"breaking\", \"camping\", \"carminesabia\", \"case\", \"case\", \"case\", \"case\", \"chuck\", \"chuck\", \"chuck\", \"come\", \"comey\", \"community\", \"community\", \"congrats\", \"congratulations\", \"congratulations\", \"correct\", \"cost\", \"country\", \"country\", \"country\", \"cryin\", \"cut\", \"danscavino\", \"dbongino\", \"dbongino\", \"decision\", \"delivers\", \"demdebate\", \"demdebate\", \"democrat\", \"democrat\", \"democrat\", \"democrat\", \"democrat\", \"democrats\", \"democrats\", \"democrats\", \"democrats\", \"democrats\", \"dems\", \"dems\", \"dems\", \"dems\", \"destroy\", \"destroy\", \"did\", \"did\", \"did\", \"did\", \"director\", \"disappointed\", \"doj\", \"doomed\", \"economic\", \"economic\", \"economy\", \"economy\", \"economy\", \"economy\", \"editorial\", \"election\", \"election\", \"election\", \"election\", \"especially\", \"fact\", \"fact\", \"fact\", \"fast\", \"father\", \"finally\", \"fisa\", \"foreign\", \"foreign\", \"foreign\", \"foxandfriends\", \"foxandfriends\", \"gain\", \"gets\", \"getting\", \"giving\", \"giving\", \"going\", \"going\", \"going\", \"good\", \"good\", \"good\", \"gop\", \"gop\", \"gop\", \"great\", \"great\", \"great\", \"great\", \"great\", \"guys\", \"hard\", \"hard\", \"hawleymo\", \"hawleymo\", \"hearing\", \"hearing\", \"heckler\", \"history\", \"history\", \"history\", \"hoax\", \"hope\", \"hours\", \"hours\", \"hours\", \"house\", \"house\", \"house\", \"house\", \"house\", \"hunt\", \"hunter\", \"illegal\", \"immense\", \"impeachment\", \"impeachment\", \"impeachment\", \"impeachment\", \"includes\", \"information\", \"investigation\", \"iowa\", \"iowa\", \"iowa\", \"iowa\", \"iowa\", \"isn\", \"isn\", \"jail\", \"james\", \"james\", \"jerrymoran\", \"jim_jordan\", \"jobs\", \"jobs\", \"jobs\", \"joe\", \"joe\", \"joe\", \"journal\", \"judicialwatch\", \"judicialwatch\", \"just\", \"just\", \"just\", \"just\", \"just\", \"kag2020\", \"katrinapierson\", \"katrinapierson\", \"kept\", \"kind\", \"king\", \"known\", \"landed\", \"leader\", \"left\", \"left\", \"legal\", \"legal\", \"let\", \"let\", \"let\", \"lie\", \"like\", \"like\", \"like\", \"lindseygrahamsc\", \"lindseygrahamsc\", \"long\", \"look\", \"look\", \"looks\", \"lrihendry\", \"lrihendry\", \"make\", \"make\", \"make\", \"make\", \"manchin\", \"marklevinshow\", \"marshablackburn\", \"marshablackburn\", \"marshablackburn\", \"media\", \"media\", \"military\", \"million\", \"mirandadevine\", \"nancy\", \"nancy\", \"nancy\", \"nervous\", \"new\", \"new\", \"new\", \"news\", \"news\", \"news\", \"nytimes\", \"obama\", \"obama\", \"offense\", \"official\", \"ou\", \"overall\", \"partisan\", \"partisan\", \"partisan\", \"party\", \"party\", \"party\", \"pathetic\", \"paulsperry_\", \"paulsperry_\", \"pelosi\", \"pelosi\", \"pelosi\", \"pelosi\", \"pelositantrum\", \"pelositantrum\", \"pelositantrum\", \"people\", \"people\", \"people\", \"people\", \"people\", \"political\", \"political\", \"political\", \"polls\", \"possible\", \"potus\", \"potus\", \"potus\", \"power\", \"power\", \"presented\", \"president\", \"president\", \"president\", \"president\", \"president\", \"process\", \"process\", \"process\", \"question\", \"question\", \"rally\", \"rally\", \"rally\", \"received\", \"release\", \"repadamschiff\", \"repadamschiff\", \"repandybiggsaz\", \"repandybiggsaz\", \"repandybiggsaz\", \"repdlesko\", \"repmarkmeadows\", \"repmarkmeadows\", \"repmarkmeadows\", \"report\", \"report\", \"reporting\", \"reports\", \"republican\", \"republican\", \"republican\", \"republican\", \"republicans\", \"republicans\", \"republicans\", \"result\", \"rimi\", \"ripped\", \"ripping\", \"rita_katz\", \"roger\", \"said\", \"said\", \"said\", \"sanders\", \"satisfied\", \"says\", \"says\", \"says\", \"says\", \"scavino45\", \"schiff\", \"schiff\", \"schiff\", \"senate\", \"senate\", \"senate\", \"senate\", \"senate\", \"senategop\", \"senategop\", \"senategop\", \"senategop\", \"senatemajldr\", \"senatemajldr\", \"senators\", \"senators\", \"sentedcruz\", \"sotu\", \"sotu2020\", \"speech\", \"stage\", \"state\", \"state\", \"state\", \"stone\", \"street\", \"stuff\", \"super\", \"swamp\", \"talking\", \"talking\", \"taxes\", \"team\", \"team\", \"team\", \"terrorist\", \"terrorist\", \"th\", \"th\", \"th\", \"th\", \"th\", \"thank\", \"thank\", \"thanks\", \"thanks\", \"think\", \"think\", \"today\", \"today\", \"today\", \"today\", \"today\", \"tomfitton\", \"tomfitton\", \"tonight\", \"tonight\", \"tonight\", \"tough\", \"trial\", \"trial\", \"trial\", \"trial\", \"trump\", \"trump\", \"trump\", \"trump\", \"trump\", \"truth\", \"truth\", \"ukrainian\", \"usa\", \"usa\", \"usmca\", \"usmca\", \"usmca\", \"ve\", \"ve\", \"ve\", \"ve\", \"ve\", \"virginia\", \"vote\", \"wait\", \"wall\", \"wall\", \"want\", \"want\", \"want\", \"wanted\", \"war\", \"warren\", \"watch\", \"watch\", \"watch\", \"week\", \"week\", \"week\", \"west\", \"whistleblower\", \"whistleblower\", \"whistleblower\", \"white\", \"white\", \"white\", \"white\", \"whitehouse\", \"whitehouse\", \"whitehouse\", \"wildwood\", \"winning\", \"winning\", \"witch\", \"witch\", \"witnesses\", \"woman\", \"work\", \"work\", \"worker\", \"working\", \"working\", \"working\", \"working\", \"world\", \"wray\", \"year\", \"years\", \"years\", \"years\", \"years\", \"years\", \"yesterday\"]}, \"R\": 30, \"lambda.step\": 0.01, \"plot.opts\": {\"xlab\": \"PC1\", \"ylab\": \"PC2\"}, \"topic.order\": [3, 5, 2, 1, 4]};\n",
       "\n",
       "function LDAvis_load_lib(url, callback){\n",
       "  var s = document.createElement('script');\n",
       "  s.src = url;\n",
       "  s.async = true;\n",
       "  s.onreadystatechange = s.onload = callback;\n",
       "  s.onerror = function(){console.warn(\"failed to load library \" + url);};\n",
       "  document.getElementsByTagName(\"head\")[0].appendChild(s);\n",
       "}\n",
       "\n",
       "if(typeof(LDAvis) !== \"undefined\"){\n",
       "   // already loaded: just create the visualization\n",
       "   !function(LDAvis){\n",
       "       new LDAvis(\"#\" + \"ldavis_el412311125928338969305275146\", ldavis_el412311125928338969305275146_data);\n",
       "   }(LDAvis);\n",
       "}else if(typeof define === \"function\" && define.amd){\n",
       "   // require.js is available: use it to load d3/LDAvis\n",
       "   require.config({paths: {d3: \"https://cdnjs.cloudflare.com/ajax/libs/d3/3.5.5/d3.min\"}});\n",
       "   require([\"d3\"], function(d3){\n",
       "      window.d3 = d3;\n",
       "      LDAvis_load_lib(\"https://cdn.rawgit.com/bmabey/pyLDAvis/files/ldavis.v1.0.0.js\", function(){\n",
       "        new LDAvis(\"#\" + \"ldavis_el412311125928338969305275146\", ldavis_el412311125928338969305275146_data);\n",
       "      });\n",
       "    });\n",
       "}else{\n",
       "    // require.js not available: dynamically load d3 & LDAvis\n",
       "    LDAvis_load_lib(\"https://cdnjs.cloudflare.com/ajax/libs/d3/3.5.5/d3.min.js\", function(){\n",
       "         LDAvis_load_lib(\"https://cdn.rawgit.com/bmabey/pyLDAvis/files/ldavis.v1.0.0.js\", function(){\n",
       "                 new LDAvis(\"#\" + \"ldavis_el412311125928338969305275146\", ldavis_el412311125928338969305275146_data);\n",
       "            })\n",
       "         });\n",
       "}\n",
       "</script>"
      ],
      "text/plain": [
       "PreparedData(topic_coordinates=              x         y  topics  cluster       Freq\n",
       "topic                                                \n",
       "2      0.049430  0.138656       1        1  22.751974\n",
       "4      0.098559 -0.106142       2        1  21.430904\n",
       "1     -0.010603 -0.063630       3        1  21.262226\n",
       "0      0.045540  0.037751       4        1  20.405411\n",
       "3     -0.182926 -0.006635       5        1  14.149484, topic_info=    Category       Freq         Term      Total  loglift  logprob\n",
       "51   Default  25.000000        thank  25.000000  30.0000  30.0000\n",
       "538  Default  19.000000    witnesses  19.000000  29.0000  29.0000\n",
       "179  Default  42.000000       schiff  42.000000  28.0000  28.0000\n",
       "125  Default  24.000000        nancy  24.000000  27.0000  27.0000\n",
       "79   Default  68.000000  impeachment  68.000000  26.0000  26.0000\n",
       "..       ...        ...          ...        ...      ...      ...\n",
       "321   Topic5   4.511683        watch  13.110485   0.8888  -4.9517\n",
       "319   Topic5   4.767806           ve  18.413973   0.6043  -4.8965\n",
       "2     Topic5   6.134660    democrats  90.652443  -0.7376  -4.6444\n",
       "103   Topic5   5.238755        great  47.125664  -0.2412  -4.8023\n",
       "156   Topic5   5.193325        house  48.166897  -0.2718  -4.8110\n",
       "\n",
       "[314 rows x 6 columns], token_table=      Topic      Freq       Term\n",
       "term                            \n",
       "595       4  0.764537         17\n",
       "111       2  0.851995         53\n",
       "112       2  0.945987         95\n",
       "479       1  0.858346     action\n",
       "175       2  0.571362       adam\n",
       "...     ...       ...        ...\n",
       "31        2  0.054522      years\n",
       "31        3  0.109044      years\n",
       "31        4  0.054522      years\n",
       "31        5  0.054522      years\n",
       "586       2  0.946051  yesterday\n",
       "\n",
       "[485 rows x 3 columns], R=30, lambda_step=0.01, plot_opts={'xlab': 'PC1', 'ylab': 'PC2'}, topic_order=[3, 5, 2, 1, 4])"
      ]
     },
     "execution_count": 69,
     "metadata": {},
     "output_type": "execute_result"
    }
   ],
   "source": [
    "pyLDAvis.gensim.prepare(ldamodel, corpus, dictionary, sort_topics=True)"
   ]
  },
  {
   "cell_type": "markdown",
   "metadata": {},
   "source": [
    "### Trying with different n-gram values\n",
    "\n"
   ]
  },
  {
   "cell_type": "code",
   "execution_count": 70,
   "metadata": {},
   "outputs": [
    {
     "data": {
      "text/html": [
       "<div>\n",
       "<style scoped>\n",
       "    .dataframe tbody tr th:only-of-type {\n",
       "        vertical-align: middle;\n",
       "    }\n",
       "\n",
       "    .dataframe tbody tr th {\n",
       "        vertical-align: top;\n",
       "    }\n",
       "\n",
       "    .dataframe thead th {\n",
       "        text-align: right;\n",
       "    }\n",
       "</style>\n",
       "<table border=\"1\" class=\"dataframe\">\n",
       "  <thead>\n",
       "    <tr style=\"text-align: right;\">\n",
       "      <th></th>\n",
       "      <th>17 witnesses</th>\n",
       "      <th>abuse power</th>\n",
       "      <th>adam schiff</th>\n",
       "      <th>al rimi</th>\n",
       "      <th>america great</th>\n",
       "      <th>american people</th>\n",
       "      <th>approval rating</th>\n",
       "      <th>big rally</th>\n",
       "      <th>crazy nancy</th>\n",
       "      <th>cryin chuck</th>\n",
       "      <th>...</th>\n",
       "      <th>rating republican</th>\n",
       "      <th>republican party</th>\n",
       "      <th>senator joe</th>\n",
       "      <th>state union</th>\n",
       "      <th>super bowl</th>\n",
       "      <th>united states</th>\n",
       "      <th>west virginia</th>\n",
       "      <th>white house</th>\n",
       "      <th>witch hunt</th>\n",
       "      <th>years ago</th>\n",
       "    </tr>\n",
       "  </thead>\n",
       "  <tbody>\n",
       "    <tr>\n",
       "      <th>0</th>\n",
       "      <td>0</td>\n",
       "      <td>0</td>\n",
       "      <td>0</td>\n",
       "      <td>0</td>\n",
       "      <td>0</td>\n",
       "      <td>0</td>\n",
       "      <td>0</td>\n",
       "      <td>0</td>\n",
       "      <td>0</td>\n",
       "      <td>0</td>\n",
       "      <td>...</td>\n",
       "      <td>0</td>\n",
       "      <td>0</td>\n",
       "      <td>0</td>\n",
       "      <td>0</td>\n",
       "      <td>0</td>\n",
       "      <td>0</td>\n",
       "      <td>0</td>\n",
       "      <td>0</td>\n",
       "      <td>0</td>\n",
       "      <td>0</td>\n",
       "    </tr>\n",
       "    <tr>\n",
       "      <th>1</th>\n",
       "      <td>0</td>\n",
       "      <td>0</td>\n",
       "      <td>0</td>\n",
       "      <td>0</td>\n",
       "      <td>0</td>\n",
       "      <td>0</td>\n",
       "      <td>0</td>\n",
       "      <td>0</td>\n",
       "      <td>0</td>\n",
       "      <td>0</td>\n",
       "      <td>...</td>\n",
       "      <td>0</td>\n",
       "      <td>0</td>\n",
       "      <td>0</td>\n",
       "      <td>0</td>\n",
       "      <td>0</td>\n",
       "      <td>1</td>\n",
       "      <td>0</td>\n",
       "      <td>0</td>\n",
       "      <td>0</td>\n",
       "      <td>0</td>\n",
       "    </tr>\n",
       "    <tr>\n",
       "      <th>2</th>\n",
       "      <td>0</td>\n",
       "      <td>0</td>\n",
       "      <td>0</td>\n",
       "      <td>0</td>\n",
       "      <td>0</td>\n",
       "      <td>0</td>\n",
       "      <td>0</td>\n",
       "      <td>0</td>\n",
       "      <td>0</td>\n",
       "      <td>0</td>\n",
       "      <td>...</td>\n",
       "      <td>0</td>\n",
       "      <td>0</td>\n",
       "      <td>0</td>\n",
       "      <td>0</td>\n",
       "      <td>0</td>\n",
       "      <td>0</td>\n",
       "      <td>0</td>\n",
       "      <td>0</td>\n",
       "      <td>0</td>\n",
       "      <td>0</td>\n",
       "    </tr>\n",
       "    <tr>\n",
       "      <th>3</th>\n",
       "      <td>0</td>\n",
       "      <td>0</td>\n",
       "      <td>0</td>\n",
       "      <td>0</td>\n",
       "      <td>0</td>\n",
       "      <td>0</td>\n",
       "      <td>0</td>\n",
       "      <td>0</td>\n",
       "      <td>0</td>\n",
       "      <td>0</td>\n",
       "      <td>...</td>\n",
       "      <td>0</td>\n",
       "      <td>1</td>\n",
       "      <td>0</td>\n",
       "      <td>0</td>\n",
       "      <td>0</td>\n",
       "      <td>0</td>\n",
       "      <td>0</td>\n",
       "      <td>0</td>\n",
       "      <td>0</td>\n",
       "      <td>0</td>\n",
       "    </tr>\n",
       "    <tr>\n",
       "      <th>4</th>\n",
       "      <td>0</td>\n",
       "      <td>0</td>\n",
       "      <td>0</td>\n",
       "      <td>0</td>\n",
       "      <td>0</td>\n",
       "      <td>0</td>\n",
       "      <td>0</td>\n",
       "      <td>0</td>\n",
       "      <td>0</td>\n",
       "      <td>0</td>\n",
       "      <td>...</td>\n",
       "      <td>0</td>\n",
       "      <td>0</td>\n",
       "      <td>0</td>\n",
       "      <td>0</td>\n",
       "      <td>0</td>\n",
       "      <td>0</td>\n",
       "      <td>0</td>\n",
       "      <td>0</td>\n",
       "      <td>0</td>\n",
       "      <td>0</td>\n",
       "    </tr>\n",
       "  </tbody>\n",
       "</table>\n",
       "<p>5 rows × 51 columns</p>\n",
       "</div>"
      ],
      "text/plain": [
       "   17 witnesses  abuse power  adam schiff  al rimi  america great  \\\n",
       "0             0            0            0        0              0   \n",
       "1             0            0            0        0              0   \n",
       "2             0            0            0        0              0   \n",
       "3             0            0            0        0              0   \n",
       "4             0            0            0        0              0   \n",
       "\n",
       "   american people  approval rating  big rally  crazy nancy  cryin chuck  ...  \\\n",
       "0                0                0          0            0            0  ...   \n",
       "1                0                0          0            0            0  ...   \n",
       "2                0                0          0            0            0  ...   \n",
       "3                0                0          0            0            0  ...   \n",
       "4                0                0          0            0            0  ...   \n",
       "\n",
       "   rating republican  republican party  senator joe  state union  super bowl  \\\n",
       "0                  0                 0            0            0           0   \n",
       "1                  0                 0            0            0           0   \n",
       "2                  0                 0            0            0           0   \n",
       "3                  0                 1            0            0           0   \n",
       "4                  0                 0            0            0           0   \n",
       "\n",
       "   united states  west virginia  white house  witch hunt  years ago  \n",
       "0              0              0            0           0          0  \n",
       "1              1              0            0           0          0  \n",
       "2              0              0            0           0          0  \n",
       "3              0              0            0           0          0  \n",
       "4              0              0            0           0          0  \n",
       "\n",
       "[5 rows x 51 columns]"
      ]
     },
     "execution_count": 70,
     "metadata": {},
     "output_type": "execute_result"
    }
   ],
   "source": [
    "## Try initializing a count vectorizer\n",
    "stop = list(ENGLISH_STOP_WORDS)\n",
    "stop.extend(['https','amp', 'realdonaldtrump', 'rt'])\n",
    "\n",
    "cv2 = CountVectorizer(min_df=4 ,stop_words=stop, ngram_range=(2,2))\n",
    "\n",
    "\n",
    "cv_arr2 = cv2.fit_transform(df['text'])\n",
    "\n",
    "df_vect2 = pd.DataFrame(cv_arr2.toarray(), columns=cv2.get_feature_names())\n",
    "df_vect2.head()"
   ]
  },
  {
   "cell_type": "code",
   "execution_count": 71,
   "metadata": {},
   "outputs": [
    {
     "data": {
      "text/html": [
       "\n",
       "<link rel=\"stylesheet\" type=\"text/css\" href=\"https://cdn.rawgit.com/bmabey/pyLDAvis/files/ldavis.v1.0.0.css\">\n",
       "\n",
       "\n",
       "<div id=\"ldavis_el412311125928332969734016149\"></div>\n",
       "<script type=\"text/javascript\">\n",
       "\n",
       "var ldavis_el412311125928332969734016149_data = {\"mdsDat\": {\"x\": [0.15689402582400577, -0.06008485474571941, 0.14666170621601476, -0.28834830520808985, -0.07508330310610577, -0.07943517707754376, 0.06809082961274485, 0.13130507848469314], \"y\": [0.058147343994290265, -0.24311315942212744, 0.1919444505981, 0.11014148716595767, 0.13330441834578816, -0.06623843039365564, -0.139362045707918, -0.04482406458043551], \"topics\": [1, 2, 3, 4, 5, 6, 7, 8], \"cluster\": [1, 1, 1, 1, 1, 1, 1, 1], \"Freq\": [14.072256088256836, 13.735630989074707, 13.593185424804688, 13.144570350646973, 12.752312660217285, 11.540210723876953, 11.124125480651855, 10.037702560424805]}, \"tinfo\": {\"Category\": [\"Default\", \"Default\", \"Default\", \"Default\", \"Default\", \"Default\", \"Default\", \"Default\", \"Default\", \"Default\", \"Default\", \"Default\", \"Default\", \"Default\", \"Default\", \"Default\", \"Default\", \"Default\", \"Default\", \"Default\", \"Default\", \"Default\", \"Default\", \"Default\", \"Default\", \"Default\", \"Default\", \"Default\", \"Default\", \"Default\", \"Topic1\", \"Topic1\", \"Topic1\", \"Topic1\", \"Topic1\", \"Topic1\", \"Topic1\", \"Topic1\", \"Topic1\", \"Topic1\", \"Topic1\", \"Topic1\", \"Topic1\", \"Topic1\", \"Topic1\", \"Topic1\", \"Topic1\", \"Topic1\", \"Topic1\", \"Topic1\", \"Topic1\", \"Topic1\", \"Topic1\", \"Topic1\", \"Topic1\", \"Topic1\", \"Topic1\", \"Topic1\", \"Topic1\", \"Topic1\", \"Topic1\", \"Topic1\", \"Topic1\", \"Topic1\", \"Topic1\", \"Topic1\", \"Topic1\", \"Topic1\", \"Topic1\", \"Topic1\", \"Topic1\", \"Topic1\", \"Topic1\", \"Topic1\", \"Topic2\", \"Topic2\", \"Topic2\", \"Topic2\", \"Topic2\", \"Topic2\", \"Topic2\", \"Topic2\", \"Topic2\", \"Topic2\", \"Topic2\", \"Topic2\", \"Topic2\", \"Topic2\", \"Topic2\", \"Topic2\", \"Topic2\", \"Topic2\", \"Topic2\", \"Topic2\", \"Topic2\", \"Topic2\", \"Topic2\", \"Topic2\", \"Topic2\", \"Topic2\", \"Topic2\", \"Topic2\", \"Topic2\", \"Topic2\", \"Topic2\", \"Topic2\", \"Topic2\", \"Topic2\", \"Topic2\", \"Topic2\", \"Topic2\", \"Topic2\", \"Topic2\", \"Topic2\", \"Topic2\", \"Topic2\", \"Topic2\", \"Topic2\", \"Topic2\", \"Topic2\", \"Topic3\", \"Topic3\", \"Topic3\", \"Topic3\", \"Topic3\", \"Topic3\", \"Topic3\", \"Topic3\", \"Topic3\", \"Topic3\", \"Topic3\", \"Topic3\", \"Topic3\", \"Topic3\", \"Topic3\", \"Topic3\", \"Topic3\", \"Topic3\", \"Topic3\", \"Topic3\", \"Topic3\", \"Topic3\", \"Topic3\", \"Topic3\", \"Topic3\", \"Topic3\", \"Topic3\", \"Topic3\", \"Topic3\", \"Topic3\", \"Topic3\", \"Topic3\", \"Topic3\", \"Topic3\", \"Topic3\", \"Topic3\", \"Topic3\", \"Topic3\", \"Topic3\", \"Topic3\", \"Topic3\", \"Topic3\", \"Topic4\", \"Topic4\", \"Topic4\", \"Topic4\", \"Topic4\", \"Topic4\", \"Topic4\", \"Topic4\", \"Topic4\", \"Topic4\", \"Topic4\", \"Topic4\", \"Topic4\", \"Topic4\", \"Topic4\", \"Topic4\", \"Topic4\", \"Topic4\", \"Topic4\", \"Topic4\", \"Topic4\", \"Topic4\", \"Topic4\", \"Topic4\", \"Topic4\", \"Topic4\", \"Topic4\", \"Topic4\", \"Topic4\", \"Topic4\", \"Topic4\", \"Topic4\", \"Topic4\", \"Topic4\", \"Topic4\", \"Topic4\", \"Topic4\", \"Topic4\", \"Topic4\", \"Topic4\", \"Topic4\", \"Topic4\", \"Topic4\", \"Topic4\", \"Topic4\", \"Topic4\", \"Topic4\", \"Topic5\", \"Topic5\", \"Topic5\", \"Topic5\", \"Topic5\", \"Topic5\", \"Topic5\", \"Topic5\", \"Topic5\", \"Topic5\", \"Topic5\", \"Topic5\", \"Topic5\", \"Topic5\", \"Topic5\", \"Topic5\", \"Topic5\", \"Topic5\", \"Topic5\", \"Topic5\", \"Topic5\", \"Topic5\", \"Topic5\", \"Topic5\", \"Topic5\", \"Topic5\", \"Topic5\", \"Topic5\", \"Topic5\", \"Topic5\", \"Topic5\", \"Topic5\", \"Topic5\", \"Topic5\", \"Topic5\", \"Topic5\", \"Topic5\", \"Topic5\", \"Topic5\", \"Topic5\", \"Topic5\", \"Topic5\", \"Topic5\", \"Topic5\", \"Topic5\", \"Topic5\", \"Topic6\", \"Topic6\", \"Topic6\", \"Topic6\", \"Topic6\", \"Topic6\", \"Topic6\", \"Topic6\", \"Topic6\", \"Topic6\", \"Topic6\", \"Topic6\", \"Topic6\", \"Topic6\", \"Topic6\", \"Topic6\", \"Topic6\", \"Topic6\", \"Topic6\", \"Topic6\", \"Topic6\", \"Topic6\", \"Topic6\", \"Topic6\", \"Topic6\", \"Topic6\", \"Topic6\", \"Topic6\", \"Topic6\", \"Topic6\", \"Topic6\", \"Topic6\", \"Topic6\", \"Topic6\", \"Topic6\", \"Topic6\", \"Topic6\", \"Topic6\", \"Topic6\", \"Topic6\", \"Topic6\", \"Topic6\", \"Topic6\", \"Topic6\", \"Topic6\", \"Topic6\", \"Topic6\", \"Topic7\", \"Topic7\", \"Topic7\", \"Topic7\", \"Topic7\", \"Topic7\", \"Topic7\", \"Topic7\", \"Topic7\", \"Topic7\", \"Topic7\", \"Topic7\", \"Topic7\", \"Topic7\", \"Topic7\", \"Topic7\", \"Topic7\", \"Topic7\", \"Topic7\", \"Topic7\", \"Topic7\", \"Topic7\", \"Topic7\", \"Topic7\", \"Topic7\", \"Topic7\", \"Topic7\", \"Topic7\", \"Topic7\", \"Topic7\", \"Topic7\", \"Topic7\", \"Topic7\", \"Topic7\", \"Topic7\", \"Topic7\", \"Topic7\", \"Topic7\", \"Topic7\", \"Topic7\", \"Topic7\", \"Topic7\", \"Topic7\", \"Topic7\", \"Topic7\", \"Topic8\", \"Topic8\", \"Topic8\", \"Topic8\", \"Topic8\", \"Topic8\", \"Topic8\", \"Topic8\", \"Topic8\", \"Topic8\", \"Topic8\", \"Topic8\", \"Topic8\", \"Topic8\", \"Topic8\", \"Topic8\", \"Topic8\", \"Topic8\", \"Topic8\", \"Topic8\", \"Topic8\", \"Topic8\", \"Topic8\", \"Topic8\", \"Topic8\", \"Topic8\", \"Topic8\", \"Topic8\", \"Topic8\", \"Topic8\", \"Topic8\", \"Topic8\", \"Topic8\", \"Topic8\", \"Topic8\", \"Topic8\", \"Topic8\", \"Topic8\", \"Topic8\", \"Topic8\", \"Topic8\", \"Topic8\", \"Topic8\", \"Topic8\", \"Topic8\"], \"Freq\": [17.0, 16.0, 12.0, 13.0, 14.0, 9.0, 9.0, 9.0, 8.0, 8.0, 8.0, 7.0, 8.0, 8.0, 6.0, 7.0, 6.0, 5.0, 5.0, 5.0, 6.0, 5.0, 5.0, 5.0, 5.0, 4.0, 4.0, 4.0, 5.0, 4.0, 8.066916465759277, 4.585880279541016, 3.68953537940979, 3.5163016319274902, 10.982476234436035, 4.340266227722168, 3.6897683143615723, 3.6294827461242676, 0.19867625832557678, 0.11997286975383759, 0.119977205991745, 0.11205269396305084, 0.11210903525352478, 0.11204768717288971, 0.11205366998910904, 0.11204950511455536, 0.11211355775594711, 0.11205193400382996, 0.11205122619867325, 0.1120508685708046, 0.11205209791660309, 0.11205023527145386, 0.11209195852279663, 0.11205042898654938, 0.11997711658477783, 0.11210498958826065, 0.11205392330884933, 0.11205504089593887, 0.11205193400382996, 0.11205172538757324, 0.15916632115840912, 0.12791407108306885, 0.12791317701339722, 0.13585929572582245, 0.11998990923166275, 0.11998692154884338, 0.1199927031993866, 0.12018980085849762, 0.11211103945970535, 0.1120879128575325, 0.1120637059211731, 0.11206334084272385, 0.11205920577049255, 0.1120571494102478, 9.12016773223877, 7.484987258911133, 5.024362087249756, 4.2138566970825195, 4.206600666046143, 3.3961265087127686, 3.396115779876709, 3.3934834003448486, 0.9280098080635071, 0.9278687238693237, 0.10314220190048218, 0.10314244031906128, 0.10314541310071945, 0.1104341372847557, 0.10313967615365982, 0.11044253408908844, 0.10313893854618073, 0.10313782840967178, 0.10313780605792999, 0.10314102470874786, 0.1031441017985344, 0.10314182192087173, 0.10314077883958817, 0.10314541310071945, 0.1031433716416359, 0.10314209759235382, 0.103145070374012, 0.103138767182827, 0.10314497351646423, 0.10314193367958069, 0.11044693738222122, 0.13570141792297363, 0.132608562707901, 0.11043773591518402, 0.11047518253326416, 0.11047917604446411, 0.10318835824728012, 0.10316579043865204, 0.10315860062837601, 0.10315146297216415, 0.10314980149269104, 0.10314898192882538, 0.10314663499593735, 0.10314639657735825, 0.10314610600471497, 0.10314571857452393, 15.744712829589844, 8.084245681762695, 4.789153099060059, 3.305128812789917, 3.2909512519836426, 4.8935627937316895, 1.1208659410476685, 0.26206469535827637, 0.12984557449817657, 0.10724635422229767, 0.10016191005706787, 0.10016266256570816, 0.10016649961471558, 0.10724571347236633, 0.1097295954823494, 0.10016042739152908, 0.10016040503978729, 0.11433366686105728, 0.10016245394945145, 0.10015910863876343, 0.10021334141492844, 0.10016355663537979, 0.1001630425453186, 0.10724788159132004, 0.10743912309408188, 0.10016175359487534, 0.10020466893911362, 0.10016504675149918, 0.10016298294067383, 0.11434732377529144, 0.12404616922140121, 0.1270647644996643, 0.10022175312042236, 0.10021080076694489, 0.10018837451934814, 0.10018809884786606, 0.1001778095960617, 0.10017523914575577, 0.10017510503530502, 0.10017233341932297, 0.10017209500074387, 0.10017110407352448, 16.827577590942383, 6.469769477844238, 5.6920952796936035, 4.023138523101807, 3.288280725479126, 2.4963366985321045, 0.9150933623313904, 0.1093716025352478, 0.09986819326877594, 0.09987053275108337, 0.09986595064401627, 0.09987073391675949, 0.09986571222543716, 0.0998678058385849, 0.0998653993010521, 0.09986479580402374, 0.09986940026283264, 0.09987068176269531, 0.09986985474824905, 0.09986894577741623, 0.09986723959445953, 0.09986798465251923, 0.10692591965198517, 0.25195184350013733, 0.09986760467290878, 0.17872878909111023, 0.09987373650074005, 0.09986595064401627, 0.11400573700666428, 0.0998678058385849, 0.12108182162046432, 0.10693202912807465, 0.11061839759349823, 0.11400722712278366, 0.10694900155067444, 0.099928118288517, 0.09991868585348129, 0.09991645812988281, 0.09989345073699951, 0.09988079220056534, 0.09988006949424744, 0.09987825900316238, 0.09987685084342957, 0.09987501800060272, 0.09987375885248184, 0.09987294673919678, 0.09987270087003708, 8.560489654541016, 7.712813377380371, 4.3370208740234375, 4.329240322113037, 4.329477310180664, 3.489304542541504, 2.6489672660827637, 1.7940864562988281, 1.0102448463439941, 0.17388854920864105, 0.10597141087055206, 0.10597226023674011, 0.10597404837608337, 0.10597020387649536, 0.105967216193676, 0.10597210377454758, 0.10596846044063568, 0.10597182810306549, 0.10596773028373718, 0.1059664785861969, 0.10597392916679382, 0.10597161948680878, 0.3954116404056549, 0.10597077757120132, 0.10596892982721329, 0.10597068816423416, 0.10596799850463867, 0.1209779903292656, 0.10597448796033859, 0.10596723854541779, 0.12098100036382675, 0.11347313970327377, 0.12096309661865234, 0.12135245651006699, 0.11347679048776627, 0.11349472403526306, 0.10599664598703384, 0.10598847270011902, 0.10598845034837723, 0.10598146170377731, 0.10598139464855194, 0.10598032176494598, 0.10597945004701614, 0.10597611963748932, 0.10597529262304306, 0.10597436875104904, 8.183905601501465, 7.287240028381348, 3.7130331993103027, 3.7050650119781494, 4.431615352630615, 2.8191661834716797, 2.8004519939422607, 1.0145524740219116, 0.230185866355896, 0.12074358016252518, 0.11276713758707047, 0.11276838928461075, 0.11276531964540482, 0.11276278644800186, 0.11276836693286896, 0.11276428401470184, 0.11279672384262085, 0.11276233941316605, 0.11276693642139435, 0.11276587098836899, 0.1128157302737236, 0.11276713758707047, 0.11276464909315109, 0.11277012526988983, 0.11277009546756744, 0.11276976019144058, 0.11276312917470932, 0.11276506632566452, 0.1128232404589653, 0.11276436597108841, 0.13673846423625946, 0.13541550934314728, 0.13426174223423004, 0.12076183408498764, 0.11284012347459793, 0.11280190199613571, 0.11279527097940445, 0.11279017478227615, 0.11278626322746277, 0.11278141289949417, 0.11278040707111359, 0.11277785152196884, 0.11277668178081512, 0.11277612298727036, 0.11277467012405396, 0.1127733588218689, 0.11277195066213608, 11.073990821838379, 3.8414723873138428, 3.8385848999023438, 3.8152048587799072, 9.379395484924316, 0.31474992632865906, 0.12492220848798752, 0.11666834354400635, 0.11667022854089737, 0.11667176336050034, 0.11674963682889938, 0.11669671535491943, 0.12492091208696365, 0.11666582524776459, 0.11666595190763474, 0.1166699156165123, 0.1166636124253273, 0.11666422337293625, 0.11666927486658096, 0.11667177826166153, 0.1249435544013977, 0.12492438405752182, 0.1166669949889183, 0.12494004517793655, 0.11667070537805557, 0.11675609648227692, 0.11666794121265411, 0.1166670098900795, 0.11666674166917801, 0.11667221784591675, 0.1249183714389801, 0.13229046761989594, 0.1249304935336113, 0.12874096632003784, 0.11680343747138977, 0.11671129614114761, 0.11670903116464615, 0.11670483648777008, 0.11668702214956284, 0.11668218672275543, 0.11668013036251068, 0.11667951941490173, 0.11667580157518387, 0.11667564511299133, 0.1166737750172615, 6.401908874511719, 5.3577375411987305, 4.317980766296387, 3.177272081375122, 1.1802226305007935, 3.306356906890869, 3.107064962387085, 1.1891604661941528, 0.14041447639465332, 0.13125111162662506, 0.1311379224061966, 0.13113944232463837, 0.14041443169116974, 0.13113753497600555, 0.13113364577293396, 0.13113908469676971, 0.1311342567205429, 0.1311374306678772, 0.13113322854042053, 0.14969736337661743, 0.1311395764350891, 0.1311403512954712, 0.13113616406917572, 0.1311359703540802, 0.13113808631896973, 0.14041653275489807, 0.140424907207489, 0.14041391015052795, 0.13114337623119354, 0.13114304840564728, 0.14041967689990997, 0.14041416347026825, 0.2123614400625229, 0.15899859368801117, 0.1497003436088562, 0.1404200941324234, 0.15198494493961334, 0.14042812585830688, 0.13115739822387695, 0.13115431368350983, 0.1311526745557785, 0.13114994764328003, 0.13114765286445618, 0.13114702701568604, 0.13114620745182037], \"Term\": [\"president trump\", \"adam schiff\", \"american people\", \"impeachment hoax\", \"nancy pelosi\", \"john bolton\", \"new hampshire\", \"fake news\", \"house democrats\", \"america great\", \"white house\", \"mr president\", \"republican party\", \"impeachment trial\", \"crazy nancy\", \"house managers\", \"paulsperry_ breaking\", \"democrats impeachment\", \"looks like\", \"new york\", \"impeachment process\", \"abuse power\", \"west virginia\", \"joe biden\", \"al rimi\", \"state union\", \"president lawyers\", \"partisan impeachment\", \"approval rating\", \"years ago\", \"republican party\", \"approval rating\", \"rating republican\", \"president legal\", \"nancy pelosi\", \"legal team\", \"democrats want\", \"just like\", \"cryin chuck\", \"super bowl\", \"donald trump\", \"national security\", \"foxandfriends schiff\", \"left democrats\", \"democratic party\", \"senator joe\", \"democrat party\", \"witch hunt\", \"impeachment sham\", \"years ago\", \"17 witnesses\", \"partisan impeachment\", \"state union\", \"president lawyers\", \"radical left\", \"united states\", \"mini mike\", \"big rally\", \"democrats impeachment\", \"joe biden\", \"john bolton\", \"house managers\", \"white house\", \"american people\", \"impeachment trial\", \"fake news\", \"impeachment hoax\", \"adam schiff\", \"house democrats\", \"president trump\", \"america great\", \"new hampshire\", \"paulsperry_ breaking\", \"new york\", \"new hampshire\", \"impeachment trial\", \"new york\", \"radical left\", \"big rally\", \"left democrats\", \"democratic party\", \"foxandfriends schiff\", \"witch hunt\", \"cryin chuck\", \"super bowl\", \"national security\", \"donald trump\", \"17 witnesses\", \"senator joe\", \"state union\", \"democrat party\", \"president legal\", \"rating republican\", \"impeachment sham\", \"years ago\", \"partisan impeachment\", \"president lawyers\", \"united states\", \"mini mike\", \"democrats impeachment\", \"joe biden\", \"west virginia\", \"al rimi\", \"just like\", \"legal team\", \"impeachment hoax\", \"nancy pelosi\", \"mr president\", \"adam schiff\", \"president trump\", \"fake news\", \"american people\", \"white house\", \"house managers\", \"paulsperry_ breaking\", \"john bolton\", \"republican party\", \"house democrats\", \"impeachment process\", \"abuse power\", \"adam schiff\", \"white house\", \"abuse power\", \"national security\", \"donald trump\", \"impeachment process\", \"legal team\", \"president legal\", \"partisan impeachment\", \"left democrats\", \"super bowl\", \"foxandfriends schiff\", \"democratic party\", \"years ago\", \"president lawyers\", \"senator joe\", \"democrat party\", \"big rally\", \"witch hunt\", \"rating republican\", \"impeachment sham\", \"17 witnesses\", \"state union\", \"radical left\", \"joe biden\", \"cryin chuck\", \"united states\", \"mini mike\", \"democrats impeachment\", \"new york\", \"house democrats\", \"american people\", \"president trump\", \"just like\", \"looks like\", \"john bolton\", \"nancy pelosi\", \"new hampshire\", \"fake news\", \"impeachment trial\", \"america great\", \"house managers\", \"president trump\", \"house managers\", \"paulsperry_ breaking\", \"united states\", \"super bowl\", \"mini mike\", \"democrat party\", \"foxandfriends schiff\", \"national security\", \"donald trump\", \"left democrats\", \"democratic party\", \"senator joe\", \"witch hunt\", \"president legal\", \"rating republican\", \"impeachment sham\", \"years ago\", \"17 witnesses\", \"partisan impeachment\", \"president lawyers\", \"state union\", \"democrats impeachment\", \"american people\", \"cryin chuck\", \"republican party\", \"big rally\", \"radical left\", \"new york\", \"joe biden\", \"impeachment trial\", \"crazy nancy\", \"mr president\", \"white house\", \"america great\", \"legal team\", \"just like\", \"adam schiff\", \"john bolton\", \"nancy pelosi\", \"new hampshire\", \"impeachment hoax\", \"fake news\", \"impeachment process\", \"house democrats\", \"al rimi\", \"democrats want\", \"fake news\", \"america great\", \"west virginia\", \"joe biden\", \"al rimi\", \"senator joe\", \"impeachment sham\", \"mini mike\", \"just like\", \"united states\", \"super bowl\", \"national security\", \"donald trump\", \"foxandfriends schiff\", \"left democrats\", \"democratic party\", \"democrat party\", \"witch hunt\", \"president legal\", \"rating republican\", \"years ago\", \"17 witnesses\", \"adam schiff\", \"partisan impeachment\", \"president lawyers\", \"state union\", \"cryin chuck\", \"abuse power\", \"big rally\", \"radical left\", \"impeachment trial\", \"impeachment process\", \"republican party\", \"new hampshire\", \"american people\", \"president trump\", \"house democrats\", \"white house\", \"nancy pelosi\", \"john bolton\", \"impeachment hoax\", \"house managers\", \"paulsperry_ breaking\", \"mr president\", \"new york\", \"democrats want\", \"john bolton\", \"house democrats\", \"years ago\", \"17 witnesses\", \"looks like\", \"witch hunt\", \"democrat party\", \"democrats want\", \"abuse power\", \"donald trump\", \"super bowl\", \"national security\", \"foxandfriends schiff\", \"left democrats\", \"democratic party\", \"senator joe\", \"president legal\", \"rating republican\", \"impeachment sham\", \"partisan impeachment\", \"president lawyers\", \"state union\", \"cryin chuck\", \"united states\", \"mini mike\", \"big rally\", \"radical left\", \"democrats impeachment\", \"joe biden\", \"west virginia\", \"new hampshire\", \"adam schiff\", \"president trump\", \"fake news\", \"just like\", \"republican party\", \"american people\", \"legal team\", \"nancy pelosi\", \"white house\", \"america great\", \"house managers\", \"impeachment hoax\", \"impeachment trial\", \"paulsperry_ breaking\", \"new york\", \"mr president\", \"american people\", \"state union\", \"president lawyers\", \"partisan impeachment\", \"impeachment hoax\", \"looks like\", \"democratic party\", \"super bowl\", \"national security\", \"donald trump\", \"foxandfriends schiff\", \"left democrats\", \"17 witnesses\", \"senator joe\", \"democrat party\", \"witch hunt\", \"president legal\", \"rating republican\", \"impeachment sham\", \"years ago\", \"united states\", \"big rally\", \"cryin chuck\", \"just like\", \"mini mike\", \"radical left\", \"democrats impeachment\", \"joe biden\", \"west virginia\", \"al rimi\", \"crazy nancy\", \"house democrats\", \"fake news\", \"adam schiff\", \"impeachment process\", \"nancy pelosi\", \"house managers\", \"president trump\", \"white house\", \"new hampshire\", \"america great\", \"impeachment trial\", \"john bolton\", \"paulsperry_ breaking\", \"new york\", \"mr president\", \"crazy nancy\", \"democrats impeachment\", \"cryin chuck\", \"impeachment sham\", \"impeachment hoax\", \"nancy pelosi\", \"impeachment process\", \"senator joe\", \"super bowl\", \"national security\", \"donald trump\", \"rating republican\", \"foxandfriends schiff\", \"left democrats\", \"democratic party\", \"democrat party\", \"witch hunt\", \"president legal\", \"al rimi\", \"years ago\", \"17 witnesses\", \"partisan impeachment\", \"president lawyers\", \"state union\", \"mini mike\", \"joe biden\", \"west virginia\", \"united states\", \"big rally\", \"approval rating\", \"democrats want\", \"adam schiff\", \"new hampshire\", \"america great\", \"house managers\", \"president trump\", \"republican party\", \"white house\", \"impeachment trial\", \"american people\", \"fake news\", \"john bolton\", \"paulsperry_ breaking\", \"new york\"], \"Total\": [17.0, 16.0, 12.0, 13.0, 14.0, 9.0, 9.0, 9.0, 8.0, 8.0, 8.0, 7.0, 8.0, 8.0, 6.0, 7.0, 6.0, 5.0, 5.0, 5.0, 6.0, 5.0, 5.0, 5.0, 5.0, 4.0, 4.0, 4.0, 5.0, 4.0, 8.939825057983398, 5.364864826202393, 4.468504428863525, 4.447930335998535, 14.757695198059082, 6.138071060180664, 5.37056303024292, 5.31191873550415, 4.839245796203613, 4.078216075897217, 4.088472843170166, 4.086740970611572, 4.18174934387207, 4.181846618652344, 4.183008670806885, 4.274364471435547, 4.384726524353027, 4.413037300109863, 4.473901271820068, 4.489130020141602, 4.489617347717285, 4.609983921051025, 4.613913536071777, 4.613293647766113, 5.007567405700684, 4.8813395500183105, 4.975642681121826, 5.007674217224121, 5.075666427612305, 5.121658802032471, 9.000106811523438, 7.276893615722656, 8.895938873291016, 12.049457550048828, 8.307822227478027, 9.360559463500977, 13.360252380371094, 16.94722557067871, 8.095849990844727, 17.666812896728516, 8.514304161071777, 9.966057777404785, 6.474050045013428, 5.83134126663208, 9.966057777404785, 8.307822227478027, 5.83134126663208, 5.007567405700684, 5.007674217224121, 4.181846618652344, 4.183008670806885, 4.18174934387207, 4.413037300109863, 4.839245796203613, 4.078216075897217, 4.086740970611572, 4.088472843170166, 4.489617347717285, 4.274364471435547, 4.613913536071777, 4.384726524353027, 4.447930335998535, 4.468504428863525, 4.473901271820068, 4.489130020141602, 4.609983921051025, 4.613293647766113, 4.8813395500183105, 4.975642681121826, 5.075666427612305, 5.121658802032471, 5.1220831871032715, 5.1238603591918945, 5.31191873550415, 6.138071060180664, 13.360252380371094, 14.757695198059082, 7.170609474182129, 16.94722557067871, 17.666812896728516, 9.360559463500977, 12.049457550048828, 8.895938873291016, 7.276893615722656, 6.474050045013428, 9.000106811523438, 8.939825057983398, 8.095849990844727, 6.7408447265625, 5.703202247619629, 16.94722557067871, 8.895938873291016, 5.703202247619629, 4.086740970611572, 4.088472843170166, 6.7408447265625, 6.138071060180664, 4.447930335998535, 4.609983921051025, 4.181846618652344, 4.078216075897217, 4.18174934387207, 4.183008670806885, 4.489130020141602, 4.613293647766113, 4.274364471435547, 4.384726524353027, 5.007674217224121, 4.413037300109863, 4.468504428863525, 4.473901271820068, 4.489617347717285, 4.613913536071777, 5.007567405700684, 5.121658802032471, 4.839245796203613, 4.8813395500183105, 4.975642681121826, 5.075666427612305, 5.83134126663208, 8.095849990844727, 12.049457550048828, 17.666812896728516, 5.31191873550415, 5.398719310760498, 9.000106811523438, 14.757695198059082, 9.966057777404785, 9.360559463500977, 8.307822227478027, 8.514304161071777, 7.276893615722656, 17.666812896728516, 7.276893615722656, 6.474050045013428, 4.8813395500183105, 4.078216075897217, 4.975642681121826, 4.384726524353027, 4.18174934387207, 4.086740970611572, 4.088472843170166, 4.181846618652344, 4.183008670806885, 4.274364471435547, 4.413037300109863, 4.447930335998535, 4.468504428863525, 4.473901271820068, 4.489130020141602, 4.489617347717285, 4.609983921051025, 4.613293647766113, 4.613913536071777, 5.075666427612305, 12.049457550048828, 4.839245796203613, 8.939825057983398, 5.007674217224121, 5.007567405700684, 5.83134126663208, 5.121658802032471, 8.307822227478027, 6.123684406280518, 7.170609474182129, 8.895938873291016, 8.514304161071777, 6.138071060180664, 5.31191873550415, 16.94722557067871, 9.000106811523438, 14.757695198059082, 9.966057777404785, 13.360252380371094, 9.360559463500977, 6.7408447265625, 8.095849990844727, 5.1238603591918945, 5.37056303024292, 9.360559463500977, 8.514304161071777, 5.1220831871032715, 5.121658802032471, 5.1238603591918945, 4.274364471435547, 4.473901271820068, 4.975642681121826, 5.31191873550415, 4.8813395500183105, 4.078216075897217, 4.086740970611572, 4.088472843170166, 4.18174934387207, 4.181846618652344, 4.183008670806885, 4.384726524353027, 4.413037300109863, 4.447930335998535, 4.468504428863525, 4.489130020141602, 4.489617347717285, 16.94722557067871, 4.609983921051025, 4.613293647766113, 4.613913536071777, 4.839245796203613, 5.703202247619629, 5.007674217224121, 5.007567405700684, 8.307822227478027, 6.7408447265625, 8.939825057983398, 9.966057777404785, 12.049457550048828, 17.666812896728516, 8.095849990844727, 8.895938873291016, 14.757695198059082, 9.000106811523438, 13.360252380371094, 7.276893615722656, 6.474050045013428, 7.170609474182129, 5.83134126663208, 5.37056303024292, 9.000106811523438, 8.095849990844727, 4.489130020141602, 4.489617347717285, 5.398719310760498, 4.413037300109863, 4.384726524353027, 5.37056303024292, 5.703202247619629, 4.088472843170166, 4.078216075897217, 4.086740970611572, 4.18174934387207, 4.181846618652344, 4.183008670806885, 4.274364471435547, 4.447930335998535, 4.468504428863525, 4.473901271820068, 4.609983921051025, 4.613293647766113, 4.613913536071777, 4.839245796203613, 4.8813395500183105, 4.975642681121826, 5.007674217224121, 5.007567405700684, 5.075666427612305, 5.121658802032471, 5.1220831871032715, 9.966057777404785, 16.94722557067871, 17.666812896728516, 9.360559463500977, 5.31191873550415, 8.939825057983398, 12.049457550048828, 6.138071060180664, 14.757695198059082, 8.895938873291016, 8.514304161071777, 7.276893615722656, 13.360252380371094, 8.307822227478027, 6.474050045013428, 5.83134126663208, 7.170609474182129, 12.049457550048828, 4.613913536071777, 4.613293647766113, 4.609983921051025, 13.360252380371094, 5.398719310760498, 4.183008670806885, 4.078216075897217, 4.086740970611572, 4.088472843170166, 4.18174934387207, 4.181846618652344, 4.489617347717285, 4.274364471435547, 4.384726524353027, 4.413037300109863, 4.447930335998535, 4.468504428863525, 4.473901271820068, 4.489130020141602, 4.8813395500183105, 5.007674217224121, 4.839245796203613, 5.31191873550415, 4.975642681121826, 5.007567405700684, 5.075666427612305, 5.121658802032471, 5.1220831871032715, 5.1238603591918945, 6.123684406280518, 8.095849990844727, 9.360559463500977, 16.94722557067871, 6.7408447265625, 14.757695198059082, 7.276893615722656, 17.666812896728516, 8.895938873291016, 9.966057777404785, 8.514304161071777, 8.307822227478027, 9.000106811523438, 6.474050045013428, 5.83134126663208, 7.170609474182129, 6.123684406280518, 5.075666427612305, 4.839245796203613, 4.473901271820068, 13.360252380371094, 14.757695198059082, 6.7408447265625, 4.274364471435547, 4.078216075897217, 4.086740970611572, 4.088472843170166, 4.468504428863525, 4.18174934387207, 4.181846618652344, 4.183008670806885, 4.384726524353027, 4.413037300109863, 4.447930335998535, 5.1238603591918945, 4.489130020141602, 4.489617347717285, 4.609983921051025, 4.613293647766113, 4.613913536071777, 4.975642681121826, 5.121658802032471, 5.1220831871032715, 4.8813395500183105, 5.007674217224121, 5.364864826202393, 5.37056303024292, 16.94722557067871, 9.966057777404785, 8.514304161071777, 7.276893615722656, 17.666812896728516, 8.939825057983398, 8.895938873291016, 8.307822227478027, 12.049457550048828, 9.360559463500977, 9.000106811523438, 6.474050045013428, 5.83134126663208], \"loglift\": [30.0, 29.0, 28.0, 27.0, 26.0, 25.0, 24.0, 23.0, 22.0, 21.0, 20.0, 19.0, 18.0, 17.0, 16.0, 15.0, 14.0, 13.0, 12.0, 11.0, 10.0, 9.0, 8.0, 7.0, 6.0, 5.0, 4.0, 3.0, 2.0, 1.0, 1.858199954032898, 1.8041000366210938, 1.7694000005722046, 1.7259000539779663, 1.6655000448226929, 1.614400029182434, 1.5856000185012817, 1.5801000595092773, -1.2318999767303467, -1.5651999711990356, -1.5677000284194946, -1.635599970817566, -1.6579999923706055, -1.6585999727249146, -1.6588000059127808, -1.6805000305175781, -1.705399990081787, -1.712399959564209, -1.726099967956543, -1.7295000553131104, -1.729599952697754, -1.756100058555603, -1.756500005722046, -1.7568000555038452, -1.770400047302246, -1.8128000497817993, -1.8323999643325806, -1.8387999534606934, -1.8523000478744507, -1.861299991607666, -2.0741000175476074, -2.0801000595092773, -2.2809998989105225, -2.524199962615967, -2.276599884033203, -2.395900011062622, -2.7516000270843506, -2.987799882888794, -2.318700075149536, -3.0992000102996826, -2.369499921798706, -2.526900053024292, -2.095599889755249, -1.9910000562667847, 1.8964999914169312, 1.8809000253677368, 1.8361999988555908, 1.812600016593933, 1.8108999729156494, 1.7770999670028687, 1.7768000364303589, 1.7762999534606934, 0.42590001225471497, 0.3336000144481659, -1.6921000480651855, -1.694200038909912, -1.694599986076355, -1.7199000120162964, -1.7390999794006348, -1.7472000122070312, -1.7646000385284424, -1.7790000438690186, -1.7835999727249146, -1.7847000360488892, -1.788100004196167, -1.8147000074386597, -1.8154000043869019, -1.871899962425232, -1.8910000324249268, -1.9108999967575073, -1.9198999404907227, -1.9200999736785889, -1.9204000234603882, -1.9564000368118286, -2.032599925994873, -2.6043999195098877, -2.726900100708008, -2.1881000995635986, -3.0478999614715576, -3.089400053024292, -2.5225000381469727, -2.7753000259399414, -2.47189998626709, -2.2711000442504883, -2.1542000770568848, -2.483599901199341, -2.476900100708008, -2.3777999877929688, -2.1946001052856445, -2.0274999141693115, 1.9220000505447388, 1.899899959564209, 1.8208999633789062, 1.7833000421524048, 1.7785999774932861, 1.6753000020980835, 0.295199990272522, -0.8360000252723694, -1.5740000009536743, -1.667799949645996, -1.7109999656677246, -1.7360999584197998, -1.7364000082015991, -1.738700032234192, -1.7431000471115112, -1.7580000162124634, -1.7834999561309814, -1.784000039100647, -1.7898999452590942, -1.80239999294281, -1.8030999898910522, -1.8071000576019287, -1.8344000577926636, -1.8480000495910645, -1.8687000274658203, -1.882099986076355, -1.8904000520706177, -1.9098999500274658, -1.929800033569336, -1.9362000226974487, -2.1828999519348145, -2.55649995803833, -3.176500082015991, -1.9747999906539917, -1.9912999868392944, -2.5023000240325928, -2.996999979019165, -2.6043999195098877, -2.5416998863220215, -2.422499895095825, -2.447000026702881, -2.2899999618530273, 1.9804999828338623, 1.9115999937057495, 1.9004000425338745, 1.835800051689148, 1.8138999938964844, 1.339400053024292, 0.46230000257492065, -1.6145999431610107, -1.6825000047683716, -1.6828999519348145, -1.7055000066757202, -1.7057000398635864, -1.7273999452590942, -1.7592999935150146, -1.767199993133545, -1.7718000411987305, -1.7730000019073486, -1.7763999700546265, -1.7764999866485596, -1.8029999732971191, -1.8036999702453613, -1.8037999868392944, -1.830899953842163, -1.8384000062942505, -1.8515000343322754, -1.8832000494003296, -1.885699987411499, -1.885699987411499, -1.9055999517440796, -1.9082000255584717, -2.1993000507354736, -2.0185999870300293, -2.1424999237060547, -2.327899932861328, -2.3480000495910645, -2.08870005607605, -1.944200038909912, -3.1043999195098877, -2.4716999530792236, -2.966399908065796, -2.5738000869750977, -2.8668999671936035, -2.511199951171875, -2.1828999519348145, -2.365999937057495, -1.9085999727249146, -1.9556000232696533, 1.9701000452041626, 1.9606000185012817, 1.8931000232696533, 1.8913999795913696, 1.8910000324249268, 1.8565000295639038, 1.5354000329971313, 1.0393999814987183, 0.39969998598098755, -1.2753000259399414, -1.5908000469207764, -1.592900037765503, -1.5932999849319458, -1.6159000396728516, -1.6159000396728516, -1.6161999702453613, -1.6633000373840332, -1.669700026512146, -1.6776000261306763, -1.6821999549865723, -1.6868000030517578, -1.686900019645691, -1.6985000371932983, -1.7134000062942505, -1.7141000032424927, -1.7142000198364258, -1.7618999481201172, -1.7936999797821045, -1.7961000204086304, -1.7961000204086304, -2.1698999404907227, -2.024899959564209, -2.243299961090088, -2.34879994392395, -2.6057000160217285, -2.9881999492645264, -2.27620005607605, -2.3705999851226807, -2.876699924468994, -2.3822999000549316, -2.7772998809814453, -2.1696999073028564, -2.0529000759124756, -2.155100107192993, -1.9483000040054321, -1.8660000562667847, 2.064300060272217, 2.0541000366210938, 1.969499945640564, 1.9673000574111938, 1.961899995803833, 1.7111999988555908, 1.7109999656677246, 0.4927999973297119, -1.0506000518798828, -1.3629000186920166, -1.4287999868392944, -1.430799961090088, -1.4537999629974365, -1.4538999795913696, -1.4541000127792358, -1.4758000373840332, -1.5153000354766846, -1.5202000141143799, -1.521399974822998, -1.551300048828125, -1.5515999794006348, -1.5521999597549438, -1.5999000072479248, -1.6085000038146973, -1.6275999546051025, -1.6339999437332153, -1.6340999603271484, -1.6476000547409058, -1.6561000347137451, -1.6567000150680542, -2.129499912261963, -2.6702001094818115, -2.7202999591827393, -2.1910998821258545, -1.6923999786376953, -2.2132999897003174, -2.511899948120117, -1.837399959564209, -2.7146999835968018, -2.2086000442504883, -2.1647000312805176, -2.007699966430664, -2.615299940109253, -2.140199899673462, -1.8907999992370605, -1.7862999439239502, -1.9930000305175781, 2.111599922180176, 2.0127999782562256, 2.012200117111206, 2.0067999362945557, 1.8423000574111938, -0.6460999846458435, -1.315000057220459, -1.3580000400543213, -1.3601000308990479, -1.3604999780654907, -1.3824000358581543, -1.3828999996185303, -1.3858000040054321, -1.4049999713897705, -1.4305000305175781, -1.436900019645691, -1.4448000192642212, -1.4494999647140503, -1.450600028038025, -1.4539999961853027, -1.4693000316619873, -1.4950000047683716, -1.529099941253662, -1.5537999868392944, -1.5569000244140625, -1.562600016593933, -1.576799988746643, -1.5858999490737915, -1.5858999490737915, -1.5861999988555908, -1.6962000131607056, -1.9180999994277954, -2.1203999519348145, -2.684000015258789, -1.8594000339508057, -2.6438000202178955, -1.9366999864578247, -2.823699951171875, -2.1377999782562256, -2.2513999938964844, -2.0940001010894775, -2.069499969482422, -2.1494998931884766, -1.820099949836731, -1.7156000137329102, 2.1854000091552734, 2.1651999950408936, 2.137200117111206, 1.878100037574768, 0.9663000106811523, 0.902400016784668, 0.7407000064849854, 0.5638999938964844, -1.1169999837875366, -1.1375000476837158, -1.1404000520706177, -1.1407999992370605, -1.1613999605178833, -1.1634000539779663, -1.1634999513626099, -1.163699984550476, -1.210800051689148, -1.2173000574111938, -1.2252000570297241, -1.2342000007629395, -1.2343000173568726, -1.2344000339508057, -1.2609000205993652, -1.2616000175476074, -1.2618000507354736, -1.2689000368118286, -1.297700047492981, -1.2978999614715576, -1.3180999755859375, -1.3436000347137451, -1.3442000150680542, -1.3452999591827393, -2.080699920654297, -1.8392000198364258, -1.7419999837875366, -1.6490000486373901, -2.4567999839782715, -1.8547999858856201, -1.9180999994277954, -1.8497999906539917, -2.22160005569458, -1.969099998474121, -1.929800033569336, -1.6003999710083008, -1.49590003490448], \"logprob\": [30.0, 29.0, 28.0, 27.0, 26.0, 25.0, 24.0, 23.0, 22.0, 21.0, 20.0, 19.0, 18.0, 17.0, 16.0, 15.0, 14.0, 13.0, 12.0, 11.0, 10.0, 9.0, 8.0, 7.0, 6.0, 5.0, 4.0, 3.0, 2.0, 1.0, -1.7742999792099, -2.339099884033203, -2.5566000938415527, -2.6047000885009766, -1.4658000469207764, -2.3940999507904053, -2.55649995803833, -2.572999954223633, -5.4781999588012695, -5.982600212097168, -5.982500076293945, -6.050899982452393, -6.0503997802734375, -6.050899982452393, -6.050899982452393, -6.050899982452393, -6.050300121307373, -6.050899982452393, -6.050899982452393, -6.050899982452393, -6.050899982452393, -6.050899982452393, -6.05049991607666, -6.050899982452393, -5.982500076293945, -6.0503997802734375, -6.050899982452393, -6.05079984664917, -6.050899982452393, -6.050899982452393, -5.699900150299072, -5.918499946594238, -5.918499946594238, -5.8582000732421875, -5.982399940490723, -5.982500076293945, -5.982399940490723, -5.980800151824951, -6.050300121307373, -6.050600051879883, -6.05079984664917, -6.05079984664917, -6.05079984664917, -6.05079984664917, -1.6274000406265259, -1.8250000476837158, -2.223599910736084, -2.3994998931884766, -2.40120005607605, -2.6152000427246094, -2.6152000427246094, -2.615999937057495, -3.912600040435791, -3.9126999378204346, -6.109499931335449, -6.109499931335449, -6.109499931335449, -6.041200160980225, -6.109499931335449, -6.041100025177002, -6.109499931335449, -6.109600067138672, -6.109600067138672, -6.109499931335449, -6.109499931335449, -6.109499931335449, -6.109499931335449, -6.109499931335449, -6.109499931335449, -6.109499931335449, -6.109499931335449, -6.109499931335449, -6.109499931335449, -6.109499931335449, -6.041100025177002, -5.83519983291626, -5.8582000732421875, -6.041200160980225, -6.040800094604492, -6.040800094604492, -6.109099864959717, -6.109300136566162, -6.109399795532227, -6.109399795532227, -6.109399795532227, -6.109399795532227, -6.109499931335449, -6.109499931335449, -6.109499931335449, -6.109499931335449, -1.0708999633789062, -1.7374999523162842, -2.2611000537872314, -2.631999969482422, -2.6363000869750977, -2.239500045776367, -3.7132999897003174, -5.166600227355957, -5.868899822235107, -6.060100078582764, -6.128399848937988, -6.128399848937988, -6.128399848937988, -6.060100078582764, -6.037199974060059, -6.128399848937988, -6.128399848937988, -5.996099948883057, -6.128399848937988, -6.128399848937988, -6.127900123596191, -6.128399848937988, -6.128399848937988, -6.060100078582764, -6.058300018310547, -6.128399848937988, -6.127999782562256, -6.128399848937988, -6.128399848937988, -5.995999813079834, -5.9145002365112305, -5.890500068664551, -6.127799987792969, -6.127900123596191, -6.1280999183654785, -6.128200054168701, -6.128300189971924, -6.128300189971924, -6.128300189971924, -6.128300189971924, -6.128300189971924, -6.128300189971924, -0.9708999991416931, -1.9266999959945679, -2.054800033569336, -2.4017999172210693, -2.6034998893737793, -2.8791000843048096, -3.8826000690460205, -6.006899833679199, -6.097799777984619, -6.097799777984619, -6.097799777984619, -6.097799777984619, -6.097799777984619, -6.097799777984619, -6.097799777984619, -6.097799777984619, -6.097799777984619, -6.097799777984619, -6.097799777984619, -6.097799777984619, -6.097799777984619, -6.097799777984619, -6.0295000076293945, -5.172399997711182, -6.097799777984619, -5.5157999992370605, -6.097700119018555, -6.097799777984619, -5.965400218963623, -6.097799777984619, -5.905200004577637, -6.029399871826172, -5.99560022354126, -5.965400218963623, -6.029300212860107, -6.0971999168396, -6.097300052642822, -6.097300052642822, -6.097499847412109, -6.097700119018555, -6.097700119018555, -6.097700119018555, -6.097700119018555, -6.097700119018555, -6.097700119018555, -6.097700119018555, -6.097700119018555, -1.6164000034332275, -1.7207000255584717, -2.2964000701904297, -2.2981998920440674, -2.298099994659424, -2.5139000415802, -2.789400100708008, -3.1791000366210938, -3.7534000873565674, -5.512899875640869, -6.008200168609619, -6.008200168609619, -6.0081000328063965, -6.008200168609619, -6.008200168609619, -6.008200168609619, -6.008200168609619, -6.008200168609619, -6.008200168609619, -6.008200168609619, -6.008200168609619, -6.008200168609619, -4.691400051116943, -6.008200168609619, -6.008200168609619, -6.008200168609619, -6.008200168609619, -5.875699996948242, -6.0081000328063965, -6.008200168609619, -5.875699996948242, -5.939799785614014, -5.875899791717529, -5.872600078582764, -5.939700126647949, -5.939599990844727, -6.007900238037109, -6.007999897003174, -6.007999897003174, -6.0081000328063965, -6.0081000328063965, -6.0081000328063965, -6.0081000328063965, -6.0081000328063965, -6.0081000328063965, -6.0081000328063965, -1.5614999532699585, -1.6776000261306763, -2.351900100708008, -2.3540000915527344, -2.1749000549316406, -2.6273000240325928, -2.6338999271392822, -3.6493000984191895, -5.132599830627441, -5.7778000831604, -5.846099853515625, -5.846099853515625, -5.846199989318848, -5.846199989318848, -5.846099853515625, -5.846199989318848, -5.845900058746338, -5.846199989318848, -5.846099853515625, -5.846199989318848, -5.845699787139893, -5.846099853515625, -5.846199989318848, -5.846099853515625, -5.846099853515625, -5.846099853515625, -5.846199989318848, -5.846199989318848, -5.845600128173828, -5.846199989318848, -5.65339994430542, -5.663099765777588, -5.6717000007629395, -5.777599811553955, -5.8454999923706055, -5.845799922943115, -5.845900058746338, -5.845900058746338, -5.8460001945495605, -5.8460001945495605, -5.8460001945495605, -5.8460001945495605, -5.846099853515625, -5.846099853515625, -5.846099853515625, -5.846099853515625, -5.846099853515625, -1.2223999500274658, -2.281100034713745, -2.281899929046631, -2.2880001068115234, -1.3884999752044678, -4.7829999923706055, -5.707099914550781, -5.775400161743164, -5.775400161743164, -5.775400161743164, -5.774700164794922, -5.775199890136719, -5.707099914550781, -5.775400161743164, -5.775400161743164, -5.775400161743164, -5.7754998207092285, -5.775400161743164, -5.775400161743164, -5.775400161743164, -5.706900119781494, -5.706999778747559, -5.775400161743164, -5.706900119781494, -5.775400161743164, -5.774700164794922, -5.775400161743164, -5.775400161743164, -5.775400161743164, -5.775400161743164, -5.707099914550781, -5.649700164794922, -5.706999778747559, -5.6768999099731445, -5.7743000984191895, -5.775000095367432, -5.775100231170654, -5.775100231170654, -5.775300025939941, -5.775300025939941, -5.775300025939941, -5.775300025939941, -5.775300025939941, -5.775300025939941, -5.775400161743164, -1.6676000356674194, -1.8457000255584717, -2.0613999366760254, -2.3682000637054443, -3.3585000038146973, -2.328399896621704, -2.390500068664551, -3.3510000705718994, -5.487400054931641, -5.554900169372559, -5.555699825286865, -5.555699825286865, -5.487400054931641, -5.555699825286865, -5.555799961090088, -5.555699825286865, -5.555799961090088, -5.555699825286865, -5.555799961090088, -5.423399925231934, -5.555699825286865, -5.555699825286865, -5.555699825286865, -5.555699825286865, -5.555699825286865, -5.487400054931641, -5.487299919128418, -5.487400054931641, -5.555699825286865, -5.555699825286865, -5.487299919128418, -5.487400054931641, -5.073699951171875, -5.363100051879883, -5.423299789428711, -5.487299919128418, -5.408199787139893, -5.487299919128418, -5.555600166320801, -5.555600166320801, -5.555600166320801, -5.555600166320801, -5.555699825286865, -5.555699825286865, -5.555699825286865]}, \"token.table\": {\"Topic\": [6, 3, 3, 5, 5, 7, 1, 2, 8, 2, 8, 4, 6, 2, 8, 1, 6, 3, 5, 2, 6, 4, 7, 8, 3, 8, 5, 8, 2, 5, 6, 1, 5, 2, 1, 3, 6, 4, 5, 8, 1, 8, 3, 2, 2, 7, 4, 7, 1, 4, 2, 1, 1, 5, 7, 4, 4, 5, 3, 2, 6, 6], \"Freq\": [0.8909445405006409, 0.8767004609107971, 0.9441073536872864, 0.780661404132843, 0.9395952820777893, 0.9129041433334351, 0.9319899082183838, 0.798774003982544, 0.8165019154548645, 0.20664377510547638, 0.6199313402175903, 0.2280643880367279, 0.6841931939125061, 0.7171871066093445, 0.7880738377571106, 0.744800865650177, 0.18620021641254425, 0.7337703108787537, 0.961480975151062, 0.7174031138420105, 0.8646405339241028, 0.8245276212692261, 0.6736399531364441, 0.2245466560125351, 0.7417467832565308, 0.1483493596315384, 0.6705557107925415, 0.22351856529712677, 0.8425794243812561, 0.7809969782829285, 0.888878345489502, 0.7530235648155212, 0.1882558912038803, 0.7173864245414734, 0.651670515537262, 0.1629176288843155, 0.7409164309501648, 0.4019581377506256, 0.4019581377506256, 0.8367489576339722, 0.7453738451004028, 0.20328377187252045, 0.7340812683105469, 0.9030652046203613, 0.8574356436729431, 0.8676819801330566, 0.9267768859863281, 0.8670594692230225, 0.8992946743965149, 0.9622561931610107, 0.7987910509109497, 0.8951540589332581, 0.8948720693588257, 0.7018586993217468, 0.8669430017471313, 0.7356157302856445, 0.8194472193717957, 0.7809322476387024, 0.8992867469787598, 0.22660130262374878, 0.6798039078712463, 0.8910412192344666], \"Term\": [\"17 witnesses\", \"abuse power\", \"adam schiff\", \"al rimi\", \"america great\", \"american people\", \"approval rating\", \"big rally\", \"crazy nancy\", \"cryin chuck\", \"cryin chuck\", \"democrat party\", \"democrat party\", \"democratic party\", \"democrats impeachment\", \"democrats want\", \"democrats want\", \"donald trump\", \"fake news\", \"foxandfriends schiff\", \"house democrats\", \"house managers\", \"impeachment hoax\", \"impeachment hoax\", \"impeachment process\", \"impeachment process\", \"impeachment sham\", \"impeachment sham\", \"impeachment trial\", \"joe biden\", \"john bolton\", \"just like\", \"just like\", \"left democrats\", \"legal team\", \"legal team\", \"looks like\", \"mini mike\", \"mini mike\", \"mr president\", \"nancy pelosi\", \"nancy pelosi\", \"national security\", \"new hampshire\", \"new york\", \"partisan impeachment\", \"paulsperry_ breaking\", \"president lawyers\", \"president legal\", \"president trump\", \"radical left\", \"rating republican\", \"republican party\", \"senator joe\", \"state union\", \"super bowl\", \"united states\", \"west virginia\", \"white house\", \"witch hunt\", \"witch hunt\", \"years ago\"]}, \"R\": 30, \"lambda.step\": 0.01, \"plot.opts\": {\"xlab\": \"PC1\", \"ylab\": \"PC2\"}, \"topic.order\": [6, 2, 4, 5, 7, 1, 3, 8]};\n",
       "\n",
       "function LDAvis_load_lib(url, callback){\n",
       "  var s = document.createElement('script');\n",
       "  s.src = url;\n",
       "  s.async = true;\n",
       "  s.onreadystatechange = s.onload = callback;\n",
       "  s.onerror = function(){console.warn(\"failed to load library \" + url);};\n",
       "  document.getElementsByTagName(\"head\")[0].appendChild(s);\n",
       "}\n",
       "\n",
       "if(typeof(LDAvis) !== \"undefined\"){\n",
       "   // already loaded: just create the visualization\n",
       "   !function(LDAvis){\n",
       "       new LDAvis(\"#\" + \"ldavis_el412311125928332969734016149\", ldavis_el412311125928332969734016149_data);\n",
       "   }(LDAvis);\n",
       "}else if(typeof define === \"function\" && define.amd){\n",
       "   // require.js is available: use it to load d3/LDAvis\n",
       "   require.config({paths: {d3: \"https://cdnjs.cloudflare.com/ajax/libs/d3/3.5.5/d3.min\"}});\n",
       "   require([\"d3\"], function(d3){\n",
       "      window.d3 = d3;\n",
       "      LDAvis_load_lib(\"https://cdn.rawgit.com/bmabey/pyLDAvis/files/ldavis.v1.0.0.js\", function(){\n",
       "        new LDAvis(\"#\" + \"ldavis_el412311125928332969734016149\", ldavis_el412311125928332969734016149_data);\n",
       "      });\n",
       "    });\n",
       "}else{\n",
       "    // require.js not available: dynamically load d3 & LDAvis\n",
       "    LDAvis_load_lib(\"https://cdnjs.cloudflare.com/ajax/libs/d3/3.5.5/d3.min.js\", function(){\n",
       "         LDAvis_load_lib(\"https://cdn.rawgit.com/bmabey/pyLDAvis/files/ldavis.v1.0.0.js\", function(){\n",
       "                 new LDAvis(\"#\" + \"ldavis_el412311125928332969734016149\", ldavis_el412311125928332969734016149_data);\n",
       "            })\n",
       "         });\n",
       "}\n",
       "</script>"
      ],
      "text/plain": [
       "PreparedData(topic_coordinates=              x         y  topics  cluster       Freq\n",
       "topic                                                \n",
       "5      0.156894  0.058147       1        1  14.072256\n",
       "1     -0.060085 -0.243113       2        1  13.735631\n",
       "3      0.146662  0.191944       3        1  13.593185\n",
       "4     -0.288348  0.110141       4        1  13.144570\n",
       "6     -0.075083  0.133304       5        1  12.752313\n",
       "0     -0.079435 -0.066238       6        1  11.540211\n",
       "2      0.068091 -0.139362       7        1  11.124125\n",
       "7      0.131305 -0.044824       8        1  10.037703, topic_info=   Category       Freq                  Term      Total  loglift  logprob\n",
       "1   Default  17.000000       president trump  17.000000  30.0000  30.0000\n",
       "12  Default  16.000000           adam schiff  16.000000  29.0000  29.0000\n",
       "27  Default  12.000000       american people  12.000000  28.0000  28.0000\n",
       "16  Default  13.000000      impeachment hoax  13.000000  27.0000  27.0000\n",
       "20  Default  14.000000          nancy pelosi  14.000000  26.0000  26.0000\n",
       "..      ...        ...                   ...        ...      ...      ...\n",
       "27   Topic8   0.131153       american people  12.049458  -2.2216  -5.5556\n",
       "3    Topic8   0.131150             fake news   9.360559  -1.9691  -5.5556\n",
       "40   Topic8   0.131148           john bolton   9.000107  -1.9298  -5.5557\n",
       "11   Topic8   0.131147  paulsperry_ breaking   6.474050  -1.6004  -5.5557\n",
       "14   Topic8   0.131146              new york   5.831341  -1.4959  -5.5557\n",
       "\n",
       "[392 rows x 6 columns], token_table=      Topic      Freq           Term\n",
       "term                                \n",
       "43        6  0.890945   17 witnesses\n",
       "50        3  0.876700    abuse power\n",
       "12        3  0.944107    adam schiff\n",
       "33        5  0.780661        al rimi\n",
       "6         5  0.939595  america great\n",
       "...     ...       ...            ...\n",
       "19        5  0.780932  west virginia\n",
       "10        3  0.899287    white house\n",
       "44        2  0.226601     witch hunt\n",
       "44        6  0.679804     witch hunt\n",
       "36        6  0.891041      years ago\n",
       "\n",
       "[62 rows x 3 columns], R=30, lambda_step=0.01, plot_opts={'xlab': 'PC1', 'ylab': 'PC2'}, topic_order=[6, 2, 4, 5, 7, 1, 3, 8])"
      ]
     },
     "execution_count": 71,
     "metadata": {},
     "output_type": "execute_result"
    }
   ],
   "source": [
    "texts2 = [df_vect2.columns[df_vect2.loc[index,:].nonzero()] for index in df_vect2.index]\n",
    "dictionary2 = corpora.Dictionary(texts2)\n",
    "corpus2 = [dictionary2.doc2bow(text) for text in texts2]\n",
    "\n",
    "ldamodel2 = models.ldamodel.LdaModel(corpus2,                     # pass in our corpus\n",
    "                                    id2word = dictionary2,       # matches each word to its \"number\" or \"spot\" in the dictionary\n",
    "                                    num_topics = 8,             # number of topics T to find\n",
    "                                    passes = 10,                 # number of passes through corpus; similar to number of epochs\n",
    "                                    minimum_probability = 0.01) # only include topics above this probability threshold\n",
    "\n",
    "pyLDAvis.gensim.prepare(ldamodel2, corpus2, dictionary2)"
   ]
  },
  {
   "cell_type": "code",
   "execution_count": null,
   "metadata": {},
   "outputs": [],
   "source": []
  },
  {
   "cell_type": "code",
   "execution_count": null,
   "metadata": {},
   "outputs": [],
   "source": []
  }
 ],
 "metadata": {
  "kernelspec": {
   "display_name": "Python 3",
   "language": "python",
   "name": "python3"
  },
  "language_info": {
   "codemirror_mode": {
    "name": "ipython",
    "version": 3
   },
   "file_extension": ".py",
   "mimetype": "text/x-python",
   "name": "python",
   "nbconvert_exporter": "python",
   "pygments_lexer": "ipython3",
   "version": "3.6.9"
  }
 },
 "nbformat": 4,
 "nbformat_minor": 2
}
