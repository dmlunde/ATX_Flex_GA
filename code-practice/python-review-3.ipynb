{
 "cells": [
  {
   "cell_type": "markdown",
   "metadata": {},
   "source": [
    "\n",
    "\n",
    "### [Shortest word](https://www.codewars.com/kata/57cebe1dc6fdc20c57000ac9)\n",
    "\n",
    "\n",
    "Given a string of words, return the length of the shortest word(s).\n",
    "\n",
    "String will never be empty and you do not need to account for different data types.\n"
   ]
  },
  {
   "cell_type": "code",
   "execution_count": 12,
   "metadata": {},
   "outputs": [
    {
     "data": {
      "text/plain": [
       "2"
      ]
     },
     "execution_count": 12,
     "metadata": {},
     "output_type": "execute_result"
    }
   ],
   "source": [
    "### Answer:  \n",
    "\n",
    "def shortest_word(s):\n",
    "    split_string = s.split()\n",
    "    \n",
    "    return min([len(item) for item in split_string])\n",
    "\n",
    "shortest_word('here is the test')"
   ]
  },
  {
   "cell_type": "markdown",
   "metadata": {},
   "source": [
    "### [The highest profit wins!](https://www.codewars.com/kata/559590633066759614000063)\n",
    "\n",
    "Ben has a very simple idea to make some profit: he buys something and sells it again. Of course, this wouldn't give him any profit at all if he was simply to buy and sell it at the same price. Instead, he's going to buy it for the lowest possible price and sell it at the highest.\n",
    "\n",
    "Task\n",
    "Write a function that returns both the minimum and maximum number of the given list/array.\n",
    "\n",
    "Examples:\n",
    "\n",
    "```python\n",
    "min_max([1,2,3,4,5])   == [1,5]\n",
    "min_max([2334454,5])   == [5, 2334454]\n",
    "min_max([1])           == [1, 1]\n",
    "```"
   ]
  },
  {
   "cell_type": "code",
   "execution_count": 13,
   "metadata": {},
   "outputs": [
    {
     "data": {
      "text/plain": [
       "[1, 5]"
      ]
     },
     "execution_count": 13,
     "metadata": {},
     "output_type": "execute_result"
    }
   ],
   "source": [
    "### Answer\n",
    "def min_max(lst):\n",
    "    return [min(lst), max(lst)]\n",
    "\n",
    "min_max([1,2,3,4,5])\n"
   ]
  },
  {
   "cell_type": "markdown",
   "metadata": {},
   "source": [
    "### [Counting Duplicates](https://www.codewars.com/kata/54bf1c2cd5b56cc47f0007a1)\n",
    "\n",
    "Write a function that will return the count of distinct case-insensitive alphabetic characters and numeric digits that occur more than once in the input string. The input string can be assumed to contain only alphabets (both uppercase and lowercase) and numeric digits.\n",
    "\n",
    "Example\n",
    "\"abcde\" -> 0 # no characters repeats more than once\n",
    "\"aabbcde\" -> 2 # 'a' and 'b'\n",
    "\"aabBcde\" -> 2 # 'a' occurs twice and 'b' twice (`b` and `B`)\n",
    "\"indivisibility\" -> 1 # 'i' occurs six times\n",
    "\"Indivisibilities\" -> 2 # 'i' occurs seven times and 's' occurs twice\n",
    "\"aA11\" -> 2 # 'a' and '1'\n",
    "\"ABBA\" -> 2 # 'A' and 'B' each occur twice"
   ]
  },
  {
   "cell_type": "code",
   "execution_count": 2,
   "metadata": {},
   "outputs": [
    {
     "data": {
      "text/plain": [
       "3"
      ]
     },
     "execution_count": 2,
     "metadata": {},
     "output_type": "execute_result"
    }
   ],
   "source": [
    "## Answer \n",
    "\n",
    "def amount(string):\n",
    "    characters_list = []\n",
    "    for i in set(string):\n",
    "        count = string.count(i)\n",
    "        if count > 1:\n",
    "            characters_list.append(i)\n",
    "    return len(characters_list)\n",
    "\n",
    "amount('dfdfdfaaabio')"
   ]
  },
  {
   "cell_type": "code",
   "execution_count": null,
   "metadata": {},
   "outputs": [],
   "source": []
  },
  {
   "cell_type": "markdown",
   "metadata": {},
   "source": [
    "### [Who likes it?](https://www.codewars.com/kata/5266876b8f4bf2da9b000362/train/python)\n",
    "\n",
    "You probably know the \"like\" system from Facebook and other pages. People can \"like\" blog posts, pictures or other items. We want to create the text that should be displayed next to such an item.\n",
    "\n",
    "Implement a function ``likes`` which must take in input array, containing the names of people who like an item. It must return the display text as shown in the examples:\n",
    "\n",
    "``` python \n",
    "\n",
    "likes([]) ## returns  \"no one likes this\"\n",
    "\n",
    "likes([\"Peter\"]) ## returns \"Peter likes this\"\n",
    "likes([\"Jacob\", \"Alex\"]) ## returns \"Jacob and Alex like this\"\n",
    "likes([\"Max\", \"John\", \"Mark\"]) ## returns \"Max, John and Mark like this\"\n",
    "likes([\"Alex\", \"Jacob\", \"Mark\", \"Max\"]) ## returns \"Alex, Jacob and 2 others like this\"\n",
    "\n",
    "```"
   ]
  },
  {
   "cell_type": "code",
   "execution_count": 20,
   "metadata": {},
   "outputs": [
    {
     "data": {
      "text/plain": [
       "'Alex, Jacob, and 4 others like this'"
      ]
     },
     "execution_count": 20,
     "metadata": {},
     "output_type": "execute_result"
    }
   ],
   "source": [
    "def likes(names_list):\n",
    "    if len(names_list) < 1:\n",
    "        return \"no one likes this\"\n",
    "    elif len(names_list) == 1:\n",
    "        return f'{names_list[0]} likes this'\n",
    "    elif len(names_list) == 2:\n",
    "        return f'{name1} and {name2} like this'\n",
    "    elif len(names_list) == 3:\n",
    "        return f'{names_list[0]}, {names_list[1]} and {names_list[2]} like this'\n",
    "    elif len(names_list) > 3:\n",
    "        return f'{names_list[0]}, {names_list[1]}, and {len(names_list) - 2} others like this'\n",
    "    \n",
    "likes([\"Alex\", \"Jacob\", \"Mark\", 'test', 's', 'd'])"
   ]
  },
  {
   "cell_type": "markdown",
   "metadata": {},
   "source": [
    "### [Colored Triangles](https://www.codewars.com/kata/5a25ac6ac5e284cfbe000111/train/python)\n",
    "\n",
    "A coloured triangle is created from a row of colours, each of which is red, green or blue. Successive rows, each containing one fewer colour than the last, are generated by considering the two touching colours in the previous row. If these colours are identical, the same colour is used in the new row. If they are different, the missing colour is used in the new row. This is continued until the final row, with only a single colour, is generated.\n",
    "\n",
    "The different possibilities are:\n",
    "\n",
    "```\n",
    "Colour here:        G G        B G        R G        B R\n",
    "Becomes colour:      G          R          B          G\n",
    "```\n",
    "or \n",
    "\n",
    "```\n",
    "R R G B R G B B\n",
    " R B R G B R B\n",
    "  G G B R G G\n",
    "   G R G B G\n",
    "    B B R R\n",
    "     B G R\n",
    "      R B\n",
    "       G\n",
    "       ```\n",
    "\n",
    "You will be given the first row of the triangle as a string and its your job to return the final colour which would appear in the bottom row as a string. In the case of the example above, you would the given RRGBRGBB you should return G.\n",
    "\n",
    "- The input string will only contain the uppercase letters R, G, B and there will be at least one letter so you do not have to test for invalid input.\n",
    "- If you are only given one colour as the input, return that colour."
   ]
  },
  {
   "cell_type": "code",
   "execution_count": null,
   "metadata": {},
   "outputs": [],
   "source": [
    "### Answer "
   ]
  },
  {
   "cell_type": "markdown",
   "metadata": {},
   "source": [
    "### Largest Prime Factor \n",
    "\n",
    "[Link](https://projecteuler.net/problem=3)\n",
    "\n",
    "The prime factors of 13195 are 5, 7, 13 and 29.\n",
    "\n",
    "What is the largest prime factor of the number 600851475143 ?\n",
    "\n"
   ]
  },
  {
   "cell_type": "code",
   "execution_count": null,
   "metadata": {},
   "outputs": [],
   "source": [
    "### Answer "
   ]
  },
  {
   "cell_type": "markdown",
   "metadata": {},
   "source": [
    "### Solar Doomsday\n",
    "==============\n",
    "\n",
    "Who would've guessed? Doomsday devices take a LOT of power. Commander Lambda wants to supplement the LAMBCHOP's quantum antimatter reactor core with solar arrays, and she's tasked you with setting up the solar panels.\n",
    "\n",
    "Due to the nature of the space station's outer paneling, all of its solar panels must be squares. Fortunately, you have one very large and flat area of solar material, a pair of industrial-strength scissors, and enough MegaCorp Solar Tape(TM) to piece together any excess panel material into more squares. For example, if you had a total area of 12 square yards of solar material, you would be able to make one 3x3 square panel (with a total area of 9). That would leave 3 square yards, so you can turn those into three 1x1 square solar panels.\n",
    "\n",
    "Write a function answer(area) that takes as its input a single unit of measure representing the total area of solar panels you have (between 1 and 1000000 inclusive) and returns a list of the areas of the largest squares you could make out of those panels, starting with the largest squares first. So, following the example above, `answer(12)` would return `[9, 1, 1, 1]`."
   ]
  },
  {
   "cell_type": "code",
   "execution_count": 35,
   "metadata": {
    "collapsed": true
   },
   "outputs": [],
   "source": [
    "### Answer \n"
   ]
  }
 ],
 "metadata": {
  "anaconda-cloud": {},
  "kernelspec": {
   "display_name": "Python 3",
   "language": "python",
   "name": "python3"
  },
  "language_info": {
   "codemirror_mode": {
    "name": "ipython",
    "version": 3
   },
   "file_extension": ".py",
   "mimetype": "text/x-python",
   "name": "python",
   "nbconvert_exporter": "python",
   "pygments_lexer": "ipython3",
   "version": "3.7.4"
  }
 },
 "nbformat": 4,
 "nbformat_minor": 2
}
