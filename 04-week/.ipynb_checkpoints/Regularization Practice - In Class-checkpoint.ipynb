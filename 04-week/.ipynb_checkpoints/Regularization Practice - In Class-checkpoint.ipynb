{
 "cells": [
  {
   "cell_type": "code",
   "execution_count": 79,
   "metadata": {},
   "outputs": [],
   "source": [
    "import pandas as pd\n",
    "import numpy as np\n",
    "from sklearn.preprocessing import StandardScaler\n",
    "from sklearn.linear_model import Ridge, Lasso, RidgeCV, LassoCV , LinearRegression\n",
    "from sklearn.model_selection import train_test_split\n",
    "from sklearn.metrics import r2_score"
   ]
  },
  {
   "cell_type": "code",
   "execution_count": 80,
   "metadata": {},
   "outputs": [],
   "source": [
    "df = pd.read_csv('../data/starcraftapm.csv')"
   ]
  },
  {
   "cell_type": "code",
   "execution_count": 83,
   "metadata": {},
   "outputs": [
    {
     "data": {
      "text/html": [
       "<div>\n",
       "<style scoped>\n",
       "    .dataframe tbody tr th:only-of-type {\n",
       "        vertical-align: middle;\n",
       "    }\n",
       "\n",
       "    .dataframe tbody tr th {\n",
       "        vertical-align: top;\n",
       "    }\n",
       "\n",
       "    .dataframe thead th {\n",
       "        text-align: right;\n",
       "    }\n",
       "</style>\n",
       "<table border=\"1\" class=\"dataframe\">\n",
       "  <thead>\n",
       "    <tr style=\"text-align: right;\">\n",
       "      <th></th>\n",
       "      <th>GameID</th>\n",
       "      <th>LeagueIndex</th>\n",
       "      <th>Age</th>\n",
       "      <th>HoursPerWeek</th>\n",
       "      <th>TotalHours</th>\n",
       "      <th>APM</th>\n",
       "      <th>SelectByHotkeys</th>\n",
       "      <th>AssignToHotkeys</th>\n",
       "      <th>UniqueHotkeys</th>\n",
       "      <th>MinimapAttacks</th>\n",
       "      <th>MinimapRightClicks</th>\n",
       "      <th>NumberOfPACs</th>\n",
       "      <th>GapBetweenPACs</th>\n",
       "      <th>ActionLatency</th>\n",
       "      <th>ActionsInPAC</th>\n",
       "      <th>TotalMapExplored</th>\n",
       "      <th>WorkersMade</th>\n",
       "      <th>UniqueUnitsMade</th>\n",
       "      <th>ComplexUnitsMade</th>\n",
       "      <th>ComplexAbilitiesUsed</th>\n",
       "    </tr>\n",
       "  </thead>\n",
       "  <tbody>\n",
       "    <tr>\n",
       "      <td>0</td>\n",
       "      <td>52</td>\n",
       "      <td>5</td>\n",
       "      <td>27</td>\n",
       "      <td>10</td>\n",
       "      <td>3000</td>\n",
       "      <td>143.718</td>\n",
       "      <td>0.003515</td>\n",
       "      <td>0.00022</td>\n",
       "      <td>7</td>\n",
       "      <td>0.00011</td>\n",
       "      <td>0.000392</td>\n",
       "      <td>0.004849</td>\n",
       "      <td>32.6677</td>\n",
       "      <td>40.8673</td>\n",
       "      <td>4.7508</td>\n",
       "      <td>28</td>\n",
       "      <td>0.001397</td>\n",
       "      <td>6</td>\n",
       "      <td>0.0</td>\n",
       "      <td>0.0</td>\n",
       "    </tr>\n",
       "  </tbody>\n",
       "</table>\n",
       "</div>"
      ],
      "text/plain": [
       "   GameID  LeagueIndex  Age  HoursPerWeek  TotalHours      APM  \\\n",
       "0      52            5   27            10        3000  143.718   \n",
       "\n",
       "   SelectByHotkeys  AssignToHotkeys  UniqueHotkeys  MinimapAttacks  \\\n",
       "0         0.003515          0.00022              7         0.00011   \n",
       "\n",
       "   MinimapRightClicks  NumberOfPACs  GapBetweenPACs  ActionLatency  \\\n",
       "0            0.000392      0.004849         32.6677        40.8673   \n",
       "\n",
       "   ActionsInPAC  TotalMapExplored  WorkersMade  UniqueUnitsMade  \\\n",
       "0        4.7508                28     0.001397                6   \n",
       "\n",
       "   ComplexUnitsMade  ComplexAbilitiesUsed  \n",
       "0               0.0                   0.0  "
      ]
     },
     "execution_count": 83,
     "metadata": {},
     "output_type": "execute_result"
    }
   ],
   "source": [
    "df.head(1)"
   ]
  },
  {
   "cell_type": "code",
   "execution_count": 144,
   "metadata": {},
   "outputs": [
    {
     "data": {
      "text/plain": [
       "count       3338.000000\n",
       "mean         960.421809\n",
       "std        17318.133922\n",
       "min            3.000000\n",
       "25%          300.000000\n",
       "50%          500.000000\n",
       "75%          800.000000\n",
       "max      1000000.000000\n",
       "Name: TotalHours, dtype: float64"
      ]
     },
     "execution_count": 144,
     "metadata": {},
     "output_type": "execute_result"
    }
   ],
   "source": [
    "### wow that's quite the max value\n",
    "\n",
    "df['TotalHours'].describe()"
   ]
  },
  {
   "cell_type": "code",
   "execution_count": 146,
   "metadata": {},
   "outputs": [
    {
     "data": {
      "text/html": [
       "<div>\n",
       "<style scoped>\n",
       "    .dataframe tbody tr th:only-of-type {\n",
       "        vertical-align: middle;\n",
       "    }\n",
       "\n",
       "    .dataframe tbody tr th {\n",
       "        vertical-align: top;\n",
       "    }\n",
       "\n",
       "    .dataframe thead th {\n",
       "        text-align: right;\n",
       "    }\n",
       "</style>\n",
       "<table border=\"1\" class=\"dataframe\">\n",
       "  <thead>\n",
       "    <tr style=\"text-align: right;\">\n",
       "      <th></th>\n",
       "      <th>GameID</th>\n",
       "      <th>LeagueIndex</th>\n",
       "      <th>Age</th>\n",
       "      <th>HoursPerWeek</th>\n",
       "      <th>TotalHours</th>\n",
       "      <th>APM</th>\n",
       "      <th>SelectByHotkeys</th>\n",
       "      <th>AssignToHotkeys</th>\n",
       "      <th>UniqueHotkeys</th>\n",
       "      <th>MinimapAttacks</th>\n",
       "      <th>MinimapRightClicks</th>\n",
       "      <th>NumberOfPACs</th>\n",
       "      <th>GapBetweenPACs</th>\n",
       "      <th>ActionLatency</th>\n",
       "      <th>ActionsInPAC</th>\n",
       "      <th>TotalMapExplored</th>\n",
       "      <th>WorkersMade</th>\n",
       "      <th>UniqueUnitsMade</th>\n",
       "      <th>ComplexUnitsMade</th>\n",
       "      <th>ComplexAbilitiesUsed</th>\n",
       "    </tr>\n",
       "  </thead>\n",
       "  <tbody>\n",
       "    <tr>\n",
       "      <td>1792</td>\n",
       "      <td>5140</td>\n",
       "      <td>5</td>\n",
       "      <td>18</td>\n",
       "      <td>24</td>\n",
       "      <td>1000000</td>\n",
       "      <td>281.4246</td>\n",
       "      <td>0.023428</td>\n",
       "      <td>0.000799</td>\n",
       "      <td>5</td>\n",
       "      <td>0.000041</td>\n",
       "      <td>0.000447</td>\n",
       "      <td>0.005136</td>\n",
       "      <td>28.1164</td>\n",
       "      <td>36.1266</td>\n",
       "      <td>5.8522</td>\n",
       "      <td>29</td>\n",
       "      <td>0.001328</td>\n",
       "      <td>6</td>\n",
       "      <td>0.0</td>\n",
       "      <td>0.0</td>\n",
       "    </tr>\n",
       "  </tbody>\n",
       "</table>\n",
       "</div>"
      ],
      "text/plain": [
       "      GameID  LeagueIndex  Age  HoursPerWeek  TotalHours       APM  \\\n",
       "1792    5140            5   18            24     1000000  281.4246   \n",
       "\n",
       "      SelectByHotkeys  AssignToHotkeys  UniqueHotkeys  MinimapAttacks  \\\n",
       "1792         0.023428         0.000799              5        0.000041   \n",
       "\n",
       "      MinimapRightClicks  NumberOfPACs  GapBetweenPACs  ActionLatency  \\\n",
       "1792            0.000447      0.005136         28.1164        36.1266   \n",
       "\n",
       "      ActionsInPAC  TotalMapExplored  WorkersMade  UniqueUnitsMade  \\\n",
       "1792        5.8522                29     0.001328                6   \n",
       "\n",
       "      ComplexUnitsMade  ComplexAbilitiesUsed  \n",
       "1792               0.0                   0.0  "
      ]
     },
     "execution_count": 146,
     "metadata": {},
     "output_type": "execute_result"
    }
   ],
   "source": [
    "### taking a closer look \n",
    "\n",
    "df[df['TotalHours'] == 1000000]"
   ]
  },
  {
   "cell_type": "markdown",
   "metadata": {},
   "source": [
    "### Grab Features + Train Test Split"
   ]
  },
  {
   "cell_type": "code",
   "execution_count": 85,
   "metadata": {},
   "outputs": [],
   "source": [
    "X = df.drop(['GameID', 'TotalHours'], axis=1) \n",
    "y = df['TotalHours']"
   ]
  },
  {
   "cell_type": "code",
   "execution_count": 93,
   "metadata": {},
   "outputs": [],
   "source": [
    "sc = StandardScaler()\n",
    "\n",
    "X_train, X_holdout, y_train, y_holdout = \\\n",
    "train_test_split(X, y, random_state=78701)\n",
    "\n",
    "X_train_sc = pd.DataFrame(sc.fit_transform(X_train), \\\n",
    "                          columns=X.columns)\n",
    "X_holdout_sc = pd.DataFrame(sc.fit_transform(X_holdout), \\\n",
    "                        columns=X.columns)\n"
   ]
  },
  {
   "cell_type": "markdown",
   "metadata": {},
   "source": [
    "### Regular Ridge + RidgeCV"
   ]
  },
  {
   "cell_type": "code",
   "execution_count": 154,
   "metadata": {},
   "outputs": [
    {
     "data": {
      "image/png": "[encoded data removed]",
      "text/plain": [
       "<Figure size 432x288 with 1 Axes>"
      ]
     },
     "metadata": {
      "needs_background": "light"
     },
     "output_type": "display_data"
    }
   ],
   "source": [
    "### data is highly skewed - let's log transform it to make it more normal\n",
    "\n",
    "fig , ax = plt.subplots()\n",
    "\n",
    "ax.hist(y_holdout);"
   ]
  },
  {
   "cell_type": "code",
   "execution_count": 155,
   "metadata": {},
   "outputs": [
    {
     "data": {
      "image/png": "[encoded data removed]",
      "text/plain": [
       "<Figure size 432x288 with 1 Axes>"
      ]
     },
     "metadata": {
      "needs_background": "light"
     },
     "output_type": "display_data"
    }
   ],
   "source": [
    "### much better \n",
    "\n",
    "y_train_transformed = np.log1p(y_train)\n",
    "\n",
    "fig , ax = plt.subplots()\n",
    "\n",
    "ax.hist(y_train_transformed);\n"
   ]
  },
  {
   "cell_type": "code",
   "execution_count": 156,
   "metadata": {},
   "outputs": [],
   "source": [
    "ridge = Ridge()\n",
    "\n",
    "ridge.fit(X_train_sc, y_train_transformed)\n",
    "\n",
    "predictions = ridge.predict(X_holdout_sc)"
   ]
  },
  {
   "cell_type": "code",
   "execution_count": 157,
   "metadata": {},
   "outputs": [
    {
     "data": {
      "text/plain": [
       "202      800\n",
       "708      300\n",
       "1352     100\n",
       "1010     500\n",
       "537     1000\n",
       "Name: TotalHours, dtype: int64"
      ]
     },
     "execution_count": 157,
     "metadata": {},
     "output_type": "execute_result"
    }
   ],
   "source": [
    "y_holdout.head()"
   ]
  },
  {
   "cell_type": "code",
   "execution_count": 158,
   "metadata": {},
   "outputs": [
    {
     "data": {
      "text/plain": [
       "-0.9654370195598629"
      ]
     },
     "execution_count": 158,
     "metadata": {},
     "output_type": "execute_result"
    }
   ],
   "source": [
    "r2_score(y_holdout, predictions)"
   ]
  },
  {
   "cell_type": "code",
   "execution_count": 159,
   "metadata": {},
   "outputs": [],
   "source": [
    "predictions_clean = np.expm1(predictions)"
   ]
  },
  {
   "cell_type": "code",
   "execution_count": 160,
   "metadata": {},
   "outputs": [
    {
     "data": {
      "text/plain": [
       "-0.2227724007450349"
      ]
     },
     "execution_count": 160,
     "metadata": {},
     "output_type": "execute_result"
    }
   ],
   "source": [
    "r2_score(y_holdout, predictions_clean)"
   ]
  },
  {
   "cell_type": "code",
   "execution_count": null,
   "metadata": {},
   "outputs": [],
   "source": []
  },
  {
   "cell_type": "code",
   "execution_count": 161,
   "metadata": {},
   "outputs": [
    {
     "data": {
      "image/png": "[encoded data removed]",
      "text/plain": [
       "<Figure size 432x288 with 1 Axes>"
      ]
     },
     "metadata": {
      "needs_background": "light"
     },
     "output_type": "display_data"
    }
   ],
   "source": [
    "import matplotlib.pyplot as plt \n",
    "\n",
    "fig , ax = plt.subplots()\n",
    "\n",
    "ax.scatter(predictions_clean, y_holdout - predictions_clean);\n",
    "#ax.plot([0, 1000], [0, 1000]); "
   ]
  },
  {
   "cell_type": "code",
   "execution_count": 162,
   "metadata": {},
   "outputs": [
    {
     "data": {
      "text/plain": [
       "<matplotlib.axes._subplots.AxesSubplot at 0x1a2a5f9990>"
      ]
     },
     "execution_count": 162,
     "metadata": {},
     "output_type": "execute_result"
    },
    {
     "data": {
      "image/png": "[encoded data removed]",
      "text/plain": [
       "<Figure size 432x288 with 1 Axes>"
      ]
     },
     "metadata": {
      "needs_background": "light"
     },
     "output_type": "display_data"
    }
   ],
   "source": [
    "### league index seems to be mattering \n",
    "\n",
    "df.groupby('LeagueIndex')['TotalHours'].mean().plot.bar()"
   ]
  },
  {
   "cell_type": "markdown",
   "metadata": {},
   "source": [
    "### Examine Coefficients"
   ]
  },
  {
   "cell_type": "code",
   "execution_count": 165,
   "metadata": {},
   "outputs": [
    {
     "data": {
      "image/png": "[encoded data removed]",
      "text/plain": [
       "<Figure size 432x288 with 1 Axes>"
      ]
     },
     "metadata": {
      "needs_background": "light"
     },
     "output_type": "display_data"
    }
   ],
   "source": [
    "### let's take a look at the largest coefficients - LeagueIndex the most import variable to my model \n",
    "\n",
    "df_coef = pd.DataFrame(ridge.coef_, index=X.columns) \n",
    "\n",
    "df_coef['abs'] = df_coef[0].abs()\n",
    "df_coef.sort_values('abs')[0].tail(10).plot.barh();"
   ]
  }
 ],
 "metadata": {
  "kernelspec": {
   "display_name": "Python 3",
   "language": "python",
   "name": "python3"
  },
  "language_info": {
   "codemirror_mode": {
    "name": "ipython",
    "version": 3
   },
   "file_extension": ".py",
   "mimetype": "text/x-python",
   "name": "python",
   "nbconvert_exporter": "python",
   "pygments_lexer": "ipython3",
   "version": "3.6.9"
  }
 },
 "nbformat": 4,
 "nbformat_minor": 2
}
