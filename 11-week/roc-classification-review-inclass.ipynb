{
 "cells": [
  {
   "cell_type": "markdown",
   "metadata": {},
   "source": [
    "### Building a ROC Curve \n",
    "---"
   ]
  },
  {
   "cell_type": "code",
   "execution_count": 1,
   "metadata": {},
   "outputs": [],
   "source": [
    "import pandas as pd \n",
    "import numpy as np \n",
    "import matplotlib.pyplot as plt \n",
    "from sklearn.neighbors import KNeighborsClassifier\n",
    "from sklearn.linear_model import LogisticRegression\n",
    "from sklearn.metrics import confusion_matrix, classification_report, accuracy_score\n",
    "from sklearn.model_selection import train_test_split\n",
    "from sklearn.datasets import load_breast_cancer\n",
    "\n",
    "%matplotlib inline "
   ]
  },
  {
   "cell_type": "code",
   "execution_count": 2,
   "metadata": {},
   "outputs": [],
   "source": [
    "data = load_breast_cancer()"
   ]
  },
  {
   "cell_type": "code",
   "execution_count": 3,
   "metadata": {},
   "outputs": [],
   "source": [
    "X = pd.DataFrame(data.data, columns=data.feature_names)\n",
    "y = 1 - data.target"
   ]
  },
  {
   "cell_type": "markdown",
   "metadata": {},
   "source": [
    "### Let's work towards plotting a ROC Curve once "
   ]
  },
  {
   "cell_type": "code",
   "execution_count": 8,
   "metadata": {},
   "outputs": [],
   "source": [
    "X_train , X_test, y_train, y_test = train_test_split(X,y, random_state=23)"
   ]
  },
  {
   "cell_type": "code",
   "execution_count": 33,
   "metadata": {},
   "outputs": [
    {
     "data": {
      "text/plain": [
       "LogisticRegression(C=1.0, class_weight=None, dual=False, fit_intercept=True,\n",
       "                   intercept_scaling=1, l1_ratio=None, max_iter=10000,\n",
       "                   multi_class='warn', n_jobs=None, penalty='l2',\n",
       "                   random_state=None, solver='lbfgs', tol=0.0001, verbose=0,\n",
       "                   warm_start=False)"
      ]
     },
     "execution_count": 33,
     "metadata": {},
     "output_type": "execute_result"
    }
   ],
   "source": [
    "lr = LogisticRegression(solver = 'lbfgs', max_iter=10000)\n",
    "\n",
    "lr.fit(X_train, y_train)"
   ]
  },
  {
   "cell_type": "markdown",
   "metadata": {},
   "source": [
    "### Take a look at our predictions - can we calculate the TPR and FPR for the threshold value of .5? \n",
    "\n",
    "### Remember \n",
    "---\n",
    "### TPR = TP / (TP + FN) \n",
    "\n",
    "### FPR = FP / (FP + TN)\n",
    "\n",
    "### Can you use `.zip()` here?"
   ]
  },
  {
   "cell_type": "code",
   "execution_count": 10,
   "metadata": {},
   "outputs": [],
   "source": [
    "preds= lr.predict(X_test)\n",
    "\n"
   ]
  },
  {
   "cell_type": "code",
   "execution_count": 14,
   "metadata": {},
   "outputs": [
    {
     "data": {
      "text/plain": [
       "0.965034965034965"
      ]
     },
     "execution_count": 14,
     "metadata": {},
     "output_type": "execute_result"
    }
   ],
   "source": [
    "(y_test == preds).mean()"
   ]
  },
  {
   "cell_type": "code",
   "execution_count": 17,
   "metadata": {},
   "outputs": [
    {
     "data": {
      "text/plain": [
       "138"
      ]
     },
     "execution_count": 17,
     "metadata": {},
     "output_type": "execute_result"
    }
   ],
   "source": [
    "(y_test == preds).sum()"
   ]
  },
  {
   "cell_type": "code",
   "execution_count": 23,
   "metadata": {
    "scrolled": true
   },
   "outputs": [
    {
     "data": {
      "text/plain": [
       "0.965034965034965"
      ]
     },
     "execution_count": 23,
     "metadata": {},
     "output_type": "execute_result"
    }
   ],
   "source": [
    "results = []\n",
    "for actual, prediction in zip(y_test, preds):\n",
    "    if actual == prediction:\n",
    "        results.append(1)\n",
    "    else:\n",
    "        results.append(0)\n",
    "        \n",
    "sum(results) / len(results)"
   ]
  },
  {
   "cell_type": "code",
   "execution_count": 16,
   "metadata": {},
   "outputs": [
    {
     "data": {
      "text/plain": [
       "143"
      ]
     },
     "execution_count": 16,
     "metadata": {},
     "output_type": "execute_result"
    }
   ],
   "source": [
    "len(preds)"
   ]
  },
  {
   "cell_type": "code",
   "execution_count": 24,
   "metadata": {},
   "outputs": [
    {
     "data": {
      "text/plain": [
       "array([0, 0, 1, 0, 1, 1, 1, 0, 0, 1, 1, 0, 0, 0, 0, 0, 0, 0, 1, 0, 0, 0,\n",
       "       1, 0, 1, 0, 0, 0, 0, 1, 0, 1, 1, 0, 0, 0, 0, 0, 0, 0, 0, 0, 0, 1,\n",
       "       1, 0, 0, 0, 0, 0, 1, 0, 1, 0, 1, 1, 0, 1, 0, 0, 0, 1, 1, 0, 0, 0,\n",
       "       0, 0, 0, 1, 1, 1, 0, 0, 0, 0, 1, 0, 0, 0, 0, 1, 0, 0, 0, 1, 0, 1,\n",
       "       0, 1, 1, 1, 1, 0, 0, 1, 1, 0, 0, 1, 1, 0, 0, 0, 0, 1, 0, 0, 0, 1,\n",
       "       0, 0, 0, 1, 0, 1, 0, 0, 0, 0, 0, 0, 1, 0, 0, 0, 0, 0, 1, 0, 1, 0,\n",
       "       0, 0, 0, 1, 0, 1, 1, 0, 1, 0, 1])"
      ]
     },
     "execution_count": 24,
     "metadata": {},
     "output_type": "execute_result"
    }
   ],
   "source": [
    "y_test"
   ]
  },
  {
   "cell_type": "code",
   "execution_count": 11,
   "metadata": {},
   "outputs": [
    {
     "data": {
      "text/plain": [
       "array([0, 0, 1, 0, 1, 1, 1, 0, 0, 1, 1, 0, 0, 0, 0, 0, 0, 0, 1, 0, 0, 0,\n",
       "       1, 0, 1, 0, 0, 0, 0, 0, 0, 1, 1, 0, 0, 0, 0, 0, 0, 0, 0, 0, 0, 0,\n",
       "       0, 0, 0, 0, 0, 0, 1, 0, 1, 0, 1, 1, 0, 1, 0, 0, 0, 1, 1, 0, 0, 0,\n",
       "       0, 0, 0, 1, 1, 1, 0, 0, 0, 0, 1, 0, 0, 0, 0, 1, 0, 0, 0, 1, 0, 1,\n",
       "       1, 1, 1, 1, 1, 0, 0, 1, 1, 0, 0, 1, 1, 0, 0, 0, 0, 1, 0, 0, 0, 1,\n",
       "       0, 0, 0, 1, 0, 1, 0, 0, 0, 0, 0, 0, 1, 0, 0, 0, 0, 0, 0, 0, 1, 0,\n",
       "       0, 0, 0, 1, 0, 1, 1, 0, 1, 0, 1])"
      ]
     },
     "execution_count": 11,
     "metadata": {},
     "output_type": "execute_result"
    }
   ],
   "source": [
    "preds"
   ]
  },
  {
   "cell_type": "code",
   "execution_count": 34,
   "metadata": {},
   "outputs": [],
   "source": [
    "tn, fp, fn, tp = confusion_matrix(y_test, preds).ravel()"
   ]
  },
  {
   "cell_type": "code",
   "execution_count": 35,
   "metadata": {},
   "outputs": [
    {
     "data": {
      "text/plain": [
       "1"
      ]
     },
     "execution_count": 35,
     "metadata": {},
     "output_type": "execute_result"
    }
   ],
   "source": [
    "fp"
   ]
  },
  {
   "cell_type": "code",
   "execution_count": 28,
   "metadata": {},
   "outputs": [],
   "source": [
    "true_pos = 0\n",
    "false_pos = 0\n",
    "true_neg = 0\n",
    "false_neg = 0\n",
    "for actual, prediction in zip(y_test, preds):\n",
    "    if (actual == 1) & (prediction == 1):\n",
    "        true_pos += 1\n",
    "    elif (actual == 0) & (prediction == 1):\n",
    "        false_pos += 1 \n",
    "    elif (actual == 0) & (prediction == 0):\n",
    "        true_neg += 1\n",
    "    elif (actual == 1) & (prediction == 0):\n",
    "        false_neg += 1\n",
    "tpr = true_pos/(true_pos+false_neg)\n",
    "fpr = false_pos/(false_pos+true_neg)"
   ]
  },
  {
   "cell_type": "code",
   "execution_count": 29,
   "metadata": {},
   "outputs": [
    {
     "data": {
      "text/plain": [
       "0.9166666666666666"
      ]
     },
     "execution_count": 29,
     "metadata": {},
     "output_type": "execute_result"
    }
   ],
   "source": [
    "tpr"
   ]
  },
  {
   "cell_type": "code",
   "execution_count": 30,
   "metadata": {},
   "outputs": [
    {
     "data": {
      "text/plain": [
       "0.010526315789473684"
      ]
     },
     "execution_count": 30,
     "metadata": {},
     "output_type": "execute_result"
    }
   ],
   "source": [
    "fpr"
   ]
  },
  {
   "cell_type": "code",
   "execution_count": 39,
   "metadata": {},
   "outputs": [
    {
     "data": {
      "text/plain": [
       "array([0, 1, 1, 0, 1, 1, 1, 0, 0, 1, 1, 0, 0, 0, 0, 0, 0, 0, 1, 0, 0, 0,\n",
       "       1, 0, 0, 0, 0, 0, 0, 0, 0, 1, 1, 0, 0, 0, 0, 0, 0, 0, 0, 0, 0, 1,\n",
       "       1, 0, 0, 0, 0, 0, 1, 0, 1, 0, 1, 1, 0, 1, 0, 0, 0, 1, 1, 0, 0, 0,\n",
       "       0, 0, 0, 1, 1, 1, 0, 0, 0, 0, 1, 0, 0, 0, 0, 1, 0, 0, 0, 1, 0, 1,\n",
       "       0, 1, 1, 1, 0, 0, 0, 1, 1, 0, 0, 1, 1, 0, 0, 0, 0, 1, 0, 0, 0, 1,\n",
       "       0, 0, 0, 1, 0, 1, 0, 1, 0, 0, 0, 0, 1, 0, 0, 0, 0, 0, 1, 0, 1, 0,\n",
       "       0, 0, 0, 0, 0, 1, 1, 0, 1, 0, 1])"
      ]
     },
     "execution_count": 39,
     "metadata": {},
     "output_type": "execute_result"
    }
   ],
   "source": [
    "lr.predict(X_test)"
   ]
  },
  {
   "cell_type": "code",
   "execution_count": 51,
   "metadata": {},
   "outputs": [],
   "source": [
    "thresholds = np.linspace(0, 1.0001, 1000)"
   ]
  },
  {
   "cell_type": "code",
   "execution_count": 52,
   "metadata": {},
   "outputs": [
    {
     "data": {
      "text/plain": [
       "array([0.        , 0.0010011 , 0.0020022 , 0.0030033 , 0.0040044 ,\n",
       "       0.00500551, 0.00600661, 0.00700771, 0.00800881, 0.00900991,\n",
       "       0.01001101, 0.01101211, 0.01201321, 0.01301431, 0.01401542,\n",
       "       0.01501652, 0.01601762, 0.01701872, 0.01801982, 0.01902092,\n",
       "       0.02002202, 0.02102312, 0.02202422, 0.02302533, 0.02402643,\n",
       "       0.02502753, 0.02602863, 0.02702973, 0.02803083, 0.02903193,\n",
       "       0.03003303, 0.03103413, 0.03203524, 0.03303634, 0.03403744,\n",
       "       0.03503854, 0.03603964, 0.03704074, 0.03804184, 0.03904294,\n",
       "       0.04004404, 0.04104515, 0.04204625, 0.04304735, 0.04404845,\n",
       "       0.04504955, 0.04605065, 0.04705175, 0.04805285, 0.04905395,\n",
       "       0.05005506, 0.05105616, 0.05205726, 0.05305836, 0.05405946,\n",
       "       0.05506056, 0.05606166, 0.05706276, 0.05806386, 0.05906496,\n",
       "       0.06006607, 0.06106717, 0.06206827, 0.06306937, 0.06407047,\n",
       "       0.06507157, 0.06607267, 0.06707377, 0.06807487, 0.06907598,\n",
       "       0.07007708, 0.07107818, 0.07207928, 0.07308038, 0.07408148,\n",
       "       0.07508258, 0.07608368, 0.07708478, 0.07808589, 0.07908699,\n",
       "       0.08008809, 0.08108919, 0.08209029, 0.08309139, 0.08409249,\n",
       "       0.08509359, 0.08609469, 0.0870958 , 0.0880969 , 0.089098  ,\n",
       "       0.0900991 , 0.0911002 , 0.0921013 , 0.0931024 , 0.0941035 ,\n",
       "       0.0951046 , 0.09610571, 0.09710681, 0.09810791, 0.09910901,\n",
       "       0.10011011, 0.10111121, 0.10211231, 0.10311341, 0.10411451,\n",
       "       0.10511562, 0.10611672, 0.10711782, 0.10811892, 0.10912002,\n",
       "       0.11012112, 0.11112222, 0.11212332, 0.11312442, 0.11412553,\n",
       "       0.11512663, 0.11612773, 0.11712883, 0.11812993, 0.11913103,\n",
       "       0.12013213, 0.12113323, 0.12213433, 0.12313544, 0.12413654,\n",
       "       0.12513764, 0.12613874, 0.12713984, 0.12814094, 0.12914204,\n",
       "       0.13014314, 0.13114424, 0.13214535, 0.13314645, 0.13414755,\n",
       "       0.13514865, 0.13614975, 0.13715085, 0.13815195, 0.13915305,\n",
       "       0.14015415, 0.14115526, 0.14215636, 0.14315746, 0.14415856,\n",
       "       0.14515966, 0.14616076, 0.14716186, 0.14816296, 0.14916406,\n",
       "       0.15016517, 0.15116627, 0.15216737, 0.15316847, 0.15416957,\n",
       "       0.15517067, 0.15617177, 0.15717287, 0.15817397, 0.15917508,\n",
       "       0.16017618, 0.16117728, 0.16217838, 0.16317948, 0.16418058,\n",
       "       0.16518168, 0.16618278, 0.16718388, 0.16818498, 0.16918609,\n",
       "       0.17018719, 0.17118829, 0.17218939, 0.17319049, 0.17419159,\n",
       "       0.17519269, 0.17619379, 0.17719489, 0.178196  , 0.1791971 ,\n",
       "       0.1801982 , 0.1811993 , 0.1822004 , 0.1832015 , 0.1842026 ,\n",
       "       0.1852037 , 0.1862048 , 0.18720591, 0.18820701, 0.18920811,\n",
       "       0.19020921, 0.19121031, 0.19221141, 0.19321251, 0.19421361,\n",
       "       0.19521471, 0.19621582, 0.19721692, 0.19821802, 0.19921912,\n",
       "       0.20022022, 0.20122132, 0.20222242, 0.20322352, 0.20422462,\n",
       "       0.20522573, 0.20622683, 0.20722793, 0.20822903, 0.20923013,\n",
       "       0.21023123, 0.21123233, 0.21223343, 0.21323453, 0.21423564,\n",
       "       0.21523674, 0.21623784, 0.21723894, 0.21824004, 0.21924114,\n",
       "       0.22024224, 0.22124334, 0.22224444, 0.22324555, 0.22424665,\n",
       "       0.22524775, 0.22624885, 0.22724995, 0.22825105, 0.22925215,\n",
       "       0.23025325, 0.23125435, 0.23225546, 0.23325656, 0.23425766,\n",
       "       0.23525876, 0.23625986, 0.23726096, 0.23826206, 0.23926316,\n",
       "       0.24026426, 0.24126537, 0.24226647, 0.24326757, 0.24426867,\n",
       "       0.24526977, 0.24627087, 0.24727197, 0.24827307, 0.24927417,\n",
       "       0.25027528, 0.25127638, 0.25227748, 0.25327858, 0.25427968,\n",
       "       0.25528078, 0.25628188, 0.25728298, 0.25828408, 0.25928519,\n",
       "       0.26028629, 0.26128739, 0.26228849, 0.26328959, 0.26429069,\n",
       "       0.26529179, 0.26629289, 0.26729399, 0.2682951 , 0.2692962 ,\n",
       "       0.2702973 , 0.2712984 , 0.2722995 , 0.2733006 , 0.2743017 ,\n",
       "       0.2753028 , 0.2763039 , 0.27730501, 0.27830611, 0.27930721,\n",
       "       0.28030831, 0.28130941, 0.28231051, 0.28331161, 0.28431271,\n",
       "       0.28531381, 0.28631491, 0.28731602, 0.28831712, 0.28931822,\n",
       "       0.29031932, 0.29132042, 0.29232152, 0.29332262, 0.29432372,\n",
       "       0.29532482, 0.29632593, 0.29732703, 0.29832813, 0.29932923,\n",
       "       0.30033033, 0.30133143, 0.30233253, 0.30333363, 0.30433473,\n",
       "       0.30533584, 0.30633694, 0.30733804, 0.30833914, 0.30934024,\n",
       "       0.31034134, 0.31134244, 0.31234354, 0.31334464, 0.31434575,\n",
       "       0.31534685, 0.31634795, 0.31734905, 0.31835015, 0.31935125,\n",
       "       0.32035235, 0.32135345, 0.32235455, 0.32335566, 0.32435676,\n",
       "       0.32535786, 0.32635896, 0.32736006, 0.32836116, 0.32936226,\n",
       "       0.33036336, 0.33136446, 0.33236557, 0.33336667, 0.33436777,\n",
       "       0.33536887, 0.33636997, 0.33737107, 0.33837217, 0.33937327,\n",
       "       0.34037437, 0.34137548, 0.34237658, 0.34337768, 0.34437878,\n",
       "       0.34537988, 0.34638098, 0.34738208, 0.34838318, 0.34938428,\n",
       "       0.35038539, 0.35138649, 0.35238759, 0.35338869, 0.35438979,\n",
       "       0.35539089, 0.35639199, 0.35739309, 0.35839419, 0.3593953 ,\n",
       "       0.3603964 , 0.3613975 , 0.3623986 , 0.3633997 , 0.3644008 ,\n",
       "       0.3654019 , 0.366403  , 0.3674041 , 0.36840521, 0.36940631,\n",
       "       0.37040741, 0.37140851, 0.37240961, 0.37341071, 0.37441181,\n",
       "       0.37541291, 0.37641401, 0.37741512, 0.37841622, 0.37941732,\n",
       "       0.38041842, 0.38141952, 0.38242062, 0.38342172, 0.38442282,\n",
       "       0.38542392, 0.38642503, 0.38742613, 0.38842723, 0.38942833,\n",
       "       0.39042943, 0.39143053, 0.39243163, 0.39343273, 0.39443383,\n",
       "       0.39543493, 0.39643604, 0.39743714, 0.39843824, 0.39943934,\n",
       "       0.40044044, 0.40144154, 0.40244264, 0.40344374, 0.40444484,\n",
       "       0.40544595, 0.40644705, 0.40744815, 0.40844925, 0.40945035,\n",
       "       0.41045145, 0.41145255, 0.41245365, 0.41345475, 0.41445586,\n",
       "       0.41545696, 0.41645806, 0.41745916, 0.41846026, 0.41946136,\n",
       "       0.42046246, 0.42146356, 0.42246466, 0.42346577, 0.42446687,\n",
       "       0.42546797, 0.42646907, 0.42747017, 0.42847127, 0.42947237,\n",
       "       0.43047347, 0.43147457, 0.43247568, 0.43347678, 0.43447788,\n",
       "       0.43547898, 0.43648008, 0.43748118, 0.43848228, 0.43948338,\n",
       "       0.44048448, 0.44148559, 0.44248669, 0.44348779, 0.44448889,\n",
       "       0.44548999, 0.44649109, 0.44749219, 0.44849329, 0.44949439,\n",
       "       0.4504955 , 0.4514966 , 0.4524977 , 0.4534988 , 0.4544999 ,\n",
       "       0.455501  , 0.4565021 , 0.4575032 , 0.4585043 , 0.45950541,\n",
       "       0.46050651, 0.46150761, 0.46250871, 0.46350981, 0.46451091,\n",
       "       0.46551201, 0.46651311, 0.46751421, 0.46851532, 0.46951642,\n",
       "       0.47051752, 0.47151862, 0.47251972, 0.47352082, 0.47452192,\n",
       "       0.47552302, 0.47652412, 0.47752523, 0.47852633, 0.47952743,\n",
       "       0.48052853, 0.48152963, 0.48253073, 0.48353183, 0.48453293,\n",
       "       0.48553403, 0.48653514, 0.48753624, 0.48853734, 0.48953844,\n",
       "       0.49053954, 0.49154064, 0.49254174, 0.49354284, 0.49454394,\n",
       "       0.49554505, 0.49654615, 0.49754725, 0.49854835, 0.49954945,\n",
       "       0.50055055, 0.50155165, 0.50255275, 0.50355385, 0.50455495,\n",
       "       0.50555606, 0.50655716, 0.50755826, 0.50855936, 0.50956046,\n",
       "       0.51056156, 0.51156266, 0.51256376, 0.51356486, 0.51456597,\n",
       "       0.51556707, 0.51656817, 0.51756927, 0.51857037, 0.51957147,\n",
       "       0.52057257, 0.52157367, 0.52257477, 0.52357588, 0.52457698,\n",
       "       0.52557808, 0.52657918, 0.52758028, 0.52858138, 0.52958248,\n",
       "       0.53058358, 0.53158468, 0.53258579, 0.53358689, 0.53458799,\n",
       "       0.53558909, 0.53659019, 0.53759129, 0.53859239, 0.53959349,\n",
       "       0.54059459, 0.5415957 , 0.5425968 , 0.5435979 , 0.544599  ,\n",
       "       0.5456001 , 0.5466012 , 0.5476023 , 0.5486034 , 0.5496045 ,\n",
       "       0.55060561, 0.55160671, 0.55260781, 0.55360891, 0.55461001,\n",
       "       0.55561111, 0.55661221, 0.55761331, 0.55861441, 0.55961552,\n",
       "       0.56061662, 0.56161772, 0.56261882, 0.56361992, 0.56462102,\n",
       "       0.56562212, 0.56662322, 0.56762432, 0.56862543, 0.56962653,\n",
       "       0.57062763, 0.57162873, 0.57262983, 0.57363093, 0.57463203,\n",
       "       0.57563313, 0.57663423, 0.57763534, 0.57863644, 0.57963754,\n",
       "       0.58063864, 0.58163974, 0.58264084, 0.58364194, 0.58464304,\n",
       "       0.58564414, 0.58664525, 0.58764635, 0.58864745, 0.58964855,\n",
       "       0.59064965, 0.59165075, 0.59265185, 0.59365295, 0.59465405,\n",
       "       0.59565516, 0.59665626, 0.59765736, 0.59865846, 0.59965956,\n",
       "       0.60066066, 0.60166176, 0.60266286, 0.60366396, 0.60466507,\n",
       "       0.60566617, 0.60666727, 0.60766837, 0.60866947, 0.60967057,\n",
       "       0.61067167, 0.61167277, 0.61267387, 0.61367497, 0.61467608,\n",
       "       0.61567718, 0.61667828, 0.61767938, 0.61868048, 0.61968158,\n",
       "       0.62068268, 0.62168378, 0.62268488, 0.62368599, 0.62468709,\n",
       "       0.62568819, 0.62668929, 0.62769039, 0.62869149, 0.62969259,\n",
       "       0.63069369, 0.63169479, 0.6326959 , 0.633697  , 0.6346981 ,\n",
       "       0.6356992 , 0.6367003 , 0.6377014 , 0.6387025 , 0.6397036 ,\n",
       "       0.6407047 , 0.64170581, 0.64270691, 0.64370801, 0.64470911,\n",
       "       0.64571021, 0.64671131, 0.64771241, 0.64871351, 0.64971461,\n",
       "       0.65071572, 0.65171682, 0.65271792, 0.65371902, 0.65472012,\n",
       "       0.65572122, 0.65672232, 0.65772342, 0.65872452, 0.65972563,\n",
       "       0.66072673, 0.66172783, 0.66272893, 0.66373003, 0.66473113,\n",
       "       0.66573223, 0.66673333, 0.66773443, 0.66873554, 0.66973664,\n",
       "       0.67073774, 0.67173884, 0.67273994, 0.67374104, 0.67474214,\n",
       "       0.67574324, 0.67674434, 0.67774545, 0.67874655, 0.67974765,\n",
       "       0.68074875, 0.68174985, 0.68275095, 0.68375205, 0.68475315,\n",
       "       0.68575425, 0.68675536, 0.68775646, 0.68875756, 0.68975866,\n",
       "       0.69075976, 0.69176086, 0.69276196, 0.69376306, 0.69476416,\n",
       "       0.69576527, 0.69676637, 0.69776747, 0.69876857, 0.69976967,\n",
       "       0.70077077, 0.70177187, 0.70277297, 0.70377407, 0.70477518,\n",
       "       0.70577628, 0.70677738, 0.70777848, 0.70877958, 0.70978068,\n",
       "       0.71078178, 0.71178288, 0.71278398, 0.71378509, 0.71478619,\n",
       "       0.71578729, 0.71678839, 0.71778949, 0.71879059, 0.71979169,\n",
       "       0.72079279, 0.72179389, 0.72279499, 0.7237961 , 0.7247972 ,\n",
       "       0.7257983 , 0.7267994 , 0.7278005 , 0.7288016 , 0.7298027 ,\n",
       "       0.7308038 , 0.7318049 , 0.73280601, 0.73380711, 0.73480821,\n",
       "       0.73580931, 0.73681041, 0.73781151, 0.73881261, 0.73981371,\n",
       "       0.74081481, 0.74181592, 0.74281702, 0.74381812, 0.74481922,\n",
       "       0.74582032, 0.74682142, 0.74782252, 0.74882362, 0.74982472,\n",
       "       0.75082583, 0.75182693, 0.75282803, 0.75382913, 0.75483023,\n",
       "       0.75583133, 0.75683243, 0.75783353, 0.75883463, 0.75983574,\n",
       "       0.76083684, 0.76183794, 0.76283904, 0.76384014, 0.76484124,\n",
       "       0.76584234, 0.76684344, 0.76784454, 0.76884565, 0.76984675,\n",
       "       0.77084785, 0.77184895, 0.77285005, 0.77385115, 0.77485225,\n",
       "       0.77585335, 0.77685445, 0.77785556, 0.77885666, 0.77985776,\n",
       "       0.78085886, 0.78185996, 0.78286106, 0.78386216, 0.78486326,\n",
       "       0.78586436, 0.78686547, 0.78786657, 0.78886767, 0.78986877,\n",
       "       0.79086987, 0.79187097, 0.79287207, 0.79387317, 0.79487427,\n",
       "       0.79587538, 0.79687648, 0.79787758, 0.79887868, 0.79987978,\n",
       "       0.80088088, 0.80188198, 0.80288308, 0.80388418, 0.80488529,\n",
       "       0.80588639, 0.80688749, 0.80788859, 0.80888969, 0.80989079,\n",
       "       0.81089189, 0.81189299, 0.81289409, 0.8138952 , 0.8148963 ,\n",
       "       0.8158974 , 0.8168985 , 0.8178996 , 0.8189007 , 0.8199018 ,\n",
       "       0.8209029 , 0.821904  , 0.82290511, 0.82390621, 0.82490731,\n",
       "       0.82590841, 0.82690951, 0.82791061, 0.82891171, 0.82991281,\n",
       "       0.83091391, 0.83191502, 0.83291612, 0.83391722, 0.83491832,\n",
       "       0.83591942, 0.83692052, 0.83792162, 0.83892272, 0.83992382,\n",
       "       0.84092492, 0.84192603, 0.84292713, 0.84392823, 0.84492933,\n",
       "       0.84593043, 0.84693153, 0.84793263, 0.84893373, 0.84993483,\n",
       "       0.85093594, 0.85193704, 0.85293814, 0.85393924, 0.85494034,\n",
       "       0.85594144, 0.85694254, 0.85794364, 0.85894474, 0.85994585,\n",
       "       0.86094695, 0.86194805, 0.86294915, 0.86395025, 0.86495135,\n",
       "       0.86595245, 0.86695355, 0.86795465, 0.86895576, 0.86995686,\n",
       "       0.87095796, 0.87195906, 0.87296016, 0.87396126, 0.87496236,\n",
       "       0.87596346, 0.87696456, 0.87796567, 0.87896677, 0.87996787,\n",
       "       0.88096897, 0.88197007, 0.88297117, 0.88397227, 0.88497337,\n",
       "       0.88597447, 0.88697558, 0.88797668, 0.88897778, 0.88997888,\n",
       "       0.89097998, 0.89198108, 0.89298218, 0.89398328, 0.89498438,\n",
       "       0.89598549, 0.89698659, 0.89798769, 0.89898879, 0.89998989,\n",
       "       0.90099099, 0.90199209, 0.90299319, 0.90399429, 0.9049954 ,\n",
       "       0.9059965 , 0.9069976 , 0.9079987 , 0.9089998 , 0.9100009 ,\n",
       "       0.911002  , 0.9120031 , 0.9130042 , 0.91400531, 0.91500641,\n",
       "       0.91600751, 0.91700861, 0.91800971, 0.91901081, 0.92001191,\n",
       "       0.92101301, 0.92201411, 0.92301522, 0.92401632, 0.92501742,\n",
       "       0.92601852, 0.92701962, 0.92802072, 0.92902182, 0.93002292,\n",
       "       0.93102402, 0.93202513, 0.93302623, 0.93402733, 0.93502843,\n",
       "       0.93602953, 0.93703063, 0.93803173, 0.93903283, 0.94003393,\n",
       "       0.94103504, 0.94203614, 0.94303724, 0.94403834, 0.94503944,\n",
       "       0.94604054, 0.94704164, 0.94804274, 0.94904384, 0.95004494,\n",
       "       0.95104605, 0.95204715, 0.95304825, 0.95404935, 0.95505045,\n",
       "       0.95605155, 0.95705265, 0.95805375, 0.95905485, 0.96005596,\n",
       "       0.96105706, 0.96205816, 0.96305926, 0.96406036, 0.96506146,\n",
       "       0.96606256, 0.96706366, 0.96806476, 0.96906587, 0.97006697,\n",
       "       0.97106807, 0.97206917, 0.97307027, 0.97407137, 0.97507247,\n",
       "       0.97607357, 0.97707467, 0.97807578, 0.97907688, 0.98007798,\n",
       "       0.98107908, 0.98208018, 0.98308128, 0.98408238, 0.98508348,\n",
       "       0.98608458, 0.98708569, 0.98808679, 0.98908789, 0.99008899,\n",
       "       0.99109009, 0.99209119, 0.99309229, 0.99409339, 0.99509449,\n",
       "       0.9960956 , 0.9970967 , 0.9980978 , 0.9990989 , 1.0001    ])"
      ]
     },
     "execution_count": 52,
     "metadata": {},
     "output_type": "execute_result"
    }
   ],
   "source": [
    "thresholds"
   ]
  },
  {
   "cell_type": "code",
   "execution_count": 62,
   "metadata": {},
   "outputs": [],
   "source": [
    "thresholds = list(np.linspace(0, 1.001, 1000))\n",
    "tprs = []\n",
    "fprs = []\n",
    "for value in thresholds:\n",
    "    manual_preds = []\n",
    "    for p in lr.predict_proba(X_test)[:,1]:\n",
    "        if p < value:\n",
    "            manual_preds.append(0)\n",
    "        else:\n",
    "            manual_preds.append(1)\n",
    "    true_pos = 0\n",
    "    false_pos = 0\n",
    "    true_neg = 0\n",
    "    false_neg = 0\n",
    "    for actual, prediction in zip(y_test, manual_preds):\n",
    "        if (actual == 1) & (prediction == 1):\n",
    "            true_pos += 1\n",
    "        elif (actual == 0) & (prediction == 1):\n",
    "            false_pos += 1 \n",
    "        elif (actual == 0) & (prediction == 0):\n",
    "            true_neg += 1\n",
    "        elif (actual == 1) & (prediction == 0):\n",
    "            false_neg += 1\n",
    "    tprs.append(true_pos/(true_pos+false_neg))\n",
    "    fprs.append(false_pos/(false_pos+true_neg))"
   ]
  },
  {
   "cell_type": "code",
   "execution_count": 54,
   "metadata": {},
   "outputs": [
    {
     "data": {
      "text/plain": [
       "(0.9375, 0.021052631578947368)"
      ]
     },
     "execution_count": 54,
     "metadata": {},
     "output_type": "execute_result"
    }
   ],
   "source": [
    "tpr , fpr"
   ]
  },
  {
   "cell_type": "code",
   "execution_count": 63,
   "metadata": {},
   "outputs": [
    {
     "data": {
      "image/png": "[encoded data removed]",
      "text/plain": [
       "<Figure size 432x432 with 1 Axes>"
      ]
     },
     "metadata": {
      "needs_background": "light"
     },
     "output_type": "display_data"
    }
   ],
   "source": [
    "fig, ax = plt.subplots(figsize=(6,6))\n",
    "\n",
    "ax.set_ylabel('True Positive Rate')\n",
    "ax.set_xlabel('False Positive Rate')\n",
    "ax.plot([0,1],[0,1], linestyle= '--', color='black')\n",
    "ax.plot(fprs, tprs)\n",
    "ax.set_title('ROC Curve');"
   ]
  },
  {
   "cell_type": "code",
   "execution_count": 27,
   "metadata": {},
   "outputs": [
    {
     "name": "stdout",
     "output_type": "stream",
     "text": [
      "0 0\n",
      "0 0\n",
      "1 1\n",
      "0 0\n",
      "1 1\n",
      "1 1\n",
      "1 1\n",
      "0 0\n",
      "0 0\n",
      "1 1\n",
      "1 1\n",
      "0 0\n",
      "0 0\n",
      "0 0\n",
      "0 0\n",
      "0 0\n",
      "0 0\n",
      "0 0\n",
      "1 1\n",
      "0 0\n",
      "0 0\n",
      "0 0\n",
      "1 1\n",
      "0 0\n",
      "1 1\n",
      "0 0\n",
      "0 0\n",
      "0 0\n",
      "0 0\n",
      "1 0\n",
      "0 0\n",
      "1 1\n",
      "1 1\n",
      "0 0\n",
      "0 0\n",
      "0 0\n",
      "0 0\n",
      "0 0\n",
      "0 0\n",
      "0 0\n",
      "0 0\n",
      "0 0\n",
      "0 0\n",
      "1 0\n",
      "1 0\n",
      "0 0\n",
      "0 0\n",
      "0 0\n",
      "0 0\n",
      "0 0\n",
      "1 1\n",
      "0 0\n",
      "1 1\n",
      "0 0\n",
      "1 1\n",
      "1 1\n",
      "0 0\n",
      "1 1\n",
      "0 0\n",
      "0 0\n",
      "0 0\n",
      "1 1\n",
      "1 1\n",
      "0 0\n",
      "0 0\n",
      "0 0\n",
      "0 0\n",
      "0 0\n",
      "0 0\n",
      "1 1\n",
      "1 1\n",
      "1 1\n",
      "0 0\n",
      "0 0\n",
      "0 0\n",
      "0 0\n",
      "1 1\n",
      "0 0\n",
      "0 0\n",
      "0 0\n",
      "0 0\n",
      "1 1\n",
      "0 0\n",
      "0 0\n",
      "0 0\n",
      "1 1\n",
      "0 0\n",
      "1 1\n",
      "0 1\n",
      "1 1\n",
      "1 1\n",
      "1 1\n",
      "1 1\n",
      "0 0\n",
      "0 0\n",
      "1 1\n",
      "1 1\n",
      "0 0\n",
      "0 0\n",
      "1 1\n",
      "1 1\n",
      "0 0\n",
      "0 0\n",
      "0 0\n",
      "0 0\n",
      "1 1\n",
      "0 0\n",
      "0 0\n",
      "0 0\n",
      "1 1\n",
      "0 0\n",
      "0 0\n",
      "0 0\n",
      "1 1\n",
      "0 0\n",
      "1 1\n",
      "0 0\n",
      "0 0\n",
      "0 0\n",
      "0 0\n",
      "0 0\n",
      "0 0\n",
      "1 1\n",
      "0 0\n",
      "0 0\n",
      "0 0\n",
      "0 0\n",
      "0 0\n",
      "1 0\n",
      "0 0\n",
      "1 1\n",
      "0 0\n",
      "0 0\n",
      "0 0\n",
      "0 0\n",
      "1 1\n",
      "0 0\n",
      "1 1\n",
      "1 1\n",
      "0 0\n",
      "1 1\n",
      "0 0\n",
      "1 1\n"
     ]
    }
   ],
   "source": [
    "for actual, prediction in zip(y_test, preds):\n",
    "    print(actual, prediction)"
   ]
  },
  {
   "cell_type": "markdown",
   "metadata": {},
   "source": [
    "### What is the default threshold in sci-kit learn? - How can we manually change it? "
   ]
  },
  {
   "cell_type": "code",
   "execution_count": 38,
   "metadata": {},
   "outputs": [],
   "source": [
    "### function \n"
   ]
  },
  {
   "cell_type": "markdown",
   "metadata": {},
   "source": [
    "### Let's aim to calculate the TPR and FPR over a range of different alpha values "
   ]
  },
  {
   "cell_type": "code",
   "execution_count": null,
   "metadata": {
    "collapsed": true
   },
   "outputs": [],
   "source": []
  },
  {
   "cell_type": "markdown",
   "metadata": {},
   "source": [
    "### Let's start plotting!"
   ]
  },
  {
   "cell_type": "code",
   "execution_count": null,
   "metadata": {
    "collapsed": true
   },
   "outputs": [],
   "source": []
  }
 ],
 "metadata": {
  "anaconda-cloud": {},
  "kernelspec": {
   "display_name": "Python 3",
   "language": "python",
   "name": "python3"
  },
  "language_info": {
   "codemirror_mode": {
    "name": "ipython",
    "version": 3
   },
   "file_extension": ".py",
   "mimetype": "text/x-python",
   "name": "python",
   "nbconvert_exporter": "python",
   "pygments_lexer": "ipython3",
   "version": "3.7.4"
  }
 },
 "nbformat": 4,
 "nbformat_minor": 2
}
