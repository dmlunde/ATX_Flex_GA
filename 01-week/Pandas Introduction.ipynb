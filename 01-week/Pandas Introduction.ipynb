{
 "cells": [
  {
   "cell_type": "markdown",
   "metadata": {},
   "source": [
    "## Pandas Introduction \n"
   ]
  },
  {
   "cell_type": "code",
   "execution_count": 1,
   "metadata": {},
   "outputs": [],
   "source": [
    "## import the library \n",
    "import pandas as pd \n",
    "\n",
    "## change the number of columns visible in the notebook \n",
    "pd.set_option('max_columns', 50)"
   ]
  },
  {
   "cell_type": "code",
   "execution_count": 2,
   "metadata": {},
   "outputs": [],
   "source": [
    "## Read the data into pandas with the read_csv method \n",
    "\n",
    "fight_songs = pd.read_csv('../data/fight_song.csv')"
   ]
  },
  {
   "cell_type": "markdown",
   "metadata": {},
   "source": [
    "## Attributes and Methods\n",
    "\n",
    "Pandas offers a huge number of built in attributes in functions that we will use to \"munge\" data. You can use tab to pull them up. "
   ]
  },
  {
   "cell_type": "code",
   "execution_count": 3,
   "metadata": {},
   "outputs": [
    {
     "data": {
      "text/html": [
       "<div>\n",
       "<style scoped>\n",
       "    .dataframe tbody tr th:only-of-type {\n",
       "        vertical-align: middle;\n",
       "    }\n",
       "\n",
       "    .dataframe tbody tr th {\n",
       "        vertical-align: top;\n",
       "    }\n",
       "\n",
       "    .dataframe thead th {\n",
       "        text-align: right;\n",
       "    }\n",
       "</style>\n",
       "<table border=\"1\" class=\"dataframe\">\n",
       "  <thead>\n",
       "    <tr style=\"text-align: right;\">\n",
       "      <th></th>\n",
       "      <th>school</th>\n",
       "      <th>conference</th>\n",
       "      <th>song_name</th>\n",
       "      <th>writers</th>\n",
       "      <th>year</th>\n",
       "      <th>student_writer</th>\n",
       "      <th>official_song</th>\n",
       "      <th>contest</th>\n",
       "      <th>bpm</th>\n",
       "      <th>sec_duration</th>\n",
       "      <th>fight</th>\n",
       "      <th>number_fights</th>\n",
       "      <th>victory</th>\n",
       "      <th>win_won</th>\n",
       "      <th>victory_win_won</th>\n",
       "      <th>rah</th>\n",
       "      <th>nonsense</th>\n",
       "      <th>colors</th>\n",
       "      <th>men</th>\n",
       "      <th>opponents</th>\n",
       "      <th>spelling</th>\n",
       "      <th>trope_count</th>\n",
       "      <th>spotify_id</th>\n",
       "    </tr>\n",
       "  </thead>\n",
       "  <tbody>\n",
       "    <tr>\n",
       "      <td>0</td>\n",
       "      <td>Notre Dame</td>\n",
       "      <td>Independent</td>\n",
       "      <td>Victory March</td>\n",
       "      <td>Michael J. Shea and John F. Shea</td>\n",
       "      <td>1908</td>\n",
       "      <td>No</td>\n",
       "      <td>Yes</td>\n",
       "      <td>No</td>\n",
       "      <td>152</td>\n",
       "      <td>64</td>\n",
       "      <td>Yes</td>\n",
       "      <td>1</td>\n",
       "      <td>Yes</td>\n",
       "      <td>Yes</td>\n",
       "      <td>Yes</td>\n",
       "      <td>Yes</td>\n",
       "      <td>No</td>\n",
       "      <td>Yes</td>\n",
       "      <td>Yes</td>\n",
       "      <td>No</td>\n",
       "      <td>No</td>\n",
       "      <td>6</td>\n",
       "      <td>15a3ShKX3XWKzq0lSS48yr</td>\n",
       "    </tr>\n",
       "    <tr>\n",
       "      <td>1</td>\n",
       "      <td>Baylor</td>\n",
       "      <td>Big 12</td>\n",
       "      <td>Old Fight</td>\n",
       "      <td>Dick Baker and Frank Boggs</td>\n",
       "      <td>1947</td>\n",
       "      <td>Yes</td>\n",
       "      <td>Yes</td>\n",
       "      <td>No</td>\n",
       "      <td>76</td>\n",
       "      <td>99</td>\n",
       "      <td>Yes</td>\n",
       "      <td>4</td>\n",
       "      <td>Yes</td>\n",
       "      <td>Yes</td>\n",
       "      <td>Yes</td>\n",
       "      <td>No</td>\n",
       "      <td>No</td>\n",
       "      <td>Yes</td>\n",
       "      <td>No</td>\n",
       "      <td>No</td>\n",
       "      <td>Yes</td>\n",
       "      <td>5</td>\n",
       "      <td>2ZsaI0Cu4nz8DHfBkPt0Dl</td>\n",
       "    </tr>\n",
       "    <tr>\n",
       "      <td>2</td>\n",
       "      <td>Iowa State</td>\n",
       "      <td>Big 12</td>\n",
       "      <td>Iowa State Fights</td>\n",
       "      <td>Jack Barker, Manly Rice, Paul Gnam, Rosalind K...</td>\n",
       "      <td>1930</td>\n",
       "      <td>Yes</td>\n",
       "      <td>Yes</td>\n",
       "      <td>No</td>\n",
       "      <td>155</td>\n",
       "      <td>55</td>\n",
       "      <td>Yes</td>\n",
       "      <td>5</td>\n",
       "      <td>No</td>\n",
       "      <td>No</td>\n",
       "      <td>No</td>\n",
       "      <td>Yes</td>\n",
       "      <td>No</td>\n",
       "      <td>No</td>\n",
       "      <td>Yes</td>\n",
       "      <td>No</td>\n",
       "      <td>Yes</td>\n",
       "      <td>4</td>\n",
       "      <td>3yyfoOXZQCtR6pfRJqu9pl</td>\n",
       "    </tr>\n",
       "    <tr>\n",
       "      <td>3</td>\n",
       "      <td>Kansas</td>\n",
       "      <td>Big 12</td>\n",
       "      <td>I'm a Jayhawk</td>\n",
       "      <td>George \"Dumpy\" Bowles</td>\n",
       "      <td>1912</td>\n",
       "      <td>Yes</td>\n",
       "      <td>Yes</td>\n",
       "      <td>No</td>\n",
       "      <td>137</td>\n",
       "      <td>62</td>\n",
       "      <td>No</td>\n",
       "      <td>0</td>\n",
       "      <td>No</td>\n",
       "      <td>No</td>\n",
       "      <td>No</td>\n",
       "      <td>No</td>\n",
       "      <td>Yes</td>\n",
       "      <td>No</td>\n",
       "      <td>Yes</td>\n",
       "      <td>Yes</td>\n",
       "      <td>No</td>\n",
       "      <td>3</td>\n",
       "      <td>0JzbjZgcjugS0dmPjF9R89</td>\n",
       "    </tr>\n",
       "    <tr>\n",
       "      <td>4</td>\n",
       "      <td>Kansas State</td>\n",
       "      <td>Big 12</td>\n",
       "      <td>Wildcat Victory</td>\n",
       "      <td>Harry E. Erickson</td>\n",
       "      <td>1927</td>\n",
       "      <td>Yes</td>\n",
       "      <td>Yes</td>\n",
       "      <td>No</td>\n",
       "      <td>80</td>\n",
       "      <td>67</td>\n",
       "      <td>Yes</td>\n",
       "      <td>6</td>\n",
       "      <td>Yes</td>\n",
       "      <td>No</td>\n",
       "      <td>Yes</td>\n",
       "      <td>No</td>\n",
       "      <td>No</td>\n",
       "      <td>Yes</td>\n",
       "      <td>No</td>\n",
       "      <td>No</td>\n",
       "      <td>No</td>\n",
       "      <td>3</td>\n",
       "      <td>4xxDK4g1OHhZ44sTFy8Ktm</td>\n",
       "    </tr>\n",
       "  </tbody>\n",
       "</table>\n",
       "</div>"
      ],
      "text/plain": [
       "         school   conference          song_name  \\\n",
       "0    Notre Dame  Independent      Victory March   \n",
       "1        Baylor       Big 12          Old Fight   \n",
       "2    Iowa State       Big 12  Iowa State Fights   \n",
       "3        Kansas       Big 12      I'm a Jayhawk   \n",
       "4  Kansas State       Big 12    Wildcat Victory   \n",
       "\n",
       "                                             writers  year student_writer  \\\n",
       "0                   Michael J. Shea and John F. Shea  1908             No   \n",
       "1                         Dick Baker and Frank Boggs  1947            Yes   \n",
       "2  Jack Barker, Manly Rice, Paul Gnam, Rosalind K...  1930            Yes   \n",
       "3                              George \"Dumpy\" Bowles  1912            Yes   \n",
       "4                                  Harry E. Erickson  1927            Yes   \n",
       "\n",
       "  official_song contest  bpm  sec_duration fight  number_fights victory  \\\n",
       "0           Yes      No  152            64   Yes              1     Yes   \n",
       "1           Yes      No   76            99   Yes              4     Yes   \n",
       "2           Yes      No  155            55   Yes              5      No   \n",
       "3           Yes      No  137            62    No              0      No   \n",
       "4           Yes      No   80            67   Yes              6     Yes   \n",
       "\n",
       "  win_won victory_win_won  rah nonsense colors  men opponents spelling  \\\n",
       "0     Yes             Yes  Yes       No    Yes  Yes        No       No   \n",
       "1     Yes             Yes   No       No    Yes   No        No      Yes   \n",
       "2      No              No  Yes       No     No  Yes        No      Yes   \n",
       "3      No              No   No      Yes     No  Yes       Yes       No   \n",
       "4      No             Yes   No       No    Yes   No        No       No   \n",
       "\n",
       "   trope_count              spotify_id  \n",
       "0            6  15a3ShKX3XWKzq0lSS48yr  \n",
       "1            5  2ZsaI0Cu4nz8DHfBkPt0Dl  \n",
       "2            4  3yyfoOXZQCtR6pfRJqu9pl  \n",
       "3            3  0JzbjZgcjugS0dmPjF9R89  \n",
       "4            3  4xxDK4g1OHhZ44sTFy8Ktm  "
      ]
     },
     "execution_count": 3,
     "metadata": {},
     "output_type": "execute_result"
    }
   ],
   "source": [
    "## scroll through some availible attributes\n",
    "fight_songs.head()"
   ]
  },
  {
   "cell_type": "markdown",
   "metadata": {},
   "source": [
    "## Initial exploratory methods \n",
    "\n",
    "Note `df` refers to any generic dataframe. It's important to remember some methods work on entire dataframes and others work on series (individuals columns). \n",
    "\n",
    "``` python \n",
    "## show first rows \n",
    "df.head()\n",
    "\n",
    "## show last rows \n",
    "df.tail()\n",
    "\n",
    "## show general info \n",
    "df.info()\n",
    "\n",
    "## show rows, columns\n",
    "df.shape\n",
    "\n",
    "## numerical descriptions (there are many more than these)\n",
    "df.mean()\n",
    "df.std()\n",
    "df.describe()\n",
    "```\n"
   ]
  },
  {
   "cell_type": "markdown",
   "metadata": {},
   "source": [
    "#### What is the mean length of all fight songs? \n"
   ]
  },
  {
   "cell_type": "code",
   "execution_count": 5,
   "metadata": {},
   "outputs": [
    {
     "data": {
      "text/plain": [
       "bpm              128.800000\n",
       "sec_duration      71.907692\n",
       "number_fights      2.846154\n",
       "trope_count        3.615385\n",
       "dtype: float64"
      ]
     },
     "execution_count": 5,
     "metadata": {},
     "output_type": "execute_result"
    }
   ],
   "source": [
    "fight_songs.mean()"
   ]
  },
  {
   "cell_type": "code",
   "execution_count": 12,
   "metadata": {},
   "outputs": [
    {
     "data": {
      "text/plain": [
       "0      64\n",
       "1      99\n",
       "2      55\n",
       "3      62\n",
       "4      67\n",
       "     ... \n",
       "60    110\n",
       "61     85\n",
       "62     42\n",
       "63     71\n",
       "64     69\n",
       "Name: sec_duration, Length: 65, dtype: int64"
      ]
     },
     "execution_count": 12,
     "metadata": {},
     "output_type": "execute_result"
    }
   ],
   "source": [
    "fight_songs['sec_duration']"
   ]
  },
  {
   "cell_type": "markdown",
   "metadata": {},
   "source": [
    "#### How long is the longest fight song?"
   ]
  },
  {
   "cell_type": "code",
   "execution_count": 13,
   "metadata": {},
   "outputs": [
    {
     "data": {
      "text/html": [
       "<div>\n",
       "<style scoped>\n",
       "    .dataframe tbody tr th:only-of-type {\n",
       "        vertical-align: middle;\n",
       "    }\n",
       "\n",
       "    .dataframe tbody tr th {\n",
       "        vertical-align: top;\n",
       "    }\n",
       "\n",
       "    .dataframe thead th {\n",
       "        text-align: right;\n",
       "    }\n",
       "</style>\n",
       "<table border=\"1\" class=\"dataframe\">\n",
       "  <thead>\n",
       "    <tr style=\"text-align: right;\">\n",
       "      <th></th>\n",
       "      <th>bpm</th>\n",
       "      <th>sec_duration</th>\n",
       "      <th>number_fights</th>\n",
       "      <th>trope_count</th>\n",
       "    </tr>\n",
       "  </thead>\n",
       "  <tbody>\n",
       "    <tr>\n",
       "      <td>count</td>\n",
       "      <td>65.000000</td>\n",
       "      <td>65.000000</td>\n",
       "      <td>65.000000</td>\n",
       "      <td>65.000000</td>\n",
       "    </tr>\n",
       "    <tr>\n",
       "      <td>mean</td>\n",
       "      <td>128.800000</td>\n",
       "      <td>71.907692</td>\n",
       "      <td>2.846154</td>\n",
       "      <td>3.615385</td>\n",
       "    </tr>\n",
       "    <tr>\n",
       "      <td>std</td>\n",
       "      <td>33.152677</td>\n",
       "      <td>25.056014</td>\n",
       "      <td>3.231828</td>\n",
       "      <td>1.674182</td>\n",
       "    </tr>\n",
       "    <tr>\n",
       "      <td>min</td>\n",
       "      <td>65.000000</td>\n",
       "      <td>27.000000</td>\n",
       "      <td>0.000000</td>\n",
       "      <td>0.000000</td>\n",
       "    </tr>\n",
       "    <tr>\n",
       "      <td>10%</td>\n",
       "      <td>75.400000</td>\n",
       "      <td>43.200000</td>\n",
       "      <td>0.000000</td>\n",
       "      <td>1.000000</td>\n",
       "    </tr>\n",
       "    <tr>\n",
       "      <td>20%</td>\n",
       "      <td>80.800000</td>\n",
       "      <td>54.800000</td>\n",
       "      <td>0.000000</td>\n",
       "      <td>2.800000</td>\n",
       "    </tr>\n",
       "    <tr>\n",
       "      <td>30%</td>\n",
       "      <td>132.200000</td>\n",
       "      <td>60.000000</td>\n",
       "      <td>0.000000</td>\n",
       "      <td>3.000000</td>\n",
       "    </tr>\n",
       "    <tr>\n",
       "      <td>50%</td>\n",
       "      <td>140.000000</td>\n",
       "      <td>67.000000</td>\n",
       "      <td>2.000000</td>\n",
       "      <td>4.000000</td>\n",
       "    </tr>\n",
       "    <tr>\n",
       "      <td>73%</td>\n",
       "      <td>150.720000</td>\n",
       "      <td>83.720000</td>\n",
       "      <td>4.720000</td>\n",
       "      <td>5.000000</td>\n",
       "    </tr>\n",
       "    <tr>\n",
       "      <td>95%</td>\n",
       "      <td>166.800000</td>\n",
       "      <td>111.600000</td>\n",
       "      <td>8.000000</td>\n",
       "      <td>6.000000</td>\n",
       "    </tr>\n",
       "    <tr>\n",
       "      <td>max</td>\n",
       "      <td>180.000000</td>\n",
       "      <td>172.000000</td>\n",
       "      <td>17.000000</td>\n",
       "      <td>8.000000</td>\n",
       "    </tr>\n",
       "  </tbody>\n",
       "</table>\n",
       "</div>"
      ],
      "text/plain": [
       "              bpm  sec_duration  number_fights  trope_count\n",
       "count   65.000000     65.000000      65.000000    65.000000\n",
       "mean   128.800000     71.907692       2.846154     3.615385\n",
       "std     33.152677     25.056014       3.231828     1.674182\n",
       "min     65.000000     27.000000       0.000000     0.000000\n",
       "10%     75.400000     43.200000       0.000000     1.000000\n",
       "20%     80.800000     54.800000       0.000000     2.800000\n",
       "30%    132.200000     60.000000       0.000000     3.000000\n",
       "50%    140.000000     67.000000       2.000000     4.000000\n",
       "73%    150.720000     83.720000       4.720000     5.000000\n",
       "95%    166.800000    111.600000       8.000000     6.000000\n",
       "max    180.000000    172.000000      17.000000     8.000000"
      ]
     },
     "execution_count": 13,
     "metadata": {},
     "output_type": "execute_result"
    }
   ],
   "source": [
    "fight_songs.describe(percentiles=[.1, .2, .3, .73, .95])"
   ]
  },
  {
   "cell_type": "code",
   "execution_count": 15,
   "metadata": {},
   "outputs": [
    {
     "data": {
      "text/plain": [
       "172"
      ]
     },
     "execution_count": 15,
     "metadata": {},
     "output_type": "execute_result"
    }
   ],
   "source": [
    "fight_songs['sec_duration'].max()"
   ]
  },
  {
   "cell_type": "code",
   "execution_count": 16,
   "metadata": {},
   "outputs": [
    {
     "data": {
      "text/plain": [
       "school             object\n",
       "conference         object\n",
       "song_name          object\n",
       "writers            object\n",
       "year               object\n",
       "student_writer     object\n",
       "official_song      object\n",
       "contest            object\n",
       "bpm                 int64\n",
       "sec_duration        int64\n",
       "fight              object\n",
       "number_fights       int64\n",
       "victory            object\n",
       "win_won            object\n",
       "victory_win_won    object\n",
       "rah                object\n",
       "nonsense           object\n",
       "colors             object\n",
       "men                object\n",
       "opponents          object\n",
       "spelling           object\n",
       "trope_count         int64\n",
       "spotify_id         object\n",
       "dtype: object"
      ]
     },
     "execution_count": 16,
     "metadata": {},
     "output_type": "execute_result"
    }
   ],
   "source": [
    "fight_songs.dtypes"
   ]
  },
  {
   "cell_type": "code",
   "execution_count": 18,
   "metadata": {},
   "outputs": [
    {
     "data": {
      "text/plain": [
       "sec_duration    71.907692\n",
       "dtype: float64"
      ]
     },
     "execution_count": 18,
     "metadata": {},
     "output_type": "execute_result"
    }
   ],
   "source": [
    "fight_songs[['sec_duration', 'year']].mean()"
   ]
  },
  {
   "cell_type": "markdown",
   "metadata": {},
   "source": [
    "## Series\n",
    "\n",
    "A series is an individual column - it's a different datatype than a dataframe and they have their own attributes and methods \n",
    "\n",
    "Access a series using square brackets \n",
    "\n",
    "``` python\n",
    "df['column_name']\n",
    "```\n",
    "\n",
    "---\n",
    "Take a look at this documentation:\n",
    "[Value Counts ](https://pandas.pydata.org/pandas-docs/stable/reference/api/pandas.Series.value_counts.html) \n",
    "\n",
    "Note <div style=\"color:blue\"> pandas.Series.value_counts </div>\n",
    "\n",
    "This means that value_counts is used on a series as opposed to: [Drop](https://pandas.pydata.org/pandas-docs/stable/reference/api/pandas.DataFrame.drop.html)</n>\n",
    "\n",
    "<div style=\"color:blue\" > pandas.DataFrame.drop </div>"
   ]
  },
  {
   "cell_type": "code",
   "execution_count": 19,
   "metadata": {},
   "outputs": [
    {
     "data": {
      "text/plain": [
       "Big Ten        14\n",
       "SEC            14\n",
       "ACC            14\n",
       "Pac-12         12\n",
       "Big 12         10\n",
       "Independent     1\n",
       "Name: conference, dtype: int64"
      ]
     },
     "execution_count": 19,
     "metadata": {},
     "output_type": "execute_result"
    }
   ],
   "source": [
    "## use value counts on conference \n",
    "fight_songs['conference'].value_counts()"
   ]
  },
  {
   "cell_type": "code",
   "execution_count": 20,
   "metadata": {},
   "outputs": [
    {
     "data": {
      "text/plain": [
       "array(['Independent', 'Big 12', 'Big Ten', 'Pac-12', 'SEC', 'ACC'],\n",
       "      dtype=object)"
      ]
     },
     "execution_count": 20,
     "metadata": {},
     "output_type": "execute_result"
    }
   ],
   "source": [
    "## number of unique values \n",
    "fight_songs['conference'].unique()"
   ]
  },
  {
   "cell_type": "code",
   "execution_count": 22,
   "metadata": {},
   "outputs": [
    {
     "data": {
      "text/plain": [
       "Big Ten        0.215385\n",
       "SEC            0.215385\n",
       "ACC            0.215385\n",
       "Pac-12         0.184615\n",
       "Big 12         0.153846\n",
       "Independent    0.015385\n",
       "Name: conference, dtype: float64"
      ]
     },
     "execution_count": 22,
     "metadata": {},
     "output_type": "execute_result"
    }
   ],
   "source": [
    "fight_songs['conference'].value_counts(normalize=True)"
   ]
  },
  {
   "cell_type": "code",
   "execution_count": 24,
   "metadata": {},
   "outputs": [
    {
     "data": {
      "text/plain": [
       "(65, 23)"
      ]
     },
     "execution_count": 24,
     "metadata": {},
     "output_type": "execute_result"
    }
   ],
   "source": [
    "fight_songs.shape"
   ]
  },
  {
   "cell_type": "markdown",
   "metadata": {},
   "source": [
    "## Pandas Broadcasting \n",
    "\n",
    "Applying some change to every single cell in a column "
   ]
  },
  {
   "cell_type": "code",
   "execution_count": 34,
   "metadata": {},
   "outputs": [],
   "source": [
    "import numpy as np"
   ]
  },
  {
   "cell_type": "code",
   "execution_count": 35,
   "metadata": {},
   "outputs": [],
   "source": [
    "def cleaner(cell):\n",
    "    try:\n",
    "        return int(cell)\n",
    "    except:\n",
    "        return np.NaN\n",
    "\n"
   ]
  },
  {
   "cell_type": "code",
   "execution_count": 36,
   "metadata": {},
   "outputs": [
    {
     "data": {
      "text/plain": [
       "nan"
      ]
     },
     "execution_count": 36,
     "metadata": {},
     "output_type": "execute_result"
    }
   ],
   "source": [
    "cleaner('unknown')"
   ]
  },
  {
   "cell_type": "code",
   "execution_count": 40,
   "metadata": {
    "scrolled": true
   },
   "outputs": [],
   "source": [
    "fight_songs['year'] = fight_songs['year'].map(cleaner)"
   ]
  },
  {
   "cell_type": "code",
   "execution_count": 41,
   "metadata": {},
   "outputs": [
    {
     "data": {
      "text/plain": [
       "1926.75"
      ]
     },
     "execution_count": 41,
     "metadata": {},
     "output_type": "execute_result"
    }
   ],
   "source": [
    "fight_songs['year'].mean()"
   ]
  },
  {
   "cell_type": "code",
   "execution_count": 45,
   "metadata": {},
   "outputs": [],
   "source": [
    "## We'll create a new column called \"years old\"\n",
    "\n",
    "fight_songs['years_old'] = 2019 - fight_songs['year']"
   ]
  },
  {
   "cell_type": "code",
   "execution_count": 49,
   "metadata": {},
   "outputs": [
    {
     "data": {
      "text/html": [
       "<div>\n",
       "<style scoped>\n",
       "    .dataframe tbody tr th:only-of-type {\n",
       "        vertical-align: middle;\n",
       "    }\n",
       "\n",
       "    .dataframe tbody tr th {\n",
       "        vertical-align: top;\n",
       "    }\n",
       "\n",
       "    .dataframe thead th {\n",
       "        text-align: right;\n",
       "    }\n",
       "</style>\n",
       "<table border=\"1\" class=\"dataframe\">\n",
       "  <thead>\n",
       "    <tr style=\"text-align: right;\">\n",
       "      <th></th>\n",
       "      <th>school</th>\n",
       "      <th>conference</th>\n",
       "      <th>song_name</th>\n",
       "      <th>writers</th>\n",
       "      <th>year</th>\n",
       "      <th>student_writer</th>\n",
       "      <th>official_song</th>\n",
       "      <th>contest</th>\n",
       "      <th>bpm</th>\n",
       "      <th>sec_duration</th>\n",
       "      <th>fight</th>\n",
       "      <th>number_fights</th>\n",
       "      <th>victory</th>\n",
       "      <th>win_won</th>\n",
       "      <th>victory_win_won</th>\n",
       "      <th>rah</th>\n",
       "      <th>nonsense</th>\n",
       "      <th>colors</th>\n",
       "      <th>men</th>\n",
       "      <th>opponents</th>\n",
       "      <th>spelling</th>\n",
       "      <th>trope_count</th>\n",
       "      <th>spotify_id</th>\n",
       "      <th>years_old</th>\n",
       "    </tr>\n",
       "  </thead>\n",
       "  <tbody>\n",
       "    <tr>\n",
       "      <td>0</td>\n",
       "      <td>Notre Dame</td>\n",
       "      <td>Independent</td>\n",
       "      <td>Victory March</td>\n",
       "      <td>Michael J. Shea and John F. Shea</td>\n",
       "      <td>1908.0</td>\n",
       "      <td>No</td>\n",
       "      <td>Yes</td>\n",
       "      <td>No</td>\n",
       "      <td>152</td>\n",
       "      <td>64</td>\n",
       "      <td>Yes</td>\n",
       "      <td>1</td>\n",
       "      <td>Yes</td>\n",
       "      <td>Yes</td>\n",
       "      <td>Yes</td>\n",
       "      <td>Yes</td>\n",
       "      <td>No</td>\n",
       "      <td>Yes</td>\n",
       "      <td>Yes</td>\n",
       "      <td>No</td>\n",
       "      <td>No</td>\n",
       "      <td>6</td>\n",
       "      <td>15a3ShKX3XWKzq0lSS48yr</td>\n",
       "      <td>111.0</td>\n",
       "    </tr>\n",
       "    <tr>\n",
       "      <td>1</td>\n",
       "      <td>Baylor</td>\n",
       "      <td>Big 12</td>\n",
       "      <td>Old Fight</td>\n",
       "      <td>Dick Baker and Frank Boggs</td>\n",
       "      <td>1947.0</td>\n",
       "      <td>Yes</td>\n",
       "      <td>Yes</td>\n",
       "      <td>No</td>\n",
       "      <td>76</td>\n",
       "      <td>99</td>\n",
       "      <td>Yes</td>\n",
       "      <td>4</td>\n",
       "      <td>Yes</td>\n",
       "      <td>Yes</td>\n",
       "      <td>Yes</td>\n",
       "      <td>No</td>\n",
       "      <td>No</td>\n",
       "      <td>Yes</td>\n",
       "      <td>No</td>\n",
       "      <td>No</td>\n",
       "      <td>Yes</td>\n",
       "      <td>5</td>\n",
       "      <td>2ZsaI0Cu4nz8DHfBkPt0Dl</td>\n",
       "      <td>72.0</td>\n",
       "    </tr>\n",
       "  </tbody>\n",
       "</table>\n",
       "</div>"
      ],
      "text/plain": [
       "       school   conference      song_name                           writers  \\\n",
       "0  Notre Dame  Independent  Victory March  Michael J. Shea and John F. Shea   \n",
       "1      Baylor       Big 12      Old Fight        Dick Baker and Frank Boggs   \n",
       "\n",
       "     year student_writer official_song contest  bpm  sec_duration fight  \\\n",
       "0  1908.0             No           Yes      No  152            64   Yes   \n",
       "1  1947.0            Yes           Yes      No   76            99   Yes   \n",
       "\n",
       "   number_fights victory win_won victory_win_won  rah nonsense colors  men  \\\n",
       "0              1     Yes     Yes             Yes  Yes       No    Yes  Yes   \n",
       "1              4     Yes     Yes             Yes   No       No    Yes   No   \n",
       "\n",
       "  opponents spelling  trope_count              spotify_id  years_old  \n",
       "0        No       No            6  15a3ShKX3XWKzq0lSS48yr      111.0  \n",
       "1        No      Yes            5  2ZsaI0Cu4nz8DHfBkPt0Dl       72.0  "
      ]
     },
     "execution_count": 49,
     "metadata": {},
     "output_type": "execute_result"
    }
   ],
   "source": [
    "fight_songs.head(2)\n"
   ]
  },
  {
   "cell_type": "code",
   "execution_count": null,
   "metadata": {},
   "outputs": [],
   "source": []
  },
  {
   "cell_type": "code",
   "execution_count": 6,
   "metadata": {},
   "outputs": [],
   "source": [
    "## defining a small funtion that we'll apply to every cell in the \"year\" column\n"
   ]
  },
  {
   "cell_type": "code",
   "execution_count": 55,
   "metadata": {},
   "outputs": [],
   "source": [
    "## new column with broadcasting \n"
   ]
  },
  {
   "cell_type": "markdown",
   "metadata": {},
   "source": [
    "## A Taste of what's to come - Boolean Filtering,  Groupby, Map\n",
    "\n",
    "Don't worry about following along here - I just want to introduce this concept and provide an example "
   ]
  },
  {
   "cell_type": "code",
   "execution_count": 53,
   "metadata": {},
   "outputs": [
    {
     "data": {
      "text/plain": [
       "0     False\n",
       "1     False\n",
       "2      True\n",
       "3     False\n",
       "4     False\n",
       "      ...  \n",
       "60    False\n",
       "61    False\n",
       "62     True\n",
       "63    False\n",
       "64    False\n",
       "Name: sec_duration, Length: 65, dtype: bool"
      ]
     },
     "execution_count": 53,
     "metadata": {},
     "output_type": "execute_result"
    }
   ],
   "source": [
    "## boolean filter \n",
    "fight_songs['sec_duration'] < 60"
   ]
  },
  {
   "cell_type": "code",
   "execution_count": 55,
   "metadata": {},
   "outputs": [
    {
     "data": {
      "text/html": [
       "<div>\n",
       "<style scoped>\n",
       "    .dataframe tbody tr th:only-of-type {\n",
       "        vertical-align: middle;\n",
       "    }\n",
       "\n",
       "    .dataframe tbody tr th {\n",
       "        vertical-align: top;\n",
       "    }\n",
       "\n",
       "    .dataframe thead th {\n",
       "        text-align: right;\n",
       "    }\n",
       "</style>\n",
       "<table border=\"1\" class=\"dataframe\">\n",
       "  <thead>\n",
       "    <tr style=\"text-align: right;\">\n",
       "      <th></th>\n",
       "      <th>school</th>\n",
       "      <th>conference</th>\n",
       "      <th>song_name</th>\n",
       "      <th>writers</th>\n",
       "      <th>year</th>\n",
       "      <th>student_writer</th>\n",
       "      <th>official_song</th>\n",
       "      <th>contest</th>\n",
       "      <th>bpm</th>\n",
       "      <th>sec_duration</th>\n",
       "      <th>fight</th>\n",
       "      <th>number_fights</th>\n",
       "      <th>victory</th>\n",
       "      <th>win_won</th>\n",
       "      <th>victory_win_won</th>\n",
       "      <th>rah</th>\n",
       "      <th>nonsense</th>\n",
       "      <th>colors</th>\n",
       "      <th>men</th>\n",
       "      <th>opponents</th>\n",
       "      <th>spelling</th>\n",
       "      <th>trope_count</th>\n",
       "      <th>spotify_id</th>\n",
       "      <th>years_old</th>\n",
       "    </tr>\n",
       "  </thead>\n",
       "  <tbody>\n",
       "    <tr>\n",
       "      <td>2</td>\n",
       "      <td>Iowa State</td>\n",
       "      <td>Big 12</td>\n",
       "      <td>Iowa State Fights</td>\n",
       "      <td>Jack Barker, Manly Rice, Paul Gnam, Rosalind K...</td>\n",
       "      <td>1930.0</td>\n",
       "      <td>Yes</td>\n",
       "      <td>Yes</td>\n",
       "      <td>No</td>\n",
       "      <td>155</td>\n",
       "      <td>55</td>\n",
       "      <td>Yes</td>\n",
       "      <td>5</td>\n",
       "      <td>No</td>\n",
       "      <td>No</td>\n",
       "      <td>No</td>\n",
       "      <td>Yes</td>\n",
       "      <td>No</td>\n",
       "      <td>No</td>\n",
       "      <td>Yes</td>\n",
       "      <td>No</td>\n",
       "      <td>Yes</td>\n",
       "      <td>4</td>\n",
       "      <td>3yyfoOXZQCtR6pfRJqu9pl</td>\n",
       "      <td>89.0</td>\n",
       "    </tr>\n",
       "    <tr>\n",
       "      <td>5</td>\n",
       "      <td>Oklahoma</td>\n",
       "      <td>Big 12</td>\n",
       "      <td>Boomer Sooner</td>\n",
       "      <td>Arthur M. Alden</td>\n",
       "      <td>1905.0</td>\n",
       "      <td>Yes</td>\n",
       "      <td>Yes</td>\n",
       "      <td>No</td>\n",
       "      <td>153</td>\n",
       "      <td>37</td>\n",
       "      <td>No</td>\n",
       "      <td>0</td>\n",
       "      <td>No</td>\n",
       "      <td>No</td>\n",
       "      <td>No</td>\n",
       "      <td>Yes</td>\n",
       "      <td>No</td>\n",
       "      <td>No</td>\n",
       "      <td>No</td>\n",
       "      <td>No</td>\n",
       "      <td>Yes</td>\n",
       "      <td>2</td>\n",
       "      <td>0QXC8Gg1oKWkORegslTXoT</td>\n",
       "      <td>114.0</td>\n",
       "    </tr>\n",
       "    <tr>\n",
       "      <td>6</td>\n",
       "      <td>Oklahoma State</td>\n",
       "      <td>Big 12</td>\n",
       "      <td>Ride 'Em Cowboys</td>\n",
       "      <td>J.K. Long</td>\n",
       "      <td>1934.0</td>\n",
       "      <td>No</td>\n",
       "      <td>Yes</td>\n",
       "      <td>No</td>\n",
       "      <td>180</td>\n",
       "      <td>29</td>\n",
       "      <td>Yes</td>\n",
       "      <td>5</td>\n",
       "      <td>Yes</td>\n",
       "      <td>No</td>\n",
       "      <td>Yes</td>\n",
       "      <td>No</td>\n",
       "      <td>No</td>\n",
       "      <td>No</td>\n",
       "      <td>Yes</td>\n",
       "      <td>Yes</td>\n",
       "      <td>No</td>\n",
       "      <td>4</td>\n",
       "      <td>0mTJqaacUZPG740Y1YDn5j</td>\n",
       "      <td>85.0</td>\n",
       "    </tr>\n",
       "  </tbody>\n",
       "</table>\n",
       "</div>"
      ],
      "text/plain": [
       "           school conference          song_name  \\\n",
       "2      Iowa State     Big 12  Iowa State Fights   \n",
       "5        Oklahoma     Big 12      Boomer Sooner   \n",
       "6  Oklahoma State     Big 12   Ride 'Em Cowboys   \n",
       "\n",
       "                                             writers    year student_writer  \\\n",
       "2  Jack Barker, Manly Rice, Paul Gnam, Rosalind K...  1930.0            Yes   \n",
       "5                                    Arthur M. Alden  1905.0            Yes   \n",
       "6                                          J.K. Long  1934.0             No   \n",
       "\n",
       "  official_song contest  bpm  sec_duration fight  number_fights victory  \\\n",
       "2           Yes      No  155            55   Yes              5      No   \n",
       "5           Yes      No  153            37    No              0      No   \n",
       "6           Yes      No  180            29   Yes              5     Yes   \n",
       "\n",
       "  win_won victory_win_won  rah nonsense colors  men opponents spelling  \\\n",
       "2      No              No  Yes       No     No  Yes        No      Yes   \n",
       "5      No              No  Yes       No     No   No        No      Yes   \n",
       "6      No             Yes   No       No     No  Yes       Yes       No   \n",
       "\n",
       "   trope_count              spotify_id  years_old  \n",
       "2            4  3yyfoOXZQCtR6pfRJqu9pl       89.0  \n",
       "5            2  0QXC8Gg1oKWkORegslTXoT      114.0  \n",
       "6            4  0mTJqaacUZPG740Y1YDn5j       85.0  "
      ]
     },
     "execution_count": 55,
     "metadata": {},
     "output_type": "execute_result"
    }
   ],
   "source": [
    "fight_songs[fight_songs['sec_duration'] < 60].head(3)"
   ]
  },
  {
   "cell_type": "code",
   "execution_count": 68,
   "metadata": {},
   "outputs": [
    {
     "data": {
      "text/html": [
       "<div>\n",
       "<style scoped>\n",
       "    .dataframe tbody tr th:only-of-type {\n",
       "        vertical-align: middle;\n",
       "    }\n",
       "\n",
       "    .dataframe tbody tr th {\n",
       "        vertical-align: top;\n",
       "    }\n",
       "\n",
       "    .dataframe thead th {\n",
       "        text-align: right;\n",
       "    }\n",
       "</style>\n",
       "<table border=\"1\" class=\"dataframe\">\n",
       "  <thead>\n",
       "    <tr style=\"text-align: right;\">\n",
       "      <th></th>\n",
       "      <th>school</th>\n",
       "      <th>conference</th>\n",
       "      <th>song_name</th>\n",
       "      <th>writers</th>\n",
       "      <th>year</th>\n",
       "      <th>student_writer</th>\n",
       "      <th>official_song</th>\n",
       "      <th>contest</th>\n",
       "      <th>bpm</th>\n",
       "      <th>sec_duration</th>\n",
       "      <th>fight</th>\n",
       "      <th>number_fights</th>\n",
       "      <th>victory</th>\n",
       "      <th>win_won</th>\n",
       "      <th>victory_win_won</th>\n",
       "      <th>rah</th>\n",
       "      <th>nonsense</th>\n",
       "      <th>colors</th>\n",
       "      <th>men</th>\n",
       "      <th>opponents</th>\n",
       "      <th>spelling</th>\n",
       "      <th>trope_count</th>\n",
       "      <th>spotify_id</th>\n",
       "      <th>years_old</th>\n",
       "    </tr>\n",
       "  </thead>\n",
       "  <tbody>\n",
       "    <tr>\n",
       "      <td>0</td>\n",
       "      <td>Notre Dame</td>\n",
       "      <td>Independent</td>\n",
       "      <td>Victory March</td>\n",
       "      <td>Michael J. Shea and John F. Shea</td>\n",
       "      <td>1908.0</td>\n",
       "      <td>No</td>\n",
       "      <td>Yes</td>\n",
       "      <td>No</td>\n",
       "      <td>152</td>\n",
       "      <td>64</td>\n",
       "      <td>Yes</td>\n",
       "      <td>1</td>\n",
       "      <td>Yes</td>\n",
       "      <td>Yes</td>\n",
       "      <td>Yes</td>\n",
       "      <td>Yes</td>\n",
       "      <td>No</td>\n",
       "      <td>Yes</td>\n",
       "      <td>Yes</td>\n",
       "      <td>No</td>\n",
       "      <td>No</td>\n",
       "      <td>6</td>\n",
       "      <td>15a3ShKX3XWKzq0lSS48yr</td>\n",
       "      <td>111.0</td>\n",
       "    </tr>\n",
       "    <tr>\n",
       "      <td>1</td>\n",
       "      <td>Baylor</td>\n",
       "      <td>Big 12</td>\n",
       "      <td>Old Fight</td>\n",
       "      <td>Dick Baker and Frank Boggs</td>\n",
       "      <td>1947.0</td>\n",
       "      <td>Yes</td>\n",
       "      <td>Yes</td>\n",
       "      <td>No</td>\n",
       "      <td>76</td>\n",
       "      <td>99</td>\n",
       "      <td>Yes</td>\n",
       "      <td>4</td>\n",
       "      <td>Yes</td>\n",
       "      <td>Yes</td>\n",
       "      <td>Yes</td>\n",
       "      <td>No</td>\n",
       "      <td>No</td>\n",
       "      <td>Yes</td>\n",
       "      <td>No</td>\n",
       "      <td>No</td>\n",
       "      <td>Yes</td>\n",
       "      <td>5</td>\n",
       "      <td>2ZsaI0Cu4nz8DHfBkPt0Dl</td>\n",
       "      <td>72.0</td>\n",
       "    </tr>\n",
       "    <tr>\n",
       "      <td>2</td>\n",
       "      <td>Iowa State</td>\n",
       "      <td>Big 12</td>\n",
       "      <td>Iowa State Fights</td>\n",
       "      <td>Jack Barker, Manly Rice, Paul Gnam, Rosalind K...</td>\n",
       "      <td>1930.0</td>\n",
       "      <td>Yes</td>\n",
       "      <td>Yes</td>\n",
       "      <td>No</td>\n",
       "      <td>155</td>\n",
       "      <td>55</td>\n",
       "      <td>Yes</td>\n",
       "      <td>5</td>\n",
       "      <td>No</td>\n",
       "      <td>No</td>\n",
       "      <td>No</td>\n",
       "      <td>Yes</td>\n",
       "      <td>No</td>\n",
       "      <td>No</td>\n",
       "      <td>Yes</td>\n",
       "      <td>No</td>\n",
       "      <td>Yes</td>\n",
       "      <td>4</td>\n",
       "      <td>3yyfoOXZQCtR6pfRJqu9pl</td>\n",
       "      <td>89.0</td>\n",
       "    </tr>\n",
       "    <tr>\n",
       "      <td>3</td>\n",
       "      <td>Kansas</td>\n",
       "      <td>Big 12</td>\n",
       "      <td>I'm a Jayhawk</td>\n",
       "      <td>George \"Dumpy\" Bowles</td>\n",
       "      <td>1912.0</td>\n",
       "      <td>Yes</td>\n",
       "      <td>Yes</td>\n",
       "      <td>No</td>\n",
       "      <td>137</td>\n",
       "      <td>62</td>\n",
       "      <td>No</td>\n",
       "      <td>0</td>\n",
       "      <td>No</td>\n",
       "      <td>No</td>\n",
       "      <td>No</td>\n",
       "      <td>No</td>\n",
       "      <td>Yes</td>\n",
       "      <td>No</td>\n",
       "      <td>Yes</td>\n",
       "      <td>Yes</td>\n",
       "      <td>No</td>\n",
       "      <td>3</td>\n",
       "      <td>0JzbjZgcjugS0dmPjF9R89</td>\n",
       "      <td>107.0</td>\n",
       "    </tr>\n",
       "    <tr>\n",
       "      <td>4</td>\n",
       "      <td>Kansas State</td>\n",
       "      <td>Big 12</td>\n",
       "      <td>Wildcat Victory</td>\n",
       "      <td>Harry E. Erickson</td>\n",
       "      <td>1927.0</td>\n",
       "      <td>Yes</td>\n",
       "      <td>Yes</td>\n",
       "      <td>No</td>\n",
       "      <td>80</td>\n",
       "      <td>67</td>\n",
       "      <td>Yes</td>\n",
       "      <td>6</td>\n",
       "      <td>Yes</td>\n",
       "      <td>No</td>\n",
       "      <td>Yes</td>\n",
       "      <td>No</td>\n",
       "      <td>No</td>\n",
       "      <td>Yes</td>\n",
       "      <td>No</td>\n",
       "      <td>No</td>\n",
       "      <td>No</td>\n",
       "      <td>3</td>\n",
       "      <td>4xxDK4g1OHhZ44sTFy8Ktm</td>\n",
       "      <td>92.0</td>\n",
       "    </tr>\n",
       "  </tbody>\n",
       "</table>\n",
       "</div>"
      ],
      "text/plain": [
       "         school   conference          song_name  \\\n",
       "0    Notre Dame  Independent      Victory March   \n",
       "1        Baylor       Big 12          Old Fight   \n",
       "2    Iowa State       Big 12  Iowa State Fights   \n",
       "3        Kansas       Big 12      I'm a Jayhawk   \n",
       "4  Kansas State       Big 12    Wildcat Victory   \n",
       "\n",
       "                                             writers    year student_writer  \\\n",
       "0                   Michael J. Shea and John F. Shea  1908.0             No   \n",
       "1                         Dick Baker and Frank Boggs  1947.0            Yes   \n",
       "2  Jack Barker, Manly Rice, Paul Gnam, Rosalind K...  1930.0            Yes   \n",
       "3                              George \"Dumpy\" Bowles  1912.0            Yes   \n",
       "4                                  Harry E. Erickson  1927.0            Yes   \n",
       "\n",
       "  official_song contest  bpm  sec_duration fight  number_fights victory  \\\n",
       "0           Yes      No  152            64   Yes              1     Yes   \n",
       "1           Yes      No   76            99   Yes              4     Yes   \n",
       "2           Yes      No  155            55   Yes              5      No   \n",
       "3           Yes      No  137            62    No              0      No   \n",
       "4           Yes      No   80            67   Yes              6     Yes   \n",
       "\n",
       "  win_won victory_win_won  rah nonsense colors  men opponents spelling  \\\n",
       "0     Yes             Yes  Yes       No    Yes  Yes        No       No   \n",
       "1     Yes             Yes   No       No    Yes   No        No      Yes   \n",
       "2      No              No  Yes       No     No  Yes        No      Yes   \n",
       "3      No              No   No      Yes     No  Yes       Yes       No   \n",
       "4      No             Yes   No       No    Yes   No        No       No   \n",
       "\n",
       "   trope_count              spotify_id  years_old  \n",
       "0            6  15a3ShKX3XWKzq0lSS48yr      111.0  \n",
       "1            5  2ZsaI0Cu4nz8DHfBkPt0Dl       72.0  \n",
       "2            4  3yyfoOXZQCtR6pfRJqu9pl       89.0  \n",
       "3            3  0JzbjZgcjugS0dmPjF9R89      107.0  \n",
       "4            3  4xxDK4g1OHhZ44sTFy8Ktm       92.0  "
      ]
     },
     "execution_count": 68,
     "metadata": {},
     "output_type": "execute_result"
    }
   ],
   "source": [
    "fight_songs.head()"
   ]
  },
  {
   "cell_type": "code",
   "execution_count": null,
   "metadata": {},
   "outputs": [],
   "source": []
  },
  {
   "cell_type": "code",
   "execution_count": 77,
   "metadata": {},
   "outputs": [
    {
     "data": {
      "image/png": "[encoded data removed]",
      "text/plain": [
       "<Figure size 720x576 with 1 Axes>"
      ]
     },
     "metadata": {
      "needs_background": "light"
     },
     "output_type": "display_data"
    }
   ],
   "source": [
    "### using groupby \n",
    "fight_songs.groupby(['student_writer', 'conference'])['sec_duration'].mean().unstack().plot.bar(figsize=(10,8));"
   ]
  },
  {
   "cell_type": "code",
   "execution_count": 67,
   "metadata": {},
   "outputs": [
    {
     "data": {
      "image/png": "[encoded data removed]",
      "text/plain": [
       "<Figure size 432x288 with 1 Axes>"
      ]
     },
     "metadata": {
      "needs_background": "light"
     },
     "output_type": "display_data"
    }
   ],
   "source": [
    "%matplotlib inline\n",
    "fight_songs.groupby('conference')['sec_duration'].mean().plot.bar(1);"
   ]
  },
  {
   "cell_type": "code",
   "execution_count": 86,
   "metadata": {},
   "outputs": [],
   "source": [
    "# Change Texas fight song\n",
    "fight_songs.loc[7, 'song_name'] = 'I love Austin'"
   ]
  },
  {
   "cell_type": "code",
   "execution_count": 88,
   "metadata": {},
   "outputs": [
    {
     "data": {
      "text/html": [
       "<div>\n",
       "<style scoped>\n",
       "    .dataframe tbody tr th:only-of-type {\n",
       "        vertical-align: middle;\n",
       "    }\n",
       "\n",
       "    .dataframe tbody tr th {\n",
       "        vertical-align: top;\n",
       "    }\n",
       "\n",
       "    .dataframe thead th {\n",
       "        text-align: right;\n",
       "    }\n",
       "</style>\n",
       "<table border=\"1\" class=\"dataframe\">\n",
       "  <thead>\n",
       "    <tr style=\"text-align: right;\">\n",
       "      <th></th>\n",
       "      <th>school</th>\n",
       "      <th>conference</th>\n",
       "      <th>song_name</th>\n",
       "      <th>writers</th>\n",
       "      <th>year</th>\n",
       "      <th>student_writer</th>\n",
       "      <th>official_song</th>\n",
       "      <th>contest</th>\n",
       "      <th>bpm</th>\n",
       "      <th>sec_duration</th>\n",
       "      <th>fight</th>\n",
       "      <th>number_fights</th>\n",
       "      <th>victory</th>\n",
       "      <th>win_won</th>\n",
       "      <th>victory_win_won</th>\n",
       "      <th>rah</th>\n",
       "      <th>nonsense</th>\n",
       "      <th>colors</th>\n",
       "      <th>men</th>\n",
       "      <th>opponents</th>\n",
       "      <th>spelling</th>\n",
       "      <th>trope_count</th>\n",
       "      <th>spotify_id</th>\n",
       "      <th>years_old</th>\n",
       "    </tr>\n",
       "  </thead>\n",
       "  <tbody>\n",
       "    <tr>\n",
       "      <td>5</td>\n",
       "      <td>Oklahoma</td>\n",
       "      <td>Big 12</td>\n",
       "      <td>Boomer Sooner</td>\n",
       "      <td>Arthur M. Alden</td>\n",
       "      <td>1905.0</td>\n",
       "      <td>Yes</td>\n",
       "      <td>Yes</td>\n",
       "      <td>No</td>\n",
       "      <td>153</td>\n",
       "      <td>37</td>\n",
       "      <td>No</td>\n",
       "      <td>0</td>\n",
       "      <td>No</td>\n",
       "      <td>No</td>\n",
       "      <td>No</td>\n",
       "      <td>Yes</td>\n",
       "      <td>No</td>\n",
       "      <td>No</td>\n",
       "      <td>No</td>\n",
       "      <td>No</td>\n",
       "      <td>Yes</td>\n",
       "      <td>2</td>\n",
       "      <td>0QXC8Gg1oKWkORegslTXoT</td>\n",
       "      <td>114.0</td>\n",
       "    </tr>\n",
       "    <tr>\n",
       "      <td>6</td>\n",
       "      <td>Oklahoma State</td>\n",
       "      <td>Big 12</td>\n",
       "      <td>Ride 'Em Cowboys</td>\n",
       "      <td>J.K. Long</td>\n",
       "      <td>1934.0</td>\n",
       "      <td>No</td>\n",
       "      <td>Yes</td>\n",
       "      <td>No</td>\n",
       "      <td>180</td>\n",
       "      <td>29</td>\n",
       "      <td>Yes</td>\n",
       "      <td>5</td>\n",
       "      <td>Yes</td>\n",
       "      <td>No</td>\n",
       "      <td>Yes</td>\n",
       "      <td>No</td>\n",
       "      <td>No</td>\n",
       "      <td>No</td>\n",
       "      <td>Yes</td>\n",
       "      <td>Yes</td>\n",
       "      <td>No</td>\n",
       "      <td>4</td>\n",
       "      <td>0mTJqaacUZPG740Y1YDn5j</td>\n",
       "      <td>85.0</td>\n",
       "    </tr>\n",
       "    <tr>\n",
       "      <td>7</td>\n",
       "      <td>Texas</td>\n",
       "      <td>Big 12</td>\n",
       "      <td>I love Austin</td>\n",
       "      <td>Walter S. Hunnicutt, James E. King and Burnett...</td>\n",
       "      <td>1923.0</td>\n",
       "      <td>No</td>\n",
       "      <td>Yes</td>\n",
       "      <td>No</td>\n",
       "      <td>81</td>\n",
       "      <td>65</td>\n",
       "      <td>Yes</td>\n",
       "      <td>17</td>\n",
       "      <td>No</td>\n",
       "      <td>Yes</td>\n",
       "      <td>Yes</td>\n",
       "      <td>No</td>\n",
       "      <td>No</td>\n",
       "      <td>Yes</td>\n",
       "      <td>No</td>\n",
       "      <td>Yes</td>\n",
       "      <td>No</td>\n",
       "      <td>4</td>\n",
       "      <td>53CytfvDMSkJHY5PtrcZiD</td>\n",
       "      <td>96.0</td>\n",
       "    </tr>\n",
       "  </tbody>\n",
       "</table>\n",
       "</div>"
      ],
      "text/plain": [
       "           school conference         song_name  \\\n",
       "5        Oklahoma     Big 12     Boomer Sooner   \n",
       "6  Oklahoma State     Big 12  Ride 'Em Cowboys   \n",
       "7           Texas     Big 12     I love Austin   \n",
       "\n",
       "                                             writers    year student_writer  \\\n",
       "5                                    Arthur M. Alden  1905.0            Yes   \n",
       "6                                          J.K. Long  1934.0             No   \n",
       "7  Walter S. Hunnicutt, James E. King and Burnett...  1923.0             No   \n",
       "\n",
       "  official_song contest  bpm  sec_duration fight  number_fights victory  \\\n",
       "5           Yes      No  153            37    No              0      No   \n",
       "6           Yes      No  180            29   Yes              5     Yes   \n",
       "7           Yes      No   81            65   Yes             17      No   \n",
       "\n",
       "  win_won victory_win_won  rah nonsense colors  men opponents spelling  \\\n",
       "5      No              No  Yes       No     No   No        No      Yes   \n",
       "6      No             Yes   No       No     No  Yes       Yes       No   \n",
       "7     Yes             Yes   No       No    Yes   No       Yes       No   \n",
       "\n",
       "   trope_count              spotify_id  years_old  \n",
       "5            2  0QXC8Gg1oKWkORegslTXoT      114.0  \n",
       "6            4  0mTJqaacUZPG740Y1YDn5j       85.0  \n",
       "7            4  53CytfvDMSkJHY5PtrcZiD       96.0  "
      ]
     },
     "execution_count": 88,
     "metadata": {},
     "output_type": "execute_result"
    }
   ],
   "source": [
    "fight_songs.loc[5:7]"
   ]
  },
  {
   "cell_type": "code",
   "execution_count": 73,
   "metadata": {
    "scrolled": true
   },
   "outputs": [
    {
     "data": {
      "text/plain": [
       "0"
      ]
     },
     "execution_count": 73,
     "metadata": {},
     "output_type": "execute_result"
    }
   ],
   "source": [
    "## the function working on one individual input \n"
   ]
  },
  {
   "cell_type": "code",
   "execution_count": 5,
   "metadata": {},
   "outputs": [],
   "source": [
    "## make new column with function \n"
   ]
  }
 ],
 "metadata": {
  "anaconda-cloud": {},
  "kernelspec": {
   "display_name": "Python 3",
   "language": "python",
   "name": "python3"
  },
  "language_info": {
   "codemirror_mode": {
    "name": "ipython",
    "version": 3
   },
   "file_extension": ".py",
   "mimetype": "text/x-python",
   "name": "python",
   "nbconvert_exporter": "python",
   "pygments_lexer": "ipython3",
   "version": "3.6.9"
  }
 },
 "nbformat": 4,
 "nbformat_minor": 2
}
