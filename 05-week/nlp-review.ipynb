{
 "cells": [
  {
   "cell_type": "code",
   "execution_count": 34,
   "metadata": {},
   "outputs": [],
   "source": [
    "import pandas as pd\n",
    "from sklearn.datasets import fetch_20newsgroups\n",
    "from sklearn.feature_extraction.text import CountVectorizer, ENGLISH_STOP_WORDS\n",
    "from sklearn.model_selection import train_test_split, GridSearchCV\n",
    "from sklearn.pipeline import Pipeline\n",
    "from sklearn.metrics import confusion_matrix, classification_report, accuracy_score\n",
    "from sklearn.linear_model import LogisticRegression\n",
    "from sklearn.ensemble import RandomForestClassifier\n",
    "import matplotlib.pyplot as plt \n",
    "\n",
    "%matplotlib inline"
   ]
  },
  {
   "cell_type": "markdown",
   "metadata": {},
   "source": [
    "### Lets use fetch_20newsgroups to load the data - let's chose two categories per the [sklearn userguide](https://scikit-learn.org/stable/datasets/index.html#newsgroups-dataset)"
   ]
  },
  {
   "cell_type": "code",
   "execution_count": 35,
   "metadata": {},
   "outputs": [
    {
     "data": {
      "text/html": [
       "<div>\n",
       "<style scoped>\n",
       "    .dataframe tbody tr th:only-of-type {\n",
       "        vertical-align: middle;\n",
       "    }\n",
       "\n",
       "    .dataframe tbody tr th {\n",
       "        vertical-align: top;\n",
       "    }\n",
       "\n",
       "    .dataframe thead th {\n",
       "        text-align: right;\n",
       "    }\n",
       "</style>\n",
       "<table border=\"1\" class=\"dataframe\">\n",
       "  <thead>\n",
       "    <tr style=\"text-align: right;\">\n",
       "      <th></th>\n",
       "      <th>Text</th>\n",
       "      <th>Target</th>\n",
       "    </tr>\n",
       "  </thead>\n",
       "  <tbody>\n",
       "    <tr>\n",
       "      <th>0</th>\n",
       "      <td>From: rsteele@adam.ll.mit.edu (Rob Steele)\\nSu...</td>\n",
       "      <td>soc.religion.christian</td>\n",
       "    </tr>\n",
       "    <tr>\n",
       "      <th>1</th>\n",
       "      <td>Subject: Re: After 2000 years, can we say that...</td>\n",
       "      <td>talk.religion.misc</td>\n",
       "    </tr>\n",
       "    <tr>\n",
       "      <th>2</th>\n",
       "      <td>From: max@hilbert.cyprs.rain.com (Max Webb)\\nS...</td>\n",
       "      <td>soc.religion.christian</td>\n",
       "    </tr>\n",
       "    <tr>\n",
       "      <th>3</th>\n",
       "      <td>From: weinss@rs6101.ecs.rpi.edu (Stephen Andre...</td>\n",
       "      <td>talk.religion.misc</td>\n",
       "    </tr>\n",
       "    <tr>\n",
       "      <th>4</th>\n",
       "      <td>From: emarsh@hernes-sun.Eng.Sun.COM (Eric Mars...</td>\n",
       "      <td>talk.religion.misc</td>\n",
       "    </tr>\n",
       "  </tbody>\n",
       "</table>\n",
       "</div>"
      ],
      "text/plain": [
       "                                                Text                  Target\n",
       "0  From: rsteele@adam.ll.mit.edu (Rob Steele)\\nSu...  soc.religion.christian\n",
       "1  Subject: Re: After 2000 years, can we say that...      talk.religion.misc\n",
       "2  From: max@hilbert.cyprs.rain.com (Max Webb)\\nS...  soc.religion.christian\n",
       "3  From: weinss@rs6101.ecs.rpi.edu (Stephen Andre...      talk.religion.misc\n",
       "4  From: emarsh@hernes-sun.Eng.Sun.COM (Eric Mars...      talk.religion.misc"
      ]
     },
     "execution_count": 35,
     "metadata": {},
     "output_type": "execute_result"
    }
   ],
   "source": [
    "### code \n",
    "cats = ['soc.religion.christian', 'talk.religion.misc']\n",
    "\n",
    "## get documents from the appropriate categories \n",
    "ng = fetch_20newsgroups(categories=cats)\n",
    "\n",
    "## I like having the target column be a string value in many cases \n",
    "y_str = [ng.target_names[0] if i ==0 else ng.target_names[1] for i in ng.target]\n",
    "\n",
    "df = pd.DataFrame({'Text':ng.data, 'Target':y_str})\n",
    "\n",
    "df.head()"
   ]
  },
  {
   "cell_type": "markdown",
   "metadata": {},
   "source": [
    "### Train test split our data - then instantiate a countvectorizer object and look for potential stopwords"
   ]
  },
  {
   "cell_type": "code",
   "execution_count": 36,
   "metadata": {},
   "outputs": [],
   "source": [
    "## Instatiate a countvectorizer object - fit transform and then put the results in a dataframe \n",
    "X_train, X_test, y_train, y_test = train_test_split(df['Text'], \\\n",
    "                                                   df['Target'], \\\n",
    "                                                   random_state=93510)\n",
    "cvec = CountVectorizer(min_df=3) # shuffles around indices and loses order\n",
    "\n",
    "X_train_cvec = cvec.fit_transform(X_train)"
   ]
  },
  {
   "cell_type": "code",
   "execution_count": 37,
   "metadata": {},
   "outputs": [
    {
     "data": {
      "text/plain": [
       "<732x6289 sparse matrix of type '<class 'numpy.int64'>'\n",
       "\twith 123373 stored elements in Compressed Sparse Row format>"
      ]
     },
     "execution_count": 37,
     "metadata": {},
     "output_type": "execute_result"
    }
   ],
   "source": [
    "X_train_cvec"
   ]
  },
  {
   "cell_type": "code",
   "execution_count": 38,
   "metadata": {},
   "outputs": [
    {
     "data": {
      "text/plain": [
       "00            1\n",
       "000           0\n",
       "0001          0\n",
       "01            1\n",
       "01580         0\n",
       "             ..\n",
       "jennifer      0\n",
       "jerry         0\n",
       "jersey        0\n",
       "jerusalem     0\n",
       "jesus        11\n",
       "Name: 730, Length: 3116, dtype: int64"
      ]
     },
     "execution_count": 38,
     "metadata": {},
     "output_type": "execute_result"
    }
   ],
   "source": [
    "# .getfeaturenames creates columns here, .todense makes the sparse matrix a matrix that can be dataframed\n",
    "X_train_df = pd.DataFrame(X_train_cvec.todense(), columns = cvec.get_feature_names())\n",
    "X_train_df.loc[730, :'jesus']"
   ]
  },
  {
   "cell_type": "code",
   "execution_count": null,
   "metadata": {},
   "outputs": [],
   "source": []
  },
  {
   "cell_type": "markdown",
   "metadata": {},
   "source": [
    "### How can we build a plot displaying the most frequently occuring words? "
   ]
  },
  {
   "cell_type": "code",
   "execution_count": 39,
   "metadata": {},
   "outputs": [
    {
     "data": {
      "image/png": "[encoded data removed]",
      "text/plain": [
       "<Figure size 432x288 with 1 Axes>"
      ]
     },
     "metadata": {
      "needs_background": "light"
     },
     "output_type": "display_data"
    }
   ],
   "source": [
    "X_train_df.sum().sort_values().tail(20).plot.barh(); # before removing stop words"
   ]
  },
  {
   "cell_type": "markdown",
   "metadata": {},
   "source": [
    "### Add stopwords to our vectorizer - any other parameters we could tune?"
   ]
  },
  {
   "cell_type": "code",
   "execution_count": 63,
   "metadata": {},
   "outputs": [],
   "source": [
    "# Stop words\n",
    "stops = list(ENGLISH_STOP_WORDS)"
   ]
  },
  {
   "cell_type": "code",
   "execution_count": 47,
   "metadata": {},
   "outputs": [],
   "source": [
    "X_train, X_test, y_train, y_test = train_test_split(df['Text'], \\\n",
    "                                                   df['Target'], \\\n",
    "                                                   random_state=13326)\n",
    "cvec = CountVectorizer(min_df=3, stop_words=stops)\n",
    "X_train_cvec = cvec.fit_transform(X_train)\n",
    "X_train_df = pd.DataFrame(X_train_cvec.todense(), columns = cvec.get_feature_names())"
   ]
  },
  {
   "cell_type": "code",
   "execution_count": 45,
   "metadata": {},
   "outputs": [
    {
     "data": {
      "image/png": "[encoded data removed]",
      "text/plain": [
       "<Figure size 432x288 with 1 Axes>"
      ]
     },
     "metadata": {
      "needs_background": "light"
     },
     "output_type": "display_data"
    }
   ],
   "source": [
    "X_train_df.sum().sort_values().tail(20).plot.barh(); # before removing stop words"
   ]
  },
  {
   "cell_type": "markdown",
   "metadata": {},
   "source": [
    "### Let's run a Logistic Regression and look at a confusion matrix of our results "
   ]
  },
  {
   "cell_type": "code",
   "execution_count": 48,
   "metadata": {
    "scrolled": true
   },
   "outputs": [
    {
     "name": "stderr",
     "output_type": "stream",
     "text": [
      "/opt/anaconda3/lib/python3.6/site-packages/sklearn/linear_model/logistic.py:432: FutureWarning: Default solver will be changed to 'lbfgs' in 0.22. Specify a solver to silence this warning.\n",
      "  FutureWarning)\n"
     ]
    },
    {
     "data": {
      "text/plain": [
       "0.9754098360655737"
      ]
     },
     "execution_count": 48,
     "metadata": {},
     "output_type": "execute_result"
    }
   ],
   "source": [
    "lr = LogisticRegression()\n",
    "\n",
    "X_test_cvec = cvec.transform(X_test)\n",
    "\n",
    "X_test_df = pd.DataFrame(X_test_cvec.todense(), \\\n",
    "                         columns = cvec.get_feature_names())\n",
    "\n",
    "lr.fit(X_train_df, y_train)\n",
    "\n",
    "lr.score(X_test_df, y_test)"
   ]
  },
  {
   "cell_type": "code",
   "execution_count": 49,
   "metadata": {},
   "outputs": [],
   "source": [
    "preds = lr.predict(X_test_df) # Must store predictions so we can use it in confusion matrix"
   ]
  },
  {
   "cell_type": "code",
   "execution_count": 58,
   "metadata": {},
   "outputs": [
    {
     "data": {
      "text/html": [
       "<div>\n",
       "<style scoped>\n",
       "    .dataframe tbody tr th:only-of-type {\n",
       "        vertical-align: middle;\n",
       "    }\n",
       "\n",
       "    .dataframe tbody tr th {\n",
       "        vertical-align: top;\n",
       "    }\n",
       "\n",
       "    .dataframe thead th {\n",
       "        text-align: right;\n",
       "    }\n",
       "</style>\n",
       "<table border=\"1\" class=\"dataframe\">\n",
       "  <thead>\n",
       "    <tr style=\"text-align: right;\">\n",
       "      <th></th>\n",
       "      <th>Preds: soc.religion.christian</th>\n",
       "      <th>Preds: talk.religion.misc</th>\n",
       "    </tr>\n",
       "  </thead>\n",
       "  <tbody>\n",
       "    <tr>\n",
       "      <th>Actual soc.religion.christian</th>\n",
       "      <td>153</td>\n",
       "      <td>2</td>\n",
       "    </tr>\n",
       "    <tr>\n",
       "      <th>Actual talk.religion.misc</th>\n",
       "      <td>4</td>\n",
       "      <td>85</td>\n",
       "    </tr>\n",
       "  </tbody>\n",
       "</table>\n",
       "</div>"
      ],
      "text/plain": [
       "                               Preds: soc.religion.christian  \\\n",
       "Actual soc.religion.christian                            153   \n",
       "Actual talk.religion.misc                                  4   \n",
       "\n",
       "                               Preds: talk.religion.misc  \n",
       "Actual soc.religion.christian                          2  \n",
       "Actual talk.religion.misc                             85  "
      ]
     },
     "execution_count": 58,
     "metadata": {},
     "output_type": "execute_result"
    }
   ],
   "source": [
    "cols = 'Preds: ' + lr.classes_\n",
    "\n",
    "rows = 'Actual ' + lr.classes_ \n",
    "pd.DataFrame(confusion_matrix(y_test, preds), columns=cols, index=rows) # using predictions vs y_test for our confusion matrix"
   ]
  },
  {
   "cell_type": "markdown",
   "metadata": {},
   "source": [
    "### Analyze the coefs of our Logistic Regression "
   ]
  },
  {
   "cell_type": "code",
   "execution_count": 61,
   "metadata": {},
   "outputs": [
    {
     "data": {
      "text/plain": [
       "array(['soc.religion.christian', 'talk.religion.misc'], dtype=object)"
      ]
     },
     "execution_count": 61,
     "metadata": {},
     "output_type": "execute_result"
    }
   ],
   "source": [
    "lr.classes_"
   ]
  },
  {
   "cell_type": "code",
   "execution_count": 62,
   "metadata": {
    "scrolled": false
   },
   "outputs": [
    {
     "data": {
      "image/png": "[encoded data removed]",
      "text/plain": [
       "<Figure size 576x576 with 1 Axes>"
      ]
     },
     "metadata": {
      "needs_background": "light"
     },
     "output_type": "display_data"
    }
   ],
   "source": [
    "fig , ax = plt.subplots(figsize=(8,8))\n",
    "coef_df = pd.DataFrame(lr.coef_, columns=cv.get_feature_names()).T\n",
    "coef_df['ABS'] = coef_df[0].abs()\n",
    "coef_df.sort_values('ABS').tail(20).loc[:,0].plot.barh(ax=ax);\n",
    "#rutgers is .8 to the e (44%) as liklely to be included in soc.religion.christian, in this current form"
   ]
  }
 ],
 "metadata": {
  "anaconda-cloud": {},
  "kernelspec": {
   "display_name": "Python 3",
   "language": "python",
   "name": "python3"
  },
  "language_info": {
   "codemirror_mode": {
    "name": "ipython",
    "version": 3
   },
   "file_extension": ".py",
   "mimetype": "text/x-python",
   "name": "python",
   "nbconvert_exporter": "python",
   "pygments_lexer": "ipython3",
   "version": "3.6.9"
  }
 },
 "nbformat": 4,
 "nbformat_minor": 2
}
