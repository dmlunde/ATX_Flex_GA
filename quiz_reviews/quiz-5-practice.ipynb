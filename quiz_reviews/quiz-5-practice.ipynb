{
 "cells": [
  {
   "cell_type": "markdown",
   "metadata": {},
   "source": [
    "<img src=\"http://imgur.com/1ZcRyrc.png\" style=\"float: left; margin: 15px; height: 80px\">\n",
    "\n",
    "# Quiz 5 In-Class Review (DSI-10)\n",
    "\n",
    " _**Author:** Boom D. (DSI-NYC)_\n",
    "\n",
    "---"
   ]
  },
  {
   "cell_type": "markdown",
   "metadata": {},
   "source": [
    "## Clustering"
   ]
  },
  {
   "cell_type": "markdown",
   "metadata": {},
   "source": [
    "**Q1.** In $k$-means clustering, what do we mean by $k$ and \"means\"?"
   ]
  },
  {
   "cell_type": "markdown",
   "metadata": {},
   "source": [
    "**Answer:** \n"
   ]
  },
  {
   "cell_type": "markdown",
   "metadata": {},
   "source": [
    "**Q2.** You're a data scientist at BlackRock and you have an intern whose name is [**Hodor**](https://mir-s3-cdn-cf.behance.net/project_modules/fs/90605e38279517.575b5f960a79e.jpg). Hodor is helping you build a $k$-means clustering algorithm on hedge fund data as a possible way to categorize individual hedge funds by type: Event Driven, Global Macro, Market Neutral, etc. _(If you're interested in learning more about this, [check this out](http://depts.washington.edu/sce2003/Papers/284.pdf))_\n",
    "\n",
    "Suppose you have 100 hedge funds in your sample. Hodor proposes setting $k = 93$. Explain why that choice of $k$ is or isn't appropriate."
   ]
  },
  {
   "cell_type": "markdown",
   "metadata": {},
   "source": [
    "**Answer:**\n"
   ]
  },
  {
   "cell_type": "markdown",
   "metadata": {},
   "source": [
    "**Q3.** Briefly explain why it is necessary to scale data as a preprocessing step before any clustering algorithm."
   ]
  },
  {
   "cell_type": "markdown",
   "metadata": {},
   "source": [
    "**Answer:** \n"
   ]
  },
  {
   "cell_type": "markdown",
   "metadata": {},
   "source": [
    "**Q4.** What is one major pitfall of $k$-means clustering that DBSCAN clustering potentially addresses?"
   ]
  },
  {
   "cell_type": "markdown",
   "metadata": {},
   "source": [
    "**Answer:** \n"
   ]
  },
  {
   "cell_type": "markdown",
   "metadata": {},
   "source": [
    "## Principal Component Analysis"
   ]
  },
  {
   "cell_type": "markdown",
   "metadata": {},
   "source": [
    "**Q5.** Dimensionality Reduction methods can be categorized as **Feature Elimination** or **Feature Extraction**. Explain the difference between these two and provide one example of each."
   ]
  },
  {
   "cell_type": "markdown",
   "metadata": {},
   "source": [
    "**Answer:**"
   ]
  },
  {
   "cell_type": "markdown",
   "metadata": {},
   "source": [
    "## Recommender Systems"
   ]
  },
  {
   "cell_type": "markdown",
   "metadata": {},
   "source": [
    "**Q6.** You have a subscription for HBO Now. The site notices you liked watching Game of Thrones and searching through its list of available shows.\n",
    "\n",
    "Briefly explain one metric that could be used to determine how similar two movies are. Be sure to identify what the possible range of values for that metric are as well as how to interpret them."
   ]
  },
  {
   "cell_type": "markdown",
   "metadata": {},
   "source": []
  },
  {
   "cell_type": "markdown",
   "metadata": {},
   "source": [
    "## Time Series"
   ]
  },
  {
   "cell_type": "markdown",
   "metadata": {},
   "source": [
    "**Q7** The Endicott Pear Tree is the oldest fruit bearing tree in the world. A plant enthusiast has managed to salvage data on its yields since the 1649 until today. Given its resilience and the fact that it is still living today, its long term yields are unsurprisingly stable. What models can be used to predict its future yields? _(more than one answer may apply)_\n",
    "\n",
    "(A) $AR(p)$ <br>\n",
    "(B) $MA(q)$ <br>\n",
    "(C) $ARMA(p,q)$ <br>\n",
    "(D) $ARIMA(p,d,q)$ <br>"
   ]
  },
  {
   "cell_type": "markdown",
   "metadata": {},
   "source": [
    "_Answer:_"
   ]
  },
  {
   "cell_type": "markdown",
   "metadata": {},
   "source": [
    "**Q8.** Over the past few decades, Thailand has been plagued by military coups. Because of these shocks, Thai government worker salaries are somewhat unstable. A budget analyst employed by the Thai government tries to model his own wages using a time series model. Which of these models can be used to predict his future annual wages? _(more than one answer may apply)_\n",
    "\n",
    "(A) $AR(p)$ <br>\n",
    "(B) $MA(q)$ <br>\n",
    "(C) $ARMA(p,q)$ <br>\n",
    "(D) $ARIMA(p,d,q)$ <br>"
   ]
  },
  {
   "cell_type": "markdown",
   "metadata": {},
   "source": [
    "_Answer:_"
   ]
  },
  {
   "cell_type": "markdown",
   "metadata": {},
   "source": [
    "**Q9.** Suppose you are trying to forecast poultry prices in a developing country over time. The price of poultry follows long-term trends and is also susceptible to sudden, unexpected shocks due to pandemics and diseases. You run the Augmented Dickey-Fuller test on your data and get a p-value of 0.035. Which of the following models is most appropriate to fit to the data? _(more than one answer may apply)_\n",
    "\n",
    "(A) $AR(p)$ <br>\n",
    "(B) $MA(q)$ <br>\n",
    "(C) $ARMA(p,q)$ <br>\n",
    "(D) $ARIMA(p,d,q)$ <br>"
   ]
  },
  {
   "cell_type": "markdown",
   "metadata": {},
   "source": [
    "_Answer:_"
   ]
  },
  {
   "cell_type": "markdown",
   "metadata": {},
   "source": [
    "**Q10.** Suppose you are trying to forecast natural gas prices over time. The price of natural gas follows long-term\n",
    "trends and is also susceptible to sudden, unexpected shocks due to natural disasters and political events. You run the Augmented Dickey-Fuller test on your data and get a p-value of 0.513. Which of the following models is most appropriate to fit to the data? _(more than one answer may apply)_\n",
    "\n",
    "(A) $AR(p)$ <br>\n",
    "(B) $MA(q)$ <br>\n",
    "(C) $ARMA(p,q)$ <br>\n",
    "(D) $ARIMA(p,d,q)$ <br>"
   ]
  },
  {
   "cell_type": "markdown",
   "metadata": {},
   "source": [
    "_Answer:_"
   ]
  },
  {
   "cell_type": "markdown",
   "metadata": {},
   "source": [
    "**Q11.** I know that Population (and their past values) and Unemployment (and their past values) are factors that affect the GDP. Past values of GDP also affect future values of GDP.\n",
    "\n",
    "As such, I need to _**simultaneously**_ forecast the country's GDP, Population, and Unemployment levels. What class of time series models would allow me to do this?"
   ]
  },
  {
   "cell_type": "markdown",
   "metadata": {},
   "source": [
    "_Answer:_\n"
   ]
  },
  {
   "cell_type": "markdown",
   "metadata": {},
   "source": [
    "## Bayesian Statistics"
   ]
  },
  {
   "cell_type": "markdown",
   "metadata": {},
   "source": [
    "**Q12.** When we use the term \"prior distribution\", we are specifically referring to the distribution of what?"
   ]
  },
  {
   "cell_type": "markdown",
   "metadata": {},
   "source": [
    "_Answer:_\n"
   ]
  },
  {
   "cell_type": "markdown",
   "metadata": {},
   "source": [
    "**Q13.** Which of the following statements are true? Select all that apply.\n",
    "\n",
    "A. The prior distribution incorporates domain knowledge and previous beliefs. <br>\n",
    "B. Confidence Intervals exist in both Frequentist Statistics and Bayesian Statistics. <br>\n",
    "C. Frequentists interpret probability in the context of some long-run behavior. <br>\n",
    "D. If we don't have a conjugate prior, there is no way to determine the posterior distribution."
   ]
  },
  {
   "cell_type": "markdown",
   "metadata": {},
   "source": [
    "_Answer:_\n"
   ]
  },
  {
   "cell_type": "markdown",
   "metadata": {},
   "source": [
    "## A/B Testing"
   ]
  },
  {
   "cell_type": "markdown",
   "metadata": {},
   "source": [
    "**Q14.** You are interviewing for a data scientist role with Lyft. Your interviewer asks \"We want to use an A/B test to determine whether adding a mini-game feature to the app after a user requests a ride will reduce the number of cancellations. Which of the following would you do?\"\n",
    "\n",
    "Select all that apply:\n",
    "\n",
    "A. Randomly assign users to the control group (no mini-game) and the treatment group (with mini-game) <br>\n",
    "B. Assign all users who have had been using Lyft for at least 3 years to the mini-game <br>\n",
    "C. Define your parameter of interest before conducting the experiment <br>\n",
    "D. Stratify (aka block) on age as well as other important user characteristics that are likely to influence the outcome"
   ]
  },
  {
   "cell_type": "markdown",
   "metadata": {},
   "source": [
    "_Answer:_\n"
   ]
  }
 ],
 "metadata": {
  "kernelspec": {
   "display_name": "Python 3",
   "language": "python",
   "name": "python3"
  },
  "language_info": {
   "codemirror_mode": {
    "name": "ipython",
    "version": 3
   },
   "file_extension": ".py",
   "mimetype": "text/x-python",
   "name": "python",
   "nbconvert_exporter": "python",
   "pygments_lexer": "ipython3",
   "version": "3.7.4"
  }
 },
 "nbformat": 4,
 "nbformat_minor": 2
}
