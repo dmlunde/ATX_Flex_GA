{
 "cells": [
  {
   "cell_type": "markdown",
   "metadata": {},
   "source": [
    "<img src=\"http://imgur.com/1ZcRyrc.png\" style=\"float: left; margin: 15px; height: 80px\">\n",
    "\n",
    "# Quiz 1 Group Review\n",
    "\n",
    " _**Author:** Boom D. (DSI-NYC), wes (la) , J (ATX)_ \n",
    "\n",
    "---"
   ]
  },
  {
   "cell_type": "markdown",
   "metadata": {},
   "source": [
    "### Python Basics"
   ]
  },
  {
   "cell_type": "markdown",
   "metadata": {},
   "source": [
    "**Q1.** Without running the following block of code, predict what the output will be. If there is an error in the code or the code does not produce any output, explain what is causing that to happen.\n",
    "\n",
    "```python\n",
    "for i in range(10):\n",
    "    print(i)\n",
    "```"
   ]
  },
  {
   "cell_type": "markdown",
   "metadata": {},
   "source": [
    "Answer to Q1:\n",
    "\n",
    "The output of the code will be the numbers 0 - 9 printed out line by line\n"
   ]
  },
  {
   "cell_type": "code",
   "execution_count": 2,
   "metadata": {},
   "outputs": [
    {
     "name": "stdout",
     "output_type": "stream",
     "text": [
      "0\n",
      "1\n",
      "2\n",
      "3\n",
      "4\n",
      "5\n",
      "6\n",
      "7\n",
      "8\n",
      "9\n"
     ]
    }
   ],
   "source": [
    "for i in range(10):\n",
    "    print(i)"
   ]
  },
  {
   "cell_type": "markdown",
   "metadata": {},
   "source": [
    "**Q2.** Without running the following block of code, predict what the output will be. If there is an error in the code or the code does not produce any output, explain what is causing that to happen.\n",
    "```python\n",
    "x = 3\n",
    "while x >= 5:     # What's after the while loop must evaluate a Boolean\n",
    "    x = x + 1\n",
    "    print(x)```"
   ]
  },
  {
   "cell_type": "markdown",
   "metadata": {},
   "source": [
    "The code will not produce any output because x is not greater than or equal to 5 so the while loop never even starts. If it was greater than 5 it'd be infinite."
   ]
  },
  {
   "cell_type": "markdown",
   "metadata": {},
   "source": [
    "**Q3.** Without running the following block of code, predict what the output will be. If there is an error in the code or the code does not produce any output, explain what is causing that to happen.\n",
    "```python\n",
    "x  = 4 \n",
    "for i in range(4):\n",
    "    x = 0\n",
    "    x = x +4\n",
    "print(x)```"
   ]
  },
  {
   "cell_type": "markdown",
   "metadata": {},
   "source": [
    "The for loop will not run 4 times because print isn't inside of it.  x = 4 because the loop doesn't matter."
   ]
  },
  {
   "cell_type": "markdown",
   "metadata": {},
   "source": [
    "**Q4.** Without running the following block of code, predict what the output will be. If there is an error in the code or the code does not produce any output, explain what is causing that to happen.\n",
    "```python\n",
    "for i in range(2,4):\n",
    "    for j in range(3):\n",
    "        print(i, j)```"
   ]
  },
  {
   "cell_type": "markdown",
   "metadata": {},
   "source": [
    "2, 3 .....  0, 1, 2    # Runs through first loop and then second all the way through because there's no return ending. Prints out the following:\n",
    "\n",
    "(2, 0)\n",
    "(2, 1)\n",
    "(2, 2)\n",
    "(3, 0)\n",
    "(3, 1)\n",
    "(3, 2)"
   ]
  },
  {
   "cell_type": "markdown",
   "metadata": {},
   "source": [
    "**Q5.** Without running the following block of code, identify the error(s) if there are any:\n",
    "```python\n",
    "num_list = [-1, 2, -3, 4, -5, 6, -7, 8, -9, 10]\n",
    "grand_sum = 0\n",
    "neg_sum = 0\n",
    "for k in num_list:\n",
    "grand_sum = grand_sum + k\n",
    "    if k < 0\n",
    "        neg_sum += k\n",
    "return(grand_sum,neg_sum)\n",
    "```"
   ]
  },
  {
   "cell_type": "markdown",
   "metadata": {},
   "source": [
    "num list is a valid list of integers.\n",
    "grand and neg sum are valid zero integers.\n",
    "for k in num_list: is a valid beginning for a for loop.\n",
    "the next line will error though because it is not indented properly, and the if statement doesn't have a colon. return must always be inside of a function.\n",
    "\n",
    "\n",
    "\n",
    "\n",
    "first neg_sum is -1,"
   ]
  },
  {
   "cell_type": "markdown",
   "metadata": {},
   "source": [
    "**Q6.** Construct a function `xs_counter` that takes in a single string and returns the number of times the letters \"x\" or \"s\" show up in the string. For example, `xs_count('super excessive')` should return `4`. You can safely assume that the user will always input a string so no need to take care of cases when there would be an input error."
   ]
  },
  {
   "cell_type": "code",
   "execution_count": 21,
   "metadata": {},
   "outputs": [],
   "source": [
    "def xs_counter(word):\n",
    "    count = 0\n",
    "    for letter in word:\n",
    "        if letter == 'x':\n",
    "            count += 1\n",
    "        elif letter == 's':\n",
    "            count += 1\n",
    "    return count\n"
   ]
  },
  {
   "cell_type": "code",
   "execution_count": 26,
   "metadata": {},
   "outputs": [
    {
     "data": {
      "text/plain": [
       "[0, 1, 1, 1, 1, 1, 1, 0, 0, 1, 0, 0, 1, 1]"
      ]
     },
     "execution_count": 26,
     "metadata": {},
     "output_type": "execute_result"
    }
   ],
   "source": [
    "word = 'asssxxxbhxbasx'\n",
    "[xs_counter(letter) for letter in word]"
   ]
  },
  {
   "cell_type": "code",
   "execution_count": 23,
   "metadata": {},
   "outputs": [
    {
     "data": {
      "text/plain": [
       "8"
      ]
     },
     "execution_count": 23,
     "metadata": {},
     "output_type": "execute_result"
    }
   ],
   "source": [
    "xs_counter('ADWAWDADFAxaxcxsxsxschrSA')"
   ]
  },
  {
   "cell_type": "markdown",
   "metadata": {},
   "source": [
    "### Comprehensions"
   ]
  },
  {
   "cell_type": "markdown",
   "metadata": {},
   "source": [
    "**Q7.** Suppose `num_list` is a list of integers. We want to get the remainders when each number in `num_list` is divided by 3. Write code that does this using list comprehension."
   ]
  },
  {
   "cell_type": "code",
   "execution_count": 15,
   "metadata": {},
   "outputs": [
    {
     "data": {
      "text/plain": [
       "[1, 2, 1, 0, 2, 0, 2, 0]"
      ]
     },
     "execution_count": 15,
     "metadata": {},
     "output_type": "execute_result"
    }
   ],
   "source": [
    "\n",
    "# your code here\n",
    "num_list = [1, 2, 4, 6, 8, 12, 29, 33]\n",
    "\n",
    "[num % 3 for num in num_list]"
   ]
  },
  {
   "cell_type": "markdown",
   "metadata": {},
   "source": [
    "### Probability"
   ]
  },
  {
   "cell_type": "markdown",
   "metadata": {},
   "source": [
    "### Discrete and Continuous Distributions"
   ]
  },
  {
   "cell_type": "markdown",
   "metadata": {},
   "source": [
    "**Q8.** Let $N$ be a random variable for the number of cells of bacteria in a petri dish after 24 hours. Is $N$ discrete or continuous?"
   ]
  },
  {
   "cell_type": "markdown",
   "metadata": {},
   "source": [
    "discrete"
   ]
  },
  {
   "cell_type": "markdown",
   "metadata": {},
   "source": [
    "**Q9.** Let $T$ be a random variable for the amount of time until the next Q train arrives. Is $T$ discrete or continuous?"
   ]
  },
  {
   "cell_type": "markdown",
   "metadata": {},
   "source": [
    "continuous"
   ]
  },
  {
   "cell_type": "markdown",
   "metadata": {},
   "source": [
    "**Q10.** Let $P$ be a random variable for the value rolled on a 120-sided die. Is $P$ discrete or continuous?"
   ]
  },
  {
   "cell_type": "markdown",
   "metadata": {},
   "source": [
    "discrete"
   ]
  },
  {
   "cell_type": "markdown",
   "metadata": {},
   "source": [
    "**Q11.** Based on a historical sample of 730 days, the Taco Deli on 6th St. averages 175 visitors per day. Let $V$ be the number of visitors we are predicting to show up tomorrow. Which of the following is the most reasonable distribution to model $X$?\n",
    "\n",
    "ANSWER IS (F) The Poisson Distribution\n",
    "\n",
    "(A) The Binomial Distribution <br>\n",
    "(B) The Continuous Uniform Distribution <br>\n",
    "(C) The Discrete Uniform Distribution <br>\n",
    "(D) The Exponential Distribution <br>\n",
    "(E) The Normal Distribution <br>\n",
    "(F) The Poisson Distribution <br>"
   ]
  },
  {
   "cell_type": "markdown",
   "metadata": {},
   "source": []
  },
  {
   "cell_type": "markdown",
   "metadata": {},
   "source": [
    "**Q12.** Boom is notorious for having zero athletic talent, but tries his luck at basketball anyway. His past records show that he manages to successfully land a shot 1% (FIXED PROBABILITY OF SUCCESS) of the time. Wes challenges Boom to try shooting 10 times.(because there's 10 shots it is now a sum of Bernoulli so the answer is Binomial) Let $X$ be the number of shots Boom will successfully land in this game. Which of the following is the most reasonable distribution to model $X$?\n",
    "\n",
    "ANSWER IS (A) Binomial Distribution\n",
    "\n",
    "(A) The Binomial Distribution <br>\n",
    "(B) The Continuous Uniform Distribution <br>\n",
    "(C) The Discrete Uniform Distribution <br>\n",
    "(D) The Exponential Distribution <br>\n",
    "(E) The Normal Distribution <br>\n",
    "(F) The Poisson Distribution <br>"
   ]
  },
  {
   "cell_type": "markdown",
   "metadata": {},
   "source": []
  }
 ],
 "metadata": {
  "kernelspec": {
   "display_name": "Python 3",
   "language": "python",
   "name": "python3"
  },
  "language_info": {
   "codemirror_mode": {
    "name": "ipython",
    "version": 3
   },
   "file_extension": ".py",
   "mimetype": "text/x-python",
   "name": "python",
   "nbconvert_exporter": "python",
   "pygments_lexer": "ipython3",
   "version": "3.6.9"
  }
 },
 "nbformat": 4,
 "nbformat_minor": 2
}
