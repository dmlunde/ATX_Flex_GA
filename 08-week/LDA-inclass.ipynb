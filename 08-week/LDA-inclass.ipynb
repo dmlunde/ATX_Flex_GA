{
 "cells": [
  {
   "cell_type": "markdown",
   "metadata": {},
   "source": [
    "# Introduction to Latent Dirichlet Allocation\n",
    "---\n",
    "\n",
    "## What is LDA?\n",
    "\n",
    "Latent Dirichlet allocation is a type of **topic modeling**. A topic model is a statistical model of what themes appear in a collection of documents.\n",
    "\n",
    "Imagine you have a collection of webpages from a pet care website. Each webpage is considered a document. Each document is about different things. One webpage might be about picking a good veterinarian, and another webpage might be about vaccination schedules for your pets.\n",
    "\n",
    "This pet care website might discuss lots of different types of pets. One webpage might be mostly about dogs, but it mentions cats, too. Another webpage might be mostly about reptiles, but also about amphibians and insects.\n",
    "\n",
    "We can think of each type of pet as a potential topic. Some webpages might be 80% about dogs and 20% about cats, and others might be 75% about reptiles, 10% about cats, 10% about dogs, and 5% about insects.\n",
    "\n",
    "LDA infers the underlying (latent!) topics in a collection of documents. It is unsupervised because there is no set `y`. The number of topics to search for is a hyperparameter we can tune, and it's up to the modeler to interpret the results.\n",
    "\n",
    "---\n",
    "\n",
    "## How does it work?\n",
    "\n",
    "LDA pretends each document is generated in the following way:\n",
    "\n",
    "1. Choose N ∼ Poisson(ξ).\n",
    "2. Choose θ ∼ Dir(α).\n",
    "3. For each of the $N$ words $w_n$:\n",
    "    * Choose a topic $z_n$ ∼ Multinomial($\\theta$).\n",
    "    \n",
    "    * Choose a word wn from $p(w_n | z_n ,\\beta)$, a multinomial probability conditioned on the topic $z_n$.\n",
    "\n",
    "(Source: [Latent Dirichlet Allocation](http://www.jmlr.org/papers/volume3/blei03a/blei03a.pdf).)\n",
    "\n",
    "Or,\n",
    "\n",
    "1. Choose a number of words that the document will have.\n",
    "2. Choose a θ, which is the topic-document distribution. What percentage is the document \"built from\" various topics?\n",
    "3. For each word in the document:\n",
    "    * Choose a topic according to the topic-document distribution.\n",
    "    * Choose a word from the topic, according to the probabilities of words from that topic.\n",
    "    \n",
    "Each topic is a distribution across words. **Every word appears in every topic, but with a different probability.**\n",
    "\n",
    "Since LDA is pretending each document is generated this way, it can reverse-engineer the topics and the word-probabilities per topic.\n",
    "\n",
    "---\n",
    "\n",
    "## Codealong:\n",
    "\n",
    "We're going to topic model on Donald Trump's tweets from about the last year.\n",
    "\n",
    "## Imports:\n",
    "\n",
    "(pip install libraries if you are missing them - most likey `pyLDAvis` )\n",
    "\n",
    "[pypi for pyLDAvis](https://pypi.org/project/pyLDAvis/)"
   ]
  },
  {
   "cell_type": "code",
   "execution_count": 2,
   "metadata": {},
   "outputs": [],
   "source": [
    "# import twitter \n",
    "import re\n",
    "import datetime \n",
    "import pandas as pd\n",
    "import matplotlib.pyplot as plt\n",
    "import matplotlib.patches as mpatches\n",
    "import matplotlib\n",
    "import numpy as np\n",
    "import pandas as pd\n",
    "\n",
    "\n",
    "from sklearn.feature_extraction.text import CountVectorizer, ENGLISH_STOP_WORDS\n",
    "from sklearn.decomposition import LatentDirichletAllocation\n",
    "\n",
    "from gensim import corpora, models\n",
    "import pyLDAvis.gensim\n",
    "\n",
    "pyLDAvis.enable_notebook()\n",
    "\n",
    "import warnings\n",
    "warnings.filterwarnings(\"ignore\")\n",
    "\n",
    "np.random.seed(42)\n",
    "\n"
   ]
  },
  {
   "cell_type": "code",
   "execution_count": 3,
   "metadata": {},
   "outputs": [],
   "source": [
    "# Lets load in our keys as variables below \n",
    "# with open('./twitter_keys.txt') as f:\n",
    "#     ck, cs, atk, ats = f.read().split(',')"
   ]
  },
  {
   "cell_type": "code",
   "execution_count": 4,
   "metadata": {},
   "outputs": [],
   "source": [
    "# These are mainly here for reference.  These are \"my\" application keys.  \n",
    "# You should create your own using the Twitter developer portal\n",
    "\n",
    "# import twitter, re, datetime, pandas as pd\n",
    "\n",
    "# # your keys go here:\n",
    "# twitter_keys = {\n",
    "#     'consumer_key':        ck,\n",
    "#     'consumer_secret':     cs,\n",
    "#     'access_token_key':    atk,\n",
    "#     'access_token_secret': ats\n",
    "# }\n",
    "\n",
    "# api = twitter.Api(\n",
    "#     consumer_key         =   twitter_keys['consumer_key'],\n",
    "#     consumer_secret      =   twitter_keys['consumer_secret'],\n",
    "#     access_token_key     =   twitter_keys['access_token_key'],\n",
    "#     access_token_secret  =   twitter_keys['access_token_secret']\n",
    "# )\n"
   ]
  },
  {
   "cell_type": "markdown",
   "metadata": {},
   "source": []
  },
  {
   "cell_type": "code",
   "execution_count": 5,
   "metadata": {},
   "outputs": [],
   "source": [
    "## pip install python-twitter\n",
    "\n",
    "# class TweetMiner(object):\n",
    "\n",
    "#     result_limit    =   20    \n",
    "#     api             =   False\n",
    "#     data            =   []\n",
    "    \n",
    "#     def __init__(self, keys_dict, api, result_limit = 20):\n",
    "        \n",
    "#         self.api = api\n",
    "#         self.twitter_keys = keys_dict\n",
    "        \n",
    "#         self.result_limit = result_limit\n",
    "        \n",
    "\n",
    "#     def mine_user_tweets(self, user, mine_retweets=True, max_pages=5):\n",
    "#         \"\"\"\n",
    "#         param: mine_retweets (boolean), you can implement this feature if you want to differentiate between retweets or not\n",
    "#         \"\"\"\n",
    "#         data           =  []\n",
    "#         last_tweet_id  =  False\n",
    "#         page           =  1\n",
    "        \n",
    "#         while page <= max_pages:\n",
    "            \n",
    "#             if last_tweet_id:\n",
    "#                 statuses   =   self.api.GetUserTimeline(screen_name=user, count=self.result_limit,include_rts=mine_retweets,\\\n",
    "#                                                         max_id=last_tweet_id - 1)        \n",
    "#             else:\n",
    "#                 statuses   =   self.api.GetUserTimeline(screen_name=user, count=self.result_limit, include_rts=mine_retweets)\n",
    "                \n",
    "#             for item in statuses:\n",
    "\n",
    "#                 mined = {\n",
    "#                     'tweet_id':        item.id,\n",
    "#                     'handle':          item.user.name,\n",
    "#                     'retweet_count':   item.retweet_count,\n",
    "#                     'text':            item.text,\n",
    "#                     'mined_at':        datetime.datetime.now(),\n",
    "#                     'created_at':      item.created_at,\n",
    "#                 }\n",
    "                \n",
    "#                 last_tweet_id = item.id\n",
    "#                 data.append(mined)\n",
    "                \n",
    "#             page += 1\n",
    "            \n",
    "#         return data"
   ]
  },
  {
   "cell_type": "code",
   "execution_count": 6,
   "metadata": {},
   "outputs": [],
   "source": [
    "# miner = TweetMiner(twitter_keys, api, result_limit=200)"
   ]
  },
  {
   "cell_type": "code",
   "execution_count": 7,
   "metadata": {},
   "outputs": [],
   "source": [
    "# data = miner.mine_user_tweets(user='realDonaldTrump', max_pages=20)\n",
    "#pd.DataFrame(data).to_csv('../data/trump_tweets.csv', index=False)"
   ]
  },
  {
   "cell_type": "code",
   "execution_count": 8,
   "metadata": {},
   "outputs": [],
   "source": [
    "# df = pd.DataFrame(data)\n",
    "\n",
    "df = pd.read_csv('../data/trump_tweets.csv')"
   ]
  },
  {
   "cell_type": "markdown",
   "metadata": {},
   "source": [
    "Preprocess Text\n",
    "---"
   ]
  },
  {
   "cell_type": "code",
   "execution_count": 21,
   "metadata": {},
   "outputs": [
    {
     "data": {
      "image/png": "[encoded data removed]",
      "text/plain": [
       "<Figure size 432x288 with 1 Axes>"
      ]
     },
     "metadata": {
      "needs_background": "light"
     },
     "output_type": "display_data"
    }
   ],
   "source": [
    "## Try initializing a count vectorizer\n",
    "\n",
    "stops = list(ENGLISH_STOP_WORDS) + ['rt', 'https', 'realdonaldtrump']\n",
    "cv = CountVectorizer(min_df=3, stop_words=stops)\n",
    "vect = cv.fit_transform(df['text'])\n",
    "\n",
    "df_vect = pd.DataFrame(vect.todense(), columns=cv.get_feature_names())\n",
    "\n",
    "df_vect.sum().sort_values().tail(15).plot.barh();"
   ]
  },
  {
   "cell_type": "code",
   "execution_count": 11,
   "metadata": {},
   "outputs": [],
   "source": [
    "## Explore common words - any words we suggest adding to stopwords? "
   ]
  },
  {
   "cell_type": "markdown",
   "metadata": {},
   "source": [
    "## Fit an LDA Model"
   ]
  },
  {
   "cell_type": "code",
   "execution_count": 23,
   "metadata": {},
   "outputs": [],
   "source": [
    "lda = LatentDirichletAllocation(random_state=42, n_components=5)\n"
   ]
  },
  {
   "cell_type": "code",
   "execution_count": 24,
   "metadata": {},
   "outputs": [
    {
     "data": {
      "text/plain": [
       "LatentDirichletAllocation(batch_size=128, doc_topic_prior=None,\n",
       "                          evaluate_every=-1, learning_decay=0.7,\n",
       "                          learning_method='batch', learning_offset=10.0,\n",
       "                          max_doc_update_iter=100, max_iter=10,\n",
       "                          mean_change_tol=0.001, n_components=5, n_jobs=None,\n",
       "                          perp_tol=0.1, random_state=42, topic_word_prior=None,\n",
       "                          total_samples=1000000.0, verbose=0)"
      ]
     },
     "execution_count": 24,
     "metadata": {},
     "output_type": "execute_result"
    }
   ],
   "source": [
    "lda.fit(df_vect)"
   ]
  },
  {
   "cell_type": "code",
   "execution_count": 36,
   "metadata": {},
   "outputs": [
    {
     "data": {
      "text/plain": [
       "president      34.159745\n",
       "impeachment    32.941075\n",
       "democrats      32.866697\n",
       "house          28.417295\n",
       "today          24.636119\n",
       "amp            20.085675\n",
       "gop            17.982462\n",
       "senate         17.837015\n",
       "just           17.486608\n",
       "trump          17.257618\n",
       "Name: 3, dtype: float64"
      ]
     },
     "execution_count": 36,
     "metadata": {},
     "output_type": "execute_result"
    }
   ],
   "source": [
    "#lda.fit(df_vect)\n",
    "df_features = pd.DataFrame(lda.components_, columns=cv.get_feature_names()).T\n",
    "df_features[3].sort_values(ascending=False).head(10)\n",
    "\n",
    "\n",
    "\n"
   ]
  },
  {
   "cell_type": "markdown",
   "metadata": {},
   "source": [
    "### Examine Topics "
   ]
  },
  {
   "cell_type": "code",
   "execution_count": null,
   "metadata": {
    "scrolled": true
   },
   "outputs": [],
   "source": []
  },
  {
   "cell_type": "markdown",
   "metadata": {},
   "source": [
    "### Examine Probabilities "
   ]
  },
  {
   "cell_type": "code",
   "execution_count": 37,
   "metadata": {
    "scrolled": false
   },
   "outputs": [],
   "source": [
    "# Let's get the unique tokens in each tweet\n",
    "texts = [df_vect.columns[df_vect.loc[index,:].to_numpy().nonzero()] for index in df_vect.index]"
   ]
  },
  {
   "cell_type": "code",
   "execution_count": 38,
   "metadata": {},
   "outputs": [],
   "source": [
    "dictionary = corpora.Dictionary(texts)\n"
   ]
  },
  {
   "cell_type": "code",
   "execution_count": 39,
   "metadata": {},
   "outputs": [
    {
     "name": "stdout",
     "output_type": "stream",
     "text": [
      "[(0, 1), (1, 1), (2, 1), (3, 1), (4, 1), (5, 1)]\n",
      "[(4, 1), (6, 1), (7, 1), (8, 1), (9, 1), (10, 1), (11, 1), (12, 1)]\n",
      "[]\n",
      "[(13, 1), (14, 1), (15, 1), (16, 1), (17, 1), (18, 1), (19, 1), (20, 1), (21, 1)]\n",
      "[(22, 1), (23, 1), (24, 1)]\n"
     ]
    }
   ],
   "source": [
    "for text in texts[:5]:\n",
    "    print(dictionary.doc2bow(text))"
   ]
  },
  {
   "cell_type": "code",
   "execution_count": 40,
   "metadata": {},
   "outputs": [],
   "source": [
    "corpus = [dictionary.doc2bow(text) for text in texts]\n"
   ]
  },
  {
   "cell_type": "code",
   "execution_count": 41,
   "metadata": {},
   "outputs": [],
   "source": [
    "ldamodel = models.ldamodel.LdaModel(corpus,                     # pass in our corpus\n",
    "                                    id2word = dictionary,       # matches each word to its \"number\" or \"spot\" in the dictionary\n",
    "                                    num_topics = 5,             # number of topics T to find\n",
    "                                    passes = 10,                 # number of passes through corpus; similar to number of epochs\n",
    "                                    minimum_probability = 0.01) # only include topics above this probability threshold"
   ]
  },
  {
   "cell_type": "code",
   "execution_count": 42,
   "metadata": {},
   "outputs": [
    {
     "data": {
      "text/html": [
       "\n",
       "<link rel=\"stylesheet\" type=\"text/css\" href=\"https://cdn.rawgit.com/bmabey/pyLDAvis/files/ldavis.v1.0.0.css\">\n",
       "\n",
       "\n",
       "<div id=\"ldavis_el470381122756135201462565403\"></div>\n",
       "<script type=\"text/javascript\">\n",
       "\n",
       "var ldavis_el470381122756135201462565403_data = {\"mdsDat\": {\"x\": [0.03660694927887235, 0.12090837709402229, -0.13626280285000678, -0.09791481240912026, 0.07666228888623249], \"y\": [0.008951378815164725, -0.1264858419480851, 5.209824087317479e-05, -0.034174855789881976, 0.15165722068192922], \"topics\": [1, 2, 3, 4, 5], \"cluster\": [1, 1, 1, 1, 1], \"Freq\": [23.086944580078125, 22.46914291381836, 19.744218826293945, 18.15403938293457, 16.545656204223633]}, \"tinfo\": {\"Category\": [\"Default\", \"Default\", \"Default\", \"Default\", \"Default\", \"Default\", \"Default\", \"Default\", \"Default\", \"Default\", \"Default\", \"Default\", \"Default\", \"Default\", \"Default\", \"Default\", \"Default\", \"Default\", \"Default\", \"Default\", \"Default\", \"Default\", \"Default\", \"Default\", \"Default\", \"Default\", \"Default\", \"Default\", \"Default\", \"Default\", \"Topic1\", \"Topic1\", \"Topic1\", \"Topic1\", \"Topic1\", \"Topic1\", \"Topic1\", \"Topic1\", \"Topic1\", \"Topic1\", \"Topic1\", \"Topic1\", \"Topic1\", \"Topic1\", \"Topic1\", \"Topic1\", \"Topic1\", \"Topic1\", \"Topic1\", \"Topic1\", \"Topic1\", \"Topic1\", \"Topic1\", \"Topic1\", \"Topic1\", \"Topic1\", \"Topic1\", \"Topic1\", \"Topic1\", \"Topic1\", \"Topic1\", \"Topic1\", \"Topic1\", \"Topic1\", \"Topic1\", \"Topic1\", \"Topic1\", \"Topic1\", \"Topic1\", \"Topic1\", \"Topic1\", \"Topic1\", \"Topic1\", \"Topic1\", \"Topic1\", \"Topic1\", \"Topic1\", \"Topic1\", \"Topic1\", \"Topic1\", \"Topic1\", \"Topic1\", \"Topic1\", \"Topic1\", \"Topic1\", \"Topic2\", \"Topic2\", \"Topic2\", \"Topic2\", \"Topic2\", \"Topic2\", \"Topic2\", \"Topic2\", \"Topic2\", \"Topic2\", \"Topic2\", \"Topic2\", \"Topic2\", \"Topic2\", \"Topic2\", \"Topic2\", \"Topic2\", \"Topic2\", \"Topic2\", \"Topic2\", \"Topic2\", \"Topic2\", \"Topic2\", \"Topic2\", \"Topic2\", \"Topic2\", \"Topic2\", \"Topic2\", \"Topic2\", \"Topic2\", \"Topic2\", \"Topic2\", \"Topic2\", \"Topic2\", \"Topic2\", \"Topic2\", \"Topic2\", \"Topic2\", \"Topic2\", \"Topic2\", \"Topic2\", \"Topic2\", \"Topic2\", \"Topic2\", \"Topic2\", \"Topic2\", \"Topic2\", \"Topic2\", \"Topic2\", \"Topic2\", \"Topic2\", \"Topic2\", \"Topic2\", \"Topic2\", \"Topic2\", \"Topic2\", \"Topic2\", \"Topic3\", \"Topic3\", \"Topic3\", \"Topic3\", \"Topic3\", \"Topic3\", \"Topic3\", \"Topic3\", \"Topic3\", \"Topic3\", \"Topic3\", \"Topic3\", \"Topic3\", \"Topic3\", \"Topic3\", \"Topic3\", \"Topic3\", \"Topic3\", \"Topic3\", \"Topic3\", \"Topic3\", \"Topic3\", \"Topic3\", \"Topic3\", \"Topic3\", \"Topic3\", \"Topic3\", \"Topic3\", \"Topic3\", \"Topic3\", \"Topic3\", \"Topic3\", \"Topic3\", \"Topic3\", \"Topic3\", \"Topic3\", \"Topic3\", \"Topic3\", \"Topic3\", \"Topic3\", \"Topic3\", \"Topic3\", \"Topic3\", \"Topic3\", \"Topic3\", \"Topic3\", \"Topic3\", \"Topic3\", \"Topic3\", \"Topic3\", \"Topic3\", \"Topic3\", \"Topic3\", \"Topic3\", \"Topic3\", \"Topic3\", \"Topic3\", \"Topic3\", \"Topic3\", \"Topic3\", \"Topic3\", \"Topic3\", \"Topic3\", \"Topic4\", \"Topic4\", \"Topic4\", \"Topic4\", \"Topic4\", \"Topic4\", \"Topic4\", \"Topic4\", \"Topic4\", \"Topic4\", \"Topic4\", \"Topic4\", \"Topic4\", \"Topic4\", \"Topic4\", \"Topic4\", \"Topic4\", \"Topic4\", \"Topic4\", \"Topic4\", \"Topic4\", \"Topic4\", \"Topic4\", \"Topic4\", \"Topic4\", \"Topic4\", \"Topic4\", \"Topic4\", \"Topic4\", \"Topic4\", \"Topic4\", \"Topic4\", \"Topic4\", \"Topic4\", \"Topic4\", \"Topic4\", \"Topic4\", \"Topic4\", \"Topic4\", \"Topic4\", \"Topic4\", \"Topic4\", \"Topic4\", \"Topic4\", \"Topic4\", \"Topic4\", \"Topic4\", \"Topic4\", \"Topic4\", \"Topic4\", \"Topic4\", \"Topic4\", \"Topic4\", \"Topic4\", \"Topic4\", \"Topic4\", \"Topic5\", \"Topic5\", \"Topic5\", \"Topic5\", \"Topic5\", \"Topic5\", \"Topic5\", \"Topic5\", \"Topic5\", \"Topic5\", \"Topic5\", \"Topic5\", \"Topic5\", \"Topic5\", \"Topic5\", \"Topic5\", \"Topic5\", \"Topic5\", \"Topic5\", \"Topic5\", \"Topic5\", \"Topic5\", \"Topic5\", \"Topic5\", \"Topic5\", \"Topic5\", \"Topic5\", \"Topic5\", \"Topic5\", \"Topic5\", \"Topic5\", \"Topic5\", \"Topic5\", \"Topic5\", \"Topic5\", \"Topic5\", \"Topic5\", \"Topic5\", \"Topic5\", \"Topic5\", \"Topic5\", \"Topic5\", \"Topic5\", \"Topic5\", \"Topic5\", \"Topic5\", \"Topic5\", \"Topic5\", \"Topic5\", \"Topic5\", \"Topic5\", \"Topic5\", \"Topic5\", \"Topic5\"], \"Freq\": [61.0, 91.0, 46.0, 28.0, 42.0, 82.0, 48.0, 19.0, 16.0, 25.0, 19.0, 38.0, 17.0, 15.0, 10.0, 9.0, 9.0, 9.0, 13.0, 18.0, 11.0, 13.0, 40.0, 15.0, 12.0, 18.0, 8.0, 11.0, 19.0, 36.0, 8.113027572631836, 10.223526954650879, 10.895264625549316, 4.625271797180176, 6.1343302726745605, 4.588443279266357, 6.113602638244629, 3.7848124504089355, 3.7846829891204834, 3.773897171020508, 4.522540092468262, 3.761950731277466, 3.7533674240112305, 3.7280054092407227, 3.6795384883880615, 2.885439872741699, 2.884814739227295, 2.8847975730895996, 2.882242202758789, 2.8792309761047363, 2.8764731884002686, 2.8736155033111572, 2.803011417388916, 5.600088119506836, 2.769484758377075, 8.897842407226562, 14.94170093536377, 10.048788070678711, 13.681069374084473, 2.586791515350342, 8.7412109375, 15.441359519958496, 11.181909561157227, 13.60549259185791, 11.413933753967285, 23.73576545715332, 5.511921405792236, 20.83268165588379, 6.658560276031494, 9.026376724243164, 25.211151123046875, 6.092698574066162, 22.40587615966797, 11.78358268737793, 5.242251873016357, 8.94270133972168, 7.012655735015869, 14.93517017364502, 7.642641067504883, 8.416841506958008, 9.16716480255127, 8.467617988586426, 9.079581260681152, 6.832528114318848, 6.582938194274902, 6.255626678466797, 6.227496147155762, 6.19868278503418, 11.40837574005127, 16.726150512695312, 4.510682106018066, 4.510159969329834, 4.508054256439209, 3.637361526489258, 3.633796453475952, 3.6313202381134033, 3.6172280311584473, 3.577705144882202, 7.098303318023682, 3.5331990718841553, 2.780527114868164, 2.7805228233337402, 2.7804861068725586, 2.7804312705993652, 2.7804248332977295, 2.775644540786743, 2.773836612701416, 2.7710227966308594, 2.7709004878997803, 2.770810604095459, 2.767146348953247, 2.7642974853515625, 2.757676124572754, 11.039742469787598, 2.7489402294158936, 5.332178592681885, 9.00108814239502, 40.79328155517578, 9.442791938781738, 12.82484245300293, 43.97122573852539, 4.516928672790527, 5.086137294769287, 40.114845275878906, 5.3447489738464355, 7.120956897735596, 4.333425521850586, 15.965473175048828, 5.067687511444092, 6.1985249519348145, 11.432909965515137, 9.108248710632324, 8.111300468444824, 5.393249988555908, 5.879617691040039, 8.270291328430176, 8.567464828491211, 6.289937973022461, 8.258684158325195, 5.74144983291626, 6.128366947174072, 5.414303779602051, 7.987414360046387, 7.050856590270996, 5.353149890899658, 4.532381057739258, 6.0353546142578125, 4.484747409820557, 5.938549041748047, 3.630246877670288, 4.882535457611084, 2.7891244888305664, 2.7891228199005127, 2.7891178131103516, 2.789116144180298, 2.789109706878662, 2.788938045501709, 2.7888405323028564, 2.788701057434082, 2.781404972076416, 2.781393051147461, 2.7808265686035156, 2.7797868251800537, 2.778107166290283, 2.775545597076416, 2.7746365070343018, 2.7736032009124756, 2.770838975906372, 2.756049394607544, 2.75655198097229, 2.747725486755371, 2.732250213623047, 5.411297798156738, 11.797872543334961, 5.373800277709961, 11.011670112609863, 8.668429374694824, 9.06999683380127, 3.906681537628174, 10.989377975463867, 4.915838241577148, 19.17424964904785, 6.105410099029541, 18.088390350341797, 7.081767559051514, 5.845273494720459, 5.305715560913086, 15.938802719116211, 5.661363124847412, 3.656468629837036, 10.831559181213379, 4.334692001342773, 6.150517463684082, 13.86159610748291, 11.545533180236816, 6.708338737487793, 5.397745132446289, 9.116800308227539, 11.849353790283203, 7.231912612915039, 7.822515964508057, 7.426182270050049, 6.435165882110596, 5.536470890045166, 5.491431713104248, 9.593131065368652, 8.755711555480957, 8.723404884338379, 6.1992316246032715, 4.419593811035156, 3.610146999359131, 3.594841241836548, 3.5417466163635254, 3.5286312103271484, 2.7584168910980225, 2.7584116458892822, 2.758361577987671, 2.7574462890625, 2.7568724155426025, 2.7478933334350586, 2.7468605041503906, 2.7436840534210205, 2.734095811843872, 3.4122352600097656, 2.7264246940612793, 2.7141711711883545, 6.098194122314453, 2.7105765342712402, 2.676205635070801, 2.6487884521484375, 5.283570289611816, 3.285351276397705, 5.151710510253906, 3.7916758060455322, 4.424508094787598, 20.387916564941406, 15.395400047302246, 26.111486434936523, 5.9820780754089355, 10.238459587097168, 6.2142415046691895, 13.148599624633789, 6.754965305328369, 3.6222219467163086, 18.42731285095215, 3.488396406173706, 5.190120220184326, 10.258435249328613, 6.100583553314209, 9.748623847961426, 4.795365333557129, 6.848189353942871, 5.710941314697266, 7.224523067474365, 8.421998023986816, 4.424131393432617, 4.265050411224365, 4.785402774810791, 5.021061420440674, 5.278874397277832, 4.601943492889404, 8.696898460388184, 5.329738616943359, 4.494765758514404, 4.494756698608398, 4.494726657867432, 5.158870220184326, 4.419307708740234, 3.617089033126831, 3.575441837310791, 4.27407693862915, 2.77203106880188, 2.772019624710083, 2.771916151046753, 2.771360397338867, 2.771257162094116, 2.771254301071167, 2.7642734050750732, 2.761129140853882, 2.760328769683838, 2.7597854137420654, 2.7597780227661133, 2.755540609359741, 2.7503278255462646, 2.750308036804199, 2.7365097999572754, 2.7209973335266113, 5.172158718109131, 3.244662284851074, 4.491703033447266, 12.138362884521484, 8.273165702819824, 11.046757698059082, 4.379990100860596, 6.247371673583984, 6.216338157653809, 4.205386638641357, 6.139336585998535, 4.4274187088012695, 3.6339378356933594, 23.61212730407715, 3.5955944061279297, 17.017900466918945, 13.104461669921875, 7.9469990730285645, 5.2511115074157715, 4.483827590942383, 5.325649738311768, 6.915533065795898, 4.687914848327637, 5.727536678314209, 4.5091447830200195, 4.903365135192871, 4.5498270988464355, 4.832090854644775], \"Term\": [\"trump\", \"democrats\", \"great\", \"new\", \"schiff\", \"president\", \"house\", \"want\", \"republican\", \"thank\", \"adam\", \"amp\", \"party\", \"good\", \"hampshire\", \"security\", \"white\", \"pelositantrum\", \"joe\", \"time\", \"says\", \"breaking\", \"just\", \"make\", \"bolton\", \"years\", \"paulsperry_\", \"managers\", \"americans\", \"people\", \"days\", \"managers\", \"bolton\", \"17\", \"lindseygrahamsc\", \"proud\", \"repmikejohnson\", \"20\", \"deal\", \"questions\", \"kimstrassel\", \"shredded\", \"elisestefanik\", \"tied\", \"unconstitutional\", \"mentioned\", \"woman\", \"general\", \"tried\", \"alleged\", \"east\", \"dershowitz\", \"comey\", \"given\", \"aren\", \"didn\", \"adam\", \"hours\", \"time\", \"attempt\", \"john\", \"like\", \"dems\", \"case\", \"witnesses\", \"house\", \"romney\", \"schiff\", \"process\", \"team\", \"impeachment\", \"arguments\", \"democrats\", \"senate\", \"chairman\", \"american\", \"got\", \"trump\", \"ve\", \"democrat\", \"just\", \"today\", \"president\", \"pelosi\", \"whitehouse\", \"danscavino\", \"mr\", \"real\", \"joe\", \"want\", \"west\", \"virginia\", \"katrinapierson\", \"donald\", \"swamp\", \"hit\", \"lot\", \"tough\", \"donaldjtrumpjr\", \"scavino45\", \"uncle\", \"manchin\", \"defeated\", \"stuff\", \"action\", \"try\", \"november\", \"street\", \"journal\", \"editorial\", \"little\", \"congrats\", \"icymi\", \"election\", \"beat\", \"left\", \"economy\", \"trump\", \"jobs\", \"americans\", \"president\", \"making\", \"demdebate\", \"democrats\", \"repandybiggsaz\", \"best\", \"despite\", \"people\", \"radical\", \"dbongino\", \"nancy\", \"whitehouse\", \"pelosi\", \"history\", \"media\", \"america\", \"amp\", \"potus\", \"just\", \"watch\", \"impeachment\", \"iowa\", \"paulsperry_\", \"china\", \"doj\", \"man\", \"coronavirus\", \"fisa\", \"caucus\", \"25\", \"jim\", \"landed\", \"received\", \"doomed\", \"mark\", \"blow\", \"heckler\", \"yes\", \"fast\", \"closely\", \"count\", \"especially\", \"folks\", \"official\", \"starts\", \"things\", \"mexico\", \"cost\", \"gain\", \"endorsement\", \"documents\", \"love\", \"cnn\", \"good\", \"poll\", \"make\", \"working\", \"breaking\", \"finally\", \"years\", \"abuse\", \"amp\", \"greggjarrett\", \"just\", \"know\", \"foxandfriends\", \"strong\", \"schiff\", \"votes\", \"russia\", \"iowa\", \"terrible\", \"don\", \"great\", \"people\", \"country\", \"fake\", \"today\", \"impeachment\", \"gop\", \"senate\", \"new\", \"president\", \"political\", \"case\", \"hampshire\", \"white\", \"pelositantrum\", \"foreign\", \"winning\", \"looking\", \"coup\", \"killed\", \"promised\", \"rule\", \"senmcsallyaz\", \"enjoy\", \"mikecrapo\", \"bryant\", \"superbowl\", \"forward\", \"grow\", \"kind\", \"restore\", \"sotu2020\", \"liberal\", \"tomfitton\", \"deals\", \"includes\", \"market\", \"leader\", \"jonathan\", \"won\", \"administration\", \"hope\", \"new\", \"thank\", \"great\", \"read\", \"big\", \"congratulations\", \"america\", \"news\", \"transcripts\", \"president\", \"heading\", \"teamtrump\", \"today\", \"did\", \"house\", \"rally\", \"iowa\", \"going\", \"amp\", \"impeachment\", \"legal\", \"al\", \"ve\", \"nancy\", \"schiff\", \"just\", \"security\", \"support\", \"approval\", \"95\", \"rating\", \"mike\", \"including\", \"failed\", \"bad\", \"mini\", \"decision\", \"voting\", \"responsibility\", \"pressure\", \"dossier\", \"steele\", \"playstrumpcard\", \"created\", \"iranian\", \"53\", \"overall\", \"polls\", \"bernie\", \"sanders\", \"add\", \"iran\", \"interview\", \"fantastic\", \"terrorist\", \"republican\", \"says\", \"party\", \"corrupt\", \"gopchairwoman\", \"really\", \"democratic\", \"senategop\", \"having\", \"game\", \"democrats\", \"doesn\", \"impeachment\", \"house\", \"democrat\", \"record\", \"true\", \"hoax\", \"today\", \"ukraine\", \"senate\", \"marshablackburn\", \"gop\", \"did\", \"president\"], \"Total\": [61.0, 91.0, 46.0, 28.0, 42.0, 82.0, 48.0, 19.0, 16.0, 25.0, 19.0, 38.0, 17.0, 15.0, 10.0, 9.0, 9.0, 9.0, 13.0, 18.0, 11.0, 13.0, 40.0, 15.0, 12.0, 18.0, 8.0, 11.0, 19.0, 36.0, 8.987765312194824, 11.671313285827637, 12.55954360961914, 5.383284568786621, 7.176129341125488, 5.381980895996094, 7.176660537719727, 4.483197212219238, 4.483194351196289, 4.482969284057617, 5.378395080566406, 4.482284069061279, 4.482203960418701, 4.4809160232543945, 4.478702068328857, 3.5810351371765137, 3.5809993743896484, 3.581000804901123, 3.580881118774414, 3.5808775424957275, 3.580702304840088, 3.5806891918182373, 3.577730178833008, 7.159904479980469, 3.5767369270324707, 11.623665809631348, 19.680667877197266, 13.404367446899414, 18.75504493713379, 3.5677034854888916, 12.480238914489746, 24.88283920288086, 18.670072555541992, 23.974956512451172, 19.536964416503906, 48.55731201171875, 8.020384788513184, 42.48725128173828, 10.68226432800293, 15.95505142211914, 68.62876892089844, 9.770167350769043, 91.13996124267578, 30.836345672607422, 8.007065773010254, 21.167171478271484, 14.150548934936523, 61.344635009765625, 18.500272750854492, 23.72452735900879, 40.32969284057617, 34.99639892578125, 82.74537658691406, 21.077945709228516, 20.198205947875977, 6.956907272338867, 6.957477569580078, 6.957035541534424, 13.042354583740234, 19.127336502075195, 5.2189483642578125, 5.218944072723389, 5.219213962554932, 4.349928855895996, 4.350203514099121, 4.350724220275879, 4.349900245666504, 4.35239839553833, 8.692014694213867, 4.350287914276123, 3.481062889099121, 3.4810638427734375, 3.4810588359832764, 3.481050491333008, 3.4810476303100586, 3.4810214042663574, 3.4809978008270264, 3.4810049533843994, 3.4809999465942383, 3.480997323989868, 3.4814181327819824, 3.4814841747283936, 3.4808239936828613, 13.944427490234375, 3.482226610183716, 6.950490951538086, 12.171759605407715, 61.344635009765625, 13.021745681762695, 19.214466094970703, 82.74537658691406, 6.080972671508789, 6.970073699951172, 91.13996124267578, 7.821125507354736, 11.37398624420166, 6.125341892242432, 36.697208404541016, 7.903143405914307, 10.421799659729004, 24.496694564819336, 20.198205947875977, 21.077945709228516, 9.579949378967285, 12.275962829589844, 28.645906448364258, 38.34597396850586, 15.744246482849121, 40.32969284057617, 13.127545356750488, 68.62876892089844, 28.717792510986328, 8.718891143798828, 7.846913814544678, 6.1054511070251465, 5.232488632202148, 6.973299026489258, 5.233353137969971, 6.97487211227417, 4.3615851402282715, 6.10098934173584, 3.4891517162323, 3.4891531467437744, 3.489149808883667, 3.4891486167907715, 3.4891486167907715, 3.489124059677124, 3.4891088008880615, 3.489086389541626, 3.489062547683716, 3.489096164703369, 3.489117383956909, 3.489001750946045, 3.4890151023864746, 3.4890525341033936, 3.488680124282837, 3.488996982574463, 3.4889328479766846, 3.489037275314331, 3.4902377128601074, 3.4905569553375244, 3.4885358810424805, 6.966152191162109, 15.658060073852539, 6.973148345947266, 15.736973762512207, 13.10273551940918, 13.903115272521973, 5.230370998382568, 18.35744857788086, 6.971500873565674, 38.34597396850586, 9.68525505065918, 40.32969284057617, 12.241097450256348, 9.57510757446289, 8.707311630249023, 42.48725128173828, 9.669939994812012, 5.226978302001953, 28.717792510986328, 6.954265117645264, 12.171869277954102, 46.75614929199219, 36.697208404541016, 14.807217597961426, 10.422561645507812, 34.99639892578125, 68.62876892089844, 21.839916229248047, 30.836345672607422, 28.542957305908203, 82.74537658691406, 14.000104904174805, 23.974956512451172, 10.358168601989746, 9.495216369628906, 9.495498657226562, 6.908544540405273, 5.185007572174072, 4.322898864746094, 4.32261323928833, 4.323295593261719, 4.323137283325195, 3.460369348526001, 3.4603676795959473, 3.460364818572998, 3.4603769779205322, 3.460347890853882, 3.4604079723358154, 3.46087384223938, 3.4606094360351562, 3.461329221725464, 4.3240766525268555, 3.4606356620788574, 3.4606542587280273, 7.778309345245361, 3.4604125022888184, 3.460984230041504, 3.4615540504455566, 6.9134602546691895, 4.324981212615967, 6.920236587524414, 5.187773704528809, 6.086706161499023, 28.542957305908203, 25.0914249420166, 46.75614929199219, 8.649556159973145, 17.423696517944336, 9.542937278747559, 28.645906448364258, 12.13752269744873, 5.191206932067871, 82.74537658691406, 5.189781665802002, 10.392725944519043, 34.99639892578125, 15.591062545776367, 48.55731201171875, 11.270610809326172, 28.717792510986328, 18.26235580444336, 38.34597396850586, 68.62876892089844, 9.68194580078125, 9.603781700134277, 18.500272750854492, 24.496694564819336, 42.48725128173828, 40.32969284057617, 9.537711143493652, 6.072279930114746, 5.205709457397461, 5.2057085037231445, 5.205707550048828, 6.073675155639648, 5.205475807189941, 4.340254783630371, 4.34087610244751, 5.2075581550598145, 3.4731228351593018, 3.4731202125549316, 3.4731197357177734, 3.473130226135254, 3.4731006622314453, 3.473100185394287, 3.4731574058532715, 3.473086357116699, 3.473039388656616, 3.4730489253997803, 3.4730491638183594, 3.473431348800659, 3.473144054412842, 3.4731409549713135, 3.4729321002960205, 3.4746286869049072, 6.933219909667969, 4.353716850280762, 6.0677666664123535, 16.544761657714844, 11.363065719604492, 17.427175521850586, 6.077877044677734, 9.533905982971191, 9.545477867126465, 6.1095075607299805, 10.428476333618164, 6.9462785720825195, 5.201380252838135, 91.13996124267578, 5.210138320922852, 68.62876892089844, 48.55731201171875, 23.72452735900879, 13.076568603515625, 9.563762664794922, 13.895002365112305, 34.99639892578125, 12.267210960388184, 30.836345672607422, 11.486690521240234, 21.839916229248047, 15.591062545776367, 82.74537658691406], \"loglift\": [30.0, 29.0, 28.0, 27.0, 26.0, 25.0, 24.0, 23.0, 22.0, 21.0, 20.0, 19.0, 18.0, 17.0, 16.0, 15.0, 14.0, 13.0, 12.0, 11.0, 10.0, 9.0, 8.0, 7.0, 6.0, 5.0, 4.0, 3.0, 2.0, 1.0, 1.3634999990463257, 1.3335000276565552, 1.323799967765808, 1.3141000270843506, 1.309000015258789, 1.306399941444397, 1.3056000471115112, 1.2965999841690063, 1.2964999675750732, 1.2936999797821045, 1.2926000356674194, 1.2906999588012695, 1.2884000539779663, 1.2819000482559204, 1.2694000005722046, 1.249899983406067, 1.2496999502182007, 1.2496999502182007, 1.248900055885315, 1.2477999925613403, 1.246899962425232, 1.24590003490448, 1.2218999862670898, 1.2201999425888062, 1.2101000547409058, 1.198699951171875, 1.1904000043869019, 1.1778000593185425, 1.1505000591278076, 1.1444000005722046, 1.1097999811172485, 0.9887999892234802, 0.9532999992370605, 0.899399995803833, 0.9283999800682068, 0.7501000165939331, 1.0908000469207764, 0.7531999945640564, 0.9932000041007996, 0.8963000178337097, 0.4645000100135803, 0.9937000274658203, 0.06279999762773514, 0.5038999915122986, 1.0422999858856201, 0.6043000221252441, 0.7638999819755554, 0.05310000106692314, 0.5819000005722046, 0.4296000003814697, -0.015599999576807022, 0.04690000042319298, -0.7437999844551086, 0.3393999934196472, 0.3447999954223633, 1.3868000507354736, 1.382200002670288, 1.3775999546051025, 1.3592000007629395, 1.3588999509811401, 1.3472000360488892, 1.347100019454956, 1.346500039100647, 1.3141000270843506, 1.313099980354309, 1.3122999668121338, 1.3085999488830566, 1.2970000505447388, 1.2905000448226929, 1.284999966621399, 1.2683000564575195, 1.2683000564575195, 1.2683000564575195, 1.2683000564575195, 1.2683000564575195, 1.2666000127792358, 1.2659000158309937, 1.2648999691009521, 1.2648999691009521, 1.264799952507019, 1.2633999586105347, 1.2624000310897827, 1.26010000705719, 1.2594000101089478, 1.256600022315979, 1.2280000448226929, 1.1913000345230103, 1.0850000381469727, 1.1717000007629395, 1.0887000560760498, 0.86080002784729, 1.1957000494003296, 1.177899956703186, 0.6723999977111816, 1.1123000383377075, 1.0247000455856323, 1.1469999551773071, 0.6607999801635742, 1.048699975013733, 0.9733999967575073, 0.7310000061988831, 0.6966000199317932, 0.538100004196167, 0.9185000061988831, 0.7569000124931335, 0.2506999969482422, -0.00570000009611249, 0.5755000114440918, -0.09279999881982803, 0.6660000085830688, -0.9228000044822693, -0.1754000037908554, 1.5347000360488892, 1.5153000354766846, 1.4908000230789185, 1.478700041770935, 1.4779000282287598, 1.467900037765503, 1.4615000486373901, 1.4387999773025513, 1.3995000123977661, 1.3983999490737915, 1.3983999490737915, 1.3983999490737915, 1.3983999490737915, 1.3983999490737915, 1.398300051689148, 1.398300051689148, 1.3982000350952148, 1.3955999612808228, 1.3955999612808228, 1.395400047302246, 1.3950999975204468, 1.3945000171661377, 1.3934999704360962, 1.3933000564575195, 1.392799973487854, 1.3918999433517456, 1.3865000009536743, 1.386299967765808, 1.3830000162124634, 1.378000020980835, 1.3696999549865723, 1.3392000198364258, 1.361799955368042, 1.2653000354766846, 1.2092000246047974, 1.195199966430664, 1.3305000066757202, 1.1092000007629395, 1.2728999853134155, 0.9291999936103821, 1.1608999967575073, 0.8205000162124634, 1.0750000476837158, 1.1288000345230103, 1.1268999576568604, 0.6419000029563904, 1.0870000123977661, 1.2649999856948853, 0.6473000049591064, 1.1496000289916992, 0.9397000074386597, 0.4065000116825104, 0.4659000039100647, 0.8305000066757202, 0.9642999768257141, 0.27720001339912415, -0.13410000503063202, 0.5170999765396118, 0.25060001015663147, 0.2759000062942505, -0.9316999912261963, 0.694599986076355, 0.148499995470047, 1.6295000314712524, 1.6252000331878662, 1.621500015258789, 1.5979000329971313, 1.5465999841690063, 1.5261000394821167, 1.5219000577926636, 1.5068999528884888, 1.5032000541687012, 1.479599952697754, 1.479599952697754, 1.4795000553131104, 1.479200005531311, 1.4789999723434448, 1.4757000207901, 1.4752000570297241, 1.4740999937057495, 1.4703999757766724, 1.4694000482559204, 1.4678000211715698, 1.4632999897003174, 1.4629000425338745, 1.4621000289916992, 1.4491000175476074, 1.4386999607086182, 1.437399983406067, 1.4313000440597534, 1.4112000465393066, 1.392799973487854, 1.3873000144958496, 1.3697999715805054, 1.2178000211715698, 1.1237000226974487, 1.337499976158142, 1.1746000051498413, 1.2773000001907349, 0.9276000261306763, 1.120300054550171, 1.3464000225067139, 0.20430000126361847, 1.309000015258789, 1.0118999481201172, 0.47909998893737793, 0.7680000066757202, 0.1006999984383583, 0.8517000079154968, 0.2727000117301941, 0.5437999963760376, 0.03709999844431877, -0.39160001277923584, 0.9230999946594238, 0.894599974155426, 0.35409998893737793, 0.12139999866485596, -0.3792000114917755, -0.4643000066280365, 1.7067999839782715, 1.6685999631881714, 1.6521999835968018, 1.6521999835968018, 1.6521999835968018, 1.6358000040054321, 1.6353000402450562, 1.6167999505996704, 1.6051000356674194, 1.6015000343322754, 1.5736000537872314, 1.5736000537872314, 1.5735000371932983, 1.5733000040054321, 1.5733000040054321, 1.5733000040054321, 1.5707999467849731, 1.569599986076355, 1.5693999528884888, 1.569200038909912, 1.569200038909912, 1.5674999952316284, 1.5657000541687012, 1.5657000541687012, 1.5607000589370728, 1.5546000003814697, 1.50600004196167, 1.5049999952316284, 1.4982999563217163, 1.489300012588501, 1.4816999435424805, 1.3431999683380127, 1.4714000225067139, 1.3763999938964844, 1.3702000379562378, 1.4256000518798828, 1.2691999673843384, 1.3487000465393066, 1.4404000043869019, 0.44839999079704285, 1.4280999898910522, 0.40459999442100525, 0.489300012588501, 0.705299973487854, 0.8866999745368958, 1.0414999723434448, 0.8400999903678894, 0.17759999632835388, 0.8371000289916992, 0.11559999734163284, 0.8640000224113464, 0.3052000105381012, 0.5673999786376953, -1.0413999557495117], \"logprob\": [30.0, 29.0, 28.0, 27.0, 26.0, 25.0, 24.0, 23.0, 22.0, 21.0, 20.0, 19.0, 18.0, 17.0, 16.0, 15.0, 14.0, 13.0, 12.0, 11.0, 10.0, 9.0, 8.0, 7.0, 6.0, 5.0, 4.0, 3.0, 2.0, 1.0, -4.863900184631348, -4.632699966430664, -4.5690999031066895, -5.425899982452393, -5.143499851226807, -5.433899879455566, -5.146900177001953, -5.626399993896484, -5.626500129699707, -5.629300117492676, -5.448299884796143, -5.632500171661377, -5.634799957275391, -5.641499996185303, -5.654600143432617, -5.89769983291626, -5.8979997634887695, -5.8979997634887695, -5.898900032043457, -5.899899959564209, -5.900899887084961, -5.901800155639648, -5.926700115203857, -5.234600067138672, -5.938799858093262, -4.771599769592285, -4.253300189971924, -4.650000095367432, -4.341400146484375, -6.006999969482422, -4.789400100708008, -4.220399856567383, -4.543099880218506, -4.34689998626709, -4.522600173950195, -3.7904000282287598, -5.250500202178955, -3.9209001064300537, -5.061500072479248, -4.757299900054932, -3.73009991645813, -5.150300025939941, -3.848099946975708, -4.490699768066406, -5.3007001876831055, -4.766600131988525, -5.009699821472168, -4.253699779510498, -4.923699855804443, -4.827199935913086, -4.741799831390381, -4.821199893951416, -4.751399993896484, -5.035699844360352, -5.07289981842041, -5.096799850463867, -5.10129976272583, -5.105999946594238, -4.4959001541137695, -4.11329984664917, -5.423799991607666, -5.423999786376953, -5.4243998527526855, -5.638999938964844, -5.639999866485596, -5.640699863433838, -5.644599914550781, -5.655600070953369, -4.970399856567383, -5.668099880218506, -5.907700061798096, -5.907700061798096, -5.907700061798096, -5.907700061798096, -5.907700061798096, -5.90939998626709, -5.910099983215332, -5.911099910736084, -5.911099910736084, -5.911200046539307, -5.912499904632568, -5.91349983215332, -5.915900230407715, -4.528800010681152, -5.919099807739258, -5.256499767303467, -4.732900142669678, -3.2218000888824463, -4.684999942779541, -4.378900051116943, -3.1468000411987305, -5.422500133514404, -5.303800106048584, -3.2385001182556152, -5.254199981689453, -4.967299938201904, -5.463900089263916, -4.159900188446045, -5.307400226593018, -5.105999946594238, -4.493800163269043, -4.721099853515625, -4.836999893188477, -5.245100021362305, -5.15880012512207, -4.817599773406982, -4.782299995422363, -5.091300010681152, -4.818999767303467, -5.182600021362305, -5.117400169372559, -5.241300106048584, -4.723100185394287, -4.847899913787842, -5.123300075531006, -5.28980016708374, -5.003399848937988, -5.300300121307373, -5.019499778747559, -5.51170015335083, -5.2153000831604, -5.775300025939941, -5.775300025939941, -5.775300025939941, -5.775300025939941, -5.775300025939941, -5.775400161743164, -5.775400161743164, -5.775400161743164, -5.77810001373291, -5.77810001373291, -5.778299808502197, -5.778600215911865, -5.779200077056885, -5.780200004577637, -5.7804999351501465, -5.780900001525879, -5.781899929046631, -5.787199974060059, -5.7870001792907715, -5.790200233459473, -5.795899868011475, -5.112500190734863, -4.333099842071533, -5.119500160217285, -4.402100086212158, -4.641300201416016, -4.5960001945495605, -5.438300132751465, -4.404099941253662, -5.208600044250488, -3.847399950027466, -4.991799831390381, -3.9056999683380127, -4.843500137329102, -5.035399913787842, -5.132199764251709, -4.032299995422363, -5.067299842834473, -5.504499912261963, -4.418499946594238, -5.334400177001953, -4.984499931335449, -4.171899795532227, -4.354700088500977, -4.89769983291626, -5.114999771118164, -4.59089994430542, -4.328700065612793, -4.822500228881836, -4.74399995803833, -4.796000003814697, -4.939199924468994, -5.089700222015381, -5.097799777984619, -4.455999851226807, -4.547299861907959, -4.551000118255615, -4.892600059509277, -5.230999946594238, -5.433300018310547, -5.4375, -5.452400207519531, -5.456099987030029, -5.702400207519531, -5.702400207519531, -5.702400207519531, -5.702700138092041, -5.702899932861328, -5.706200122833252, -5.706600189208984, -5.707699775695801, -5.71120023727417, -5.489699840545654, -5.714099884033203, -5.718599796295166, -4.90910005569458, -5.719900131225586, -5.732600212097168, -5.7428998947143555, -5.0524001121521, -5.527599811553955, -5.077700138092041, -5.384200096130371, -5.229899883270264, -3.7021000385284424, -3.9830000400543213, -3.454699993133545, -4.928299903869629, -4.390900135040283, -4.890200138092041, -4.140699863433838, -4.80679988861084, -5.429999828338623, -3.8032000064849854, -5.467599868774414, -5.070300102233887, -4.388899803161621, -4.908699989318848, -4.439899921417236, -5.149400234222412, -4.793099880218506, -4.974699974060059, -4.73960018157959, -4.58620023727417, -5.230000019073486, -5.266600131988525, -5.151500225067139, -5.103400230407715, -5.053299903869629, -5.1905999183654785, -4.461299896240234, -4.951000213623047, -5.121399879455566, -5.121399879455566, -5.121399879455566, -4.98360013961792, -5.138299942016602, -5.338600158691406, -5.350200176239014, -5.1717000007629395, -5.604700088500977, -5.604700088500977, -5.604700088500977, -5.604899883270264, -5.605000019073486, -5.605000019073486, -5.607500076293945, -5.60860013961792, -5.60890007019043, -5.609099864959717, -5.609099864959717, -5.6107001304626465, -5.612599849700928, -5.612599849700928, -5.617599964141846, -5.623300075531006, -4.980999946594238, -5.447299957275391, -5.122000217437744, -4.127900123596191, -4.511300086975098, -4.222099781036377, -5.147200107574463, -4.792099952697754, -4.797100067138672, -5.187900066375732, -4.809599876403809, -5.136499881744385, -5.334000110626221, -3.4625000953674316, -5.344600200653076, -3.7899999618530273, -4.051300048828125, -4.551499843597412, -4.965799808502197, -5.123799800872803, -4.951700210571289, -4.690499782562256, -5.0792999267578125, -4.879000186920166, -5.118199825286865, -5.03439998626709, -5.1092000007629395, -5.048999786376953]}, \"token.table\": {\"Topic\": [1, 1, 3, 5, 5, 2, 3, 2, 1, 3, 5, 4, 5, 1, 3, 4, 5, 1, 1, 2, 3, 4, 5, 1, 2, 3, 4, 5, 1, 2, 5, 1, 2, 3, 4, 5, 1, 1, 2, 4, 5, 1, 5, 2, 5, 1, 2, 3, 1, 2, 3, 4, 3, 1, 4, 3, 4, 4, 1, 2, 3, 5, 3, 1, 5, 3, 3, 3, 4, 1, 2, 1, 4, 5, 3, 3, 5, 3, 3, 1, 2, 3, 4, 5, 4, 5, 2, 1, 2, 5, 1, 4, 5, 2, 1, 2, 5, 1, 2, 4, 5, 1, 5, 1, 2, 3, 5, 1, 2, 3, 1, 1, 2, 2, 3, 4, 5, 1, 2, 3, 2, 5, 3, 2, 3, 4, 2, 2, 5, 3, 5, 1, 2, 3, 5, 2, 1, 2, 5, 1, 3, 4, 3, 5, 3, 4, 1, 5, 3, 2, 3, 3, 3, 4, 4, 2, 3, 5, 3, 4, 5, 1, 1, 3, 1, 2, 3, 4, 5, 3, 4, 1, 2, 3, 4, 5, 3, 4, 5, 1, 2, 3, 4, 2, 3, 4, 5, 1, 3, 4, 4, 2, 3, 5, 4, 5, 3, 1, 2, 4, 5, 2, 2, 3, 4, 5, 1, 4, 1, 2, 1, 3, 4, 5, 2, 1, 2, 3, 4, 5, 4, 5, 4, 5, 1, 2, 3, 4, 5, 5, 5, 3, 5, 2, 4, 5, 2, 3, 1, 3, 4, 5, 2, 4, 2, 1, 2, 3, 4, 2, 4, 1, 4, 1, 3, 5, 3, 4, 5, 2, 4, 1, 2, 4, 4, 1, 2, 4, 5, 1, 2, 4, 2, 3, 1, 3, 4, 2, 4, 3, 1, 5, 2, 3, 4, 1, 2, 5, 1, 2, 3, 4, 1, 3, 5, 4, 5, 2, 1, 2, 4, 5, 3, 4, 3, 4, 2, 3, 5, 1, 2, 5, 3, 1, 2, 4, 5, 4, 1, 2, 3, 4, 5, 1, 2, 3, 4, 2, 3, 5, 1, 2, 4, 5, 1, 2, 3, 4, 5, 5, 1, 3, 4, 1, 1, 1, 2, 2, 3, 4, 5, 3, 4, 5, 2, 2, 5, 3, 1, 3, 4, 5, 2, 3, 4, 1, 1, 2, 5, 5, 4, 1, 2, 5, 4, 3, 5, 5, 1, 5, 2, 1, 3, 4, 5, 1, 2, 3, 4, 5, 3, 5, 4, 1, 4, 3, 5, 2, 2, 3, 5, 2, 4, 5, 2, 1, 2, 3, 4, 5, 2, 3, 4, 5, 3, 4, 4, 5, 2, 3, 4, 5, 3, 1, 1, 3, 4, 1, 3, 4, 5, 2, 4, 2, 2, 4, 1, 3, 5, 1, 2, 4, 5, 2, 1, 2, 3, 4, 5, 2, 1, 1, 2, 3, 4, 2, 1, 3, 4, 5, 2, 3, 1, 2, 3, 5, 2, 4, 1, 2, 4, 4, 1, 3, 5, 1, 3, 4, 1, 2, 3, 5, 1, 2, 3, 3], \"Freq\": [0.9288010001182556, 0.8922203779220581, 0.9170977473258972, 0.8637943267822266, 0.7683872580528259, 0.28688228130340576, 0.7172057032585144, 0.8618095517158508, 0.7621692419052124, 0.2032451331615448, 0.863823413848877, 0.7710436582565308, 0.1927609145641327, 0.20825129747390747, 0.20825129747390747, 0.41650259494781494, 0.10412564873695374, 0.8377834558486938, 0.06981800496578217, 0.27927201986312866, 0.10472700744867325, 0.4538170099258423, 0.06981800496578217, 0.42518672347068787, 0.1889718770980835, 0.14172890782356262, 0.09448593854904175, 0.14172890782356262, 0.15613237023353577, 0.6765735745429993, 0.15613237023353577, 0.07823506742715836, 0.23470520973205566, 0.4954887926578522, 0.18254849314689636, 0.7683870792388916, 0.838753342628479, 0.6141143441200256, 0.10235239565372467, 0.10235239565372467, 0.20470479130744934, 0.8408770561218262, 0.92147296667099, 0.8615177273750305, 0.8637706637382507, 0.1758398413658142, 0.6154394745826721, 0.1758398413658142, 0.17217931151390076, 0.05739310383796692, 0.17217931151390076, 0.5739310383796692, 0.859808623790741, 0.8758280277252197, 0.07962072640657425, 0.6473369598388672, 0.28770530223846436, 0.8669648766517639, 0.5839426517486572, 0.1251305639743805, 0.20855094492435455, 0.08342038094997406, 0.8602308034896851, 0.6244484782218933, 0.24977938830852509, 0.892070472240448, 0.859829843044281, 0.7177563309669495, 0.1435512751340866, 0.8385204672813416, 0.861701488494873, 0.10478954017162323, 0.628737211227417, 0.20957908034324646, 0.8604248762130737, 0.16453112661838531, 0.6581245064735413, 0.8598617911338806, 0.8598215579986572, 0.06753463298082352, 0.13506926596164703, 0.4727424383163452, 0.20260389149188995, 0.13506926596164703, 0.9253661632537842, 0.8637850284576416, 0.8624522089958191, 0.8900988698005676, 0.5757163166999817, 0.3838108777999878, 0.8922209739685059, 0.866948664188385, 0.8637759685516357, 0.8618067502975464, 0.14347051084041595, 0.7173525094985962, 0.14347051084041595, 0.3372037708759308, 0.1686018854379654, 0.12645141780376434, 0.3372037708759308, 0.1636793166399002, 0.6547172665596008, 0.24138697981834412, 0.4388854205608368, 0.0548606775701046, 0.26333126425743103, 0.589178204536438, 0.1606849730014801, 0.21424661576747894, 0.8378275632858276, 0.1632561981678009, 0.6530247926712036, 0.1924179345369339, 0.12827862799167633, 0.3848358690738678, 0.32069656252861023, 0.7742823958396912, 0.17206275463104248, 0.8594617247581482, 0.19193348288536072, 0.7677339315414429, 0.818940281867981, 0.24646994471549988, 0.49293988943099976, 0.16431330144405365, 0.9195552468299866, 0.8053368926048279, 0.1150481253862381, 0.8598083257675171, 0.8637814521789551, 0.8378244638442993, 0.7394164800643921, 0.16431477665901184, 0.08215738832950592, 0.8618219494819641, 0.07171323150396347, 0.7888455986976624, 0.07171323150396347, 0.8924180865287781, 0.8595402836799622, 0.8669605851173401, 0.859816312789917, 0.9216048717498779, 0.4797285199165344, 0.3837828040122986, 0.22968879342079163, 0.6890664100646973, 0.8598239421844482, 0.19119103252887726, 0.764764130115509, 0.7643283009529114, 0.8598448038101196, 0.8684897422790527, 0.8668330907821655, 0.10443747043609619, 0.6266248226165771, 0.20887494087219238, 0.8598360419273376, 0.19225665926933289, 0.7690266370773315, 0.8377546072006226, 0.8379999995231628, 0.13966666162014008, 0.05475744977593422, 0.21902979910373688, 0.2737872302532196, 0.3285446763038635, 0.10951489955186844, 0.7663784623146057, 0.19159461557865143, 0.18315088748931885, 0.13736316561698914, 0.320514053106308, 0.13736316561698914, 0.22893860936164856, 0.10488880425691605, 0.2097776085138321, 0.6293328404426575, 0.4946804642677307, 0.28267455101013184, 0.07066863775253296, 0.14133727550506592, 0.08555024117231369, 0.29942587018013, 0.5560765862464905, 0.06416268646717072, 0.30974918603897095, 0.6194983720779419, 0.866899311542511, 0.9654216170310974, 0.14396198093891144, 0.14396198093891144, 0.5758479237556458, 0.5780590176582336, 0.19268633425235748, 0.8598146438598633, 0.10438468307256699, 0.5219234228134155, 0.20876936614513397, 0.10438468307256699, 0.91938716173172, 0.1439366489648819, 0.2878732979297638, 0.1439366489648819, 0.35984161496162415, 0.16429246962070465, 0.6571698784828186, 0.7460255026817322, 0.22380764782428741, 0.4942612946033478, 0.04118844121694565, 0.20594221353530884, 0.267724871635437, 0.8618648648262024, 0.3642787039279938, 0.08742689341306686, 0.17485378682613373, 0.11656919121742249, 0.24770952761173248, 0.8668054342269897, 0.7684215903282166, 0.1442331224679947, 0.721165657043457, 0.06964323669672012, 0.17410808801651, 0.383037805557251, 0.24375133216381073, 0.13928647339344025, 0.8634015917778015, 0.8637967109680176, 0.8195391893386841, 0.16390784084796906, 0.6911515593528748, 0.15358923375606537, 0.07679461687803268, 0.8434059619903564, 0.07667326927185059, 0.7211400270462036, 0.08012667298316956, 0.08012667298316956, 0.08012667298316956, 0.23121488094329834, 0.693644642829895, 0.8618213534355164, 0.22316063940525055, 0.1983650177717209, 0.4463212788105011, 0.1239781305193901, 0.9579986929893494, 0.9252201318740845, 0.9296453595161438, 0.8667190670967102, 0.16338405013084412, 0.5718441605567932, 0.24507606029510498, 0.8598078489303589, 0.7232268452644348, 0.14464536309242249, 0.7193736433982849, 0.14387473464012146, 0.41314008831977844, 0.10328502207994461, 0.41314008831977844, 0.8668881058692932, 0.6028251051902771, 0.20094169676303864, 0.08037667721509933, 0.08037667721509933, 0.8361053466796875, 0.8617178201675415, 0.9253050088882446, 0.9195613265037537, 0.859959602355957, 0.1270892322063446, 0.6989908218383789, 0.1270892322063446, 0.8222368955612183, 0.1644473820924759, 0.955568253993988, 0.8568016290664673, 0.08568016439676285, 0.8618054986000061, 0.859808623790741, 0.8666627407073975, 0.522343635559082, 0.08705727756023407, 0.43528637290000916, 0.24438001215457916, 0.4887600243091583, 0.08146000653505325, 0.1629200130701065, 0.8377466201782227, 0.8598459959030151, 0.8232247829437256, 0.8669575452804565, 0.7681143283843994, 0.8623815178871155, 0.24493099749088287, 0.44904017448425293, 0.20410917699337006, 0.08164367079734802, 0.24524438381195068, 0.7006982564926147, 0.4119456708431244, 0.5767239332199097, 0.8618218898773193, 0.859841525554657, 0.8637942671775818, 0.1147632896900177, 0.2295265793800354, 0.6311981081962585, 0.917547881603241, 0.33210068941116333, 0.37954363226890564, 0.09488590806722641, 0.14232885837554932, 0.9478175044059753, 0.13625015318393707, 0.4360004663467407, 0.32700034976005554, 0.10900011658668518, 0.8637673854827881, 0.21428410708904266, 0.2857121527194977, 0.4285682141780853, 0.14285607635974884, 0.14340724050998688, 0.717036247253418, 0.8636992573738098, 0.2540610730648041, 0.3810915946960449, 0.2540610730648041, 0.06351526826620102, 0.10876740515232086, 0.5317517518997192, 0.07251160591840744, 0.21753481030464172, 0.06042633578181267, 0.8637741208076477, 0.6552917957305908, 0.28083932399749756, 0.9252539873123169, 0.9290259480476379, 0.8922657370567322, 0.2530638575553894, 0.6326596736907959, 0.3549053370952606, 0.1774526685476303, 0.44363167881965637, 0.7683873772621155, 0.11561287194490433, 0.6936771869659424, 0.11561287194490433, 0.8624362945556641, 0.31428495049476624, 0.6285699009895325, 0.8598074913024902, 0.15294532477855682, 0.22941797971725464, 0.22941797971725464, 0.38236331939697266, 0.6392942070960999, 0.12785883247852325, 0.12785883247852325, 0.8360434174537659, 0.12088418006896973, 0.12088418006896973, 0.7253050804138184, 0.8637767434120178, 0.6937897205352783, 0.7480937838554382, 0.12468229979276657, 0.12468229979276657, 0.8669594526290894, 0.7652605175971985, 0.19131512939929962, 0.8637714385986328, 0.26401326060295105, 0.7040353417396545, 0.9194793701171875, 0.49426591396331787, 0.3765835464000702, 0.11768236011266708, 0.9436226487159729, 0.3891511559486389, 0.09728778898715973, 0.2594341039657593, 0.06485852599143982, 0.19457557797431946, 0.38356512784957886, 0.5753477215766907, 0.8669598698616028, 0.892402172088623, 0.8668927550315857, 0.8598322868347168, 0.8637815713882446, 0.8618201017379761, 0.2296920269727707, 0.5742300748825073, 0.11484601348638535, 0.8618088364601135, 0.8669497966766357, 0.8234139680862427, 0.9194971919059753, 0.5640846490859985, 0.0626760721206665, 0.125352144241333, 0.1880282312631607, 0.0626760721206665, 0.28866344690322876, 0.09622114896774292, 0.4811057150363922, 0.09622114896774292, 0.5751866102218628, 0.2875933051109314, 0.16480527818202972, 0.6592211127281189, 0.19927126169204712, 0.1594170182943344, 0.5978137850761414, 0.0398542545735836, 0.8599240779876709, 0.8926746249198914, 0.746465802192688, 0.2132759541273117, 0.05331898853182793, 0.22859494388103485, 0.25716930627822876, 0.28574368357658386, 0.20002058148384094, 0.12856264412403107, 0.771375834941864, 0.9190335273742676, 0.19263343513011932, 0.7705337405204773, 0.837782621383667, 0.5228067636489868, 0.41824543476104736, 0.2445201575756073, 0.6683551073074341, 0.06520537286996841, 0.016301343217492104, 0.8618159890174866, 0.24455437064170837, 0.16303624212741852, 0.08151812106370926, 0.08151812106370926, 0.4075905978679657, 0.8618057370185852, 0.8931158781051636, 0.4324260652065277, 0.1621597707271576, 0.1621597707271576, 0.2702662944793701, 0.9580482244491577, 0.3102397620677948, 0.6204795241355896, 0.10341326147317886, 0.8637766242027283, 0.8887802958488464, 0.10456238687038422, 0.22852711379528046, 0.4570542275905609, 0.07617570459842682, 0.22852711379528046, 0.9580473899841309, 0.9478456974029541, 0.3465654253959656, 0.44558411836624146, 0.19803738594055176, 0.7714549899101257, 0.563035249710083, 0.20474009215831757, 0.20474009215831757, 0.8377549648284912, 0.14450372755527496, 0.7225186228752136, 0.07631994038820267, 0.15263988077640533, 0.6868794560432434, 0.07631994038820267, 0.10894760489463806, 0.27236899733543396, 0.5992118120193481, 0.8598183989524841], \"Term\": [\"17\", \"20\", \"25\", \"53\", \"95\", \"abuse\", \"abuse\", \"action\", \"adam\", \"adam\", \"add\", \"administration\", \"administration\", \"al\", \"al\", \"al\", \"al\", \"alleged\", \"america\", \"america\", \"america\", \"america\", \"america\", \"american\", \"american\", \"american\", \"american\", \"american\", \"americans\", \"americans\", \"americans\", \"amp\", \"amp\", \"amp\", \"amp\", \"approval\", \"aren\", \"arguments\", \"arguments\", \"arguments\", \"arguments\", \"attempt\", \"bad\", \"beat\", \"bernie\", \"best\", \"best\", \"best\", \"big\", \"big\", \"big\", \"big\", \"blow\", \"bolton\", \"bolton\", \"breaking\", \"breaking\", \"bryant\", \"case\", \"case\", \"case\", \"case\", \"caucus\", \"chairman\", \"chairman\", \"china\", \"closely\", \"cnn\", \"cnn\", \"comey\", \"congrats\", \"congratulations\", \"congratulations\", \"congratulations\", \"coronavirus\", \"corrupt\", \"corrupt\", \"cost\", \"count\", \"country\", \"country\", \"country\", \"country\", \"country\", \"coup\", \"created\", \"danscavino\", \"days\", \"dbongino\", \"dbongino\", \"deal\", \"deals\", \"decision\", \"defeated\", \"demdebate\", \"demdebate\", \"demdebate\", \"democrat\", \"democrat\", \"democrat\", \"democrat\", \"democratic\", \"democratic\", \"democrats\", \"democrats\", \"democrats\", \"democrats\", \"dems\", \"dems\", \"dems\", \"dershowitz\", \"despite\", \"despite\", \"did\", \"did\", \"did\", \"did\", \"didn\", \"didn\", \"documents\", \"doesn\", \"doesn\", \"doj\", \"don\", \"don\", \"don\", \"donald\", \"donaldjtrumpjr\", \"donaldjtrumpjr\", \"doomed\", \"dossier\", \"east\", \"economy\", \"economy\", \"economy\", \"editorial\", \"election\", \"election\", \"election\", \"elisestefanik\", \"endorsement\", \"enjoy\", \"especially\", \"failed\", \"fake\", \"fake\", \"fantastic\", \"fantastic\", \"fast\", \"finally\", \"finally\", \"fisa\", \"folks\", \"foreign\", \"forward\", \"foxandfriends\", \"foxandfriends\", \"foxandfriends\", \"gain\", \"game\", \"game\", \"general\", \"given\", \"given\", \"going\", \"going\", \"going\", \"going\", \"going\", \"good\", \"good\", \"gop\", \"gop\", \"gop\", \"gop\", \"gop\", \"gopchairwoman\", \"gopchairwoman\", \"gopchairwoman\", \"got\", \"got\", \"got\", \"got\", \"great\", \"great\", \"great\", \"great\", \"greggjarrett\", \"greggjarrett\", \"grow\", \"hampshire\", \"having\", \"having\", \"having\", \"heading\", \"heading\", \"heckler\", \"history\", \"history\", \"history\", \"history\", \"hit\", \"hoax\", \"hoax\", \"hoax\", \"hoax\", \"hope\", \"hope\", \"hours\", \"hours\", \"house\", \"house\", \"house\", \"house\", \"icymi\", \"impeachment\", \"impeachment\", \"impeachment\", \"impeachment\", \"impeachment\", \"includes\", \"including\", \"interview\", \"interview\", \"iowa\", \"iowa\", \"iowa\", \"iowa\", \"iowa\", \"iran\", \"iranian\", \"jim\", \"jim\", \"jobs\", \"jobs\", \"jobs\", \"joe\", \"joe\", \"john\", \"john\", \"john\", \"john\", \"jonathan\", \"jonathan\", \"journal\", \"just\", \"just\", \"just\", \"just\", \"katrinapierson\", \"killed\", \"kimstrassel\", \"kind\", \"know\", \"know\", \"know\", \"landed\", \"leader\", \"leader\", \"left\", \"left\", \"legal\", \"legal\", \"legal\", \"liberal\", \"like\", \"like\", \"like\", \"like\", \"lindseygrahamsc\", \"little\", \"looking\", \"lot\", \"love\", \"make\", \"make\", \"make\", \"making\", \"making\", \"man\", \"managers\", \"managers\", \"manchin\", \"mark\", \"market\", \"marshablackburn\", \"marshablackburn\", \"marshablackburn\", \"media\", \"media\", \"media\", \"media\", \"mentioned\", \"mexico\", \"mike\", \"mikecrapo\", \"mini\", \"mr\", \"nancy\", \"nancy\", \"nancy\", \"nancy\", \"new\", \"new\", \"news\", \"news\", \"november\", \"official\", \"overall\", \"party\", \"party\", \"party\", \"paulsperry_\", \"pelosi\", \"pelosi\", \"pelosi\", \"pelosi\", \"pelositantrum\", \"people\", \"people\", \"people\", \"people\", \"playstrumpcard\", \"political\", \"political\", \"political\", \"political\", \"poll\", \"poll\", \"polls\", \"potus\", \"potus\", \"potus\", \"potus\", \"president\", \"president\", \"president\", \"president\", \"president\", \"pressure\", \"process\", \"process\", \"promised\", \"proud\", \"questions\", \"radical\", \"radical\", \"rally\", \"rally\", \"rally\", \"rating\", \"read\", \"read\", \"read\", \"real\", \"really\", \"really\", \"received\", \"record\", \"record\", \"record\", \"record\", \"repandybiggsaz\", \"repandybiggsaz\", \"repandybiggsaz\", \"repmikejohnson\", \"republican\", \"republican\", \"republican\", \"responsibility\", \"restore\", \"romney\", \"romney\", \"romney\", \"rule\", \"russia\", \"russia\", \"sanders\", \"says\", \"says\", \"scavino45\", \"schiff\", \"schiff\", \"schiff\", \"security\", \"senate\", \"senate\", \"senate\", \"senate\", \"senate\", \"senategop\", \"senategop\", \"senmcsallyaz\", \"shredded\", \"sotu2020\", \"starts\", \"steele\", \"street\", \"strong\", \"strong\", \"strong\", \"stuff\", \"superbowl\", \"support\", \"swamp\", \"team\", \"team\", \"team\", \"team\", \"team\", \"teamtrump\", \"teamtrump\", \"teamtrump\", \"teamtrump\", \"terrible\", \"terrible\", \"terrorist\", \"terrorist\", \"thank\", \"thank\", \"thank\", \"thank\", \"things\", \"tied\", \"time\", \"time\", \"time\", \"today\", \"today\", \"today\", \"today\", \"tomfitton\", \"tomfitton\", \"tough\", \"transcripts\", \"transcripts\", \"tried\", \"true\", \"true\", \"trump\", \"trump\", \"trump\", \"trump\", \"try\", \"ukraine\", \"ukraine\", \"ukraine\", \"ukraine\", \"ukraine\", \"uncle\", \"unconstitutional\", \"ve\", \"ve\", \"ve\", \"ve\", \"virginia\", \"votes\", \"votes\", \"votes\", \"voting\", \"want\", \"want\", \"watch\", \"watch\", \"watch\", \"watch\", \"west\", \"white\", \"whitehouse\", \"whitehouse\", \"whitehouse\", \"winning\", \"witnesses\", \"witnesses\", \"witnesses\", \"woman\", \"won\", \"won\", \"working\", \"working\", \"working\", \"working\", \"years\", \"years\", \"years\", \"yes\"]}, \"R\": 30, \"lambda.step\": 0.01, \"plot.opts\": {\"xlab\": \"PC1\", \"ylab\": \"PC2\"}, \"topic.order\": [1, 4, 5, 3, 2]};\n",
       "\n",
       "function LDAvis_load_lib(url, callback){\n",
       "  var s = document.createElement('script');\n",
       "  s.src = url;\n",
       "  s.async = true;\n",
       "  s.onreadystatechange = s.onload = callback;\n",
       "  s.onerror = function(){console.warn(\"failed to load library \" + url);};\n",
       "  document.getElementsByTagName(\"head\")[0].appendChild(s);\n",
       "}\n",
       "\n",
       "if(typeof(LDAvis) !== \"undefined\"){\n",
       "   // already loaded: just create the visualization\n",
       "   !function(LDAvis){\n",
       "       new LDAvis(\"#\" + \"ldavis_el470381122756135201462565403\", ldavis_el470381122756135201462565403_data);\n",
       "   }(LDAvis);\n",
       "}else if(typeof define === \"function\" && define.amd){\n",
       "   // require.js is available: use it to load d3/LDAvis\n",
       "   require.config({paths: {d3: \"https://cdnjs.cloudflare.com/ajax/libs/d3/3.5.5/d3.min\"}});\n",
       "   require([\"d3\"], function(d3){\n",
       "      window.d3 = d3;\n",
       "      LDAvis_load_lib(\"https://cdn.rawgit.com/bmabey/pyLDAvis/files/ldavis.v1.0.0.js\", function(){\n",
       "        new LDAvis(\"#\" + \"ldavis_el470381122756135201462565403\", ldavis_el470381122756135201462565403_data);\n",
       "      });\n",
       "    });\n",
       "}else{\n",
       "    // require.js not available: dynamically load d3 & LDAvis\n",
       "    LDAvis_load_lib(\"https://cdnjs.cloudflare.com/ajax/libs/d3/3.5.5/d3.min.js\", function(){\n",
       "         LDAvis_load_lib(\"https://cdn.rawgit.com/bmabey/pyLDAvis/files/ldavis.v1.0.0.js\", function(){\n",
       "                 new LDAvis(\"#\" + \"ldavis_el470381122756135201462565403\", ldavis_el470381122756135201462565403_data);\n",
       "            })\n",
       "         });\n",
       "}\n",
       "</script>"
      ],
      "text/plain": [
       "PreparedData(topic_coordinates=              x         y  topics  cluster       Freq\n",
       "topic                                                \n",
       "0      0.036607  0.008951       1        1  23.086945\n",
       "3      0.120908 -0.126486       2        1  22.469143\n",
       "4     -0.136263  0.000052       3        1  19.744219\n",
       "2     -0.097915 -0.034175       4        1  18.154039\n",
       "1      0.076662  0.151657       5        1  16.545656, topic_info=    Category       Freq             Term      Total  loglift  logprob\n",
       "20   Default  61.000000            trump  61.000000  30.0000  30.0000\n",
       "2    Default  91.000000        democrats  91.000000  29.0000  29.0000\n",
       "103  Default  46.000000            great  46.000000  28.0000  28.0000\n",
       "39   Default  28.000000              new  28.000000  27.0000  27.0000\n",
       "180  Default  42.000000           schiff  42.000000  26.0000  26.0000\n",
       "..       ...        ...              ...        ...      ...      ...\n",
       "8     Topic5   5.727537           senate  30.836346   0.1156  -4.8790\n",
       "525   Topic5   4.509145  marshablackburn  11.486691   0.8640  -5.1182\n",
       "314   Topic5   4.903365              gop  21.839916   0.3052  -5.0344\n",
       "78    Topic5   4.549827              did  15.591063   0.5674  -5.1092\n",
       "16    Topic5   4.832091        president  82.745377  -1.0414  -5.0490\n",
       "\n",
       "[315 rows x 6 columns], token_table=      Topic      Freq     Term\n",
       "term                          \n",
       "596       1  0.928801       17\n",
       "598       1  0.892220       20\n",
       "330       3  0.917098       25\n",
       "111       5  0.863794       53\n",
       "112       5  0.768387       95\n",
       "...     ...       ...      ...\n",
       "30        5  0.076320  working\n",
       "31        1  0.108948    years\n",
       "31        2  0.272369    years\n",
       "31        3  0.599212    years\n",
       "271       3  0.859818      yes\n",
       "\n",
       "[486 rows x 3 columns], R=30, lambda_step=0.01, plot_opts={'xlab': 'PC1', 'ylab': 'PC2'}, topic_order=[1, 4, 5, 3, 2])"
      ]
     },
     "execution_count": 42,
     "metadata": {},
     "output_type": "execute_result"
    }
   ],
   "source": [
    "pyLDAvis.gensim.prepare(ldamodel, corpus, dictionary, sort_topics=True)"
   ]
  },
  {
   "cell_type": "markdown",
   "metadata": {},
   "source": [
    "### Trying with different n-gram values\n",
    "\n"
   ]
  },
  {
   "cell_type": "code",
   "execution_count": 43,
   "metadata": {},
   "outputs": [
    {
     "data": {
      "text/html": [
       "<div>\n",
       "<style scoped>\n",
       "    .dataframe tbody tr th:only-of-type {\n",
       "        vertical-align: middle;\n",
       "    }\n",
       "\n",
       "    .dataframe tbody tr th {\n",
       "        vertical-align: top;\n",
       "    }\n",
       "\n",
       "    .dataframe thead th {\n",
       "        text-align: right;\n",
       "    }\n",
       "</style>\n",
       "<table border=\"1\" class=\"dataframe\">\n",
       "  <thead>\n",
       "    <tr style=\"text-align: right;\">\n",
       "      <th></th>\n",
       "      <th>17 witnesses</th>\n",
       "      <th>abuse power</th>\n",
       "      <th>adam schiff</th>\n",
       "      <th>al rimi</th>\n",
       "      <th>america great</th>\n",
       "      <th>american people</th>\n",
       "      <th>approval rating</th>\n",
       "      <th>big rally</th>\n",
       "      <th>crazy nancy</th>\n",
       "      <th>cryin chuck</th>\n",
       "      <th>...</th>\n",
       "      <th>rating republican</th>\n",
       "      <th>republican party</th>\n",
       "      <th>senator joe</th>\n",
       "      <th>state union</th>\n",
       "      <th>super bowl</th>\n",
       "      <th>united states</th>\n",
       "      <th>west virginia</th>\n",
       "      <th>white house</th>\n",
       "      <th>witch hunt</th>\n",
       "      <th>years ago</th>\n",
       "    </tr>\n",
       "  </thead>\n",
       "  <tbody>\n",
       "    <tr>\n",
       "      <td>0</td>\n",
       "      <td>0</td>\n",
       "      <td>0</td>\n",
       "      <td>0</td>\n",
       "      <td>0</td>\n",
       "      <td>0</td>\n",
       "      <td>0</td>\n",
       "      <td>0</td>\n",
       "      <td>0</td>\n",
       "      <td>0</td>\n",
       "      <td>0</td>\n",
       "      <td>...</td>\n",
       "      <td>0</td>\n",
       "      <td>0</td>\n",
       "      <td>0</td>\n",
       "      <td>0</td>\n",
       "      <td>0</td>\n",
       "      <td>0</td>\n",
       "      <td>0</td>\n",
       "      <td>0</td>\n",
       "      <td>0</td>\n",
       "      <td>0</td>\n",
       "    </tr>\n",
       "    <tr>\n",
       "      <td>1</td>\n",
       "      <td>0</td>\n",
       "      <td>0</td>\n",
       "      <td>0</td>\n",
       "      <td>0</td>\n",
       "      <td>0</td>\n",
       "      <td>0</td>\n",
       "      <td>0</td>\n",
       "      <td>0</td>\n",
       "      <td>0</td>\n",
       "      <td>0</td>\n",
       "      <td>...</td>\n",
       "      <td>0</td>\n",
       "      <td>0</td>\n",
       "      <td>0</td>\n",
       "      <td>0</td>\n",
       "      <td>0</td>\n",
       "      <td>1</td>\n",
       "      <td>0</td>\n",
       "      <td>0</td>\n",
       "      <td>0</td>\n",
       "      <td>0</td>\n",
       "    </tr>\n",
       "    <tr>\n",
       "      <td>2</td>\n",
       "      <td>0</td>\n",
       "      <td>0</td>\n",
       "      <td>0</td>\n",
       "      <td>0</td>\n",
       "      <td>0</td>\n",
       "      <td>0</td>\n",
       "      <td>0</td>\n",
       "      <td>0</td>\n",
       "      <td>0</td>\n",
       "      <td>0</td>\n",
       "      <td>...</td>\n",
       "      <td>0</td>\n",
       "      <td>0</td>\n",
       "      <td>0</td>\n",
       "      <td>0</td>\n",
       "      <td>0</td>\n",
       "      <td>0</td>\n",
       "      <td>0</td>\n",
       "      <td>0</td>\n",
       "      <td>0</td>\n",
       "      <td>0</td>\n",
       "    </tr>\n",
       "    <tr>\n",
       "      <td>3</td>\n",
       "      <td>0</td>\n",
       "      <td>0</td>\n",
       "      <td>0</td>\n",
       "      <td>0</td>\n",
       "      <td>0</td>\n",
       "      <td>0</td>\n",
       "      <td>0</td>\n",
       "      <td>0</td>\n",
       "      <td>0</td>\n",
       "      <td>0</td>\n",
       "      <td>...</td>\n",
       "      <td>0</td>\n",
       "      <td>1</td>\n",
       "      <td>0</td>\n",
       "      <td>0</td>\n",
       "      <td>0</td>\n",
       "      <td>0</td>\n",
       "      <td>0</td>\n",
       "      <td>0</td>\n",
       "      <td>0</td>\n",
       "      <td>0</td>\n",
       "    </tr>\n",
       "    <tr>\n",
       "      <td>4</td>\n",
       "      <td>0</td>\n",
       "      <td>0</td>\n",
       "      <td>0</td>\n",
       "      <td>0</td>\n",
       "      <td>0</td>\n",
       "      <td>0</td>\n",
       "      <td>0</td>\n",
       "      <td>0</td>\n",
       "      <td>0</td>\n",
       "      <td>0</td>\n",
       "      <td>...</td>\n",
       "      <td>0</td>\n",
       "      <td>0</td>\n",
       "      <td>0</td>\n",
       "      <td>0</td>\n",
       "      <td>0</td>\n",
       "      <td>0</td>\n",
       "      <td>0</td>\n",
       "      <td>0</td>\n",
       "      <td>0</td>\n",
       "      <td>0</td>\n",
       "    </tr>\n",
       "  </tbody>\n",
       "</table>\n",
       "<p>5 rows × 51 columns</p>\n",
       "</div>"
      ],
      "text/plain": [
       "   17 witnesses  abuse power  adam schiff  al rimi  america great  \\\n",
       "0             0            0            0        0              0   \n",
       "1             0            0            0        0              0   \n",
       "2             0            0            0        0              0   \n",
       "3             0            0            0        0              0   \n",
       "4             0            0            0        0              0   \n",
       "\n",
       "   american people  approval rating  big rally  crazy nancy  cryin chuck  ...  \\\n",
       "0                0                0          0            0            0  ...   \n",
       "1                0                0          0            0            0  ...   \n",
       "2                0                0          0            0            0  ...   \n",
       "3                0                0          0            0            0  ...   \n",
       "4                0                0          0            0            0  ...   \n",
       "\n",
       "   rating republican  republican party  senator joe  state union  super bowl  \\\n",
       "0                  0                 0            0            0           0   \n",
       "1                  0                 0            0            0           0   \n",
       "2                  0                 0            0            0           0   \n",
       "3                  0                 1            0            0           0   \n",
       "4                  0                 0            0            0           0   \n",
       "\n",
       "   united states  west virginia  white house  witch hunt  years ago  \n",
       "0              0              0            0           0          0  \n",
       "1              1              0            0           0          0  \n",
       "2              0              0            0           0          0  \n",
       "3              0              0            0           0          0  \n",
       "4              0              0            0           0          0  \n",
       "\n",
       "[5 rows x 51 columns]"
      ]
     },
     "execution_count": 43,
     "metadata": {},
     "output_type": "execute_result"
    }
   ],
   "source": [
    "## Try initializing a count vectorizer\n",
    "stop = list(ENGLISH_STOP_WORDS)\n",
    "stop.extend(['https','amp', 'realdonaldtrump', 'rt'])\n",
    "\n",
    "cv2 = CountVectorizer(min_df=4 ,stop_words=stop, ngram_range=(2,2))\n",
    "\n",
    "\n",
    "cv_arr2 = cv2.fit_transform(df['text'])\n",
    "\n",
    "df_vect2 = pd.DataFrame(cv_arr2.toarray(), columns=cv2.get_feature_names())\n",
    "df_vect2.head()"
   ]
  },
  {
   "cell_type": "code",
   "execution_count": 46,
   "metadata": {},
   "outputs": [
    {
     "data": {
      "text/plain": [
       "RangeIndex(start=0, stop=801, step=1)"
      ]
     },
     "execution_count": 46,
     "metadata": {},
     "output_type": "execute_result"
    }
   ],
   "source": [
    "df_vect2.index"
   ]
  },
  {
   "cell_type": "code",
   "execution_count": 49,
   "metadata": {},
   "outputs": [
    {
     "data": {
      "text/html": [
       "\n",
       "<link rel=\"stylesheet\" type=\"text/css\" href=\"https://cdn.rawgit.com/bmabey/pyLDAvis/files/ldavis.v1.0.0.css\">\n",
       "\n",
       "\n",
       "<div id=\"ldavis_el470381122771203364232063047\"></div>\n",
       "<script type=\"text/javascript\">\n",
       "\n",
       "var ldavis_el470381122771203364232063047_data = {\"mdsDat\": {\"x\": [0.30428129651673014, -0.17827097627199298, -0.09661988260538212, -0.07792220160318997, 0.048531763963834865], \"y\": [0.07728894076567343, 0.21110742474259073, 0.04845354802474102, -0.27793706637615917, -0.05891284715684592], \"topics\": [1, 2, 3, 4, 5], \"cluster\": [1, 1, 1, 1, 1], \"Freq\": [23.178789138793945, 21.965057373046875, 21.1711483001709, 17.55830955505371, 16.1267032623291]}, \"tinfo\": {\"Category\": [\"Default\", \"Default\", \"Default\", \"Default\", \"Default\", \"Default\", \"Default\", \"Default\", \"Default\", \"Default\", \"Default\", \"Default\", \"Default\", \"Default\", \"Default\", \"Default\", \"Default\", \"Default\", \"Default\", \"Default\", \"Default\", \"Default\", \"Default\", \"Default\", \"Default\", \"Default\", \"Default\", \"Default\", \"Default\", \"Default\", \"Topic1\", \"Topic1\", \"Topic1\", \"Topic1\", \"Topic1\", \"Topic1\", \"Topic1\", \"Topic1\", \"Topic1\", \"Topic1\", \"Topic1\", \"Topic1\", \"Topic1\", \"Topic1\", \"Topic1\", \"Topic1\", \"Topic1\", \"Topic1\", \"Topic1\", \"Topic1\", \"Topic1\", \"Topic1\", \"Topic1\", \"Topic1\", \"Topic1\", \"Topic1\", \"Topic1\", \"Topic1\", \"Topic1\", \"Topic1\", \"Topic1\", \"Topic1\", \"Topic1\", \"Topic1\", \"Topic1\", \"Topic1\", \"Topic1\", \"Topic1\", \"Topic1\", \"Topic1\", \"Topic2\", \"Topic2\", \"Topic2\", \"Topic2\", \"Topic2\", \"Topic2\", \"Topic2\", \"Topic2\", \"Topic2\", \"Topic2\", \"Topic2\", \"Topic2\", \"Topic2\", \"Topic2\", \"Topic2\", \"Topic2\", \"Topic2\", \"Topic2\", \"Topic2\", \"Topic2\", \"Topic2\", \"Topic2\", \"Topic2\", \"Topic2\", \"Topic2\", \"Topic2\", \"Topic2\", \"Topic2\", \"Topic2\", \"Topic2\", \"Topic2\", \"Topic2\", \"Topic2\", \"Topic2\", \"Topic2\", \"Topic2\", \"Topic2\", \"Topic2\", \"Topic2\", \"Topic2\", \"Topic3\", \"Topic3\", \"Topic3\", \"Topic3\", \"Topic3\", \"Topic3\", \"Topic3\", \"Topic3\", \"Topic3\", \"Topic3\", \"Topic3\", \"Topic3\", \"Topic3\", \"Topic3\", \"Topic3\", \"Topic3\", \"Topic3\", \"Topic3\", \"Topic3\", \"Topic3\", \"Topic3\", \"Topic3\", \"Topic3\", \"Topic3\", \"Topic3\", \"Topic3\", \"Topic3\", \"Topic3\", \"Topic3\", \"Topic3\", \"Topic3\", \"Topic3\", \"Topic3\", \"Topic3\", \"Topic3\", \"Topic3\", \"Topic3\", \"Topic3\", \"Topic3\", \"Topic3\", \"Topic3\", \"Topic3\", \"Topic3\", \"Topic4\", \"Topic4\", \"Topic4\", \"Topic4\", \"Topic4\", \"Topic4\", \"Topic4\", \"Topic4\", \"Topic4\", \"Topic4\", \"Topic4\", \"Topic4\", \"Topic4\", \"Topic4\", \"Topic4\", \"Topic4\", \"Topic4\", \"Topic4\", \"Topic4\", \"Topic4\", \"Topic4\", \"Topic4\", \"Topic4\", \"Topic4\", \"Topic4\", \"Topic4\", \"Topic4\", \"Topic4\", \"Topic4\", \"Topic4\", \"Topic4\", \"Topic4\", \"Topic4\", \"Topic4\", \"Topic4\", \"Topic4\", \"Topic4\", \"Topic4\", \"Topic4\", \"Topic4\", \"Topic4\", \"Topic4\", \"Topic5\", \"Topic5\", \"Topic5\", \"Topic5\", \"Topic5\", \"Topic5\", \"Topic5\", \"Topic5\", \"Topic5\", \"Topic5\", \"Topic5\", \"Topic5\", \"Topic5\", \"Topic5\", \"Topic5\", \"Topic5\", \"Topic5\", \"Topic5\", \"Topic5\", \"Topic5\", \"Topic5\", \"Topic5\", \"Topic5\", \"Topic5\", \"Topic5\", \"Topic5\", \"Topic5\", \"Topic5\", \"Topic5\", \"Topic5\", \"Topic5\", \"Topic5\", \"Topic5\", \"Topic5\", \"Topic5\", \"Topic5\", \"Topic5\", \"Topic5\", \"Topic5\", \"Topic5\", \"Topic5\", \"Topic5\", \"Topic5\"], \"Freq\": [17.0, 17.0, 13.0, 10.0, 10.0, 8.0, 10.0, 7.0, 7.0, 12.0, 9.0, 8.0, 6.0, 8.0, 8.0, 7.0, 7.0, 6.0, 5.0, 5.0, 5.0, 5.0, 6.0, 4.0, 4.0, 6.0, 5.0, 5.0, 4.0, 4.0, 17.18418312072754, 16.37313461303711, 9.877219200134277, 7.457413673400879, 3.4053473472595215, 3.402759313583374, 3.402660369873047, 3.4095382690429688, 2.5940194129943848, 2.593594789505005, 1.7829828262329102, 0.4826311469078064, 0.2012007087469101, 0.1621778905391693, 0.16382771730422974, 0.16341711580753326, 0.16260398924350739, 0.16240593791007996, 0.16258999705314636, 0.16219475865364075, 0.16219280660152435, 0.16220352053642273, 0.1622031331062317, 0.16217836737632751, 0.1638186126947403, 0.16219598054885864, 0.16220369935035706, 0.16219499707221985, 0.16218538582324982, 0.16280986368656158, 0.16656677424907684, 0.16259846091270447, 0.16259880363941193, 0.16307418048381805, 0.16295593976974487, 0.16270138323307037, 0.16254477202892303, 0.16253109276294708, 0.16222353279590607, 0.16221116483211517, 12.784637451171875, 8.582897186279297, 7.740996837615967, 6.899794578552246, 6.896728515625, 4.375850677490234, 4.375791072845459, 4.375744342803955, 3.5343573093414307, 3.493755340576172, 2.6897826194763184, 1.8225377798080444, 0.2504012882709503, 0.17104651033878326, 0.16965451836585999, 0.16833707690238953, 0.16835883259773254, 0.1683521568775177, 0.16922889649868011, 0.16877740621566772, 0.16874457895755768, 0.16833841800689697, 0.16833649575710297, 0.16833797097206116, 0.1683446168899536, 0.16834452748298645, 0.16831792891025543, 0.16833418607711792, 0.168336421251297, 0.1772686243057251, 0.1698460876941681, 0.17003092169761658, 0.16915778815746307, 0.16945227980613708, 0.16914041340351105, 0.16903795301914215, 0.16867369413375854, 0.16835655272006989, 0.16835355758666992, 0.1683533489704132, 8.149222373962402, 5.491800785064697, 4.605238437652588, 4.596229553222656, 3.720195770263672, 3.7201929092407227, 3.7194151878356934, 3.7194364070892334, 3.718477964401245, 5.141433238983154, 3.6323301792144775, 9.950347900390625, 3.7272257804870605, 1.0634407997131348, 0.19366788864135742, 0.17872734367847443, 0.1771974265575409, 0.17718897759914398, 0.17720308899879456, 0.17717523872852325, 0.1772150844335556, 0.17764601111412048, 0.1771986484527588, 0.17719486355781555, 0.17719274759292603, 0.1771944761276245, 0.17910940945148468, 0.1772085428237915, 0.17719875276088715, 0.1771840900182724, 0.17720511555671692, 0.1854102611541748, 0.17763778567314148, 0.18021664023399353, 0.18049199879169464, 0.18046626448631287, 0.17901045083999634, 0.1785074919462204, 0.17990514636039734, 0.17899364233016968, 0.17765454947948456, 0.17763635516166687, 0.1772286742925644, 9.869393348693848, 8.127382278442383, 5.476187229156494, 4.593258380889893, 4.593259334564209, 4.591436862945557, 3.7102744579315186, 3.7098143100738525, 3.708873748779297, 3.6904866695404053, 0.176729217171669, 0.1767347902059555, 0.17672036588191986, 0.17675775289535522, 0.17673300206661224, 0.1767018735408783, 0.17674711346626282, 0.19252656400203705, 0.17779996991157532, 0.17714771628379822, 0.17673783004283905, 0.1767367124557495, 0.17670826613903046, 0.17671066522598267, 0.17761372029781342, 0.1767614781856537, 0.17717817425727844, 0.17673732340335846, 0.17672735452651978, 0.1767105609178543, 0.17715036869049072, 0.17968231439590454, 0.17935076355934143, 0.17888815701007843, 0.17794063687324524, 0.17768754065036774, 0.17751945555210114, 0.17724695801734924, 0.17720001935958862, 0.17677123844623566, 0.17674842476844788, 0.1767473816871643, 9.890097618103027, 6.9818878173828125, 6.980679988861084, 6.012932300567627, 5.038135051727295, 4.072878837585449, 4.054562091827393, 1.1650832891464233, 1.1585228443145752, 1.15633225440979, 0.19405397772789001, 0.19406183063983917, 0.19404295086860657, 0.19409139454364777, 0.1940610110759735, 0.19402045011520386, 0.19576570391654968, 0.19429054856300354, 0.19451138377189636, 0.19405706226825714, 0.19404810667037964, 0.1940470039844513, 0.19406665861606598, 0.19406257569789886, 0.19402781128883362, 0.19402888417243958, 0.19634710252285004, 0.1940704584121704, 0.19405220448970795, 0.1940317451953888, 0.21939460933208466, 0.19451402127742767, 0.19911861419677734, 0.1950787752866745, 0.1959286630153656, 0.19590771198272705, 0.19456535577774048, 0.19408738613128662, 0.19408565759658813, 0.1940830945968628, 0.19407713413238525, 0.19406837224960327, 0.1940677911043167], \"Term\": [\"president trump\", \"adam schiff\", \"nancy pelosi\", \"fake news\", \"new hampshire\", \"impeachment trial\", \"american people\", \"paulsperry_ breaking\", \"impeachment process\", \"impeachment hoax\", \"white house\", \"america great\", \"abuse power\", \"republican party\", \"john bolton\", \"house managers\", \"house democrats\", \"mr president\", \"united states\", \"big rally\", \"democrats want\", \"joe biden\", \"new york\", \"democratic party\", \"super bowl\", \"legal team\", \"radical left\", \"west virginia\", \"17 witnesses\", \"donald trump\", \"president trump\", \"adam schiff\", \"american people\", \"john bolton\", \"impeachment sham\", \"democrat party\", \"foxandfriends schiff\", \"looks like\", \"witch hunt\", \"democrats impeachment\", \"just like\", \"legal team\", \"president lawyers\", \"rating republican\", \"partisan impeachment\", \"president legal\", \"cryin chuck\", \"donald trump\", \"senator joe\", \"state union\", \"17 witnesses\", \"years ago\", \"national security\", \"left democrats\", \"super bowl\", \"democratic party\", \"al rimi\", \"crazy nancy\", \"approval rating\", \"joe biden\", \"united states\", \"big rally\", \"west virginia\", \"republican party\", \"nancy pelosi\", \"house managers\", \"impeachment process\", \"impeachment hoax\", \"white house\", \"america great\", \"nancy pelosi\", \"white house\", \"republican party\", \"house managers\", \"house democrats\", \"approval rating\", \"crazy nancy\", \"al rimi\", \"rating republican\", \"president lawyers\", \"just like\", \"impeachment hoax\", \"cryin chuck\", \"democrat party\", \"foxandfriends schiff\", \"impeachment sham\", \"witch hunt\", \"democrats impeachment\", \"state union\", \"president legal\", \"senator joe\", \"donald trump\", \"17 witnesses\", \"partisan impeachment\", \"years ago\", \"national security\", \"left democrats\", \"super bowl\", \"democratic party\", \"west virginia\", \"joe biden\", \"paulsperry_ breaking\", \"abuse power\", \"american people\", \"president trump\", \"adam schiff\", \"legal team\", \"new hampshire\", \"fake news\", \"john bolton\", \"america great\", \"new york\", \"radical left\", \"west virginia\", \"national security\", \"years ago\", \"senator joe\", \"left democrats\", \"president legal\", \"legal team\", \"cryin chuck\", \"impeachment hoax\", \"mini mike\", \"witch hunt\", \"partisan impeachment\", \"foxandfriends schiff\", \"impeachment sham\", \"democrat party\", \"president lawyers\", \"rating republican\", \"democrats impeachment\", \"state union\", \"donald trump\", \"17 witnesses\", \"super bowl\", \"democratic party\", \"just like\", \"al rimi\", \"crazy nancy\", \"approval rating\", \"looks like\", \"american people\", \"democrats want\", \"house democrats\", \"nancy pelosi\", \"president trump\", \"john bolton\", \"impeachment process\", \"adam schiff\", \"new hampshire\", \"fake news\", \"united states\", \"white house\", \"new hampshire\", \"impeachment trial\", \"mr president\", \"big rally\", \"democrats want\", \"joe biden\", \"17 witnesses\", \"donald trump\", \"state union\", \"partisan impeachment\", \"impeachment sham\", \"foxandfriends schiff\", \"democrat party\", \"witch hunt\", \"president lawyers\", \"rating republican\", \"democrats impeachment\", \"super bowl\", \"cryin chuck\", \"left democrats\", \"national security\", \"years ago\", \"president legal\", \"senator joe\", \"democratic party\", \"just like\", \"looks like\", \"al rimi\", \"crazy nancy\", \"approval rating\", \"radical left\", \"fake news\", \"nancy pelosi\", \"american people\", \"impeachment process\", \"adam schiff\", \"house democrats\", \"impeachment hoax\", \"white house\", \"president trump\", \"house managers\", \"mini mike\", \"fake news\", \"paulsperry_ breaking\", \"impeachment process\", \"abuse power\", \"united states\", \"democratic party\", \"super bowl\", \"democrats impeachment\", \"looks like\", \"mini mike\", \"impeachment sham\", \"foxandfriends schiff\", \"democrat party\", \"witch hunt\", \"president lawyers\", \"rating republican\", \"partisan impeachment\", \"donald trump\", \"left democrats\", \"state union\", \"17 witnesses\", \"cryin chuck\", \"years ago\", \"national security\", \"president legal\", \"senator joe\", \"just like\", \"al rimi\", \"crazy nancy\", \"approval rating\", \"new hampshire\", \"radical left\", \"american people\", \"mr president\", \"president trump\", \"adam schiff\", \"john bolton\", \"white house\", \"nancy pelosi\", \"impeachment hoax\", \"house managers\", \"new york\", \"house democrats\"], \"Total\": [17.0, 17.0, 13.0, 10.0, 10.0, 8.0, 10.0, 7.0, 7.0, 12.0, 9.0, 8.0, 6.0, 8.0, 8.0, 7.0, 7.0, 6.0, 5.0, 5.0, 5.0, 5.0, 6.0, 4.0, 4.0, 6.0, 5.0, 5.0, 4.0, 4.0, 17.9064884185791, 17.095672607421875, 10.610089302062988, 8.176081657409668, 4.121665000915527, 4.121757984161377, 4.1218390464782715, 5.090788841247559, 4.1966681480407715, 4.28099250793457, 5.024983882904053, 6.163510322570801, 4.242952823638916, 4.24443244934082, 4.41208553314209, 4.421408653259277, 4.417182445526123, 4.412047863006592, 4.421489238739014, 4.4120001792907715, 4.412046432495117, 4.421544551849365, 4.421544075012207, 4.421591758728027, 4.756434440612793, 4.7582197189331055, 5.085964202880859, 5.085964679718018, 5.085962295532227, 5.295346260070801, 5.727405071258545, 5.295444965362549, 5.30684757232666, 8.452046394348145, 13.5015230178833, 7.610534191131592, 7.668004989624023, 12.306747436523438, 9.2936372756958, 8.850593566894531, 13.5015230178833, 9.2936372756958, 8.452046394348145, 7.610534191131592, 7.61073637008667, 5.085962295532227, 5.085964679718018, 5.085964202880859, 4.24443244934082, 4.242952823638916, 5.024983882904053, 12.306747436523438, 4.417182445526123, 4.121757984161377, 4.1218390464782715, 4.121665000915527, 4.1966681480407715, 4.28099250793457, 4.4120001792907715, 4.421408653259277, 4.421489238739014, 4.412047863006592, 4.412046432495117, 4.41208553314209, 4.421544551849365, 4.421544075012207, 4.421591758728027, 4.756434440612793, 4.7582197189331055, 5.30684757232666, 5.295346260070801, 7.668056011199951, 6.698192119598389, 10.610089302062988, 17.9064884185791, 17.095672607421875, 6.163510322570801, 10.598348617553711, 10.57798957824707, 8.176081657409668, 8.850593566894531, 6.193163871765137, 5.307401657104492, 5.30684757232666, 4.421544075012207, 4.421544551849365, 4.421489238739014, 4.421591758728027, 4.421408653259277, 6.163510322570801, 4.417182445526123, 12.306747436523438, 5.390865325927734, 4.1966681480407715, 4.41208553314209, 4.1218390464782715, 4.121665000915527, 4.121757984161377, 4.242952823638916, 4.24443244934082, 4.28099250793457, 4.4120001792907715, 4.412047863006592, 4.412046432495117, 4.756434440612793, 4.7582197189331055, 5.024983882904053, 5.085964202880859, 5.085964679718018, 5.085962295532227, 5.090788841247559, 10.610089302062988, 5.2954816818237305, 7.61073637008667, 13.5015230178833, 17.9064884185791, 8.176081657409668, 7.668004989624023, 17.095672607421875, 10.598348617553711, 10.57798957824707, 5.727405071258545, 9.2936372756958, 10.598348617553711, 8.829217910766602, 6.179003715515137, 5.295444965362549, 5.2954816818237305, 5.295346260070801, 4.412046432495117, 4.412047863006592, 4.4120001792907715, 4.41208553314209, 4.121665000915527, 4.1218390464782715, 4.121757984161377, 4.1966681480407715, 4.242952823638916, 4.24443244934082, 4.28099250793457, 4.756434440612793, 4.417182445526123, 4.421591758728027, 4.421544075012207, 4.421544551849365, 4.421408653259277, 4.421489238739014, 4.7582197189331055, 5.024983882904053, 5.090788841247559, 5.085964202880859, 5.085964679718018, 5.085962295532227, 5.307401657104492, 10.57798957824707, 13.5015230178833, 10.610089302062988, 7.668004989624023, 17.095672607421875, 7.61073637008667, 12.306747436523438, 9.2936372756958, 17.9064884185791, 7.610534191131592, 5.390865325927734, 10.57798957824707, 7.668056011199951, 7.668004989624023, 6.698192119598389, 5.727405071258545, 4.7582197189331055, 4.756434440612793, 4.28099250793457, 5.090788841247559, 5.390865325927734, 4.121665000915527, 4.1218390464782715, 4.121757984161377, 4.1966681480407715, 4.242952823638916, 4.24443244934082, 4.41208553314209, 4.412047863006592, 4.421591758728027, 4.4120001792907715, 4.412046432495117, 4.417182445526123, 4.421544551849365, 4.421544075012207, 4.421408653259277, 4.421489238739014, 5.024983882904053, 5.085964202880859, 5.085964679718018, 5.085962295532227, 10.598348617553711, 5.307401657104492, 10.610089302062988, 6.179003715515137, 17.9064884185791, 17.095672607421875, 8.176081657409668, 9.2936372756958, 13.5015230178833, 12.306747436523438, 7.610534191131592, 6.193163871765137, 7.61073637008667], \"loglift\": [30.0, 29.0, 28.0, 27.0, 26.0, 25.0, 24.0, 23.0, 22.0, 21.0, 20.0, 19.0, 18.0, 17.0, 16.0, 15.0, 14.0, 13.0, 12.0, 11.0, 10.0, 9.0, 8.0, 7.0, 6.0, 5.0, 4.0, 3.0, 2.0, 1.0, 1.420799970626831, 1.4186999797821045, 1.3904000520706177, 1.3698999881744385, 1.2710000276565552, 1.2702000141143799, 1.2702000141143799, 1.0611000061035156, 0.98089998960495, 0.9607999920845032, 0.42579999566078186, -1.0851999521255493, -1.5867999792099, -1.8027000427246094, -1.8314000368118286, -1.8359999656677246, -1.840000033378601, -1.8401000499725342, -1.8410999774932861, -1.8414000272750854, -1.8414000272750854, -1.843500018119812, -1.843500018119812, -1.8436000347137451, -1.906599998474121, -1.9169000387191772, -1.9835000038146973, -1.9835000038146973, -1.9836000204086304, -2.0201001167297363, -2.075700044631958, -2.021399974822998, -2.0234999656677246, -2.4860000610351562, -2.9551000595092773, -2.3833999633789062, -2.391900062561035, -2.8650999069213867, -2.586199998855591, -2.537400007247925, 1.4611999988555908, 1.4362000226974487, 1.4278000593185425, 1.4177000522613525, 1.417199969291687, 1.3653000593185425, 1.3653000593185425, 1.3653000593185425, 1.3325999975204468, 1.3214000463485718, 0.8907999992370605, -0.39419999718666077, -1.3545000553131104, -1.6663999557495117, -1.6746000051498413, -1.6822999715805054, -1.7001999616622925, -1.7201999425888062, -1.7451000213623047, -1.749899983406067, -1.750100016593933, -1.7503999471664429, -1.7503999471664429, -1.7503999471664429, -1.752500057220459, -1.752500057220459, -1.7526999711990356, -1.825600028038025, -1.8258999586105347, -1.8833999633789062, -1.9240000247955322, -2.293100118637085, -2.1630001068115234, -2.621299982070923, -3.1465001106262207, -3.1006999015808105, -2.08270001411438, -2.626699924468994, -2.6247000694274902, -2.3671998977661133, 1.4700000286102295, 1.4322999715805054, 1.410599946975708, 1.4088000059127808, 1.3797999620437622, 1.3797999620437622, 1.3796000480651855, 1.3796000480651855, 1.3794000148773193, 1.3711999654769897, 1.3568999767303467, 1.340000033378601, 1.183500051498413, 0.17970000207424164, -1.5734000205993652, -1.5857000350952148, -1.5942000150680542, -1.5943000316619873, -1.6232000589370728, -1.6237000226974487, -1.6319999694824219, -1.6598000526428223, -1.6622999906539917, -1.6622999906539917, -1.7374999523162842, -1.7378000020980835, -1.781599998474121, -1.8043999671936035, -1.8043999671936035, -1.8044999837875366, -1.805299997329712, -2.494499921798706, -1.8423000574111938, -2.1905999183654785, -2.7623000144958496, -3.044800043106079, -2.2690000534057617, -2.20770001411438, -3.0016000270843506, -2.528599977493286, -2.5341999530792236, -1.920699954032898, -2.407099962234497, 1.6684000492095947, 1.6568000316619873, 1.618899941444397, 1.5973999500274658, 1.5973999500274658, 1.597000002861023, 1.5664000511169434, 1.5663000345230103, 1.565999984741211, 1.5611000061035156, -1.4098000526428223, -1.4098000526428223, -1.4098000526428223, -1.4276000261306763, -1.4386999607086182, -1.4392999410629272, -1.44760000705719, -1.4673999547958374, -1.4730000495910645, -1.4775999784469604, -1.4799000024795532, -1.4799000024795532, -1.4801000356674194, -1.4801000356674194, -1.5484000444412231, -1.607699990272522, -1.618399977684021, -1.6198999881744385, -1.6200000047683716, -1.6201000213623047, -1.6601999998092651, -2.335700035095215, -2.5815999507904053, -2.3431999683380127, -2.023699998855591, -2.826900005340576, -2.0185999870300293, -2.500699996948242, -2.2202000617980957, -2.8784000873565674, -2.022900104522705, -1.6780999898910522, 1.7575000524520874, 1.7309999465942383, 1.7308000326156616, 1.7167999744415283, 1.6964999437332153, 1.6691999435424805, 1.6649999618530273, 0.5232999920845032, 0.34439998865127563, 0.28519999980926514, -1.2311999797821045, -1.2311999797821045, -1.2312999963760376, -1.2489999532699585, -1.26010000705719, -1.260699987411499, -1.2905000448226929, -1.2979999780654907, -1.2991000413894653, -1.2992000579833984, -1.299299955368042, -1.3005000352859497, -1.301300048828125, -1.3013999462127686, -1.3014999628067017, -1.3014999628067017, -1.4176000356674194, -1.4413000345230103, -1.4414000511169434, -1.441499948501587, -2.0529000759124756, -1.4816999435424805, -2.1510000228881836, -1.6308000087738037, -2.690500020980835, -2.644200086593628, -1.9134999513626099, -2.044100046157837, -2.41759991645813, -2.324899911880493, -1.8443000316619873, -1.6382999420166016, -1.8444000482559204], \"logprob\": [30.0, 29.0, 28.0, 27.0, 26.0, 25.0, 24.0, 23.0, 22.0, 21.0, 20.0, 19.0, 18.0, 17.0, 16.0, 15.0, 14.0, 13.0, 12.0, 11.0, 10.0, 9.0, 8.0, 7.0, 6.0, 5.0, 4.0, 3.0, 2.0, 1.0, -1.5170999765396118, -1.565500020980835, -2.0708999633789062, -2.351900100708008, -3.1357998847961426, -3.1364998817443848, -3.1366000175476074, -3.134500026702881, -3.407900094985962, -3.408099889755249, -3.7827999591827393, -5.089600086212158, -5.964600086212158, -6.180200099945068, -6.170100212097168, -6.172599792480469, -6.177599906921387, -6.178800106048584, -6.177599906921387, -6.180099964141846, -6.180099964141846, -6.179999828338623, -6.179999828338623, -6.180200099945068, -6.170100212097168, -6.180099964141846, -6.179999828338623, -6.180099964141846, -6.180099964141846, -6.176300048828125, -6.153500080108643, -6.177599906921387, -6.177599906921387, -6.174699783325195, -6.1753997802734375, -6.177000045776367, -6.1778998374938965, -6.177999973297119, -6.179900169372559, -6.179999828338623, -1.7590999603271484, -2.157599925994873, -2.2607998847961426, -2.3757998943328857, -2.376300096511841, -2.831199884414673, -2.831199884414673, -2.8313000202178955, -3.044800043106079, -3.0564000606536865, -3.3178999423980713, -3.7070999145507812, -5.691999912261963, -6.0731000900268555, -6.081299781799316, -6.089099884033203, -6.089000225067139, -6.089000225067139, -6.083799839019775, -6.08650016784668, -6.086699962615967, -6.089099884033203, -6.089099884033203, -6.089099884033203, -6.089099884033203, -6.089099884033203, -6.089200019836426, -6.089099884033203, -6.089099884033203, -6.037399768829346, -6.0802001953125, -6.079100131988525, -6.0843000411987305, -6.082499980926514, -6.084400177001953, -6.085000038146973, -6.087100028991699, -6.089000225067139, -6.089000225067139, -6.089000225067139, -2.172600030899048, -2.5673000812530518, -2.743299961090088, -2.745300054550171, -2.956700086593628, -2.956700086593628, -2.956899881362915, -2.956899881362915, -2.957200050354004, -2.63319993019104, -2.980600118637085, -1.9729000329971313, -2.954900026321411, -4.209000110626221, -5.912099838256836, -5.992400169372559, -6.000999927520752, -6.001100063323975, -6.000999927520752, -6.001100063323975, -6.000899791717529, -5.998499870300293, -6.000999927520752, -6.000999927520752, -6.000999927520752, -6.000999927520752, -5.990300178527832, -6.000899791717529, -6.000999927520752, -6.001100063323975, -6.000999927520752, -5.955699920654297, -5.998499870300293, -5.984099864959717, -5.982600212097168, -5.982699871063232, -5.990799903869629, -5.993599891662598, -5.985799789428711, -5.990900039672852, -5.9984002113342285, -5.998499870300293, -6.000800132751465, -1.7940000295639038, -1.9881999492645264, -2.382999897003174, -2.558799982070923, -2.558799982070923, -2.5592000484466553, -2.7723000049591064, -2.77239990234375, -2.772700071334839, -2.777600049972534, -5.816500186920166, -5.816500186920166, -5.8165998458862305, -5.816400051116943, -5.816500186920166, -5.816699981689453, -5.816400051116943, -5.730899810791016, -5.810500144958496, -5.814199924468994, -5.816500186920166, -5.816500186920166, -5.816699981689453, -5.8165998458862305, -5.811500072479248, -5.816400051116943, -5.814000129699707, -5.816500186920166, -5.8165998458862305, -5.8165998458862305, -5.814199924468994, -5.800000190734863, -5.801799774169922, -5.8043999671936035, -5.809700012207031, -5.811100006103516, -5.812099933624268, -5.813600063323975, -5.813899993896484, -5.816299915313721, -5.816400051116943, -5.816400051116943, -1.7067999839782715, -2.055000066757202, -2.0552000999450684, -2.204400062561035, -2.3812999725341797, -2.5940001010894775, -2.5985000133514404, -3.845599889755249, -3.8512001037597656, -3.853100061416626, -5.638000011444092, -5.637899875640869, -5.638000011444092, -5.637800216674805, -5.637899875640869, -5.6381001472473145, -5.629199981689453, -5.6367998123168945, -5.6356000900268555, -5.638000011444092, -5.638000011444092, -5.638000011444092, -5.637899875640869, -5.637899875640869, -5.6381001472473145, -5.6381001472473145, -5.626200199127197, -5.637899875640869, -5.638000011444092, -5.6381001472473145, -5.515200138092041, -5.6356000900268555, -5.612199783325195, -5.632699966430664, -5.628399848937988, -5.628499984741211, -5.635300159454346, -5.637800216674805, -5.637800216674805, -5.637800216674805, -5.637899875640869, -5.637899875640869, -5.637899875640869]}, \"token.table\": {\"Topic\": [4, 5, 1, 2, 3, 1, 2, 4, 2, 3, 1, 5, 1, 5, 4, 4, 5, 1, 2, 2, 2, 3, 5, 1, 4, 4, 1, 1, 2, 3, 3, 1, 5, 3, 5, 4, 2, 3, 4, 3, 4, 5, 2, 3, 1, 3, 2, 2, 3, 4, 5, 5, 3, 2, 1, 3, 3], \"Freq\": [0.9066087603569031, 0.8957641124725342, 0.9359093308448792, 0.7864782214164734, 0.9038941860198975, 0.9424991607666016, 0.7864785194396973, 0.9442077279090881, 0.7864781022071838, 0.9055546522140503, 0.727844774723053, 0.8406505584716797, 0.7007720470428467, 0.23359069228172302, 0.9442011713981628, 0.9066084623336792, 0.9453592300415039, 0.7278304696083069, 0.9197533130645752, 0.9197777509689331, 0.16251248121261597, 0.8125624060630798, 0.9128841161727905, 0.7278611660003662, 0.9060825109481812, 0.9442253112792969, 0.8561558127403259, 0.3980112373828888, 0.5970168113708496, 0.9046515822410583, 0.8112260103225708, 0.5892996191978455, 0.19643321633338928, 0.7419959306716919, 0.18549898266792297, 0.8091919422149658, 0.9628543257713318, 0.9046613574028015, 0.9435431957244873, 0.8073418140411377, 0.9066007137298584, 0.9128780364990234, 0.7070547342300415, 0.9046890735626221, 0.9493765234947205, 0.942080557346344, 0.9424110651016235, 0.9465163350105286, 0.9046725630760193, 0.9066182971000671, 0.8409660458564758, 0.8729956746101379, 0.9421789646148682, 0.9684044718742371, 0.7148528099060059, 0.23828427493572235, 0.904661238193512], \"Term\": [\"17 witnesses\", \"abuse power\", \"adam schiff\", \"al rimi\", \"america great\", \"american people\", \"approval rating\", \"big rally\", \"crazy nancy\", \"cryin chuck\", \"democrat party\", \"democratic party\", \"democrats impeachment\", \"democrats impeachment\", \"democrats want\", \"donald trump\", \"fake news\", \"foxandfriends schiff\", \"house democrats\", \"house managers\", \"impeachment hoax\", \"impeachment hoax\", \"impeachment process\", \"impeachment sham\", \"impeachment trial\", \"joe biden\", \"john bolton\", \"just like\", \"just like\", \"left democrats\", \"legal team\", \"looks like\", \"looks like\", \"mini mike\", \"mini mike\", \"mr president\", \"nancy pelosi\", \"national security\", \"new hampshire\", \"new york\", \"partisan impeachment\", \"paulsperry_ breaking\", \"president lawyers\", \"president legal\", \"president trump\", \"radical left\", \"rating republican\", \"republican party\", \"senator joe\", \"state union\", \"super bowl\", \"united states\", \"west virginia\", \"white house\", \"witch hunt\", \"witch hunt\", \"years ago\"]}, \"R\": 30, \"lambda.step\": 0.01, \"plot.opts\": {\"xlab\": \"PC1\", \"ylab\": \"PC2\"}, \"topic.order\": [1, 5, 3, 2, 4]};\n",
       "\n",
       "function LDAvis_load_lib(url, callback){\n",
       "  var s = document.createElement('script');\n",
       "  s.src = url;\n",
       "  s.async = true;\n",
       "  s.onreadystatechange = s.onload = callback;\n",
       "  s.onerror = function(){console.warn(\"failed to load library \" + url);};\n",
       "  document.getElementsByTagName(\"head\")[0].appendChild(s);\n",
       "}\n",
       "\n",
       "if(typeof(LDAvis) !== \"undefined\"){\n",
       "   // already loaded: just create the visualization\n",
       "   !function(LDAvis){\n",
       "       new LDAvis(\"#\" + \"ldavis_el470381122771203364232063047\", ldavis_el470381122771203364232063047_data);\n",
       "   }(LDAvis);\n",
       "}else if(typeof define === \"function\" && define.amd){\n",
       "   // require.js is available: use it to load d3/LDAvis\n",
       "   require.config({paths: {d3: \"https://cdnjs.cloudflare.com/ajax/libs/d3/3.5.5/d3.min\"}});\n",
       "   require([\"d3\"], function(d3){\n",
       "      window.d3 = d3;\n",
       "      LDAvis_load_lib(\"https://cdn.rawgit.com/bmabey/pyLDAvis/files/ldavis.v1.0.0.js\", function(){\n",
       "        new LDAvis(\"#\" + \"ldavis_el470381122771203364232063047\", ldavis_el470381122771203364232063047_data);\n",
       "      });\n",
       "    });\n",
       "}else{\n",
       "    // require.js not available: dynamically load d3 & LDAvis\n",
       "    LDAvis_load_lib(\"https://cdnjs.cloudflare.com/ajax/libs/d3/3.5.5/d3.min.js\", function(){\n",
       "         LDAvis_load_lib(\"https://cdn.rawgit.com/bmabey/pyLDAvis/files/ldavis.v1.0.0.js\", function(){\n",
       "                 new LDAvis(\"#\" + \"ldavis_el470381122771203364232063047\", ldavis_el470381122771203364232063047_data);\n",
       "            })\n",
       "         });\n",
       "}\n",
       "</script>"
      ],
      "text/plain": [
       "PreparedData(topic_coordinates=              x         y  topics  cluster       Freq\n",
       "topic                                                \n",
       "0      0.304281  0.077289       1        1  23.178789\n",
       "4     -0.178271  0.211107       2        1  21.965057\n",
       "2     -0.096620  0.048454       3        1  21.171148\n",
       "1     -0.077922 -0.277937       4        1  17.558310\n",
       "3      0.048532 -0.058913       5        1  16.126703, topic_info=   Category       Freq              Term      Total  loglift  logprob\n",
       "1   Default  17.000000   president trump  17.000000  30.0000  30.0000\n",
       "12  Default  17.000000       adam schiff  17.000000  29.0000  29.0000\n",
       "20  Default  13.000000      nancy pelosi  13.000000  28.0000  28.0000\n",
       "3   Default  10.000000         fake news  10.000000  27.0000  27.0000\n",
       "5   Default  10.000000     new hampshire  10.000000  26.0000  26.0000\n",
       "..      ...        ...               ...        ...      ...      ...\n",
       "20   Topic5   0.194086      nancy pelosi  13.501523  -2.4176  -5.6378\n",
       "16   Topic5   0.194083  impeachment hoax  12.306747  -2.3249  -5.6378\n",
       "37   Topic5   0.194077    house managers   7.610534  -1.8443  -5.6379\n",
       "14   Topic5   0.194068          new york   6.193164  -1.6383  -5.6379\n",
       "38   Topic5   0.194068   house democrats   7.610736  -1.8444  -5.6379\n",
       "\n",
       "[238 rows x 6 columns], token_table=      Topic      Freq                   Term\n",
       "term                                        \n",
       "43        4  0.906609           17 witnesses\n",
       "50        5  0.895764            abuse power\n",
       "12        1  0.935909            adam schiff\n",
       "33        2  0.786478                al rimi\n",
       "6         3  0.903894          america great\n",
       "27        1  0.942499        american people\n",
       "7         2  0.786479        approval rating\n",
       "17        4  0.944208              big rally\n",
       "9         2  0.786478            crazy nancy\n",
       "15        3  0.905555            cryin chuck\n",
       "31        1  0.727845         democrat party\n",
       "25        5  0.840651       democratic party\n",
       "48        1  0.700772  democrats impeachment\n",
       "48        5  0.233591  democrats impeachment\n",
       "30        4  0.944201         democrats want\n",
       "21        4  0.906608           donald trump\n",
       "3         5  0.945359              fake news\n",
       "45        1  0.727830   foxandfriends schiff\n",
       "38        2  0.919753        house democrats\n",
       "37        2  0.919778         house managers\n",
       "16        2  0.162512       impeachment hoax\n",
       "16        3  0.812562       impeachment hoax\n",
       "42        5  0.912884    impeachment process\n",
       "41        1  0.727861       impeachment sham\n",
       "35        4  0.906083      impeachment trial\n",
       "24        4  0.944225              joe biden\n",
       "40        1  0.856156            john bolton\n",
       "26        1  0.398011              just like\n",
       "26        2  0.597017              just like\n",
       "28        3  0.904652         left democrats\n",
       "46        3  0.811226             legal team\n",
       "32        1  0.589300             looks like\n",
       "32        5  0.196433             looks like\n",
       "4         3  0.741996              mini mike\n",
       "4         5  0.185499              mini mike\n",
       "13        4  0.809192           mr president\n",
       "20        2  0.962854           nancy pelosi\n",
       "23        3  0.904661      national security\n",
       "5         4  0.943543          new hampshire\n",
       "14        3  0.807342               new york\n",
       "39        4  0.906601   partisan impeachment\n",
       "11        5  0.912878   paulsperry_ breaking\n",
       "49        2  0.707055      president lawyers\n",
       "47        3  0.904689        president legal\n",
       "1         1  0.949377        president trump\n",
       "29        3  0.942081           radical left\n",
       "8         2  0.942411      rating republican\n",
       "2         2  0.946516       republican party\n",
       "18        3  0.904673            senator joe\n",
       "22        4  0.906618            state union\n",
       "34        5  0.840966             super bowl\n",
       "0         5  0.872996          united states\n",
       "19        3  0.942179          west virginia\n",
       "10        2  0.968404            white house\n",
       "44        1  0.714853             witch hunt\n",
       "44        3  0.238284             witch hunt\n",
       "36        3  0.904661              years ago, R=30, lambda_step=0.01, plot_opts={'xlab': 'PC1', 'ylab': 'PC2'}, topic_order=[1, 5, 3, 2, 4])"
      ]
     },
     "execution_count": 49,
     "metadata": {},
     "output_type": "execute_result"
    }
   ],
   "source": [
    "texts2 = [df_vect2.columns[df_vect2.loc[index,:].to_numpy().nonzero() ] for index in df_vect2.index]\n",
    "dictionary2 = corpora.Dictionary(texts2)\n",
    "corpus2 = [dictionary2.doc2bow(text) for text in texts2]\n",
    "\n",
    "ldamodel2 = models.ldamodel.LdaModel(corpus2,                     # pass in our corpus\n",
    "                                    id2word = dictionary2,       # matches each word to its \"number\" or \"spot\" in the dictionary\n",
    "                                    num_topics = 5,             # number of topics T to find\n",
    "                                    passes = 20,                 # number of passes through corpus; similar to number of epochs\n",
    "                                    minimum_probability = 0.01) # only include topics above this probability threshold\n",
    "\n",
    "pyLDAvis.gensim.prepare(ldamodel2, corpus2, dictionary2)"
   ]
  },
  {
   "cell_type": "code",
   "execution_count": null,
   "metadata": {},
   "outputs": [],
   "source": []
  },
  {
   "cell_type": "code",
   "execution_count": null,
   "metadata": {},
   "outputs": [],
   "source": []
  }
 ],
 "metadata": {
  "kernelspec": {
   "display_name": "Python 3",
   "language": "python",
   "name": "python3"
  },
  "language_info": {
   "codemirror_mode": {
    "name": "ipython",
    "version": 3
   },
   "file_extension": ".py",
   "mimetype": "text/x-python",
   "name": "python",
   "nbconvert_exporter": "python",
   "pygments_lexer": "ipython3",
   "version": "3.7.4"
  }
 },
 "nbformat": 4,
 "nbformat_minor": 2
}
