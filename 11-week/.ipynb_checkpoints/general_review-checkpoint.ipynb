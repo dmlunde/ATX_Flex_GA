{
 "cells": [
  {
   "cell_type": "markdown",
   "metadata": {},
   "source": [
    "## Austin Review Exercise\n",
    "---"
   ]
  },
  {
   "cell_type": "code",
   "execution_count": 1,
   "metadata": {},
   "outputs": [],
   "source": [
    "import pandas as pd"
   ]
  },
  {
   "cell_type": "markdown",
   "metadata": {},
   "source": [
    " **What is the difference between regression and classification problems, and how can you convert a regression problem into a classification problem?**"
   ]
  },
  {
   "cell_type": "markdown",
   "metadata": {},
   "source": [
    "Regression problems are trying to predict a number/integer/continuous value even if our features aren't continuous. Classification problems are trying to predict something discrete/categorical even if our features weren't that, can be binary in a yes/no or true/false fashion. Let's say we're working with predicting sale prices of homes. Regression would be predicting the exact sale price of a home, but we could convert it to a classification problem by predicting whether or not the sale price is above or below a certain value/threshold."
   ]
  },
  {
   "cell_type": "markdown",
   "metadata": {},
   "source": [
    "**When fitting a linear regression model, we may regularize by adding a penalty term to the loss function. What is the difference between Ridge and Lasso regularization?**\n",
    "\n"
   ]
  },
  {
   "cell_type": "markdown",
   "metadata": {},
   "source": [
    "Ridge brings our coefficients down to almost zero but never down to zero, it's the square of the coefficients. Lasso takes the absolute value actually brings a coefficient value down to zero, indicating that we could probably drop that feature since it does not have much of an effect on our outcome"
   ]
  },
  {
   "cell_type": "markdown",
   "metadata": {},
   "source": [
    "**Rate the following statements as true or false:**\n",
    "\n",
    "- A) Ridge regularization will leave you with more non-zero coefficients. \n",
    "- B) Ridge regularization is more likely to \"rely on 1 or 2 features. "
   ]
  },
  {
   "cell_type": "markdown",
   "metadata": {},
   "source": [
    "A: True\n",
    "    \n",
    "B: False"
   ]
  },
  {
   "cell_type": "markdown",
   "metadata": {},
   "source": [
    "**Let's say I'm using gridsearchCV with k=5 to find the best parameters for a Logistic Regression. I've got a dataset of 1,000 rows. I want to see if I should use Ridge or Lasso for regularization and I want to search through alphas of .001, .01, .1, 1, and 10. How many times am I fitting my model and what are the sizes of the train and validation sets?**"
   ]
  },
  {
   "cell_type": "markdown",
   "metadata": {},
   "source": [
    "50 times\n",
    "\n",
    "The size of the train sets will always be 800 rows while validation will be 200 because k = 5 which represents how many 'folds' the data is split into"
   ]
  },
  {
   "cell_type": "markdown",
   "metadata": {},
   "source": [
    " **Given the confusion matrix below, provide the calculations for False Positive Rate and Recall.**"
   ]
  },
  {
   "cell_type": "code",
   "execution_count": 2,
   "metadata": {},
   "outputs": [
    {
     "data": {
      "text/html": [
       "<div>\n",
       "<style scoped>\n",
       "    .dataframe tbody tr th:only-of-type {\n",
       "        vertical-align: middle;\n",
       "    }\n",
       "\n",
       "    .dataframe tbody tr th {\n",
       "        vertical-align: top;\n",
       "    }\n",
       "\n",
       "    .dataframe thead th {\n",
       "        text-align: right;\n",
       "    }\n",
       "</style>\n",
       "<table border=\"1\" class=\"dataframe\">\n",
       "  <thead>\n",
       "    <tr style=\"text-align: right;\">\n",
       "      <th></th>\n",
       "      <th>Predicted False</th>\n",
       "      <th>Predicted True</th>\n",
       "    </tr>\n",
       "  </thead>\n",
       "  <tbody>\n",
       "    <tr>\n",
       "      <th>Actual False</th>\n",
       "      <td>65</td>\n",
       "      <td>12</td>\n",
       "    </tr>\n",
       "    <tr>\n",
       "      <th>Actual True</th>\n",
       "      <td>7</td>\n",
       "      <td>209</td>\n",
       "    </tr>\n",
       "  </tbody>\n",
       "</table>\n",
       "</div>"
      ],
      "text/plain": [
       "              Predicted False  Predicted True\n",
       "Actual False               65              12\n",
       "Actual True                 7             209"
      ]
     },
     "execution_count": 2,
     "metadata": {},
     "output_type": "execute_result"
    }
   ],
   "source": [
    "pd.DataFrame({'Predicted False':[65,7], 'Predicted True':[12,209]} ,index=['Actual False', 'Actual True'])"
   ]
  },
  {
   "cell_type": "code",
   "execution_count": 2,
   "metadata": {},
   "outputs": [
    {
     "data": {
      "text/plain": [
       "0.15584415584415584"
      ]
     },
     "execution_count": 2,
     "metadata": {},
     "output_type": "execute_result"
    }
   ],
   "source": [
    "12 / (12 + 65) # 15.58% false positive rate"
   ]
  },
  {
   "cell_type": "code",
   "execution_count": 5,
   "metadata": {},
   "outputs": [
    {
     "data": {
      "text/plain": [
       "0.9675925925925926"
      ]
     },
     "execution_count": 5,
     "metadata": {},
     "output_type": "execute_result"
    }
   ],
   "source": [
    "209 / (7 + 209) # 84.41% recall"
   ]
  },
  {
   "cell_type": "markdown",
   "metadata": {},
   "source": [
    "**If I lower my threshold from .5 to .3 will I increase or decrease my sensitivity?**\n"
   ]
  },
  {
   "cell_type": "markdown",
   "metadata": {},
   "source": [
    "Increase"
   ]
  },
  {
   "cell_type": "markdown",
   "metadata": {},
   "source": [
    "**What are a few advantages and disadvantages of decision trees, as compared to other machine learning models?**"
   ]
  },
  {
   "cell_type": "markdown",
   "metadata": {},
   "source": [
    "Advantages: Sets a great standard/baseline prediction and is a great foundation to build on top of. Explicitly highlights your best features; i.e. high interpretability and communication\n",
    "\n",
    "\n",
    "Disadvantages: Bigger risk of overfitting than other models and larger computational cost/task"
   ]
  },
  {
   "cell_type": "markdown",
   "metadata": {},
   "source": [
    "\n",
    "**How would the following changes to your model affect bias and variance?**\n",
    "\n",
    "- A) Increasing the number of features in your linear regression \n",
    "- B) Increasing the the max depth of your decision tree\n",
    "- C) Adding a hidden layer to your neural network \n",
    "- D) Increasing the number of estimators (the n_estimators parameter) in your random forest\n",
    "- E) Increasing the number of features (n_features parameter) in your random forest\n",
    "- F) Increasing the alpha value in a ridge regression\n",
    "- G) Increasing your min_df parameter in a count vectorizer"
   ]
  },
  {
   "cell_type": "markdown",
   "metadata": {},
   "source": [
    "A: Increase variance; too many features can easily lead to overfitting\n",
    "\n",
    "B: Increase variance; decision trees are already prone to overfitting, especially with increased depth\n",
    "\n",
    "C: Increase variance due to overfitting; NN's are already prone to overfitting; more layers can lead to more of it.\n",
    "\n",
    "D: Increase bias; more trees creates more 'opinions' and diversifying our model, thus reducing variance\n",
    "\n",
    "E: Increase variance due to overfitting; more features more chance to overfit\n",
    "\n",
    "F: Increase bias; increasing alpha increases the penalty right. So this should limit features and reduce variance\n",
    "\n",
    "G: Increase bias; limiting our min_df will give us less word counts which should decrease variance"
   ]
  },
  {
   "cell_type": "code",
   "execution_count": null,
   "metadata": {},
   "outputs": [],
   "source": []
  }
 ],
 "metadata": {
  "kernelspec": {
   "display_name": "Python 3",
   "language": "python",
   "name": "python3"
  },
  "language_info": {
   "codemirror_mode": {
    "name": "ipython",
    "version": 3
   },
   "file_extension": ".py",
   "mimetype": "text/x-python",
   "name": "python",
   "nbconvert_exporter": "python",
   "pygments_lexer": "ipython3",
   "version": "3.7.4"
  }
 },
 "nbformat": 4,
 "nbformat_minor": 2
}
