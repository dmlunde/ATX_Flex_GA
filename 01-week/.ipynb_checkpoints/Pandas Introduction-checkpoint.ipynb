{
 "cells": [
  {
   "cell_type": "markdown",
   "metadata": {},
   "source": [
    "## Pandas Introduction \n"
   ]
  },
  {
   "cell_type": "code",
   "execution_count": 14,
   "metadata": {
    "collapsed": true
   },
   "outputs": [],
   "source": [
    "## import the library \n",
    "import pandas as pd \n",
    "\n",
    "## change the number of columns visible in the notebook \n",
    "pd.set_option('max_columns', 50)"
   ]
  },
  {
   "cell_type": "code",
   "execution_count": 15,
   "metadata": {
    "collapsed": true
   },
   "outputs": [],
   "source": [
    "## Read the data into pandas with the read_csv method \n",
    "\n",
    "fight_songs = pd.read_csv('../data/fight_song.csv')"
   ]
  },
  {
   "cell_type": "markdown",
   "metadata": {},
   "source": [
    "## Attributes and Methods\n",
    "\n",
    "Pandas offers a huge number of built in attributes in functions that we will use to \"munge\" data. You can use tab to pull them up. "
   ]
  },
  {
   "cell_type": "code",
   "execution_count": null,
   "metadata": {
    "collapsed": true
   },
   "outputs": [],
   "source": [
    "## scroll through some availible attributes\n",
    "fight_songs."
   ]
  },
  {
   "cell_type": "markdown",
   "metadata": {},
   "source": [
    "## Initial exploratory methods \n",
    "\n",
    "Note `df` refers to any generic dataframe. It's important to remember some methods work on entire dataframes and others work on series (individuals columns). \n",
    "\n",
    "``` python \n",
    "## show first rows \n",
    "df.head()\n",
    "\n",
    "## show last rows \n",
    "df.tail()\n",
    "\n",
    "## show general info \n",
    "df.info()\n",
    "\n",
    "## show rows, columns\n",
    "df.shape\n",
    "\n",
    "## numerical descriptions (there are many more than these)\n",
    "df.mean()\n",
    "df.std()\n",
    "df.describe()\n",
    "```\n"
   ]
  },
  {
   "cell_type": "markdown",
   "metadata": {},
   "source": [
    "#### What is the mean length of all fight songs? \n"
   ]
  },
  {
   "cell_type": "code",
   "execution_count": null,
   "metadata": {},
   "outputs": [],
   "source": []
  },
  {
   "cell_type": "markdown",
   "metadata": {},
   "source": [
    "#### How long is the longest fight song?"
   ]
  },
  {
   "cell_type": "code",
   "execution_count": null,
   "metadata": {},
   "outputs": [],
   "source": []
  },
  {
   "cell_type": "markdown",
   "metadata": {},
   "source": [
    "## Series\n",
    "\n",
    "A series is an individual column - it's a different datatype than a dataframe and they have their own attributes and methods \n",
    "\n",
    "Access a series using square brackets \n",
    "\n",
    "``` python\n",
    "df['column_name']\n",
    "```\n",
    "\n",
    "---\n",
    "Take a look at this documentation:\n",
    "[Value Counts ](https://pandas.pydata.org/pandas-docs/stable/reference/api/pandas.Series.value_counts.html) \n",
    "\n",
    "Note <div style=\"color:blue\"> pandas.Series.value_counts </div>\n",
    "\n",
    "This means that value_counts is used on a series as opposed to: [Drop](https://pandas.pydata.org/pandas-docs/stable/reference/api/pandas.DataFrame.drop.html)</n>\n",
    "\n",
    "<div style=\"color:blue\" > pandas.DataFrame.drop </div>"
   ]
  },
  {
   "cell_type": "code",
   "execution_count": 1,
   "metadata": {},
   "outputs": [],
   "source": [
    "## use value counts on conference \n"
   ]
  },
  {
   "cell_type": "code",
   "execution_count": 2,
   "metadata": {},
   "outputs": [],
   "source": [
    "## number of unique values \n"
   ]
  },
  {
   "cell_type": "markdown",
   "metadata": {},
   "source": [
    "## Pandas Broadcasting \n",
    "\n",
    "Applying some change to every single cell in a column "
   ]
  },
  {
   "cell_type": "code",
   "execution_count": null,
   "metadata": {
    "collapsed": true
   },
   "outputs": [],
   "source": [
    "## We'll create a new column called \"years old\" "
   ]
  },
  {
   "cell_type": "code",
   "execution_count": 6,
   "metadata": {},
   "outputs": [],
   "source": [
    "## defining a small funtion that we'll apply to every cell in the \"year\" column\n"
   ]
  },
  {
   "cell_type": "code",
   "execution_count": 55,
   "metadata": {},
   "outputs": [],
   "source": [
    "## new column with broadcasting \n"
   ]
  },
  {
   "cell_type": "markdown",
   "metadata": {},
   "source": [
    "## A Taste of what's to come - Boolean Filtering,  Groupby, Map\n",
    "\n",
    "Don't worry about following along here - I just want to introduce this concept and provide an example "
   ]
  },
  {
   "cell_type": "code",
   "execution_count": 58,
   "metadata": {},
   "outputs": [],
   "source": [
    "## boolean filter \n"
   ]
  },
  {
   "cell_type": "code",
   "execution_count": 3,
   "metadata": {},
   "outputs": [],
   "source": [
    "## grabbing short songs \n"
   ]
  },
  {
   "cell_type": "code",
   "execution_count": 4,
   "metadata": {},
   "outputs": [],
   "source": [
    "### using groupby \n"
   ]
  },
  {
   "cell_type": "code",
   "execution_count": 73,
   "metadata": {
    "scrolled": true
   },
   "outputs": [
    {
     "data": {
      "text/plain": [
       "0"
      ]
     },
     "execution_count": 73,
     "metadata": {},
     "output_type": "execute_result"
    }
   ],
   "source": [
    "## the function working on one individual input \n"
   ]
  },
  {
   "cell_type": "code",
   "execution_count": 5,
   "metadata": {},
   "outputs": [],
   "source": [
    "## make new column with function \n"
   ]
  }
 ],
 "metadata": {
  "anaconda-cloud": {},
  "kernelspec": {
   "display_name": "Python 3",
   "language": "python",
   "name": "python3"
  },
  "language_info": {
   "codemirror_mode": {
    "name": "ipython",
    "version": 3
   },
   "file_extension": ".py",
   "mimetype": "text/x-python",
   "name": "python",
   "nbconvert_exporter": "python",
   "pygments_lexer": "ipython3",
   "version": "3.6.9"
  }
 },
 "nbformat": 4,
 "nbformat_minor": 2
}
