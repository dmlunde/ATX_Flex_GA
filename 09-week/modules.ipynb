{
 "cells": [
  {
   "cell_type": "markdown",
   "metadata": {},
   "source": [
    "___\n",
    "\n",
    "#### As always, the docs are a very helpful reference, but I think the best place to start is often examples. \n",
    "\n",
    "#### [Python Module Documentation](https://docs.python.org/3/tutorial/modules.html)"
   ]
  },
  {
   "cell_type": "code",
   "execution_count": 1,
   "metadata": {},
   "outputs": [],
   "source": [
    "from sklearn.preprocessing import StandardScaler"
   ]
  },
  {
   "cell_type": "markdown",
   "metadata": {},
   "source": [
    "Use shift + tab + tab to pull up the documentation for standard scaler - then open the file in your command line. \n",
    "\n",
    "navigate to the file in your command line and open it"
   ]
  },
  {
   "cell_type": "code",
   "execution_count": 2,
   "metadata": {},
   "outputs": [
    {
     "data": {
      "text/plain": [
       "StandardScaler(copy=True, with_mean=True, with_std=True)"
      ]
     },
     "execution_count": 2,
     "metadata": {},
     "output_type": "execute_result"
    }
   ],
   "source": [
    "StandardScaler()"
   ]
  },
  {
   "cell_type": "markdown",
   "metadata": {},
   "source": [
    "#### Run the code below to discover your search path, this is where python looks after you type `import` or `from`"
   ]
  },
  {
   "cell_type": "code",
   "execution_count": 3,
   "metadata": {
    "scrolled": true
   },
   "outputs": [
    {
     "data": {
      "text/plain": [
       "['/opt/anaconda3/lib/python36.zip',\n",
       " '/opt/anaconda3/lib/python3.6',\n",
       " '/opt/anaconda3/lib/python3.6/lib-dynload',\n",
       " '',\n",
       " '/opt/anaconda3/lib/python3.6/site-packages',\n",
       " '/opt/anaconda3/lib/python3.6/site-packages/aeosa',\n",
       " '/opt/anaconda3/lib/python3.6/site-packages/IPython/extensions',\n",
       " '/Users/dilly/.ipython']"
      ]
     },
     "execution_count": 3,
     "metadata": {},
     "output_type": "execute_result"
    }
   ],
   "source": [
    "import sys\n",
    "sys.path"
   ]
  },
  {
   "cell_type": "markdown",
   "metadata": {},
   "source": [
    "#### Follow the steps below to create your own module \n",
    "\n",
    "1) Create your own function to calculate the mean of a list\n",
    "    - Your function should take a list and return the mean of the list. You can assume all inputs are valid. \n",
    "\n",
    "2) Navigate to the correct site packages folder \n",
    "\n",
    "3) Use `touch` to create a .py file - I encourage you to use a unique name (don't just copy mine) \n",
    "\n",
    "4) Add your function to the module \n",
    "\n",
    "\n"
   ]
  },
  {
   "cell_type": "code",
   "execution_count": 12,
   "metadata": {},
   "outputs": [],
   "source": [
    "## import and use your function here\n",
    "def get_mean(example_list):\n",
    "    return sum(example_list) / len(example_list)"
   ]
  },
  {
   "cell_type": "code",
   "execution_count": 13,
   "metadata": {},
   "outputs": [],
   "source": [
    "my_list = [5, 2, 5, 4]"
   ]
  },
  {
   "cell_type": "code",
   "execution_count": 14,
   "metadata": {},
   "outputs": [
    {
     "data": {
      "text/plain": [
       "4.0"
      ]
     },
     "execution_count": 14,
     "metadata": {},
     "output_type": "execute_result"
    }
   ],
   "source": [
    "get_mean(my_list)"
   ]
  },
  {
   "cell_type": "code",
   "execution_count": 15,
   "metadata": {},
   "outputs": [],
   "source": [
    "import lostandbrainless"
   ]
  },
  {
   "cell_type": "code",
   "execution_count": 16,
   "metadata": {},
   "outputs": [
    {
     "data": {
      "text/plain": [
       "6.8"
      ]
     },
     "execution_count": 16,
     "metadata": {},
     "output_type": "execute_result"
    }
   ],
   "source": [
    "lostandbrainless.get_mean([5, 4, 7, 8, 10])"
   ]
  },
  {
   "cell_type": "markdown",
   "metadata": {},
   "source": [
    "#### Let's add a make heatmap function - note you will have to import seaborn, matplotlib, and numpy in your module\n",
    "\n",
    "```python\n",
    "\n",
    "def make_heat_map(df, width=9, height=7, x_axis_font_size=14, y_axis_font_size=14):\n",
    "\t\t\"\"\"\n",
    "\t\tThis function creates a heat map of feature correlation from a dataframe\n",
    "\t\tA user can modify the width, height, and axis font size\n",
    "\t\t\"\"\"\n",
    "\n",
    "\t\tdf_corr = df.corr()\n",
    "\t\tfix, ax = plt.subplots(figsize=(width,height))\n",
    "\n",
    "\t\t# Generate a mask for the upper triangle (taken from seaborn example gallery)\n",
    "\t\tmask = np.zeros_like(df_corr, dtype=np.bool)\n",
    "\t\tmask[np.triu_indices_from(mask)] = True\n",
    "\t\tax = sns.heatmap(df_corr, mask=mask, ax=ax, annot=True, vmin=-1, vmax=1, cmap='coolwarm')\n",
    "\t\tax.set_xticklabels(ax.xaxis.get_ticklabels(), fontsize=x_axis_font_size)\n",
    "\t\tax.set_yticklabels(ax.yaxis.get_ticklabels(), fontsize=y_axis_font_size)\n",
    "\t\tplt.show()\n",
    "    \n",
    "    ```"
   ]
  },
  {
   "cell_type": "code",
   "execution_count": null,
   "metadata": {},
   "outputs": [],
   "source": [
    "import pandas as pd\n",
    "\n",
    "\n",
    "df = pd.read_csv('../data/boston_housing.csv')"
   ]
  },
  {
   "cell_type": "markdown",
   "metadata": {},
   "source": [
    "#### Try importing and using your heatmap function"
   ]
  },
  {
   "cell_type": "code",
   "execution_count": null,
   "metadata": {},
   "outputs": [],
   "source": []
  }
 ],
 "metadata": {
  "kernelspec": {
   "display_name": "Python 3",
   "language": "python",
   "name": "python3"
  },
  "language_info": {
   "codemirror_mode": {
    "name": "ipython",
    "version": 3
   },
   "file_extension": ".py",
   "mimetype": "text/x-python",
   "name": "python",
   "nbconvert_exporter": "python",
   "pygments_lexer": "ipython3",
   "version": "3.6.9"
  }
 },
 "nbformat": 4,
 "nbformat_minor": 2
}
